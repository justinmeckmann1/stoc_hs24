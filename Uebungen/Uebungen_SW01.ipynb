{
 "cells": [
  {
   "cell_type": "markdown",
   "metadata": {},
   "source": [
    "# SW 01\n"
   ]
  },
  {
   "cell_type": "code",
   "execution_count": 29,
   "metadata": {},
   "outputs": [
    {
     "name": "stdout",
     "output_type": "stream",
     "text": [
      "a) 0.01235302453353133\n",
      "b) 0.9392284386912563\n",
      "c) 1.0\n",
      "d) 26.0\n"
     ]
    }
   ],
   "source": [
    "# Aufgabe 1.4): \n",
    "from scipy.stats import binom\n",
    "n = 30\n",
    "p = 0.95\n",
    "\n",
    "print('a)', binom.pmf(k=25, n=n, p=p))\n",
    "print('b)', 1-binom.cdf(k=26, n=n, p=p))\n",
    "print('c)', 1-binom.cdf(k=2, n=n, p=p))\n",
    "print('d)', binom.ppf(q=0.05, n=n, p=p))"
   ]
  },
  {
   "cell_type": "code",
   "execution_count": 22,
   "metadata": {},
   "outputs": [
    {
     "name": "stdout",
     "output_type": "stream",
     "text": [
      "a) grösser als 1.85m 0.24962329143760953\n",
      "a) zwischen 1.70 und 1.80 0.4117085451462671\n",
      "b) [1.75008776 1.84991224]\n",
      "c) 1.921719168394409\n"
     ]
    }
   ],
   "source": [
    "# Aufgabe 1.5\n",
    "from scipy.stats import norm\n",
    "loc = 1.8\n",
    "scale = 0.074\n",
    "\n",
    "print('a) grösser als 1.85m', 1- norm.cdf(x=1.85, loc=loc, scale=scale))\n",
    "print('a) zwischen 1.70 und 1.80', norm.cdf(x=1.80, loc=loc, scale=scale) - norm.cdf(x=1.70, loc=loc, scale=scale))\n",
    "print('b)', norm.ppf(q=[0.25,0.75], loc=loc, scale=scale))\n",
    "print('c)', norm.ppf(q=1-0.05, loc=loc, scale=scale))\n",
    "\n"
   ]
  },
  {
   "cell_type": "code",
   "execution_count": 28,
   "metadata": {},
   "outputs": [
    {
     "name": "stdout",
     "output_type": "stream",
     "text": [
      "a) unter 2.5kg: 0.11506967022170822\n",
      "a) über 5.0kg: 0.21185539858339664\n",
      "b) zwischen 3kg und 4.5kg: 0.4435663430269275\n",
      "a) top 2%: 6.567186138289778\n"
     ]
    }
   ],
   "source": [
    "# Aufgabe 1.6\n",
    "from scipy.stats import norm\n",
    "loc = 4\n",
    "scale = 1.25\n",
    "print('a) unter 2.5kg:', norm.cdf(x=2.5, loc=loc, scale=scale))\n",
    "print('a) über 5.0kg:', 1-norm.cdf(x=5, loc=loc, scale=scale))\n",
    "print('b) zwischen 3kg und 4.5kg:', norm.cdf(x=4.5, loc=loc, scale=scale) - norm.cdf(x=3, loc=loc, scale=scale))\n",
    "print('a) top 2%:', norm.ppf(q=1-0.02, loc=loc, scale=scale))"
   ]
  }
 ],
 "metadata": {
  "kernelspec": {
   "display_name": "Python 3",
   "language": "python",
   "name": "python3"
  },
  "language_info": {
   "codemirror_mode": {
    "name": "ipython",
    "version": 3
   },
   "file_extension": ".py",
   "mimetype": "text/x-python",
   "name": "python",
   "nbconvert_exporter": "python",
   "pygments_lexer": "ipython3",
   "version": "3.12.2"
  }
 },
 "nbformat": 4,
 "nbformat_minor": 2
}
