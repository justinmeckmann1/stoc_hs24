{
 "cells": [
  {
   "cell_type": "markdown",
   "metadata": {},
   "source": [
    "Angenommen, eine Wahl steht bevor, und Sie möchten wissen, ob die allgemeine Be-\n",
    "völkerung Kandidat A oder Kandidat B bevorzugt. Es gibt eine gerade veröffentlichte \n",
    "Umfrage in der Zeitung, die besagt, dass von 100 zufällig befragten Personen 58 den \n",
    "Kandidaten A und der Rest den Kandidaten B bevorzugt.\n",
    "\n",
    "Hinweis: Benützen Sie zur Bestimmung des HDI den Befehl:\n"
   ]
  },
  {
   "cell_type": "code",
   "execution_count": 3,
   "metadata": {},
   "outputs": [],
   "source": [
    "from scipy.stats import beta \n",
    "import numpy as np\n",
    "\n",
    "def hdi(a,b, prob = 0.95):\n",
    "    k = 0\n",
    "    x = np.linspace(0,1,1000)\n",
    "    y = beta.pdf(x,a,b)\n",
    "    while True:\n",
    "        k = k+0.001\n",
    "        if np.sum(y[y > k])/np.size(x) < prob:\n",
    "            break\n",
    "    return x[np.argwhere(y > k)][0] ,x[np.argwhere(y > k)][np.argwhere(y > k).size-1]"
   ]
  },
  {
   "cell_type": "code",
   "execution_count": 4,
   "metadata": {},
   "outputs": [
    {
     "name": "stdout",
     "output_type": "stream",
     "text": [
      "Posterior a = 59 und b = 43\n",
      "HDI = (0.483, 0.673) mit einer Breite von 0.189\n"
     ]
    }
   ],
   "source": [
    "# Aufgabe 3.2 a)\n",
    "\n",
    "a_prior = 1\n",
    "b_prior = 1\n",
    "\n",
    "N = 100 \n",
    "z = 58\n",
    "\n",
    "a = a_posterior = z + a_prior\n",
    "b = b_posterior = N - z + b_prior\n",
    "\n",
    "print(f'Posterior a = {a_posterior} und b = {b_posterior}')\n",
    "\n",
    "hdi_out = hdi(a,b)\n",
    "\n",
    "print(f'HDI = ({hdi_out[0][0]:.3f}, {hdi_out[1][0]:.3f}) mit einer Breite von {hdi_out[1][0]-hdi_out[0][0]:.3f}')"
   ]
  },
  {
   "cell_type": "code",
   "execution_count": 5,
   "metadata": {},
   "outputs": [
    {
     "name": "stdout",
     "output_type": "stream",
     "text": [
      "Posterior a = 116 und b = 86\n",
      "HDI = (0.507, 0.642) mit einer Breite von 0.135\n"
     ]
    }
   ],
   "source": [
    "# Aufgabe 3.2 b)\n",
    "a_prior = 59\n",
    "b_prior = 43\n",
    "\n",
    "N = 100 \n",
    "z = 57\n",
    "\n",
    "a = a_posterior = z + a_prior\n",
    "b = b_posterior = N - z + b_prior\n",
    "\n",
    "print(f'Posterior a = {a_posterior} und b = {b_posterior}')\n",
    "\n",
    "hdi_out = hdi(a,b)\n",
    "\n",
    "print(f'HDI = ({hdi_out[0][0]:.3f}, {hdi_out[1][0]:.3f}) mit einer Breite von {hdi_out[1][0]-hdi_out[0][0]:.3f}')"
   ]
  },
  {
   "cell_type": "code",
   "execution_count": 6,
   "metadata": {},
   "outputs": [
    {
     "name": "stdout",
     "output_type": "stream",
     "text": [
      "HDI = (0.107, 0.322) mit einer Breite von 0.215\n"
     ]
    }
   ],
   "source": [
    "# Aufgabe 3.3)\n",
    "# Teil 1)\n",
    "a_prior = 1\n",
    "b_prior = 1\n",
    "\n",
    "N = 50\n",
    "z = 10\n",
    "\n",
    "a = a_posterior = z + a_prior\n",
    "b = b_posterior = N - z + b_prior\n",
    "\n",
    "hdi_out = hdi(a,b)\n",
    "\n",
    "print(f'HDI = ({hdi_out[0][0]:.3f}, {hdi_out[1][0]:.3f}) mit einer Breite von {hdi_out[1][0]-hdi_out[0][0]:.3f}')"
   ]
  },
  {
   "cell_type": "code",
   "execution_count": 7,
   "metadata": {},
   "outputs": [
    {
     "name": "stdout",
     "output_type": "stream",
     "text": [
      "HDI = (0.187, 0.432) mit einer Breite von 0.245\n"
     ]
    }
   ],
   "source": [
    "# Aufgabe 3.3)\n",
    "# Teil 1)\n",
    "a_prior = 1\n",
    "b_prior = 1\n",
    "\n",
    "N = 50\n",
    "z = 15\n",
    "\n",
    "a = a_posterior = z + a_prior\n",
    "b = b_posterior = N - z + b_prior\n",
    "\n",
    "hdi_out = hdi(a,b)\n",
    "\n",
    "print(f'HDI = ({hdi_out[0][0]:.3f}, {hdi_out[1][0]:.3f}) mit einer Breite von {hdi_out[1][0]-hdi_out[0][0]:.3f}')"
   ]
  },
  {
   "cell_type": "code",
   "execution_count": 8,
   "metadata": {},
   "outputs": [
    {
     "name": "stdout",
     "output_type": "stream",
     "text": [
      "Breite: 0.632\n"
     ]
    }
   ],
   "source": [
    "# Aufgabe 3.6 a) \n",
    "a = b = 4\n",
    "breite = hdi(a,b)[1][0]-hdi(a,b)[0][0]\n",
    "\n",
    "print(f'Breite: {breite:.3f}')\n"
   ]
  },
  {
   "cell_type": "code",
   "execution_count": 9,
   "metadata": {},
   "outputs": [
    {
     "name": "stdout",
     "output_type": "stream",
     "text": [
      "Breite: 0.193\n"
     ]
    }
   ],
   "source": [
    "# Aufgabe 3.6 b) \n",
    "a = b = 50\n",
    "breite = hdi(a,b)[1][0]-hdi(a,b)[0][0]\n",
    "\n",
    "print(f'Breite: {breite:.3f}')\n"
   ]
  },
  {
   "cell_type": "code",
   "execution_count": 10,
   "metadata": {},
   "outputs": [
    {
     "name": "stdout",
     "output_type": "stream",
     "text": [
      "Breite: 0.041\n"
     ]
    }
   ],
   "source": [
    "# Aufgabe 3.6 c) \n",
    "a = b = 1000\n",
    "breite = hdi(a,b)[1][0]-hdi(a,b)[0][0]\n",
    "\n",
    "print(f'Breite: {breite:.3f}')\n"
   ]
  },
  {
   "cell_type": "code",
   "execution_count": 11,
   "metadata": {},
   "outputs": [
    {
     "name": "stdout",
     "output_type": "stream",
     "text": [
      "HDI = (0.228, 0.399) mit einer Breite von 0.171\n"
     ]
    }
   ],
   "source": [
    "# Aufgabe 3.7) \n",
    "\n",
    "# Mit k und w\n",
    "k = 100\n",
    "w = 0.3\n",
    "\n",
    "# Prior Betaverteilung\n",
    "a_prior = w*(k-2)+1\n",
    "b_prior = (1-w)*(k-2)+1\n",
    "\n",
    "# Posterior Betaverteilung\n",
    "# p(θ|4,10) --> z = 4, N = 10\n",
    "a = a_posterior = 4 + a_prior\n",
    "b = b_posterior = 10 - 4 + b_prior\n",
    "\n",
    "hdi_out = hdi(a,b)\n",
    "print(f'HDI = ({hdi_out[0][0]:.3f}, {hdi_out[1][0]:.3f}) mit einer Breite von {hdi_out[1][0]-hdi_out[0][0]:.3f}')"
   ]
  },
  {
   "cell_type": "code",
   "execution_count": 14,
   "metadata": {},
   "outputs": [
    {
     "name": "stdout",
     "output_type": "stream",
     "text": [
      "HDI = (0.081, 0.116) mit einer Breite von 0.035\n"
     ]
    }
   ],
   "source": [
    "# Mit k und w\n",
    "k = 1000\n",
    "w = 0.1\n",
    "\n",
    "# Prior Betaverteilung\n",
    "a_prior = w*(k-2)+1\n",
    "b_prior = (1-w)*(k-2)+1\n",
    "\n",
    "# Posterior Betaverteilung\n",
    "# p(θ|4,10) --> z = 4, N = 10\n",
    "N = 50\n",
    "z = 3\n",
    "\n",
    "a = a_posterior = z + a_prior\n",
    "b = b_posterior = N - z + b_prior\n",
    "\n",
    "hdi_out = hdi(a,b)\n",
    "print(f'HDI = ({hdi_out[0][0]:.3f}, {hdi_out[1][0]:.3f}) mit einer Breite von {hdi_out[1][0]-hdi_out[0][0]:.3f}')"
   ]
  },
  {
   "cell_type": "code",
   "execution_count": null,
   "metadata": {},
   "outputs": [],
   "source": []
  }
 ],
 "metadata": {
  "kernelspec": {
   "display_name": "stoc",
   "language": "python",
   "name": "python3"
  },
  "language_info": {
   "codemirror_mode": {
    "name": "ipython",
    "version": 3
   },
   "file_extension": ".py",
   "mimetype": "text/x-python",
   "name": "python",
   "nbconvert_exporter": "python",
   "pygments_lexer": "ipython3",
   "version": "3.12.0"
  }
 },
 "nbformat": 4,
 "nbformat_minor": 2
}
