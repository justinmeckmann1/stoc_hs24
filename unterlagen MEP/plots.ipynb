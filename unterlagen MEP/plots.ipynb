{
 "cells": [
  {
   "cell_type": "code",
   "execution_count": 18,
   "metadata": {},
   "outputs": [],
   "source": []
  },
  {
   "cell_type": "markdown",
   "metadata": {},
   "source": [
    "### Streudiagramm"
   ]
  },
  {
   "cell_type": "code",
   "execution_count": 20,
   "metadata": {},
   "outputs": [],
   "source": [
    "import pandas as pd\n",
    "import numpy as np\n",
    "\n",
    "data = {\n",
    "    'x1': [10, 8, 13, 9, 11, 14, 6, 4, 12, 7, 5],\n",
    "    'y1': [8.04, 6.95, 7.58, 8.81, 8.33, 9.96, 7.24, 4.26, 10.84, 4.82, 5.68]\n",
    "}\n",
    "df = pd.DataFrame(data)"
   ]
  },
  {
   "cell_type": "code",
   "execution_count": null,
   "metadata": {},
   "outputs": [],
   "source": [
    "import matplotlib.pyplot as plt\n",
    "\n",
    "plt.scatter(df['x1'], df['y1'])\n",
    "plt.show()"
   ]
  },
  {
   "cell_type": "code",
   "execution_count": null,
   "metadata": {},
   "outputs": [],
   "source": [
    "# Subplot --> Mehrere Plots in einem Diagramm\n",
    "x = 3\n",
    "y = 2\n",
    "\n",
    "fig, ax = plt.subplots(x, y, figsize=(12, 12))\n",
    "\n",
    "ax[0, 0].scatter(df['x1'], df['y1'])\n",
    "ax[0, 1].plot(df['x1'], df['y1'])\n",
    "ax[1, 0].scatter(df['x1'], df['y1'])\n",
    "ax[1, 1].scatter(df['x1'], df['y1'])\n",
    "plt.show()"
   ]
  },
  {
   "cell_type": "markdown",
   "metadata": {},
   "source": [
    "### Stripchart / Stripplot"
   ]
  },
  {
   "cell_type": "code",
   "execution_count": 14,
   "metadata": {},
   "outputs": [],
   "source": [
    "# Bibliotheken für die Daten --> nicht notwendig für den Plot\n",
    "import numpy as np\n",
    "import pandas as pd\n",
    "\n",
    "data = rf = pd.DataFrame({\n",
    "    \"HC\": np.repeat([\"5%\", \"10%\", \"15%\", \"20%\"], [6, 6, 6, 6]), \n",
    "    \"Strength\":[7, 8, 15, 11, 9, 10, 12, 17, 13, 18, 19, 15, 14, 18, 19, 17, \n",
    "    16, 18, 19, 25, 22, 23, 18, 20]\n",
    "})"
   ]
  },
  {
   "cell_type": "code",
   "execution_count": 15,
   "metadata": {},
   "outputs": [],
   "source": [
    "# Bibliotheken für die Visualisierung\n",
    "import seaborn as sns\n",
    "\n",
    "sns.stripplot(x=\"HC\", y=\"Strength\", data=rf)\n",
    "plt.xlabel(\"Hartholzkonzentration\")\n",
    "plt.ylabel(\"Reissfestigkeit\")\n",
    "plt.show()\n"
   ]
  },
  {
   "cell_type": "markdown",
   "metadata": {},
   "source": [
    "### Boxplot"
   ]
  },
  {
   "cell_type": "code",
   "execution_count": null,
   "metadata": {},
   "outputs": [],
   "source": [
    "import seaborn as sns\n",
    "\n",
    "sns.boxplot(x=\"HC\", y=\"Strength\", data=rf)\n",
    "plt.xlabel(\"Hartholzkonzentration\")\n",
    "plt.ylabel(\"Reissfestigkeit\")\n",
    "plt.show()"
   ]
  },
  {
   "cell_type": "code",
   "execution_count": null,
   "metadata": {},
   "outputs": [],
   "source": []
  }
 ],
 "metadata": {
  "kernelspec": {
   "display_name": "stoc",
   "language": "python",
   "name": "python3"
  },
  "language_info": {
   "codemirror_mode": {
    "name": "ipython",
    "version": 3
   },
   "file_extension": ".py",
   "mimetype": "text/x-python",
   "name": "python",
   "nbconvert_exporter": "python",
   "pygments_lexer": "ipython3",
   "version": "3.12.0"
  }
 },
 "nbformat": 4,
 "nbformat_minor": 2
}
