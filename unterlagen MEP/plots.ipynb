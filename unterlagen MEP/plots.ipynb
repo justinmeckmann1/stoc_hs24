{
 "cells": [
  {
   "cell_type": "markdown",
   "metadata": {},
   "source": [
    "### Streudiagramm"
   ]
  },
  {
   "cell_type": "code",
   "execution_count": 20,
   "metadata": {},
   "outputs": [],
   "source": [
    "import pandas as pd\n",
    "import numpy as np\n",
    "\n",
    "data = {\n",
    "    'x1': [10, 8, 13, 9, 11, 14, 6, 4, 12, 7, 5],\n",
    "    'y1': [8.04, 6.95, 7.58, 8.81, 8.33, 9.96, 7.24, 4.26, 10.84, 4.82, 5.68]\n",
    "}\n",
    "df = pd.DataFrame(data)"
   ]
  },
  {
   "cell_type": "code",
   "execution_count": null,
   "metadata": {},
   "outputs": [],
   "source": [
    "import matplotlib.pyplot as plt\n",
    "\n",
    "plt.scatter(df['x1'], df['y1'])\n",
    "plt.show()"
   ]
  },
  {
   "cell_type": "code",
   "execution_count": null,
   "metadata": {},
   "outputs": [],
   "source": [
    "# Subplot --> Mehrere Plots in einem Diagramm\n",
    "x = 3\n",
    "y = 2\n",
    "\n",
    "fig, ax = plt.subplots(x, y, figsize=(12, 12))\n",
    "\n",
    "ax[0, 0].scatter(df['x1'], df['y1'])\n",
    "ax[0, 1].plot(df['x1'], df['y1'])\n",
    "ax[1, 0].scatter(df['x1'], df['y1'])\n",
    "ax[1, 1].scatter(df['x1'], df['y1'])\n",
    "plt.show()"
   ]
  },
  {
   "cell_type": "markdown",
   "metadata": {},
   "source": [
    "### Stripchart / Stripplot"
   ]
  },
  {
   "cell_type": "code",
   "execution_count": 14,
   "metadata": {},
   "outputs": [],
   "source": [
    "# Bibliotheken für die Daten --> nicht notwendig für den Plot\n",
    "import numpy as np\n",
    "import pandas as pd\n",
    "\n",
    "data = rf = pd.DataFrame({\n",
    "    \"HC\": np.repeat([\"5%\", \"10%\", \"15%\", \"20%\"], [6, 6, 6, 6]), \n",
    "    \"Strength\":[7, 8, 15, 11, 9, 10, 12, 17, 13, 18, 19, 15, 14, 18, 19, 17, \n",
    "    16, 18, 19, 25, 22, 23, 18, 20]\n",
    "})"
   ]
  },
  {
   "cell_type": "code",
   "execution_count": 15,
   "metadata": {},
   "outputs": [],
   "source": [
    "# Bibliotheken für die Visualisierung\n",
    "import seaborn as sns\n",
    "\n",
    "sns.stripplot(x=\"HC\", y=\"Strength\", data=rf)\n",
    "plt.xlabel(\"Hartholzkonzentration\")\n",
    "plt.ylabel(\"Reissfestigkeit\")\n",
    "plt.show()\n"
   ]
  },
  {
   "cell_type": "markdown",
   "metadata": {},
   "source": [
    "### Boxplot"
   ]
  },
  {
   "cell_type": "code",
   "execution_count": null,
   "metadata": {},
   "outputs": [],
   "source": [
    "import seaborn as sns\n",
    "\n",
    "sns.boxplot(x=\"HC\", y=\"Strength\", data=rf)\n",
    "plt.xlabel(\"Hartholzkonzentration\")\n",
    "plt.ylabel(\"Reissfestigkeit\")\n",
    "plt.show()\n",
    "\n",
    "# mit jitter=False werden die Punkte nicht verschoben"
   ]
  },
  {
   "cell_type": "markdown",
   "metadata": {},
   "source": [
    "### Interaction Plot"
   ]
  },
  {
   "cell_type": "code",
   "execution_count": null,
   "metadata": {},
   "outputs": [],
   "source": [
    "from pandas import DataFrame\n",
    "import numpy as np\n",
    "from statsmodels.graphics.factorplots import interaction_plot\n",
    "import matplotlib.pyplot as plt\n",
    "\n",
    "Daten = DataFrame({\n",
    "\"Batch\": np.tile([\"1\", \"2\", \"3\", \"4\", \"5\", \"6\"], 4),\n",
    "\"Methode\": np.repeat([\"8500\", \"8700\", \"8900\", \"9100\"], 6),\n",
    "\"Y\": np.array([90.3, 89.2, 98.2, 93.9, 87.4, 97.9, 92.5, 89.5, 90.6, 94.7, \n",
    "87, 95.8, 85.5,\n",
    "90.8, 89.6, 86.2, 88, 93.4, 82.5, 89.5, 85.6, 87.4, 78.9, 90.7])\n",
    "})\n",
    "\n",
    "interaction_plot(x=Daten[\"Batch\"], trace=Daten[\"Methode\"], \n",
    "response=Daten[\"Y\"])\n",
    "\n",
    "plt.ylabel(\"Daten Y\") \n",
    "plt.show()\n",
    "\n",
    "Daten"
   ]
  },
  {
   "cell_type": "code",
   "execution_count": null,
   "metadata": {},
   "outputs": [],
   "source": [
    "El = DataFrame({\n",
    "\"Konz\": np.repeat([\"A\", \"B\", \"C\",\"D\"], 6),\n",
    "\"Temp\": np.tile(np.repeat([\"15C\", \"25C\"],3),4),\n",
    "\"Y\": np.array([82, 46, 16, 20, 13, 7, 20, 14, 17, 6, 7, 5, 8, 6, 5, \n",
    "4, 3, 5, 10, 7, 5, 6, 4, 5])\n",
    "})\n",
    "\n",
    "# x und trace kann man vertauschen, response (Daten) sind immer die Daten\n",
    "interaction_plot(x=El[\"Konz\"], trace=El[\"Temp\"], response=El[\"Y\"], \n",
    "legendtitle=\"Methode\")\n",
    "\n",
    "plt.xlabel(\"Cyanid-Konzentration\") \n",
    "plt.ylabel(\"Mediane Experimente\")\n",
    "\n",
    "plt.show()"
   ]
  },
  {
   "cell_type": "code",
   "execution_count": null,
   "metadata": {},
   "outputs": [],
   "source": [
    "El = DataFrame({\n",
    "\"Konz\": np.repeat([\"A\", \"B\", \"C\",\"D\"], 6),\n",
    "\"Temp\": np.tile(np.repeat([\"15C\", \"25C\"],3),4),\n",
    "\"Y\": np.array([82, 46, 16, 20, 13, 7, 20, 14, 17, 6, 7, 5, 8, 6, 5, \n",
    "4, 3, 5, 10, 7, 5, 6, 4, 5])\n",
    "})\n",
    "\n",
    "# x und trace kann man vertauschen, response (Daten) sind immer die Daten\n",
    "interaction_plot(x=El[\"Temp\"], trace=El[\"Konz\"], response=El[\"Y\"], \n",
    "legendtitle=\"Cyanid-Konzentration\")\n",
    "\n",
    "plt.xlabel(\"Methode (Temperatur)\") \n",
    "plt.ylabel(\"Mediane Experimente\")\n",
    "\n",
    "plt.show()"
   ]
  }
 ],
 "metadata": {
  "kernelspec": {
   "display_name": "stoc",
   "language": "python",
   "name": "python3"
  },
  "language_info": {
   "codemirror_mode": {
    "name": "ipython",
    "version": 3
   },
   "file_extension": ".py",
   "mimetype": "text/x-python",
   "name": "python",
   "nbconvert_exporter": "python",
   "pygments_lexer": "ipython3",
   "version": "3.12.0"
  }
 },
 "nbformat": 4,
 "nbformat_minor": 2
}
