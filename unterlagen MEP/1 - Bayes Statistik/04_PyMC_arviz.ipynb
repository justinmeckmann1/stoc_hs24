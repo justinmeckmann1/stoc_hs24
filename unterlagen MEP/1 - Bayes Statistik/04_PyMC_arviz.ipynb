{
 "cells": [
  {
   "cell_type": "code",
   "execution_count": 2,
   "metadata": {},
   "outputs": [
    {
     "name": "stderr",
     "output_type": "stream",
     "text": [
      "WARNING (pytensor.configdefaults): g++ not available, if using conda: `conda install m2w64-toolchain`\n",
      "WARNING (pytensor.configdefaults): g++ not detected!  PyTensor will be unable to compile C-implementations and will default to Python. Performance may be severely degraded. To remove this warning, set PyTensor flags cxx to an empty string.\n",
      "WARNING (pytensor.tensor.blas): Using NumPy C-API based implementation for BLAS functions.\n"
     ]
    }
   ],
   "source": [
    "import pymc as pm\n",
    "import arviz as az \n",
    "import scipy.stats as st \n",
    "import numpy as np"
   ]
  },
  {
   "cell_type": "code",
   "execution_count": 3,
   "metadata": {},
   "outputs": [
    {
     "name": "stderr",
     "output_type": "stream",
     "text": [
      "Auto-assigning NUTS sampler...\n",
      "Initializing NUTS using jitter+adapt_diag...\n",
      "Multiprocess sampling (4 chains in 4 jobs)\n",
      "NUTS: [theta]\n"
     ]
    },
    {
     "data": {
      "application/vnd.jupyter.widget-view+json": {
       "model_id": "49df7416a203414a89f949c91c552914",
       "version_major": 2,
       "version_minor": 0
      },
      "text/plain": [
       "Output()"
      ]
     },
     "metadata": {},
     "output_type": "display_data"
    },
    {
     "data": {
      "text/html": [
       "<pre style=\"white-space:pre;overflow-x:auto;line-height:normal;font-family:Menlo,'DejaVu Sans Mono',consolas,'Courier New',monospace\"></pre>\n"
      ],
      "text/plain": []
     },
     "metadata": {},
     "output_type": "display_data"
    },
    {
     "name": "stderr",
     "output_type": "stream",
     "text": [
      "Sampling 4 chains for 1_000 tune and 1_000 draw iterations (4_000 + 4_000 draws total) took 14 seconds.\n"
     ]
    },
    {
     "data": {
      "text/html": [
       "<div>\n",
       "<style scoped>\n",
       "    .dataframe tbody tr th:only-of-type {\n",
       "        vertical-align: middle;\n",
       "    }\n",
       "\n",
       "    .dataframe tbody tr th {\n",
       "        vertical-align: top;\n",
       "    }\n",
       "\n",
       "    .dataframe thead th {\n",
       "        text-align: right;\n",
       "    }\n",
       "</style>\n",
       "<table border=\"1\" class=\"dataframe\">\n",
       "  <thead>\n",
       "    <tr style=\"text-align: right;\">\n",
       "      <th></th>\n",
       "      <th>mean</th>\n",
       "      <th>sd</th>\n",
       "      <th>hdi_3%</th>\n",
       "      <th>hdi_97%</th>\n",
       "      <th>mcse_mean</th>\n",
       "      <th>mcse_sd</th>\n",
       "      <th>ess_bulk</th>\n",
       "      <th>ess_tail</th>\n",
       "      <th>r_hat</th>\n",
       "    </tr>\n",
       "  </thead>\n",
       "  <tbody>\n",
       "    <tr>\n",
       "      <th>theta</th>\n",
       "      <td>0.272</td>\n",
       "      <td>0.094</td>\n",
       "      <td>0.112</td>\n",
       "      <td>0.454</td>\n",
       "      <td>0.002</td>\n",
       "      <td>0.002</td>\n",
       "      <td>1635.0</td>\n",
       "      <td>2229.0</td>\n",
       "      <td>1.0</td>\n",
       "    </tr>\n",
       "  </tbody>\n",
       "</table>\n",
       "</div>"
      ],
      "text/plain": [
       "        mean     sd  hdi_3%  hdi_97%  mcse_mean  mcse_sd  ess_bulk  ess_tail  \\\n",
       "theta  0.272  0.094   0.112    0.454      0.002    0.002    1635.0    2229.0   \n",
       "\n",
       "       r_hat  \n",
       "theta    1.0  "
      ]
     },
     "execution_count": 3,
     "metadata": {},
     "output_type": "execute_result"
    },
    {
     "data": {
      "image/png": "[encoded data removed]",
      "text/plain": [
       "<Figure size 640x480 with 1 Axes>"
      ]
     },
     "metadata": {},
     "output_type": "display_data"
    }
   ],
   "source": [
    "# MCMC mit Beta-Prior und Bernoulli-Likelihood\n",
    "\n",
    "trials  = 20                # N        --> anzahl der Versuche\n",
    "head    = 5                 # k, bzw z --> anzahl der Erfolge\n",
    "\n",
    "data = np.zeros(trials)     # Vektor der Länge trials, wobei alle Komponenten 0 sind\n",
    "data[np.arange(head)] = 1   # setzt die ersten headKomponenten auf 1\n",
    "\n",
    "alph    = 1                 # parameter a der prior beta verteilung\n",
    "bet     = 1                  # parameter b der prior beta verteilung\n",
    "\n",
    "with pm.Model() as our_first_model:\n",
    "    theta   = pm.Beta('theta', alpha=alph, beta=bet)    # prior verteilung als Beta-Verteilung\n",
    "    y       = pm.Bernoulli('y', p=theta, observed=data) # likelihood \n",
    "    trace   = pm.sample(draws=1000, tune=1000)          # führt den MCMC-Algorithmus durch\n",
    "\n",
    "pm.plot_posterior(trace)        # Posterior-Verteilungen für die vier chains darstellen\n",
    "az.summary(trace)"
   ]
  },
  {
   "cell_type": "code",
   "execution_count": null,
   "metadata": {},
   "outputs": [],
   "source": [
    "# MCMC mit Uniform-Prior und normal Likelihood\n",
    "# --> wenn ungewissheit über die Verteilung\n",
    "# Bsp: Abfüllen von Flaschen. Mindestens ist 0cl in der Flasche, maximal 80cl. (sollwert bei 70)\n",
    "\n",
    "lower   = 0  # Untere Grenze\n",
    "upper   = 80  # Obere Grenze\n",
    "data    = np.array([71, 69, 67, 68, 73, 72, 71, 71, 68, 72, 69, 72]) # Gemessene Werte\n",
    "sigma   = 1.5           # Standardabweichung (wenn gegeben)\n",
    "# sigma   = data.std()    # Standardabweichung (schätzung aus den Daten)\n",
    "\n",
    "with pm.Model() as model:\n",
    "    mu = pm.Uniform('mu', lower=lower, upper=upper)\n",
    "    y = pm.Normal('y', mu=mu, sigma=sigma, observed=data)\n",
    "    trace = pm.sample(1000)\n",
    "az.plot_posterior(trace, point_estimate='mean', hdi_prob=0.94)\n",
    "az.summary(trace)"
   ]
  },
  {
   "cell_type": "code",
   "execution_count": null,
   "metadata": {},
   "outputs": [],
   "source": [
    "# einen rank plot pro chain\n",
    "pm.plot_trace(trace, kind='rank_bars')"
   ]
  },
  {
   "cell_type": "code",
   "execution_count": null,
   "metadata": {},
   "outputs": [],
   "source": [
    "# statistische Übersicht über die Posterior-Verteilung\n",
    "az.summary(trace, kind='stats')"
   ]
  },
  {
   "cell_type": "code",
   "execution_count": null,
   "metadata": {},
   "outputs": [],
   "source": [
    "# Posterior verteilung aufzeigen, achtung HDI default ist bei 0.94\n",
    "# point_estimate='mode' --> gibt den Modus der Verteilung an\n",
    "# point_estimate='mean' --> gibt den Mittelwert der Verteilung an\n",
    "az.plot_posterior(trace, point_estimate='mode', hdi_prob=0.95)"
   ]
  },
  {
   "cell_type": "code",
   "execution_count": null,
   "metadata": {},
   "outputs": [],
   "source": [
    "# Container für die Resultate der Bayes-Inferenz\n",
    "# posterior     --> Posterior-Stichproben\n",
    "# observed_data --> Beobachtete Daten\n",
    "trace"
   ]
  },
  {
   "cell_type": "code",
   "execution_count": null,
   "metadata": {},
   "outputs": [],
   "source": [
    "posterior = trace.posterior\n",
    "posterior"
   ]
  },
  {
   "cell_type": "code",
   "execution_count": null,
   "metadata": {},
   "outputs": [],
   "source": [
    "# den ersten draw aus chain 0 und 2 anzeigen\n",
    "posterior.sel(draw=0, chain=[0,2])"
   ]
  },
  {
   "cell_type": "code",
   "execution_count": null,
   "metadata": {},
   "outputs": [],
   "source": [
    "# die ersten 100 draws aus allen chains anzeigen\n",
    "posterior.sel(draw=slice(0,100))"
   ]
  },
  {
   "cell_type": "code",
   "execution_count": null,
   "metadata": {},
   "outputs": [],
   "source": [
    "# Mittelwert der Variable θ über alle drawsund chains berechnen\n",
    "posterior.mean()"
   ]
  },
  {
   "cell_type": "code",
   "execution_count": null,
   "metadata": {},
   "outputs": [],
   "source": [
    "# Mittelwerte für alle draws --> berechnet vier Werte für θ, jeweils einen pro chain\n",
    "posterior.mean('draw')"
   ]
  },
  {
   "cell_type": "code",
   "execution_count": null,
   "metadata": {},
   "outputs": [],
   "source": [
    "# alle Posterior Stichproben\n",
    "az.extract(trace)"
   ]
  },
  {
   "cell_type": "code",
   "execution_count": null,
   "metadata": {},
   "outputs": [],
   "source": [
    "# zufällige Stichproben aus der Posterior-Gruppe\n",
    "az.extract(trace, num_samples=100)"
   ]
  },
  {
   "cell_type": "code",
   "execution_count": null,
   "metadata": {},
   "outputs": [],
   "source": []
  }
 ],
 "metadata": {
  "kernelspec": {
   "display_name": "stoc",
   "language": "python",
   "name": "python3"
  },
  "language_info": {
   "codemirror_mode": {
    "name": "ipython",
    "version": 3
   },
   "file_extension": ".py",
   "mimetype": "text/x-python",
   "name": "python",
   "nbconvert_exporter": "python",
   "pygments_lexer": "ipython3",
   "version": "3.12.0"
  }
 },
 "nbformat": 4,
 "nbformat_minor": 2
}
