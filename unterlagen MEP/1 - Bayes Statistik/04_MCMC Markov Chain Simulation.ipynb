{
 "cells": [
  {
   "cell_type": "code",
   "execution_count": 12,
   "metadata": {},
   "outputs": [
    {
     "name": "stdout",
     "output_type": "stream",
     "text": [
      "0.84\n",
      "0.836\n"
     ]
    }
   ],
   "source": [
    "import random\n",
    "\n",
    "# List with sunny and rainy \n",
    "d = ['S', 'R']\n",
    "\n",
    "# Define empty list \n",
    "w = []\n",
    "\n",
    "w = []\n",
    "\n",
    "w.append(random.choice(d))\n",
    "\n",
    "# Die Idee von MC ist, dass wir sehr lange chains machen. \n",
    "# 100 000       ist auf die zweite dezimalstelle genau.\n",
    "n = 100000 \n",
    "\n",
    "#  10 000 000   ist auf die dritte dezimalstelle genau.\n",
    "# n = 10000000\n",
    "\n",
    "P_sun_sun   = 0.9\n",
    "P_sun_rain  = 1 - P_sun_sun\n",
    "P_rain_rain = 0.5\n",
    "P_rain_sun  = 1 - P_rain_rain\n",
    "\n",
    "for i in range(n): \n",
    "    if w[i] == 'S':\n",
    "        w.append(random.choices(d, weights=[P_sun_sun, P_sun_rain])[0])\n",
    "    else:\n",
    "        w.append(random.choices(d, weights=[P_rain_rain, P_rain_sun])[0])\n",
    "\n",
    "# Probability of sunny days \n",
    "print(f'{(w.count('S') / len(w)):.2f}') # auf 2. Dezimalstelle genau\n",
    "print(f'{(w.count('S') / len(w)):.3f}') # auf 3. Dezimalstelle genau"
   ]
  },
  {
   "cell_type": "code",
   "execution_count": null,
   "metadata": {},
   "outputs": [],
   "source": []
  }
 ],
 "metadata": {
  "kernelspec": {
   "display_name": "stoc",
   "language": "python",
   "name": "python3"
  },
  "language_info": {
   "codemirror_mode": {
    "name": "ipython",
    "version": 3
   },
   "file_extension": ".py",
   "mimetype": "text/x-python",
   "name": "python",
   "nbconvert_exporter": "python",
   "pygments_lexer": "ipython3",
   "version": "3.12.0"
  }
 },
 "nbformat": 4,
 "nbformat_minor": 2
}
