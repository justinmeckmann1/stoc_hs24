{
 "cells": [
  {
   "cell_type": "code",
   "execution_count": 1,
   "metadata": {},
   "outputs": [
    {
     "data": {
      "text/plain": [
       "array([0. , 0.1, 0.2, 0.3, 0.4, 0.5, 0.6, 0.7, 0.8, 0.9, 1. ])"
      ]
     },
     "execution_count": 1,
     "metadata": {},
     "output_type": "execute_result"
    }
   ],
   "source": [
    "# Likelyhood verteilung:\n",
    "import numpy as np\n",
    "\n",
    "likeli = np.linspace(0,1,11) \n",
    "likeli"
   ]
  },
  {
   "cell_type": "code",
   "execution_count": 5,
   "metadata": {},
   "outputs": [
    {
     "data": {
      "text/plain": [
       "array([0.  , 0.04, 0.08, 0.12, 0.16, 0.2 , 0.16, 0.12, 0.08, 0.04, 0.  ])"
      ]
     },
     "execution_count": 5,
     "metadata": {},
     "output_type": "execute_result"
    }
   ],
   "source": [
    "# symmetrische Prior verteilung:\n",
    "y = np.array([0, 1, 2, 3, 4, 5, 4, 3, 2, 1, 0])\n",
    "\n",
    "prior = y/np.sum(y) \n",
    "prior"
   ]
  },
  {
   "cell_type": "code",
   "execution_count": 3,
   "metadata": {},
   "outputs": [
    {
     "data": {
      "text/plain": [
       "0.5"
      ]
     },
     "execution_count": 3,
     "metadata": {},
     "output_type": "execute_result"
    }
   ],
   "source": [
    "# Randwahrscheinlichkeit:\n",
    "margin = np.sum(prior * likeli) \n",
    "margin"
   ]
  },
  {
   "cell_type": "code",
   "execution_count": 4,
   "metadata": {},
   "outputs": [
    {
     "data": {
      "text/plain": [
       "array([0.   , 0.008, 0.032, 0.072, 0.128, 0.2  , 0.192, 0.168, 0.128,\n",
       "       0.072, 0.   ])"
      ]
     },
     "execution_count": 4,
     "metadata": {},
     "output_type": "execute_result"
    }
   ],
   "source": [
    "# Posterior verteilung:\n",
    "post = prior * likeli / margin \n",
    "post"
   ]
  },
  {
   "cell_type": "code",
   "execution_count": 14,
   "metadata": {},
   "outputs": [
    {
     "data": {
      "text/plain": [
       "0.002737948627726951"
      ]
     },
     "execution_count": 14,
     "metadata": {},
     "output_type": "execute_result"
    }
   ],
   "source": [
    "#Sensitivität P(+|M)\n",
    "sens = 0.917\n",
    "#Spezifität P(-|M quer)\n",
    "spez = 0.935\n",
    "\n",
    "prior = 0.03 # P(M) --> W'keit, dass eine Person erkrankt ist\n",
    "\n",
    "# 2x positives ergebnis: \n",
    "def post_pos(prior):\n",
    "    post = (sens*prior) / (sens*prior + (1-spez)*(1-prior))\n",
    "    return post\n",
    "\n",
    "# positives, dann negatives ergebnis: \n",
    "def post_neg(prior):\n",
    "    post = (1-sens)*prior / ((1-sens)*prior + spez*(1-prior))\n",
    "    return post\n",
    "\n",
    "post_neg(0.03) # wahrscheinlichkeit, dass eine Person erkrankt ist, positives, dann negatives ergebnis hat --> 02%"
   ]
  },
  {
   "cell_type": "code",
   "execution_count": null,
   "metadata": {},
   "outputs": [],
   "source": []
  }
 ],
 "metadata": {
  "kernelspec": {
   "display_name": "stoc",
   "language": "python",
   "name": "python3"
  },
  "language_info": {
   "codemirror_mode": {
    "name": "ipython",
    "version": 3
   },
   "file_extension": ".py",
   "mimetype": "text/x-python",
   "name": "python",
   "nbconvert_exporter": "python",
   "pygments_lexer": "ipython3",
   "version": "3.12.0"
  }
 },
 "nbformat": 4,
 "nbformat_minor": 2
}
