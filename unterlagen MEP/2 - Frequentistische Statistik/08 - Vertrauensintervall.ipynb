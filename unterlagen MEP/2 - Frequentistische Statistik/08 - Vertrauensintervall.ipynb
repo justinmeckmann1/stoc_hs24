{
 "cells": [
  {
   "cell_type": "markdown",
   "metadata": {},
   "source": [
    "# Vertrauensinvtervall\n",
    "Interpretation von Vertrauensinvervallen"
   ]
  },
  {
   "cell_type": "code",
   "execution_count": 17,
   "metadata": {},
   "outputs": [
    {
     "data": {
      "text/plain": [
       "array([1.08007203, 8.91992797])"
      ]
     },
     "execution_count": 17,
     "metadata": {},
     "output_type": "execute_result"
    }
   ],
   "source": [
    "from scipy.stats import norm\n",
    "norm.ppf(q=[0.025, 0.975], loc=5, scale=2)"
   ]
  },
  {
   "cell_type": "code",
   "execution_count": null,
   "metadata": {},
   "outputs": [],
   "source": [
    "import numpy as np\n",
    "import pandas as pd\n",
    "import matplotlib.pyplot as plt\n",
    "from scipy.stats import norm\n",
    "plt.rcParams[\"figure.figsize\"] = (20,5)\n",
    "\n",
    "# Bereich der x-Achse\n",
    "aw = -6\n",
    "ew = 16\n",
    "\n",
    "# Berechnung der Funktionswerte\n",
    "mean = 5\n",
    "sd = 2\n",
    "x = np.linspace(start=aw, stop=ew, num=100)\n",
    "y = norm.pdf(x, loc=mean, scale=sd)\n",
    "\n",
    "plt.plot(x,y)\n",
    "\n",
    "#Bestimmung der Quantile\n",
    "q_025, q_975 = norm.ppf(q=[0.025,0.975], loc=mean , scale=sd)\n",
    "\n",
    "# Plot des Verwerfungsbereiches\n",
    "plt.plot([aw, q_025], [0, 0], color=\"red\", linewidth=3)\n",
    "plt.plot([q_975, ew], [0, 0], color=\"red\", linewidth=3)\n",
    "plt.show()"
   ]
  },
  {
   "cell_type": "code",
   "execution_count": null,
   "metadata": {},
   "outputs": [],
   "source": [
    "# Berechnung der Funktionswerte\n",
    "mean = 5\n",
    "\n",
    "x = np.linspace(start=aw, stop=ew, num=100)\n",
    "y = norm.pdf(x, loc=mean, scale=sd)\n",
    "\n",
    "plt.plot(x,y)\n",
    "\n",
    "#Bestimmung der Quantile\n",
    "q_025, q_975 = norm.ppf(q=[0.025,0.975], loc=mean , scale=sd)\n",
    "\n",
    "plt.plot([6, 6], [-.01, .04], color=\"black\")\n",
    "plt.plot([mean, mean], [-.01, .015], color=\"blue\")\n",
    "plt.text(mean,0.02, r\"$\\mu_0=$\"+str(mean),ha=\"center\")\n",
    "plt.text(6,0.045, r\"$\\overline{x}=6$\",ha=\"center\")\n",
    "\n",
    "# Plot des Verwerfungsbereiches\n",
    "q_025_n, q_975_n = norm.ppf(q=[0.025,0.975], loc=mean , scale=2)\n",
    "plt.plot([aw, q_025_n], [0.01, 0.01], color=\"red\", linewidth=2)\n",
    "plt.plot([q_975_n, ew], [0.01, 0.01], color=\"red\", linewidth=2)\n"
   ]
  },
  {
   "cell_type": "code",
   "execution_count": null,
   "metadata": {},
   "outputs": [],
   "source": [
    "def vi(mean):\n",
    "    x = np.linspace(start=aw, stop=ew, num=100)\n",
    "    y = norm.pdf(x, loc=mean, scale=sd)\n",
    "    plt.plot(x,y)\n",
    "    #Bestimmung der Quantile\n",
    "    plt.plot([6, 6], [-.01, .04], color=\"black\")\n",
    "    plt.plot([mean, mean], [-.01, .015], color=\"blue\")\n",
    "    plt.text(mean,0.02, r\"$\\mu_0=$\"+str(mean),ha=\"center\")\n",
    "    plt.text(6,0.045, r\"$\\overline{x}=6$\",ha=\"center\")\n",
    "    q_025, q_975 = norm.ppf(q=[0.025,0.975], loc=mean , scale=sd)\n",
    "    # Plot der Verwerfungsbereiches für mu=5\n",
    "    q_025_n, q_975_n = norm.ppf(q=[0.025,0.975], loc=mean , scale=2)\n",
    "    plt.plot([aw, q_025_n], [0.01, 0.01], color=\"red\", linewidth=2)\n",
    "    plt.plot([q_975_n, ew], [0.01, 0.01], color=\"red\", linewidth=2)\n",
    "    \n",
    "\n",
    "vi(9)"
   ]
  },
  {
   "cell_type": "code",
   "execution_count": 16,
   "metadata": {},
   "outputs": [
    {
     "name": "stdout",
     "output_type": "stream",
     "text": [
      "[3.77648717]\n"
     ]
    },
    {
     "data": {
      "text/plain": [
       "(array([-0.1434408]), array([7.69641514]))"
      ]
     },
     "execution_count": 16,
     "metadata": {},
     "output_type": "execute_result"
    }
   ],
   "source": [
    "import numpy as np\n",
    "from scipy.stats import norm\n",
    "\n",
    "mu = 5\n",
    "sigam = 2\n",
    "\n",
    "x = norm.rvs(size=1, loc=mu, scale=sigam)\n",
    "print(x)\n",
    "norm.interval(confidence=0.95, loc=x, scale=2)"
   ]
  },
  {
   "cell_type": "code",
   "execution_count": null,
   "metadata": {},
   "outputs": [],
   "source": []
  }
 ],
 "metadata": {
  "kernelspec": {
   "display_name": "stoc",
   "language": "python",
   "name": "python3"
  },
  "language_info": {
   "codemirror_mode": {
    "name": "ipython",
    "version": 3
   },
   "file_extension": ".py",
   "mimetype": "text/x-python",
   "name": "python",
   "nbconvert_exporter": "python",
   "pygments_lexer": "ipython3",
   "version": "3.12.0"
  }
 },
 "nbformat": 4,
 "nbformat_minor": 2
}
