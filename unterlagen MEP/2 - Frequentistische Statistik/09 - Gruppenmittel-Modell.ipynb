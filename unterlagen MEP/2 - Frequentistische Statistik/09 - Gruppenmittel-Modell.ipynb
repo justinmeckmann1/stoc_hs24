{
 "cells": [
  {
   "cell_type": "markdown",
   "metadata": {},
   "source": [
    "# Gruppenmittel-Modell"
   ]
  },
  {
   "cell_type": "code",
   "execution_count": 8,
   "metadata": {},
   "outputs": [],
   "source": [
    "# Import und Dataset\n",
    "from pandas import DataFrame \n",
    "import pandas as pd\n",
    "import numpy as np\n",
    "import scipy.stats as st\n",
    "\n",
    "from statsmodels.formula.api import ols\n",
    "from statsmodels.stats.anova import anova_lm\n",
    "\n",
    "rf = DataFrame({\n",
    "\"HC\": np.repeat([\"5%\",\"10%\",\"15%\",\"20%\"], [6, 6, 6, 6]),\n",
    "\"Strength\":[7, 8, 15, 11, 9, 10, 12, 17, 13, 18, 19, 15, 14, 18, 19, 17, \n",
    "16, 18, 19, 25, 22, 23, 18, 20]\n",
    "})"
   ]
  },
  {
   "cell_type": "code",
   "execution_count": 9,
   "metadata": {},
   "outputs": [],
   "source": [
    "# ANOVA\n",
    "# enspricht y~x --> aus dem Datensatz! \n",
    "# x - Gruppen\n",
    "# y - Werte\n",
    "fit = ols(\"Strength~HC\",data=rf).fit() "
   ]
  },
  {
   "cell_type": "code",
   "execution_count": 12,
   "metadata": {},
   "outputs": [
    {
     "data": {
      "text/html": [
       "<table class=\"simpletable\">\n",
       "<caption>OLS Regression Results</caption>\n",
       "<tr>\n",
       "  <th>Dep. Variable:</th>        <td>Strength</td>     <th>  R-squared:         </th> <td>   0.746</td>\n",
       "</tr>\n",
       "<tr>\n",
       "  <th>Model:</th>                   <td>OLS</td>       <th>  Adj. R-squared:    </th> <td>   0.708</td>\n",
       "</tr>\n",
       "<tr>\n",
       "  <th>Method:</th>             <td>Least Squares</td>  <th>  F-statistic:       </th> <td>   19.61</td>\n",
       "</tr>\n",
       "<tr>\n",
       "  <th>Date:</th>             <td>Thu, 09 Jan 2025</td> <th>  Prob (F-statistic):</th> <td>3.59e-06</td>\n",
       "</tr>\n",
       "<tr>\n",
       "  <th>Time:</th>                 <td>20:09:48</td>     <th>  Log-Likelihood:    </th> <td> -54.344</td>\n",
       "</tr>\n",
       "<tr>\n",
       "  <th>No. Observations:</th>      <td>    24</td>      <th>  AIC:               </th> <td>   116.7</td>\n",
       "</tr>\n",
       "<tr>\n",
       "  <th>Df Residuals:</th>          <td>    20</td>      <th>  BIC:               </th> <td>   121.4</td>\n",
       "</tr>\n",
       "<tr>\n",
       "  <th>Df Model:</th>              <td>     3</td>      <th>                     </th>     <td> </td>   \n",
       "</tr>\n",
       "<tr>\n",
       "  <th>Covariance Type:</th>      <td>nonrobust</td>    <th>                     </th>     <td> </td>   \n",
       "</tr>\n",
       "</table>\n",
       "<table class=\"simpletable\">\n",
       "<tr>\n",
       "      <td></td>         <th>coef</th>     <th>std err</th>      <th>t</th>      <th>P>|t|</th>  <th>[0.025</th>    <th>0.975]</th>  \n",
       "</tr>\n",
       "<tr>\n",
       "  <th>Intercept</th> <td>   15.6667</td> <td>    1.041</td> <td>   15.042</td> <td> 0.000</td> <td>   13.494</td> <td>   17.839</td>\n",
       "</tr>\n",
       "<tr>\n",
       "  <th>HC[T.15%]</th> <td>    1.3333</td> <td>    1.473</td> <td>    0.905</td> <td> 0.376</td> <td>   -1.739</td> <td>    4.406</td>\n",
       "</tr>\n",
       "<tr>\n",
       "  <th>HC[T.20%]</th> <td>    5.5000</td> <td>    1.473</td> <td>    3.734</td> <td> 0.001</td> <td>    2.428</td> <td>    8.572</td>\n",
       "</tr>\n",
       "<tr>\n",
       "  <th>HC[T.5%]</th>  <td>   -5.6667</td> <td>    1.473</td> <td>   -3.847</td> <td> 0.001</td> <td>   -8.739</td> <td>   -2.594</td>\n",
       "</tr>\n",
       "</table>\n",
       "<table class=\"simpletable\">\n",
       "<tr>\n",
       "  <th>Omnibus:</th>       <td> 0.929</td> <th>  Durbin-Watson:     </th> <td>   2.181</td>\n",
       "</tr>\n",
       "<tr>\n",
       "  <th>Prob(Omnibus):</th> <td> 0.628</td> <th>  Jarque-Bera (JB):  </th> <td>   0.861</td>\n",
       "</tr>\n",
       "<tr>\n",
       "  <th>Skew:</th>          <td> 0.248</td> <th>  Prob(JB):          </th> <td>   0.650</td>\n",
       "</tr>\n",
       "<tr>\n",
       "  <th>Kurtosis:</th>      <td> 2.215</td> <th>  Cond. No.          </th> <td>    4.79</td>\n",
       "</tr>\n",
       "</table><br/><br/>Notes:<br/>[1] Standard Errors assume that the covariance matrix of the errors is correctly specified."
      ],
      "text/latex": [
       "\\begin{center}\n",
       "\\begin{tabular}{lclc}\n",
       "\\toprule\n",
       "\\textbf{Dep. Variable:}    &     Strength     & \\textbf{  R-squared:         } &     0.746   \\\\\n",
       "\\textbf{Model:}            &       OLS        & \\textbf{  Adj. R-squared:    } &     0.708   \\\\\n",
       "\\textbf{Method:}           &  Least Squares   & \\textbf{  F-statistic:       } &     19.61   \\\\\n",
       "\\textbf{Date:}             & Thu, 09 Jan 2025 & \\textbf{  Prob (F-statistic):} &  3.59e-06   \\\\\n",
       "\\textbf{Time:}             &     20:09:48     & \\textbf{  Log-Likelihood:    } &   -54.344   \\\\\n",
       "\\textbf{No. Observations:} &          24      & \\textbf{  AIC:               } &     116.7   \\\\\n",
       "\\textbf{Df Residuals:}     &          20      & \\textbf{  BIC:               } &     121.4   \\\\\n",
       "\\textbf{Df Model:}         &           3      & \\textbf{                     } &             \\\\\n",
       "\\textbf{Covariance Type:}  &    nonrobust     & \\textbf{                     } &             \\\\\n",
       "\\bottomrule\n",
       "\\end{tabular}\n",
       "\\begin{tabular}{lcccccc}\n",
       "                    & \\textbf{coef} & \\textbf{std err} & \\textbf{t} & \\textbf{P$> |$t$|$} & \\textbf{[0.025} & \\textbf{0.975]}  \\\\\n",
       "\\midrule\n",
       "\\textbf{Intercept}  &      15.6667  &        1.041     &    15.042  &         0.000        &       13.494    &       17.839     \\\\\n",
       "\\textbf{HC[T.15\\%]} &       1.3333  &        1.473     &     0.905  &         0.376        &       -1.739    &        4.406     \\\\\n",
       "\\textbf{HC[T.20\\%]} &       5.5000  &        1.473     &     3.734  &         0.001        &        2.428    &        8.572     \\\\\n",
       "\\textbf{HC[T.5\\%]}  &      -5.6667  &        1.473     &    -3.847  &         0.001        &       -8.739    &       -2.594     \\\\\n",
       "\\bottomrule\n",
       "\\end{tabular}\n",
       "\\begin{tabular}{lclc}\n",
       "\\textbf{Omnibus:}       &  0.929 & \\textbf{  Durbin-Watson:     } &    2.181  \\\\\n",
       "\\textbf{Prob(Omnibus):} &  0.628 & \\textbf{  Jarque-Bera (JB):  } &    0.861  \\\\\n",
       "\\textbf{Skew:}          &  0.248 & \\textbf{  Prob(JB):          } &    0.650  \\\\\n",
       "\\textbf{Kurtosis:}      &  2.215 & \\textbf{  Cond. No.          } &     4.79  \\\\\n",
       "\\bottomrule\n",
       "\\end{tabular}\n",
       "%\\caption{OLS Regression Results}\n",
       "\\end{center}\n",
       "\n",
       "Notes: \\newline\n",
       " [1] Standard Errors assume that the covariance matrix of the errors is correctly specified."
      ],
      "text/plain": [
       "<class 'statsmodels.iolib.summary.Summary'>\n",
       "\"\"\"\n",
       "                            OLS Regression Results                            \n",
       "==============================================================================\n",
       "Dep. Variable:               Strength   R-squared:                       0.746\n",
       "Model:                            OLS   Adj. R-squared:                  0.708\n",
       "Method:                 Least Squares   F-statistic:                     19.61\n",
       "Date:                Thu, 09 Jan 2025   Prob (F-statistic):           3.59e-06\n",
       "Time:                        20:09:48   Log-Likelihood:                -54.344\n",
       "No. Observations:                  24   AIC:                             116.7\n",
       "Df Residuals:                      20   BIC:                             121.4\n",
       "Df Model:                           3                                         \n",
       "Covariance Type:            nonrobust                                         \n",
       "==============================================================================\n",
       "                 coef    std err          t      P>|t|      [0.025      0.975]\n",
       "------------------------------------------------------------------------------\n",
       "Intercept     15.6667      1.041     15.042      0.000      13.494      17.839\n",
       "HC[T.15%]      1.3333      1.473      0.905      0.376      -1.739       4.406\n",
       "HC[T.20%]      5.5000      1.473      3.734      0.001       2.428       8.572\n",
       "HC[T.5%]      -5.6667      1.473     -3.847      0.001      -8.739      -2.594\n",
       "==============================================================================\n",
       "Omnibus:                        0.929   Durbin-Watson:                   2.181\n",
       "Prob(Omnibus):                  0.628   Jarque-Bera (JB):                0.861\n",
       "Skew:                           0.248   Prob(JB):                        0.650\n",
       "Kurtosis:                       2.215   Cond. No.                         4.79\n",
       "==============================================================================\n",
       "\n",
       "Notes:\n",
       "[1] Standard Errors assume that the covariance matrix of the errors is correctly specified.\n",
       "\"\"\""
      ]
     },
     "execution_count": 12,
     "metadata": {},
     "output_type": "execute_result"
    }
   ],
   "source": [
    "fit.summary()\n",
    "# Intercept = Baseline = mu_0 --> HC T 10%"
   ]
  },
  {
   "cell_type": "code",
   "execution_count": 14,
   "metadata": {},
   "outputs": [
    {
     "data": {
      "text/plain": [
       "Intercept    15.666667\n",
       "HC[T.15%]     1.333333\n",
       "HC[T.20%]     5.500000\n",
       "HC[T.5%]     -5.666667\n",
       "dtype: float64"
      ]
     },
     "execution_count": 14,
     "metadata": {},
     "output_type": "execute_result"
    }
   ],
   "source": [
    "# Verkürzte Ausgabe\n",
    "fit.params"
   ]
  },
  {
   "cell_type": "markdown",
   "metadata": {},
   "source": [
    "### Vertrauensintervale"
   ]
  },
  {
   "cell_type": "code",
   "execution_count": 16,
   "metadata": {},
   "outputs": [
    {
     "data": {
      "text/plain": [
       "array([[ 7.8274691 , 12.1725309 ],\n",
       "       [ 7.8274691 , 12.1725309 ],\n",
       "       [ 7.8274691 , 12.1725309 ],\n",
       "       [ 7.8274691 , 12.1725309 ],\n",
       "       [ 7.8274691 , 12.1725309 ],\n",
       "       [ 7.8274691 , 12.1725309 ],\n",
       "       [13.49413576, 17.83919757],\n",
       "       [13.49413576, 17.83919757],\n",
       "       [13.49413576, 17.83919757],\n",
       "       [13.49413576, 17.83919757],\n",
       "       [13.49413576, 17.83919757],\n",
       "       [13.49413576, 17.83919757],\n",
       "       [14.8274691 , 19.1725309 ],\n",
       "       [14.8274691 , 19.1725309 ],\n",
       "       [14.8274691 , 19.1725309 ],\n",
       "       [14.8274691 , 19.1725309 ],\n",
       "       [14.8274691 , 19.1725309 ],\n",
       "       [14.8274691 , 19.1725309 ],\n",
       "       [18.99413576, 23.33919757],\n",
       "       [18.99413576, 23.33919757],\n",
       "       [18.99413576, 23.33919757],\n",
       "       [18.99413576, 23.33919757],\n",
       "       [18.99413576, 23.33919757],\n",
       "       [18.99413576, 23.33919757]])"
      ]
     },
     "execution_count": 16,
     "metadata": {},
     "output_type": "execute_result"
    }
   ],
   "source": [
    "fit_pred = fit.get_prediction() \n",
    "fit_pred.conf_int()"
   ]
  },
  {
   "cell_type": "markdown",
   "metadata": {},
   "source": []
  },
  {
   "cell_type": "code",
   "execution_count": null,
   "metadata": {},
   "outputs": [],
   "source": []
  }
 ],
 "metadata": {
  "kernelspec": {
   "display_name": "stoc",
   "language": "python",
   "name": "python3"
  },
  "language_info": {
   "codemirror_mode": {
    "name": "ipython",
    "version": 3
   },
   "file_extension": ".py",
   "mimetype": "text/x-python",
   "name": "python",
   "nbconvert_exporter": "python",
   "pygments_lexer": "ipython3",
   "version": "3.12.0"
  }
 },
 "nbformat": 4,
 "nbformat_minor": 2
}
