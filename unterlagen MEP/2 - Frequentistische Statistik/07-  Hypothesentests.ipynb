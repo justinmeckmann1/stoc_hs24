{
 "cells": [
  {
   "cell_type": "code",
   "execution_count": null,
   "metadata": {},
   "outputs": [],
   "source": []
  },
  {
   "cell_type": "markdown",
   "metadata": {},
   "source": [
    "# Beispiel Summe\n",
    "W'keit, dass die Summe für 50 Tage 80 überschreitet"
   ]
  },
  {
   "cell_type": "code",
   "execution_count": 1,
   "metadata": {},
   "outputs": [
    {
     "data": {
      "text/plain": [
       "0.9907889372729505"
      ]
     },
     "execution_count": 1,
     "metadata": {},
     "output_type": "execute_result"
    }
   ],
   "source": [
    "from scipy.stats import norm\n",
    "import numpy as np\n",
    "x = 80\n",
    "n = 50 # Anzahl Tage\n",
    "mu = 1.5 # Mittelwert\n",
    "sigma = 0.3 # Standardabweichung\n",
    "\n",
    "# Summe berechnen\n",
    "norm.cdf(x=x, loc=n*mu, scale=np.sqrt(n)*sigma)"
   ]
  },
  {
   "cell_type": "markdown",
   "metadata": {},
   "source": [
    "# Beispiel Durchschnitt\n",
    "Gesucht: W’keit, dass die Durchschnittliche Wartezeit für 36 Passagiere unter 10 ist "
   ]
  },
  {
   "cell_type": "code",
   "execution_count": 2,
   "metadata": {},
   "outputs": [
    {
     "data": {
      "text/plain": [
       "0.9640696808870742"
      ]
     },
     "execution_count": 2,
     "metadata": {},
     "output_type": "execute_result"
    }
   ],
   "source": [
    "from scipy.stats import norm\n",
    "import numpy as np\n",
    "x = 10\n",
    "n = 36 # Anzahl Passagiere\n",
    "mu = 8.2 # Mittelwert\n",
    "sigma = 6 # Standardabweichung\n",
    "\n",
    "# Durchschnitt berechnen\n",
    "norm.cdf(x=x, loc=mu, scale=sigma/np.sqrt(n))"
   ]
  },
  {
   "cell_type": "markdown",
   "metadata": {},
   "source": [
    "# Vorgehen Null / alternativhypothese:"
   ]
  },
  {
   "cell_type": "code",
   "execution_count": 33,
   "metadata": {},
   "outputs": [
    {
     "data": {
      "text/plain": [
       "0.0068205778974858985"
      ]
     },
     "execution_count": 33,
     "metadata": {},
     "output_type": "execute_result"
    }
   ],
   "source": [
    "from scipy.stats import norm\n",
    "\n",
    "# Annahme:\n",
    "mu = 500    # Angenommener Mittelwert\n",
    "sigma = 1   # Angenommene Standardabweichung\n",
    "\n",
    "\n",
    "# Aus Messreihe:\n",
    "n = 10      # Anzahl der Messungen  --> len(data)\n",
    "x = 499.22  # gemessener Mittelwert --> data.mean()\n",
    "\n",
    "\n",
    "norm.cdf(x=x, loc=mu, scale=sigma/np.sqrt(n)) # ausgabe P-Wert --> ist dieser kleiner als alpha, dann ist die Nullhypothese verworfen"
   ]
  },
  {
   "cell_type": "code",
   "execution_count": 35,
   "metadata": {},
   "outputs": [
    {
     "name": "stdout",
     "output_type": "stream",
     "text": [
      "0.6821%\n"
     ]
    }
   ],
   "source": [
    "# schön formatiert\n",
    "print(f'{(norm.cdf(x=x, loc=mu, scale=sigma/np.sqrt(n)))*100:.4f}%')"
   ]
  },
  {
   "cell_type": "markdown",
   "metadata": {},
   "source": [
    "# Verwerfungsbereich für signifikanzniveau alpha!"
   ]
  },
  {
   "cell_type": "markdown",
   "metadata": {},
   "source": [
    "### Zweiseitig\n",
    "Beispiel Bier, angenommener Mittelwert von mu=500 und Standardabweichung von sigma = 1 mit n=10"
   ]
  },
  {
   "cell_type": "code",
   "execution_count": 25,
   "metadata": {},
   "outputs": [],
   "source": [
    "from scipy.stats import norm\n",
    "\n",
    "# Verwerfungsbereich für signifikanzniveau alpha\n",
    "alpha = 0.05        # Signifikanzniveau\n",
    "q1 = alpha/2        # quantil 1\n",
    "q2 = 1-alpha/2      # quantil 2\n"
   ]
  },
  {
   "cell_type": "code",
   "execution_count": 26,
   "metadata": {},
   "outputs": [
    {
     "data": {
      "text/plain": [
       "500.6197950323046"
      ]
     },
     "execution_count": 26,
     "metadata": {},
     "output_type": "execute_result"
    }
   ],
   "source": [
    "# Einzeln: \n",
    "norm.ppf(q=q1, loc=500, scale=1/np.sqrt(10)) \n",
    "norm.ppf(q=q2, loc=500, scale=1/np.sqrt(10))"
   ]
  },
  {
   "cell_type": "code",
   "execution_count": 21,
   "metadata": {},
   "outputs": [
    {
     "data": {
      "text/plain": [
       "array([499.38020497, 500.61979503])"
      ]
     },
     "execution_count": 21,
     "metadata": {},
     "output_type": "execute_result"
    }
   ],
   "source": [
    "# Gemeinsam\n",
    "norm.ppf(q=[q1,q2], loc=500, scale=1/np.sqrt(10))"
   ]
  },
  {
   "cell_type": "markdown",
   "metadata": {},
   "source": [
    "### Einseitig\n",
    "Beispiel Körpergrösse mit mu=180, sigma = 1, n=10"
   ]
  },
  {
   "cell_type": "code",
   "execution_count": 27,
   "metadata": {},
   "outputs": [
    {
     "data": {
      "text/plain": [
       "499.47985161212443"
      ]
     },
     "execution_count": 27,
     "metadata": {},
     "output_type": "execute_result"
    }
   ],
   "source": [
    "from scipy.stats import norm\n",
    "\n",
    "# Verwerfungsbereich für signifikanzniveau alpha\n",
    "alpha = 0.05        # Signifikanzniveau\n",
    "q = alpha           # Einseitig test nach unten\n",
    "# q = 1-alpha         # Einseitig test nach oben\n",
    "\n",
    "norm.ppf(q=q, loc=500, scale=1/np.sqrt(10)) "
   ]
  },
  {
   "cell_type": "markdown",
   "metadata": {},
   "source": [
    "# Z-Test\n",
    "Bsp. Körpergrösse: Gegebene Stanardabweichung sigma = 8cm, Nullhypothese mu = 164, vermuting --> grösser (mu_dach Messreihe = 168)"
   ]
  },
  {
   "cell_type": "code",
   "execution_count": 40,
   "metadata": {},
   "outputs": [
    {
     "data": {
      "text/plain": [
       "4.5706494145036913e-10"
      ]
     },
     "execution_count": 40,
     "metadata": {},
     "output_type": "execute_result"
    }
   ],
   "source": [
    "# Annahme:\n",
    "mu = 164    # Angenommener Mittelwert\n",
    "\n",
    "# Bekannt:\n",
    "sigma = 8   # Standardabweichung\n",
    "\n",
    "# Aus Messreihe:\n",
    "n = 150      # Anzahl der Messungen  --> len(data)\n",
    "x = 168  # gemessener Mittelwert --> data.mean()\n",
    "\n",
    "# P-Wert berechnen --> Einseitiger Test nach oben\n",
    "1 - norm.cdf(x=x, loc=mu, scale=sigma/np.sqrt(n))"
   ]
  },
  {
   "cell_type": "code",
   "execution_count": 44,
   "metadata": {},
   "outputs": [
    {
     "name": "stdout",
     "output_type": "stream",
     "text": [
      "p-Wert: 0.0000000457%\n"
     ]
    }
   ],
   "source": [
    "# scöhn formatiert\n",
    "print(f'p-Wert: {(1 - norm.cdf(x=x, loc=mu, scale=sigma/np.sqrt(n)))*100:.10f}%')"
   ]
  },
  {
   "cell_type": "markdown",
   "metadata": {},
   "source": [
    "p-Wert < Signifikantsniveau von 5% --> Nullhypthese wird verworfen. Die Vermutung von 164 stimmt nicht"
   ]
  },
  {
   "cell_type": "markdown",
   "metadata": {},
   "source": [
    "# t-test"
   ]
  },
  {
   "cell_type": "code",
   "execution_count": 45,
   "metadata": {},
   "outputs": [],
   "source": [
    "from scipy.stats import t\n",
    "import numpy as np\n",
    "from pandas import Series\n",
    "\n",
    "# Datensatz:\n",
    "x = Series([5.9, 3.4, 6.6, 6.3, 4.2, 2.0, 6.0, 4.8, 4.2, 2.1,8.7, 4.4, 5.1, 2.7, 8.5, 5.8, 4.9, 5.3, 5.5, 7.9])"
   ]
  },
  {
   "cell_type": "code",
   "execution_count": 48,
   "metadata": {},
   "outputs": [
    {
     "data": {
      "text/plain": [
       "array([4.11835346, 5.88164654])"
      ]
     },
     "execution_count": 48,
     "metadata": {},
     "output_type": "execute_result"
    }
   ],
   "source": [
    "# Verwerungsbereich:\n",
    "alpha = 0.05\n",
    "q1 = alpha/2\n",
    "q2 = 1-(alpha/2)\n",
    "\n",
    "# Annahme Nullhypothese:\n",
    "mu = 5\n",
    "\n",
    "# t-Verteilung mit Freiheitsgrad n − 1 = 19\n",
    "n = len(x)\n",
    "t_n_1 = n -1\n",
    "\n",
    "t.ppf(q=[q1, q2], loc=mu, scale=x.std()/np.sqrt(x.size), df=t_n_1)"
   ]
  },
  {
   "cell_type": "markdown",
   "metadata": {},
   "source": [
    "Der Wert 5 \"passt\" zur Testreihe (liegt ausserhalb des Verwerfungsbereichs) und wird somit nicht verworfen "
   ]
  },
  {
   "cell_type": "markdown",
   "metadata": {},
   "source": [
    "### Berechnung \"von hand\""
   ]
  },
  {
   "cell_type": "code",
   "execution_count": 49,
   "metadata": {},
   "outputs": [
    {
     "data": {
      "text/plain": [
       "0.30782194321117506"
      ]
     },
     "execution_count": 49,
     "metadata": {},
     "output_type": "execute_result"
    }
   ],
   "source": [
    "# p-Wert berechnen, einseitig nach oben\n",
    "1 - t.cdf(x=x.mean(), loc=mu, scale=x.std()/np.sqrt(x.size), df=t_n_1)\n"
   ]
  },
  {
   "cell_type": "code",
   "execution_count": 50,
   "metadata": {},
   "outputs": [
    {
     "data": {
      "text/plain": [
       "0.6921780567888249"
      ]
     },
     "execution_count": 50,
     "metadata": {},
     "output_type": "execute_result"
    }
   ],
   "source": [
    "# p-Wert berechnen, einseitig nach unten\n",
    "t.cdf(x=x.mean(), loc=mu, scale=x.std()/np.sqrt(x.size), df=t_n_1)\n"
   ]
  },
  {
   "cell_type": "code",
   "execution_count": 51,
   "metadata": {},
   "outputs": [
    {
     "data": {
      "text/plain": [
       "0.6156438864223501"
      ]
     },
     "execution_count": 51,
     "metadata": {},
     "output_type": "execute_result"
    }
   ],
   "source": [
    "# p-Wert berechnen, zweiseitig\n",
    "2 * (1 - t.cdf(x=x.mean(), loc=mu, scale=x.std()/np.sqrt(x.size), df=t_n_1))"
   ]
  },
  {
   "cell_type": "markdown",
   "metadata": {},
   "source": [
    "### Direkte implementation in python:"
   ]
  },
  {
   "cell_type": "code",
   "execution_count": 52,
   "metadata": {},
   "outputs": [
    {
     "data": {
      "text/plain": [
       "TtestResult(statistic=0.510408819856927, pvalue=0.6156438864223502, df=19)"
      ]
     },
     "execution_count": 52,
     "metadata": {},
     "output_type": "execute_result"
    }
   ],
   "source": [
    "import scipy.stats as st\n",
    "# x --> Datensatz\n",
    "# mu --> Angenommener Mittelwert der Nullhypothese\n",
    "\n",
    "st.ttest_1samp(a=x, popmean=mu)"
   ]
  },
  {
   "cell_type": "code",
   "execution_count": 54,
   "metadata": {},
   "outputs": [
    {
     "data": {
      "text/plain": [
       "0.6156438864223502"
      ]
     },
     "execution_count": 54,
     "metadata": {},
     "output_type": "execute_result"
    }
   ],
   "source": [
    "# nur den P-Wert: \n",
    "st.ttest_1samp(a=x, popmean=mu).pvalue"
   ]
  },
  {
   "cell_type": "code",
   "execution_count": null,
   "metadata": {},
   "outputs": [],
   "source": []
  }
 ],
 "metadata": {
  "kernelspec": {
   "display_name": "stoc",
   "language": "python",
   "name": "python3"
  },
  "language_info": {
   "codemirror_mode": {
    "name": "ipython",
    "version": 3
   },
   "file_extension": ".py",
   "mimetype": "text/x-python",
   "name": "python",
   "nbconvert_exporter": "python",
   "pygments_lexer": "ipython3",
   "version": "3.12.0"
  }
 },
 "nbformat": 4,
 "nbformat_minor": 2
}
