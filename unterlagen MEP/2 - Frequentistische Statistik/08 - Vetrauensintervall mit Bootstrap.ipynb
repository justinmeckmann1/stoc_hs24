{
 "cells": [
  {
   "cell_type": "markdown",
   "metadata": {},
   "source": [
    "# Bootstrap Vetrauensinterval\n",
    "Implementation von Hand --> Funktionsweise"
   ]
  },
  {
   "cell_type": "code",
   "execution_count": 35,
   "metadata": {},
   "outputs": [
    {
     "name": "stdout",
     "output_type": "stream",
     "text": [
      "95%-Bootstrap-Vertrauensintervall:  [38.48  42.305]\n"
     ]
    }
   ],
   "source": [
    "import numpy as np\n",
    "\n",
    "x = np.array([30, 37, 36, 43, 42, 43, 43, 46, 41, 42]) \n",
    "n = x.size\n",
    "\n",
    "xbar = x.mean() # Arithmetisches Mittel der gegebene Datenreihe \n",
    "\n",
    "# Zufallsdaten erzeugen\n",
    "nboot = 20 # Anzahl Bootstrap Samples \n",
    "tmpdata = np.random.choice(x, n*nboot, replace=True) # erzeuge n*nboot Zufallszahlen aus x\n",
    "\n",
    "# Zufallszahlen in eine Matrix umformen\n",
    "bootstrapsample = np.reshape(tmpdata, (n, nboot))   \n",
    "\n",
    "# Mittelwert für jede Spalte berechnen und nach grösse sortieren\n",
    "xbarstar = bootstrapsample.mean(axis=0) # berechnen\n",
    "# xbarstar = np.sort(xbarstar) # sortieren   \n",
    "\n",
    "# vertrauensintervall berechnen\n",
    "# für Signifikansniveau alpha = 5% --> Quantile 2.5% und 97.5% \n",
    "# Damit werden die unteren und oberen 2.5% der Werte abgeschnitten\n",
    "q1 = 2.5\n",
    "q2 = 97.5\n",
    "\n",
    "# ci gibt das Vetrauensintervall an\n",
    "ci = np.percentile(xbarstar, q=[q1, q2])\n",
    "print(\"95%-Bootstrap-Vertrauensintervall: \", ci)"
   ]
  },
  {
   "cell_type": "code",
   "execution_count": 36,
   "metadata": {},
   "outputs": [
    {
     "name": "stdout",
     "output_type": "stream",
     "text": [
      "95%-Bootstrap-Vertrauensintervall:  [37.3 42.8]\n"
     ]
    }
   ],
   "source": [
    "# Werden mehr bootstrap samples verwendet, wird das Vertrauensintervall kleiner\n",
    "x = np.array([30, 37, 36, 43, 42, 43, 43, 46, 41, 42]) \n",
    "n = x.size\n",
    "nboot = 1000000\n",
    "tmpdata = np.random.choice(x, n*nboot, replace=True)\n",
    "bootstrapsample = np.reshape(tmpdata, (n, nboot))   \n",
    "xbarstar = bootstrapsample.mean(axis=0)\n",
    "ci = np.percentile(xbarstar, q=[2.5, 97.5])\n",
    "print(\"95%-Bootstrap-Vertrauensintervall: \", ci)"
   ]
  },
  {
   "cell_type": "markdown",
   "metadata": {},
   "source": [
    "# Bootstrap \n",
    "Code: mit „richtigem” Bootstrap"
   ]
  },
  {
   "cell_type": "code",
   "execution_count": 3,
   "metadata": {},
   "outputs": [
    {
     "name": "stdout",
     "output_type": "stream",
     "text": [
      "Vertrauensintervall:  [38.1475 44.115 ]\n"
     ]
    }
   ],
   "source": [
    "# alles was wir angeben müssen, ist die Testreihe und die Anzahl der Bootstrap Samples\n",
    "x = np.array([30, 37, 36, 43, 42, 43, 43, 46, 41, 42]) # Daten\n",
    "nboot = 20 # Bootstrap Samples\n",
    "\n",
    "n = x.size\n",
    "xbar = x.mean()\n",
    "\n",
    "tmpdata         = np.random.choice(x, n*nboot, replace=True) \n",
    "bootstrapsample = np.reshape(tmpdata, (n, nboot)) \n",
    "xbarstar        = bootstrapsample.mean(axis=0)\n",
    "deltastar       = xbarstar - xbar\n",
    "d = np.percentile(deltastar, q=[2.5, 97.5])\n",
    "\n",
    "ci = xbar - [d[1], d[0]] \n",
    "print(\"Vertrauensintervall: \",ci)"
   ]
  },
  {
   "cell_type": "markdown",
   "metadata": {},
   "source": [
    "### Interpretation von Vertrauensinvervallen\n",
    "--> Zeigt, dass nur rund 95% aller berechnetten Vertrauensintervalle effektiv den wahren Mittelwert enthalten."
   ]
  },
  {
   "cell_type": "code",
   "execution_count": 45,
   "metadata": {},
   "outputs": [
    {
     "name": "stdout",
     "output_type": "stream",
     "text": [
      "Anzahl der Prozesse, in denen 40 im Vertrauensintervall liegt: 954 = 95.40%\n"
     ]
    }
   ],
   "source": [
    "# Demonstration der W'keit 95%\n",
    "\n",
    "# Simulation von Daten deren wahres mu wir können (mu=40, standardabweichung sigma=5)\n",
    "x = np.random.normal(loc=40, scale=5, size=100000)\n",
    "\n",
    "sample = np.reshape(x,(1000,100))\n",
    "\n",
    "nboot = 1000\n",
    "n = 100\n",
    "k=0\n",
    "for i in range(0,1000):\n",
    "    y = sample[i]\n",
    "    xbar = y.mean()\n",
    "    tmpdata = np.random.choice(y, n*nboot, replace=True) \n",
    "    bootstrapsample = np.reshape(tmpdata, (n, nboot)) \n",
    "    xbarstar = bootstrapsample.mean(axis=0)\n",
    "    deltastar = xbarstar - xbar\n",
    "    d = np.percentile(deltastar, q=[2.5, 97.5])\n",
    "    if xbar-d[1]<= 40 <= xbar-d[0]:\n",
    "        k=k+1\n",
    "\n",
    "print(f'Anzahl der Prozesse, in denen 40 im Vertrauensintervall liegt: {k} = {((k/1000)*100):.2f}%')"
   ]
  },
  {
   "cell_type": "code",
   "execution_count": 1,
   "metadata": {},
   "outputs": [
    {
     "data": {
      "image/png": "[encoded data removed]",
      "text/plain": [
       "<Figure size 640x480 with 1 Axes>"
      ]
     },
     "metadata": {},
     "output_type": "display_data"
    }
   ],
   "source": [
    "# Grafisch dargestellt\n",
    "\n",
    "import numpy as np\n",
    "import matplotlib.pyplot as plt\n",
    "%matplotlib inline  \n",
    "#np.random.seed(8)\n",
    "\n",
    "# Wir generieren 10'000 normalverteilte Zufallszahlen\n",
    "# mit Mittelwert 40 und Standardabweichung 5\n",
    "x = np.random.normal(loc=40, scale=5, size=10000)\n",
    "\n",
    "# Wir ordnen die Zufallszahlen in einem array mit 100 Spalten\n",
    "# und 100 Zeilen an\n",
    "measurement_array = np.reshape(x,(100,100))\n",
    "\n",
    "# Anzahl Bootstrap Samples\n",
    "nboot = 10000\n",
    "n = 100\n",
    "\n",
    "# Wir iterieren über die 100 Testreihen\n",
    "for i in range(0,100):\n",
    "    # wir lesen die i-te Zeile aus dem measurement_array heraus\n",
    "    y = measurement_array[i]\n",
    "    # Bestimmung des Vertrauensintervalls der i-ten Testreihe\n",
    "    tmpdata = np.random.choice(y, n*nboot, replace=True)\n",
    "    bootstrapsample = np.reshape(tmpdata, (n, nboot))\n",
    "    xbarstar = bootstrapsample.mean(axis=0)\n",
    "    ci = np.percentile(xbarstar, q=[2.5, 97.5])\n",
    "    plt.plot([i,i],[ci[0], ci[1]])\n",
    "    if ~(ci[0]<= 40 <= ci[1]):\n",
    "        plt.plot([i,i],[ci[0], ci[1]], c=\"black\",linewidth=3)\n",
    "\n",
    "plt.plot([-5,105],[40,40])\n",
    "plt.show()  "
   ]
  },
  {
   "cell_type": "code",
   "execution_count": null,
   "metadata": {},
   "outputs": [],
   "source": []
  }
 ],
 "metadata": {
  "kernelspec": {
   "display_name": "stoc",
   "language": "python",
   "name": "python3"
  },
  "language_info": {
   "codemirror_mode": {
    "name": "ipython",
    "version": 3
   },
   "file_extension": ".py",
   "mimetype": "text/x-python",
   "name": "python",
   "nbconvert_exporter": "python",
   "pygments_lexer": "ipython3",
   "version": "3.12.0"
  }
 },
 "nbformat": 4,
 "nbformat_minor": 2
}
