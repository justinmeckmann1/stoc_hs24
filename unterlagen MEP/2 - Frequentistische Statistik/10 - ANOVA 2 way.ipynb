{
 "cells": [
  {
   "cell_type": "markdown",
   "metadata": {},
   "source": [
    "# ANOVA 2-Way"
   ]
  },
  {
   "cell_type": "code",
   "execution_count": 1,
   "metadata": {},
   "outputs": [],
   "source": [
    "# Daten einlese\n",
    "import pandas as pd\n",
    "import numpy as np\n",
    "import matplotlib.pyplot as plt\n",
    "\n",
    "df = pd.read_csv('data/Diet.csv')\n",
    "\n",
    "df['weight_loss'] = df['weight6weeks'] - df['pre.weight']"
   ]
  },
  {
   "cell_type": "markdown",
   "metadata": {},
   "source": [
    "### Ohne Wechselwirkung: \n",
    "--> Verwendung von +   \n",
    "\n",
    "Fragestellung: Gibt es Unterschiede innerhalb des Geschlechts bzw. der gewählten Diät auf die Gewichtsabnahme?"
   ]
  },
  {
   "cell_type": "code",
   "execution_count": null,
   "metadata": {},
   "outputs": [],
   "source": [
    "from statsmodels.formula.api import ols\n",
    "from statsmodels.stats.anova import anova_lm\n",
    "\n",
    "fit = ols(\"weight_loss~C(gender,Sum)+C(Diet)\", data=df).fit()\n",
    "anova_lm(fit)"
   ]
  },
  {
   "cell_type": "markdown",
   "metadata": {},
   "source": [
    "Nullhypothesen: \n",
    "- Männer und Frauen haben denselben durschnittlichen Gewichtsverlust\n",
    "- Alle drei Diäten führen zum gleichen durschnittlichen Gewichtsverlust\n",
    "\n",
    "Auswertung: \n",
    "- Gender:   P-Wert: 0.594 und liegt damit deutlich über dem Signifikanzniveau von 0.05. Die Nullhypothese wird somit nicht verworfen. Der durchschnittliche Gewichtsverlust ist bei Frauen und Männern gleich. \n",
    "- Diät      P-Wert: 0.0036 und liegt damit deutlich unter dem Signifikanzniveau  von 0.05. Die Nullhypothese wird somit verworfen. Die Unterschiede zwischen den Diäten sind statistisch signiﬁkant."
   ]
  },
  {
   "cell_type": "markdown",
   "metadata": {},
   "source": [
    "### Mit Wechselwirkung:"
   ]
  },
  {
   "cell_type": "markdown",
   "metadata": {},
   "source": [
    "--> Verwendung von *   \n",
    "\n",
    "Fragestellung: Gibt es Wechselwirkungen?"
   ]
  },
  {
   "cell_type": "code",
   "execution_count": null,
   "metadata": {},
   "outputs": [],
   "source": [
    "from statsmodels.formula.api import ols\n",
    "from statsmodels.stats.anova import anova_lm\n",
    "\n",
    "fit = ols(\"weight_loss~C(gender,Sum)*C(Diet)\", data=df).fit()\n",
    "anova_lm(fit)"
   ]
  },
  {
   "cell_type": "markdown",
   "metadata": {},
   "source": [
    "Nullhypothesen: \n",
    "- Männer und Frauen haben denselben durschnittlichen Gewichtsverlust (Identisch wie zuvor)\n",
    "- Alle drei Diäten führen zum gleichen durschnittlichen Gewichtsverlust (Identisch wie zuvor)\n",
    "- Geschlecht und Diäten zeigen keine Wechselwirkung. Das heisst, Männer und Frauen reagieren gleich auf die entsprechenden Diäten.\n",
    "\n",
    "Auswertung: \n",
    "- Gender:   P-Wert: 0.581 und liegt damit deutlich über dem Signifikanzniveau von 0.05. Die Nullhypothese wird somit nicht verworfen. Der durchschnittliche Gewichtsverlust ist bei Frauen und Männern gleich. \n",
    "- Diät:      P-Wert: 0.0025 und liegt damit deutlich unter dem Signifikanzniveau  von 0.05. Die Nullhypothese wird somit verworfen. Die Unterschiede zwischen den Diäten sind statistisch signiﬁkant.\n",
    "- WW Diät / Gender:  P-Wert: 0.0271  und liegt und liegt unter dem Signiﬁkanzniveau. Die Nullhypothese wird somit verworfen. Es gibt eine statistisch signiﬁkante Wechselwirkung. Männer und Frauen reagieren also nicht gleich auf die jeweiligen Diäten."
   ]
  },
  {
   "cell_type": "code",
   "execution_count": 28,
   "metadata": {},
   "outputs": [],
   "source": [
    "# Daten\n",
    "from pandas import DataFrame\n",
    "import numpy as np\n",
    "\n",
    "\n",
    "Daten = DataFrame({\n",
    "\"Batch\": np.tile([\"1\", \"2\", \"3\", \"4\", \"5\", \"6\"], 4),\n",
    "\"Methode\": np.repeat([\"8500\", \"8700\", \"8900\", \"9100\"], 6),\n",
    "\"Y\": np.array([90.3, 89.2, 98.2, 93.9, 87.4, 97.9, 92.5, 89.5, 90.6, 94.7, 87, 95.8, 85.5,\n",
    "90.8, 89.6, 86.2, 88, 93.4, 82.5, 89.5, 85.6, 87.4, 78.9, 90.7])\n",
    "})"
   ]
  },
  {
   "cell_type": "code",
   "execution_count": null,
   "metadata": {},
   "outputs": [],
   "source": [
    "# Hypothesentest\n",
    "import scipy.stats as st\n",
    "from statsmodels.formula.api import ols\n",
    "from statsmodels.stats.anova import anova_lm\n",
    "from patsy.contrasts import Sum\n",
    "\n",
    "# Die Nebenbedingung Sum() wird hier verwendet \n",
    "# Ohne Nebenbedingung --> \"Y~Methode*Batch\"\n",
    "# fit = ols(\"Y~Methode*Batch\", data=Daten).fit() \n",
    "fit = ols(\"Y~C(Methode, Sum)+C(Batch,Sum)\", data=Daten).fit() \n",
    "fit.params\n"
   ]
  },
  {
   "cell_type": "code",
   "execution_count": null,
   "metadata": {},
   "outputs": [],
   "source": [
    "# 2 way ANOVA\n",
    "fit = ols(\"Y~C(Methode, Sum)+C(Batch, Sum)\", data=Daten).fit()\n",
    "anova_lm(fit)"
   ]
  },
  {
   "cell_type": "markdown",
   "metadata": {},
   "source": [
    "## Beispiel Additivität"
   ]
  },
  {
   "cell_type": "code",
   "execution_count": null,
   "metadata": {},
   "outputs": [],
   "source": [
    "# Daten\n",
    "from pandas import DataFrame \n",
    "import pandas as pd\n",
    "import numpy as np\n",
    "import seaborn as sns\n",
    "import scipy.stats as st\n",
    "\n",
    "from statsmodels.formula.api import ols\n",
    "from statsmodels.stats.anova import anova_lm\n",
    "from statsmodels.graphics.factorplots import interaction_plot \n",
    "from statsmodels.stats.outliers_influence import summary_table \n",
    "import matplotlib.pyplot as plt\n",
    "import warnings\n",
    "warnings.filterwarnings('ignore')\n",
    "\n",
    "Farbe = DataFrame({\n",
    "\"Grund\": np.repeat([\"A\", \"B\", \"C\"], 6),\n",
    "\"Methode\": np.tile(np.repeat([\"Eintauchen\", \"Besprühen\"], 3), 3), \n",
    "\"Y\": np.array([4, 4.5, 4.3, 5.4, 4.9, 5.6, 5.6, 4.9, 5.4, 5.8, 6.1, \n",
    "6.3, 3.8, 3.7, 4, 5.5, 5, 5])\n",
    "})"
   ]
  },
  {
   "cell_type": "code",
   "execution_count": null,
   "metadata": {},
   "outputs": [],
   "source": [
    "fit = ols(\"Y~C(Methode, Sum)*C(Grund, Sum)\", data=Farbe).fit()\n",
    "anova_lm(fit)"
   ]
  },
  {
   "cell_type": "code",
   "execution_count": null,
   "metadata": {},
   "outputs": [],
   "source": [
    "interaction_plot(x=Farbe[\"Grund\"], trace=Farbe[\"Methode\"], response=Farbe[\"Y\"])\n",
    "plt.xlabel(\"Grundierungstypen\") \n",
    "plt.ylabel(\"Mittelwerte Haltungsfestigkeit\")\n",
    "plt.show()"
   ]
  },
  {
   "cell_type": "markdown",
   "metadata": {},
   "source": [
    "Aufgrund des Interaktionsplots gibt es keinen Hinweis, dass das Verfahren, Grundierungsfarben aufzutragen, mit der Art der Grundierungsfarbe interagiert.  \n",
    "  \n",
    "Mit anderen Worten: egal, welche Grundierungsfarbe wir auftragen, das Verfahren, Eintauchen oder Besprühen, hat keinen Einﬂuss auf die Haftfestigkeit."
   ]
  },
  {
   "cell_type": "markdown",
   "metadata": {},
   "source": [
    "## Beispiel interaktion\n",
    "### 1) Fruchtbarkeit von Schnecken\n",
    "Fruchtbarkeit von Schnecken in Abhängigkeit der Jahreszeit und der Bevölkerungsdichte der Schnecken. The Zielvariable ist die Anzahl gelegter Eier."
   ]
  },
  {
   "cell_type": "code",
   "execution_count": 1,
   "metadata": {},
   "outputs": [],
   "source": [
    "# Daten\n",
    "from pandas import DataFrame \n",
    "import pandas as pd\n",
    "import numpy as np\n",
    "import seaborn as sns\n",
    "import scipy.stats as st\n",
    "\n",
    "from statsmodels.formula.api import ols\n",
    "from statsmodels.stats.anova import anova_lm\n",
    "from statsmodels.graphics.factorplots import interaction_plot \n",
    "from statsmodels.stats.outliers_influence import summary_table \n",
    "import matplotlib.pyplot as plt\n",
    "import warnings\n",
    "warnings.filterwarnings('ignore')\n",
    "\n",
    "snails = DataFrame({\n",
    "'season': np.repeat(['spring', 'summer'], 9),\n",
    "'density': np.tile(np.repeat(['6', '12','24'],3),2),\n",
    "'Y': np.array([1.17, 0.50, 1.67, 1.50, 0.83, 1.00,\n",
    "0.67, 0.67, 0.75, 4.00, 3.83, 3.83, \n",
    "3.33, 2.58, 2.75, 2.54, 1.83, 1.63])\n",
    "})"
   ]
  },
  {
   "cell_type": "code",
   "execution_count": null,
   "metadata": {},
   "outputs": [],
   "source": [
    "fit = ols('Y~season*density',data=snails).fit()\n",
    "anova_lm(fit)"
   ]
  },
  {
   "cell_type": "markdown",
   "metadata": {},
   "source": [
    "Der P-Wert für die Jahreszeit und Schneckendichte (season:density) ist nicht Signifikant 1.655191e-02 < 0.05\n",
    "--> Genauere Analyse mit einem Interaktionsplot"
   ]
  },
  {
   "cell_type": "code",
   "execution_count": null,
   "metadata": {},
   "outputs": [],
   "source": [
    "interaction_plot(x=snails['density'], trace=snails['season'], \n",
    "response=snails['Y'])\n",
    "plt.show()"
   ]
  },
  {
   "cell_type": "markdown",
   "metadata": {},
   "source": [
    "Da die Linien im Interaktionsplot nicht parallel verlaufen, besteht ein Hinweis auf einen Interaktionseffekt. Insbesondere scheint der Wert density=6 für season=spring \"aus der Reihe zu tanzen\". --> Analyse der Jahreszeiten individuell"
   ]
  },
  {
   "cell_type": "code",
   "execution_count": null,
   "metadata": {},
   "outputs": [],
   "source": [
    "snails_spring = snails[snails['season']=='spring']\n",
    "fit_spring = ols('Y~density',data=snails_spring).fit()\n",
    "anova_lm(fit_spring)\n",
    "\n",
    "snails_summer = snails[snails['season']=='summer']\n",
    "fit_summer = ols('Y~density',data=snails_summer).fit()\n",
    "anova_lm(fit_summer)\n",
    "\n",
    "print(f'Spring:\\n {anova_lm(fit_spring)}') \n",
    "print(f'Summer:\\n {anova_lm(fit_summer)}') \n"
   ]
  },
  {
   "cell_type": "markdown",
   "metadata": {},
   "source": [
    "Der P-Wert für den Spring zeigt nun keinen Signifikanten Unterschied mehr. Hingegen, jener für den Sommer immernoch.  \n",
    "Wir schliessen daraus, dass es im Sommer signiﬁkante Unterschiede in Bezug auf die \n",
    "Menge der gelegten Schneckeneier für die jeweiligen Gruppen mit unterschiedlicher \n",
    "Dichte gibt. Im Frühling sind die Unterschiede jedoch nicht signiﬁkant. Offenbar hat \n",
    "die Jahreszeit einen Effekt auf die Menge gelegter Eier bei unterschiedlichen Schne-\n",
    "ckendichten."
   ]
  },
  {
   "cell_type": "markdown",
   "metadata": {},
   "source": [
    "### 2) Lebensdauer der Temperatur abhängig von der Cyanid-Konzentration"
   ]
  },
  {
   "cell_type": "code",
   "execution_count": 32,
   "metadata": {},
   "outputs": [],
   "source": [
    "# Daten\n",
    "from pandas import DataFrame \n",
    "import pandas as pd\n",
    "import numpy as np\n",
    "import seaborn as sns\n",
    "import scipy.stats as st\n",
    "\n",
    "from statsmodels.formula.api import ols\n",
    "from statsmodels.stats.anova import anova_lm\n",
    "from statsmodels.graphics.factorplots import interaction_plot \n",
    "from statsmodels.stats.outliers_influence import summary_table \n",
    "import matplotlib.pyplot as plt\n",
    "import warnings\n",
    "warnings.filterwarnings('ignore')\n",
    "\n",
    "El = DataFrame({\n",
    "\"Konz\": np.repeat([\"A\", \"B\", \"C\",\"D\"], 6),\n",
    "\"Temp\": np.tile(np.repeat([\"15C\", \"25C\"],3),4),\n",
    "\"Y\": np.array([82, 46, 16, 20, 13, 7, 20, 14, 17, 6, 7, 5, 8, 6, 5, \n",
    "4, 3, 5, 10, 7, 5, 6, 4, 5])\n",
    "})"
   ]
  },
  {
   "cell_type": "code",
   "execution_count": null,
   "metadata": {},
   "outputs": [],
   "source": [
    "fit = ols('Y~C(Konz,Sum)*C(Temp,Sum)',data=El).fit()\n",
    "anova_lm(fit)"
   ]
  },
  {
   "cell_type": "code",
   "execution_count": null,
   "metadata": {},
   "outputs": [],
   "source": [
    "interaction_plot(x=El[\"Konz\"], trace=El[\"Temp\"], response=El[\"Y\"], legendtitle=\"Methode\")\n",
    "plt.xlabel(\"Cyanid-Konzentration\") \n",
    "plt.ylabel(\"Mediane Experimente\")\n",
    "plt.show()"
   ]
  },
  {
   "cell_type": "markdown",
   "metadata": {},
   "source": [
    "Der P-Wert besagt, dass es keinenen Signifikanten unterschied gibt. --> genauer untersuchen!"
   ]
  },
  {
   "cell_type": "code",
   "execution_count": null,
   "metadata": {},
   "outputs": [],
   "source": [
    "T_15C = El[El['Temp']=='15C']\n",
    "T_25C = El[El['Temp']=='25C']\n",
    "\n",
    "fit_15C = ols('Y~Konz',data=T_15C).fit()\n",
    "anova_lm(fit_15C)\n",
    "\n",
    "fit_25C = ols('Y~Konz',data=T_25C).fit()\n",
    "anova_lm(fit_25C)\n",
    "\n",
    "print(f'15C:\\n {anova_lm(fit_spring)}') \n",
    "print(f'25C:\\n {anova_lm(fit_summer)}') "
   ]
  },
  {
   "cell_type": "markdown",
   "metadata": {},
   "source": [
    "Die Analyse bestätigt die vorherigen Beobachtungen.  \n",
    "Bei tiefen Temperaturen (15C) ziegt sich kein Signifikanter einfluss der Cyanid-Konzentration auf die Lebensdauer.  \n",
    "Die wärmeren Temperaturen (25c) zeichnet sich ein Signifikanter einfluss der Cyanid-Konzentration auf die Lebensdauer ab."
   ]
  }
 ],
 "metadata": {
  "kernelspec": {
   "display_name": "stoc",
   "language": "python",
   "name": "python3"
  },
  "language_info": {
   "codemirror_mode": {
    "name": "ipython",
    "version": 3
   },
   "file_extension": ".py",
   "mimetype": "text/x-python",
   "name": "python",
   "nbconvert_exporter": "python",
   "pygments_lexer": "ipython3",
   "version": "3.12.0"
  }
 },
 "nbformat": 4,
 "nbformat_minor": 4
}
