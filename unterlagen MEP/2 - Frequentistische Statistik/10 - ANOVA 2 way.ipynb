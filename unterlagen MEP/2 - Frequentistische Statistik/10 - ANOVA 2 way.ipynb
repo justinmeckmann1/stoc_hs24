{
 "cells": [
  {
   "cell_type": "markdown",
   "metadata": {},
   "source": [
    "# ANOVA 2-Way"
   ]
  },
  {
   "cell_type": "code",
   "execution_count": 28,
   "metadata": {},
   "outputs": [],
   "source": [
    "# Daten\n",
    "from pandas import DataFrame\n",
    "import numpy as np\n",
    "\n",
    "\n",
    "Daten = DataFrame({\n",
    "\"Batch\": np.tile([\"1\", \"2\", \"3\", \"4\", \"5\", \"6\"], 4),\n",
    "\"Methode\": np.repeat([\"8500\", \"8700\", \"8900\", \"9100\"], 6),\n",
    "\"Y\": np.array([90.3, 89.2, 98.2, 93.9, 87.4, 97.9, 92.5, 89.5, 90.6, 94.7, 87, 95.8, 85.5,\n",
    "90.8, 89.6, 86.2, 88, 93.4, 82.5, 89.5, 85.6, 87.4, 78.9, 90.7])\n",
    "})"
   ]
  },
  {
   "cell_type": "code",
   "execution_count": 29,
   "metadata": {},
   "outputs": [
    {
     "data": {
      "text/plain": [
       "Intercept                  89.795833\n",
       "C(Methode, Sum)[S.8500]     3.020833\n",
       "C(Methode, Sum)[S.8700]     1.887500\n",
       "C(Methode, Sum)[S.8900]    -0.879167\n",
       "C(Batch, Sum)[S.1]         -2.095833\n",
       "C(Batch, Sum)[S.2]         -0.045833\n",
       "C(Batch, Sum)[S.3]          1.204167\n",
       "C(Batch, Sum)[S.4]          0.754167\n",
       "C(Batch, Sum)[S.5]         -4.470833\n",
       "dtype: float64"
      ]
     },
     "execution_count": 29,
     "metadata": {},
     "output_type": "execute_result"
    }
   ],
   "source": [
    "# Hypothesentest\n",
    "import scipy.stats as st\n",
    "from statsmodels.formula.api import ols\n",
    "from statsmodels.stats.anova import anova_lm\n",
    "from patsy.contrasts import Sum\n",
    "\n",
    "# Die Nebenbedingung Sum() wird hier verwendet \n",
    "# Ohne Nebenbedingung --> \"Y~Methode*Batch\"\n",
    "# fit = ols(\"Y~Methode*Batch\", data=Daten).fit() \n",
    "fit = ols(\"Y~C(Methode, Sum)+C(Batch,Sum)\", data=Daten).fit() \n",
    "fit.params\n"
   ]
  },
  {
   "cell_type": "code",
   "execution_count": 30,
   "metadata": {},
   "outputs": [
    {
     "data": {
      "text/html": [
       "<div>\n",
       "<style scoped>\n",
       "    .dataframe tbody tr th:only-of-type {\n",
       "        vertical-align: middle;\n",
       "    }\n",
       "\n",
       "    .dataframe tbody tr th {\n",
       "        vertical-align: top;\n",
       "    }\n",
       "\n",
       "    .dataframe thead th {\n",
       "        text-align: right;\n",
       "    }\n",
       "</style>\n",
       "<table border=\"1\" class=\"dataframe\">\n",
       "  <thead>\n",
       "    <tr style=\"text-align: right;\">\n",
       "      <th></th>\n",
       "      <th>df</th>\n",
       "      <th>sum_sq</th>\n",
       "      <th>mean_sq</th>\n",
       "      <th>F</th>\n",
       "      <th>PR(&gt;F)</th>\n",
       "    </tr>\n",
       "  </thead>\n",
       "  <tbody>\n",
       "    <tr>\n",
       "      <th>C(Methode, Sum)</th>\n",
       "      <td>3.0</td>\n",
       "      <td>178.171250</td>\n",
       "      <td>59.390417</td>\n",
       "      <td>8.107077</td>\n",
       "      <td>0.001916</td>\n",
       "    </tr>\n",
       "    <tr>\n",
       "      <th>C(Batch, Sum)</th>\n",
       "      <td>5.0</td>\n",
       "      <td>192.252083</td>\n",
       "      <td>38.450417</td>\n",
       "      <td>5.248666</td>\n",
       "      <td>0.005532</td>\n",
       "    </tr>\n",
       "    <tr>\n",
       "      <th>Residual</th>\n",
       "      <td>15.0</td>\n",
       "      <td>109.886250</td>\n",
       "      <td>7.325750</td>\n",
       "      <td>NaN</td>\n",
       "      <td>NaN</td>\n",
       "    </tr>\n",
       "  </tbody>\n",
       "</table>\n",
       "</div>"
      ],
      "text/plain": [
       "                   df      sum_sq    mean_sq         F    PR(>F)\n",
       "C(Methode, Sum)   3.0  178.171250  59.390417  8.107077  0.001916\n",
       "C(Batch, Sum)     5.0  192.252083  38.450417  5.248666  0.005532\n",
       "Residual         15.0  109.886250   7.325750       NaN       NaN"
      ]
     },
     "execution_count": 30,
     "metadata": {},
     "output_type": "execute_result"
    }
   ],
   "source": [
    "# 2 way ANOVA\n",
    "fit = ols(\"Y~C(Methode, Sum)+C(Batch, Sum)\", data=Daten).fit()\n",
    "anova_lm(fit)"
   ]
  },
  {
   "cell_type": "markdown",
   "metadata": {},
   "source": [
    "## Beispiel Additivität"
   ]
  },
  {
   "cell_type": "code",
   "execution_count": 24,
   "metadata": {},
   "outputs": [],
   "source": [
    "# Daten\n",
    "from pandas import DataFrame \n",
    "import pandas as pd\n",
    "import numpy as np\n",
    "import seaborn as sns\n",
    "import scipy.stats as st\n",
    "\n",
    "from statsmodels.formula.api import ols\n",
    "from statsmodels.stats.anova import anova_lm\n",
    "from statsmodels.graphics.factorplots import interaction_plot \n",
    "from statsmodels.stats.outliers_influence import summary_table \n",
    "import matplotlib.pyplot as plt\n",
    "import warnings\n",
    "warnings.filterwarnings('ignore')\n",
    "\n",
    "Farbe = DataFrame({\n",
    "\"Grund\": np.repeat([\"A\", \"B\", \"C\"], 6),\n",
    "\"Methode\": np.tile(np.repeat([\"Eintauchen\", \"Besprühen\"], 3), 3), \n",
    "\"Y\": np.array([4, 4.5, 4.3, 5.4, 4.9, 5.6, 5.6, 4.9, 5.4, 5.8, 6.1, \n",
    "6.3, 3.8, 3.7, 4, 5.5, 5, 5])\n",
    "})"
   ]
  },
  {
   "cell_type": "code",
   "execution_count": 26,
   "metadata": {},
   "outputs": [
    {
     "data": {
      "text/html": [
       "<div>\n",
       "<style scoped>\n",
       "    .dataframe tbody tr th:only-of-type {\n",
       "        vertical-align: middle;\n",
       "    }\n",
       "\n",
       "    .dataframe tbody tr th {\n",
       "        vertical-align: top;\n",
       "    }\n",
       "\n",
       "    .dataframe thead th {\n",
       "        text-align: right;\n",
       "    }\n",
       "</style>\n",
       "<table border=\"1\" class=\"dataframe\">\n",
       "  <thead>\n",
       "    <tr style=\"text-align: right;\">\n",
       "      <th></th>\n",
       "      <th>df</th>\n",
       "      <th>sum_sq</th>\n",
       "      <th>mean_sq</th>\n",
       "      <th>F</th>\n",
       "      <th>PR(&gt;F)</th>\n",
       "    </tr>\n",
       "  </thead>\n",
       "  <tbody>\n",
       "    <tr>\n",
       "      <th>C(Methode, Sum)</th>\n",
       "      <td>1.0</td>\n",
       "      <td>4.908889</td>\n",
       "      <td>4.908889</td>\n",
       "      <td>55.974661</td>\n",
       "      <td>0.000003</td>\n",
       "    </tr>\n",
       "    <tr>\n",
       "      <th>C(Grund, Sum)</th>\n",
       "      <td>2.0</td>\n",
       "      <td>4.581111</td>\n",
       "      <td>2.290556</td>\n",
       "      <td>26.118552</td>\n",
       "      <td>0.000019</td>\n",
       "    </tr>\n",
       "    <tr>\n",
       "      <th>Residual</th>\n",
       "      <td>14.0</td>\n",
       "      <td>1.227778</td>\n",
       "      <td>0.087698</td>\n",
       "      <td>NaN</td>\n",
       "      <td>NaN</td>\n",
       "    </tr>\n",
       "  </tbody>\n",
       "</table>\n",
       "</div>"
      ],
      "text/plain": [
       "                   df    sum_sq   mean_sq          F    PR(>F)\n",
       "C(Methode, Sum)   1.0  4.908889  4.908889  55.974661  0.000003\n",
       "C(Grund, Sum)     2.0  4.581111  2.290556  26.118552  0.000019\n",
       "Residual         14.0  1.227778  0.087698        NaN       NaN"
      ]
     },
     "execution_count": 26,
     "metadata": {},
     "output_type": "execute_result"
    }
   ],
   "source": [
    "fit = ols(\"Y~C(Methode, Sum)+C(Grund, Sum)\", data=Farbe).fit()\n",
    "anova_lm(fit)"
   ]
  },
  {
   "cell_type": "code",
   "execution_count": 27,
   "metadata": {},
   "outputs": [
    {
     "data": {
      "image/png": "[encoded data removed]",
      "text/plain": [
       "<Figure size 640x480 with 1 Axes>"
      ]
     },
     "metadata": {},
     "output_type": "display_data"
    }
   ],
   "source": [
    "interaction_plot(x=Farbe[\"Grund\"], trace=Farbe[\"Methode\"], response=Farbe[\"Y\"])\n",
    "plt.xlabel(\"Grundierungstypen\") \n",
    "plt.ylabel(\"Mittelwerte Haltungsfestigkeit\")\n",
    "plt.show()"
   ]
  },
  {
   "cell_type": "markdown",
   "metadata": {},
   "source": [
    "Aufgrund des Interaktionsplots gibt es keinen Hinweis, dass das Verfahren, Grundierungsfarben aufzutragen, mit der Art der Grundierungsfarbe interagiert.  \n",
    "  \n",
    "Mit anderen Worten: egal, welche Grundierungsfarbe wir auftragen, das Verfahren, Eintauchen oder Besprühen, hat keinen Einﬂuss auf die Haftfestigkeit."
   ]
  },
  {
   "cell_type": "markdown",
   "metadata": {},
   "source": [
    "## Beispiel interaktion\n",
    "### 1) Fruchtbarkeit von Schnecken\n",
    "Fruchtbarkeit von Schnecken in Abhängigkeit der Jahreszeit und der Bevölkerungsdichte der Schnecken. The Zielvariable ist die Anzahl gelegter Eier."
   ]
  },
  {
   "cell_type": "code",
   "execution_count": 1,
   "metadata": {},
   "outputs": [],
   "source": [
    "# Daten\n",
    "from pandas import DataFrame \n",
    "import pandas as pd\n",
    "import numpy as np\n",
    "import seaborn as sns\n",
    "import scipy.stats as st\n",
    "\n",
    "from statsmodels.formula.api import ols\n",
    "from statsmodels.stats.anova import anova_lm\n",
    "from statsmodels.graphics.factorplots import interaction_plot \n",
    "from statsmodels.stats.outliers_influence import summary_table \n",
    "import matplotlib.pyplot as plt\n",
    "import warnings\n",
    "warnings.filterwarnings('ignore')\n",
    "\n",
    "snails = DataFrame({\n",
    "'season': np.repeat(['spring', 'summer'], 9),\n",
    "'density': np.tile(np.repeat(['6', '12','24'],3),2),\n",
    "'Y': np.array([1.17, 0.50, 1.67, 1.50, 0.83, 1.00,\n",
    "0.67, 0.67, 0.75, 4.00, 3.83, 3.83, \n",
    "3.33, 2.58, 2.75, 2.54, 1.83, 1.63])\n",
    "})"
   ]
  },
  {
   "cell_type": "code",
   "execution_count": 17,
   "metadata": {},
   "outputs": [
    {
     "data": {
      "text/html": [
       "<div>\n",
       "<style scoped>\n",
       "    .dataframe tbody tr th:only-of-type {\n",
       "        vertical-align: middle;\n",
       "    }\n",
       "\n",
       "    .dataframe tbody tr th {\n",
       "        vertical-align: top;\n",
       "    }\n",
       "\n",
       "    .dataframe thead th {\n",
       "        text-align: right;\n",
       "    }\n",
       "</style>\n",
       "<table border=\"1\" class=\"dataframe\">\n",
       "  <thead>\n",
       "    <tr style=\"text-align: right;\">\n",
       "      <th></th>\n",
       "      <th>df</th>\n",
       "      <th>sum_sq</th>\n",
       "      <th>mean_sq</th>\n",
       "      <th>F</th>\n",
       "      <th>PR(&gt;F)</th>\n",
       "    </tr>\n",
       "  </thead>\n",
       "  <tbody>\n",
       "    <tr>\n",
       "      <th>season</th>\n",
       "      <td>1.0</td>\n",
       "      <td>17.130756</td>\n",
       "      <td>17.130756</td>\n",
       "      <td>119.373466</td>\n",
       "      <td>1.364839e-07</td>\n",
       "    </tr>\n",
       "    <tr>\n",
       "      <th>density</th>\n",
       "      <td>2.0</td>\n",
       "      <td>4.001011</td>\n",
       "      <td>2.000506</td>\n",
       "      <td>13.940266</td>\n",
       "      <td>7.422016e-04</td>\n",
       "    </tr>\n",
       "    <tr>\n",
       "      <th>season:density</th>\n",
       "      <td>2.0</td>\n",
       "      <td>1.689144</td>\n",
       "      <td>0.844572</td>\n",
       "      <td>5.885293</td>\n",
       "      <td>1.655191e-02</td>\n",
       "    </tr>\n",
       "    <tr>\n",
       "      <th>Residual</th>\n",
       "      <td>12.0</td>\n",
       "      <td>1.722067</td>\n",
       "      <td>0.143506</td>\n",
       "      <td>NaN</td>\n",
       "      <td>NaN</td>\n",
       "    </tr>\n",
       "  </tbody>\n",
       "</table>\n",
       "</div>"
      ],
      "text/plain": [
       "                  df     sum_sq    mean_sq           F        PR(>F)\n",
       "season           1.0  17.130756  17.130756  119.373466  1.364839e-07\n",
       "density          2.0   4.001011   2.000506   13.940266  7.422016e-04\n",
       "season:density   2.0   1.689144   0.844572    5.885293  1.655191e-02\n",
       "Residual        12.0   1.722067   0.143506         NaN           NaN"
      ]
     },
     "execution_count": 17,
     "metadata": {},
     "output_type": "execute_result"
    }
   ],
   "source": [
    "fit = ols('Y~season*density',data=snails).fit()\n",
    "anova_lm(fit)"
   ]
  },
  {
   "cell_type": "markdown",
   "metadata": {},
   "source": [
    "Der P-Wert für die Jahreszeit und Schneckendichte (season:density) ist Signifikant 1.655191e-02 < 0.05\n",
    "--> Genauere Analyse mit einem Interaktionsplot"
   ]
  },
  {
   "cell_type": "code",
   "execution_count": 6,
   "metadata": {},
   "outputs": [
    {
     "data": {
      "image/png": "[encoded data removed]",
      "text/plain": [
       "<Figure size 640x480 with 1 Axes>"
      ]
     },
     "metadata": {},
     "output_type": "display_data"
    }
   ],
   "source": [
    "interaction_plot(x=snails['density'], trace=snails['season'], \n",
    "response=snails['Y'])\n",
    "plt.show()"
   ]
  },
  {
   "cell_type": "markdown",
   "metadata": {},
   "source": [
    "Da die Linien im Interaktionsplot nicht parallel verlaufen, besteht ein Hinweis auf einen Interaktionseffekt. Insbesondere scheint der Wert density=6 für season=spring \"aus der Reihe zu tanzen\". --> Analyse der Jahreszeiten individuell"
   ]
  },
  {
   "cell_type": "code",
   "execution_count": 13,
   "metadata": {},
   "outputs": [
    {
     "name": "stdout",
     "output_type": "stream",
     "text": [
      "Spring:\n",
      "            df    sum_sq   mean_sq         F    PR(>F)\n",
      "density   2.0  0.344467  0.172233  1.103903  0.390636\n",
      "Residual  6.0  0.936133  0.156022       NaN       NaN\n",
      "Summer:\n",
      "            df    sum_sq   mean_sq          F    PR(>F)\n",
      "density   2.0  5.345689  2.672844  20.405123  0.002106\n",
      "Residual  6.0  0.785933  0.130989        NaN       NaN\n"
     ]
    }
   ],
   "source": [
    "snails_spring = snails[snails['season']=='spring']\n",
    "fit_spring = ols('Y~density',data=snails_spring).fit()\n",
    "anova_lm(fit_spring)\n",
    "\n",
    "snails_summer = snails[snails['season']=='summer']\n",
    "fit_summer = ols('Y~density',data=snails_summer).fit()\n",
    "anova_lm(fit_summer)\n",
    "\n",
    "print(f'Spring:\\n {anova_lm(fit_spring)}') \n",
    "print(f'Summer:\\n {anova_lm(fit_summer)}') \n"
   ]
  },
  {
   "cell_type": "markdown",
   "metadata": {},
   "source": [
    "Der P-Wert für den Spring zeigt nun keinen Signifikanten Unterschied mehr. Hingegen, jener für den Sommer immernoch.  \n",
    "Wir schliessen daraus, dass es im Sommer signiﬁkante Unterschiede in Bezug auf die \n",
    "Menge der gelegten Schneckeneier für die jeweiligen Gruppen mit unterschiedlicher \n",
    "Dichte gibt. Im Frühling sind die Unterschiede jedoch nicht signiﬁkant. Offenbar hat \n",
    "die Jahreszeit einen Effekt auf die Menge gelegter Eier bei unterschiedlichen Schne-\n",
    "ckendichten."
   ]
  },
  {
   "cell_type": "markdown",
   "metadata": {},
   "source": [
    "### 2) Lebensdauer der Temperatur abhängig von der Cyanid-Konzentration"
   ]
  },
  {
   "cell_type": "code",
   "execution_count": 32,
   "metadata": {},
   "outputs": [],
   "source": [
    "# Daten\n",
    "from pandas import DataFrame \n",
    "import pandas as pd\n",
    "import numpy as np\n",
    "import seaborn as sns\n",
    "import scipy.stats as st\n",
    "\n",
    "from statsmodels.formula.api import ols\n",
    "from statsmodels.stats.anova import anova_lm\n",
    "from statsmodels.graphics.factorplots import interaction_plot \n",
    "from statsmodels.stats.outliers_influence import summary_table \n",
    "import matplotlib.pyplot as plt\n",
    "import warnings\n",
    "warnings.filterwarnings('ignore')\n",
    "\n",
    "El = DataFrame({\n",
    "\"Konz\": np.repeat([\"A\", \"B\", \"C\",\"D\"], 6),\n",
    "\"Temp\": np.tile(np.repeat([\"15C\", \"25C\"],3),4),\n",
    "\"Y\": np.array([82, 46, 16, 20, 13, 7, 20, 14, 17, 6, 7, 5, 8, 6, 5, \n",
    "4, 3, 5, 10, 7, 5, 6, 4, 5])\n",
    "})"
   ]
  },
  {
   "cell_type": "code",
   "execution_count": 35,
   "metadata": {},
   "outputs": [
    {
     "data": {
      "text/html": [
       "<div>\n",
       "<style scoped>\n",
       "    .dataframe tbody tr th:only-of-type {\n",
       "        vertical-align: middle;\n",
       "    }\n",
       "\n",
       "    .dataframe tbody tr th {\n",
       "        vertical-align: top;\n",
       "    }\n",
       "\n",
       "    .dataframe thead th {\n",
       "        text-align: right;\n",
       "    }\n",
       "</style>\n",
       "<table border=\"1\" class=\"dataframe\">\n",
       "  <thead>\n",
       "    <tr style=\"text-align: right;\">\n",
       "      <th></th>\n",
       "      <th>df</th>\n",
       "      <th>sum_sq</th>\n",
       "      <th>mean_sq</th>\n",
       "      <th>F</th>\n",
       "      <th>PR(&gt;F)</th>\n",
       "    </tr>\n",
       "  </thead>\n",
       "  <tbody>\n",
       "    <tr>\n",
       "      <th>C(Konz, Sum)</th>\n",
       "      <td>3.0</td>\n",
       "      <td>2531.125000</td>\n",
       "      <td>843.708333</td>\n",
       "      <td>5.843867</td>\n",
       "      <td>0.006803</td>\n",
       "    </tr>\n",
       "    <tr>\n",
       "      <th>C(Temp, Sum)</th>\n",
       "      <td>1.0</td>\n",
       "      <td>950.041667</td>\n",
       "      <td>950.041667</td>\n",
       "      <td>6.580375</td>\n",
       "      <td>0.020754</td>\n",
       "    </tr>\n",
       "    <tr>\n",
       "      <th>C(Konz, Sum):C(Temp, Sum)</th>\n",
       "      <td>3.0</td>\n",
       "      <td>1050.458333</td>\n",
       "      <td>350.152778</td>\n",
       "      <td>2.425301</td>\n",
       "      <td>0.103439</td>\n",
       "    </tr>\n",
       "    <tr>\n",
       "      <th>Residual</th>\n",
       "      <td>16.0</td>\n",
       "      <td>2310.000000</td>\n",
       "      <td>144.375000</td>\n",
       "      <td>NaN</td>\n",
       "      <td>NaN</td>\n",
       "    </tr>\n",
       "  </tbody>\n",
       "</table>\n",
       "</div>"
      ],
      "text/plain": [
       "                             df       sum_sq     mean_sq         F    PR(>F)\n",
       "C(Konz, Sum)                3.0  2531.125000  843.708333  5.843867  0.006803\n",
       "C(Temp, Sum)                1.0   950.041667  950.041667  6.580375  0.020754\n",
       "C(Konz, Sum):C(Temp, Sum)   3.0  1050.458333  350.152778  2.425301  0.103439\n",
       "Residual                   16.0  2310.000000  144.375000       NaN       NaN"
      ]
     },
     "execution_count": 35,
     "metadata": {},
     "output_type": "execute_result"
    }
   ],
   "source": [
    "fit = ols('Y~C(Konz,Sum)*C(Temp,Sum)',data=El).fit()\n",
    "anova_lm(fit)"
   ]
  },
  {
   "cell_type": "code",
   "execution_count": 36,
   "metadata": {},
   "outputs": [
    {
     "data": {
      "image/png": "[encoded data removed]",
      "text/plain": [
       "<Figure size 640x480 with 1 Axes>"
      ]
     },
     "metadata": {},
     "output_type": "display_data"
    }
   ],
   "source": [
    "interaction_plot(x=El[\"Konz\"], trace=El[\"Temp\"], response=El[\"Y\"], legendtitle=\"Methode\")\n",
    "plt.xlabel(\"Cyanid-Konzentration\") \n",
    "plt.ylabel(\"Mediane Experimente\")\n",
    "plt.show()"
   ]
  },
  {
   "cell_type": "markdown",
   "metadata": {},
   "source": [
    "Der P-Wert besagt, dass es keinenen Signifikanten unterschied gibt. --> genauer untersuchen!"
   ]
  },
  {
   "cell_type": "code",
   "execution_count": 42,
   "metadata": {},
   "outputs": [
    {
     "name": "stdout",
     "output_type": "stream",
     "text": [
      "15C:\n",
      "            df    sum_sq   mean_sq         F    PR(>F)\n",
      "density   2.0  0.344467  0.172233  1.103903  0.390636\n",
      "Residual  6.0  0.936133  0.156022       NaN       NaN\n",
      "25C:\n",
      "            df    sum_sq   mean_sq          F    PR(>F)\n",
      "density   2.0  5.345689  2.672844  20.405123  0.002106\n",
      "Residual  6.0  0.785933  0.130989        NaN       NaN\n"
     ]
    }
   ],
   "source": [
    "T_15C = El[El['Temp']=='15C']\n",
    "T_25C = El[El['Temp']=='25C']\n",
    "\n",
    "fit_15C = ols('Y~Konz',data=T_15C).fit()\n",
    "anova_lm(fit_15C)\n",
    "\n",
    "fit_25C = ols('Y~Konz',data=T_25C).fit()\n",
    "anova_lm(fit_25C)\n",
    "\n",
    "print(f'15C:\\n {anova_lm(fit_spring)}') \n",
    "print(f'25C:\\n {anova_lm(fit_summer)}') "
   ]
  },
  {
   "cell_type": "markdown",
   "metadata": {},
   "source": [
    "Die Analyse bestätigt die vorherigen Beobachtungen.  \n",
    "Bei tiefen Temperaturen (15C) ziegt sich kein Signifikanter einfluss der Cyanid-Konzentration auf die Lebensdauer.  \n",
    "Die wärmeren Temperaturen (25c) zeichnet sich ein Signifikanter einfluss der Cyanid-Konzentration auf die Lebensdauer ab."
   ]
  },
  {
   "cell_type": "code",
   "execution_count": null,
   "metadata": {},
   "outputs": [],
   "source": []
  }
 ],
 "metadata": {
  "kernelspec": {
   "display_name": "Python 3 (ipykernel)",
   "language": "python",
   "name": "python3"
  },
  "language_info": {
   "codemirror_mode": {
    "name": "ipython",
    "version": 3
   },
   "file_extension": ".py",
   "mimetype": "text/x-python",
   "name": "python",
   "nbconvert_exporter": "python",
   "pygments_lexer": "ipython3",
   "version": "3.10.11"
  }
 },
 "nbformat": 4,
 "nbformat_minor": 4
}
