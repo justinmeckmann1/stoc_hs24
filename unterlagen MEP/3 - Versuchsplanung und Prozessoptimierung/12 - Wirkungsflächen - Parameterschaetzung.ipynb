{
 "cells": [
  {
   "cell_type": "markdown",
   "metadata": {},
   "source": [
    "# Schätzung Parameter 1. Ordnung"
   ]
  },
  {
   "cell_type": "code",
   "execution_count": 4,
   "metadata": {},
   "outputs": [],
   "source": [
    "import numpy as np \n",
    "import pandas as pd\n",
    "\n",
    "from statsmodels.formula.api import ols\n",
    "from patsy.contrasts import Treatment, Sum \n",
    "from statsmodels.stats.anova import anova_lm"
   ]
  },
  {
   "cell_type": "code",
   "execution_count": 5,
   "metadata": {},
   "outputs": [],
   "source": [
    "# Daten\n",
    "reakt = pd.DataFrame(\n",
    "{'x1': np.array([120,160,120,160,140,140]), \n",
    "'x2': np.array([50,50,70,70,60,60]),\n",
    "'y': np.array([52,62,60,70,63,65])\n",
    "}\n",
    ")"
   ]
  },
  {
   "cell_type": "code",
   "execution_count": 6,
   "metadata": {},
   "outputs": [
    {
     "data": {
      "text/plain": [
       "Intercept    3.00\n",
       "x1           0.25\n",
       "x2           0.40\n",
       "dtype: float64"
      ]
     },
     "execution_count": 6,
     "metadata": {},
     "output_type": "execute_result"
    }
   ],
   "source": [
    "fit = ols('y ~ x1 + x2', data=reakt).fit() \n",
    "fit.params"
   ]
  },
  {
   "cell_type": "markdown",
   "metadata": {},
   "source": [
    "Geschätztes Modell 1. Ordnung: $\\hat{y} = 3 + 0.25x_1 + 0.4x_2$"
   ]
  },
  {
   "cell_type": "markdown",
   "metadata": {},
   "source": [
    "# Schätzung Variablen 2. Ordnung\n",
    "### mit Rotatable central composite design"
   ]
  },
  {
   "cell_type": "code",
   "execution_count": 7,
   "metadata": {},
   "outputs": [],
   "source": [
    "import numpy as np \n",
    "import pandas as pd\n",
    "\n",
    "from statsmodels.formula.api import ols\n",
    "from patsy.contrasts import Treatment, Sum \n",
    "from statsmodels.stats.anova import anova_lm"
   ]
  },
  {
   "cell_type": "code",
   "execution_count": 8,
   "metadata": {},
   "outputs": [],
   "source": [
    "reakt = pd.DataFrame(\n",
    "{'Zeit': np.array([80,80,100,100,90,90,76,104,90]), \n",
    "'Temp': np.array([195,235,195,235,187,243,215,215,215]), \n",
    "'y': np.array([78,76,72,75,74,76,77,72,80])\n",
    "})"
   ]
  },
  {
   "cell_type": "code",
   "execution_count": 9,
   "metadata": {},
   "outputs": [
    {
     "data": {
      "text/plain": [
       "Intercept        -277.587423\n",
       "Zeit                3.229716\n",
       "Temp                2.024201\n",
       "I(Temp * Temp)     -0.005960\n",
       "I(Zeit * Zeit)     -0.026390\n",
       "I(Zeit * Temp)      0.006250\n",
       "dtype: float64"
      ]
     },
     "execution_count": 9,
     "metadata": {},
     "output_type": "execute_result"
    }
   ],
   "source": [
    "fit = ols('y~Zeit+Temp+I(Temp*Temp)+I(Zeit*Zeit)+I(Zeit*Temp)',data=reakt).fit() \n",
    "fit.params"
   ]
  },
  {
   "cell_type": "markdown",
   "metadata": {},
   "source": [
    "Wirkungsfläche 2. Ordnung\n",
    "\n",
    "\\begin{align*}\n",
    "\\hat{Y} &= \\hat{\\beta}_0 + \\hat{\\beta}_1 x_1 + \\hat{\\beta}_2 x_2 + \\hat{\\beta}_{11} x_1^2 + \\hat{\\beta}_{22} x_2^2 + \\hat{\\beta}_{12} x_1 x_2 \\\\\n",
    "&= -277.6 + 2.02x_1 + 3.23x_2 - 0.00596x_1^2 - 0.0264x_2^2 + 0.00625x_1x_2\n",
    "\\end{align*}\n"
   ]
  },
  {
   "cell_type": "markdown",
   "metadata": {},
   "source": []
  }
 ],
 "metadata": {
  "kernelspec": {
   "display_name": "stoc",
   "language": "python",
   "name": "python3"
  },
  "language_info": {
   "codemirror_mode": {
    "name": "ipython",
    "version": 3
   },
   "file_extension": ".py",
   "mimetype": "text/x-python",
   "name": "python",
   "nbconvert_exporter": "python",
   "pygments_lexer": "ipython3",
   "version": "3.12.0"
  }
 },
 "nbformat": 4,
 "nbformat_minor": 2
}
