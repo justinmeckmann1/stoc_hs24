{
 "cells": [
  {
   "cell_type": "markdown",
   "id": "27def3bf-f1c1-4f63-8aad-28ed943628f7",
   "metadata": {},
   "source": [
    "# Prozessoptimierung\n",
    "\n",
    "## Beispiel: Jitter von CD's und Disc's"
   ]
  },
  {
   "cell_type": "code",
   "execution_count": 1,
   "id": "a7b397ca-c79f-4f48-bfd0-1e5adfc4c01f",
   "metadata": {},
   "outputs": [
    {
     "name": "stdout",
     "output_type": "stream",
     "text": [
      "   Aa Bb Cc  Yy\n",
      "0  -1 -1 -1  34\n",
      "1   1 -1 -1  26\n",
      "2  -1  1 -1  33\n",
      "3   1  1 -1  21\n",
      "4  -1 -1  1  24\n",
      "5   1 -1  1  23\n",
      "6  -1  1  1  19\n",
      "7   1  1  1  18\n",
      "8  -1 -1 -1  40\n",
      "9   1 -1 -1  29\n",
      "10 -1  1 -1  35\n",
      "11  1  1 -1  22\n",
      "12 -1 -1  1  23\n",
      "13  1 -1  1  22\n",
      "14 -1  1  1  18\n",
      "15  1  1  1  18\n"
     ]
    }
   ],
   "source": [
    "import numpy as np\n",
    "import pandas as pd\n",
    "from statsmodels.formula.api import ols\n",
    "from patsy.contrasts import Treatment, Sum\n",
    "from statsmodels.stats.anova import anova_lm\n",
    "df = pd.DataFrame({\"Aa\": np.tile(np.tile([-1, 1], 4),2),\n",
    "                   \"Bb\": np.tile(np.repeat([-1,1], [2,2]),4),\n",
    "                   \"Cc\": np.tile(np.repeat([-1,1], [4,4]),2)},\n",
    "                  dtype=\"category\")\n",
    "df[\"Yy\"] = np.array([34,26,33,21,24,23,19,18,40,29,35,22,23,22,18,18])\n",
    "print(df)"
   ]
  },
  {
   "cell_type": "code",
   "execution_count": 2,
   "id": "dd5e6edc-6b5f-4248-907b-a525d8b49591",
   "metadata": {},
   "outputs": [
    {
     "data": {
      "text/plain": [
       "Intercept                                             25.3125\n",
       "C(Aa, Sum)[S.-1]                                       2.9375\n",
       "C(Bb, Sum)[S.-1]                                       2.3125\n",
       "C(Cc, Sum)[S.-1]                                       4.6875\n",
       "C(Aa, Sum)[S.-1]:C(Bb, Sum)[S.-1]                     -0.3125\n",
       "C(Aa, Sum)[S.-1]:C(Cc, Sum)[S.-1]                      2.5625\n",
       "C(Bb, Sum)[S.-1]:C(Cc, Sum)[S.-1]                     -0.0625\n",
       "C(Aa, Sum)[S.-1]:C(Bb, Sum)[S.-1]:C(Cc, Sum)[S.-1]    -0.4375\n",
       "dtype: float64"
      ]
     },
     "execution_count": 2,
     "metadata": {},
     "output_type": "execute_result"
    }
   ],
   "source": [
    "fit = ols(\"Yy ~ C(Aa, Sum)*C(Bb, Sum)*C(Cc, Sum)\", data=df).fit()\n",
    "fit.params"
   ]
  },
  {
   "cell_type": "code",
   "execution_count": 3,
   "id": "cd35a7a5-5d43-4d3d-9805-b5868f6fbfd1",
   "metadata": {},
   "outputs": [
    {
     "data": {
      "text/html": [
       "<div>\n",
       "<style scoped>\n",
       "    .dataframe tbody tr th:only-of-type {\n",
       "        vertical-align: middle;\n",
       "    }\n",
       "\n",
       "    .dataframe tbody tr th {\n",
       "        vertical-align: top;\n",
       "    }\n",
       "\n",
       "    .dataframe thead th {\n",
       "        text-align: right;\n",
       "    }\n",
       "</style>\n",
       "<table border=\"1\" class=\"dataframe\">\n",
       "  <thead>\n",
       "    <tr style=\"text-align: right;\">\n",
       "      <th></th>\n",
       "      <th>df</th>\n",
       "      <th>sum_sq</th>\n",
       "      <th>mean_sq</th>\n",
       "      <th>F</th>\n",
       "      <th>PR(&gt;F)</th>\n",
       "    </tr>\n",
       "  </thead>\n",
       "  <tbody>\n",
       "    <tr>\n",
       "      <th>C(Aa, Sum)</th>\n",
       "      <td>1.0</td>\n",
       "      <td>138.0625</td>\n",
       "      <td>138.0625</td>\n",
       "      <td>41.679245</td>\n",
       "      <td>0.000197</td>\n",
       "    </tr>\n",
       "    <tr>\n",
       "      <th>C(Bb, Sum)</th>\n",
       "      <td>1.0</td>\n",
       "      <td>85.5625</td>\n",
       "      <td>85.5625</td>\n",
       "      <td>25.830189</td>\n",
       "      <td>0.000950</td>\n",
       "    </tr>\n",
       "    <tr>\n",
       "      <th>C(Cc, Sum)</th>\n",
       "      <td>1.0</td>\n",
       "      <td>351.5625</td>\n",
       "      <td>351.5625</td>\n",
       "      <td>106.132075</td>\n",
       "      <td>0.000007</td>\n",
       "    </tr>\n",
       "    <tr>\n",
       "      <th>C(Aa, Sum):C(Bb, Sum)</th>\n",
       "      <td>1.0</td>\n",
       "      <td>1.5625</td>\n",
       "      <td>1.5625</td>\n",
       "      <td>0.471698</td>\n",
       "      <td>0.511620</td>\n",
       "    </tr>\n",
       "    <tr>\n",
       "      <th>C(Aa, Sum):C(Cc, Sum)</th>\n",
       "      <td>1.0</td>\n",
       "      <td>105.0625</td>\n",
       "      <td>105.0625</td>\n",
       "      <td>31.716981</td>\n",
       "      <td>0.000492</td>\n",
       "    </tr>\n",
       "    <tr>\n",
       "      <th>C(Bb, Sum):C(Cc, Sum)</th>\n",
       "      <td>1.0</td>\n",
       "      <td>0.0625</td>\n",
       "      <td>0.0625</td>\n",
       "      <td>0.018868</td>\n",
       "      <td>0.894140</td>\n",
       "    </tr>\n",
       "    <tr>\n",
       "      <th>C(Aa, Sum):C(Bb, Sum):C(Cc, Sum)</th>\n",
       "      <td>1.0</td>\n",
       "      <td>3.0625</td>\n",
       "      <td>3.0625</td>\n",
       "      <td>0.924528</td>\n",
       "      <td>0.364446</td>\n",
       "    </tr>\n",
       "    <tr>\n",
       "      <th>Residual</th>\n",
       "      <td>8.0</td>\n",
       "      <td>26.5000</td>\n",
       "      <td>3.3125</td>\n",
       "      <td>NaN</td>\n",
       "      <td>NaN</td>\n",
       "    </tr>\n",
       "  </tbody>\n",
       "</table>\n",
       "</div>"
      ],
      "text/plain": [
       "                                   df    sum_sq   mean_sq           F  \\\n",
       "C(Aa, Sum)                        1.0  138.0625  138.0625   41.679245   \n",
       "C(Bb, Sum)                        1.0   85.5625   85.5625   25.830189   \n",
       "C(Cc, Sum)                        1.0  351.5625  351.5625  106.132075   \n",
       "C(Aa, Sum):C(Bb, Sum)             1.0    1.5625    1.5625    0.471698   \n",
       "C(Aa, Sum):C(Cc, Sum)             1.0  105.0625  105.0625   31.716981   \n",
       "C(Bb, Sum):C(Cc, Sum)             1.0    0.0625    0.0625    0.018868   \n",
       "C(Aa, Sum):C(Bb, Sum):C(Cc, Sum)  1.0    3.0625    3.0625    0.924528   \n",
       "Residual                          8.0   26.5000    3.3125         NaN   \n",
       "\n",
       "                                    PR(>F)  \n",
       "C(Aa, Sum)                        0.000197  \n",
       "C(Bb, Sum)                        0.000950  \n",
       "C(Cc, Sum)                        0.000007  \n",
       "C(Aa, Sum):C(Bb, Sum)             0.511620  \n",
       "C(Aa, Sum):C(Cc, Sum)             0.000492  \n",
       "C(Bb, Sum):C(Cc, Sum)             0.894140  \n",
       "C(Aa, Sum):C(Bb, Sum):C(Cc, Sum)  0.364446  \n",
       "Residual                               NaN  "
      ]
     },
     "execution_count": 3,
     "metadata": {},
     "output_type": "execute_result"
    }
   ],
   "source": [
    "df[\"Yy\"] = np.array([34,26,33,21,24,23,19,18,40,29,35,22,23,22,18,18])\n",
    "fit = ols(\"Yy ~ C(Aa, Sum)*C(Bb, Sum)*C(Cc, Sum)\", data=df).fit()\n",
    "anova_lm(fit)"
   ]
  },
  {
   "cell_type": "markdown",
   "id": "852a6c02",
   "metadata": {},
   "source": [
    "Haupteﬀekte A, B und C und WWseﬀekt A : C signiﬁkant. (<0.05)"
   ]
  },
  {
   "cell_type": "code",
   "execution_count": 4,
   "id": "c2b9da26-5389-4905-8680-87ffb925402c",
   "metadata": {},
   "outputs": [
    {
     "data": {
      "text/plain": [
       "Intercept                                             25.3125\n",
       "C(Aa, Sum)[S.-1]                                       2.9375\n",
       "C(Bb, Sum)[S.-1]                                       2.3125\n",
       "C(Cc, Sum)[S.-1]                                       4.6875\n",
       "C(Aa, Sum)[S.-1]:C(Bb, Sum)[S.-1]                     -0.3125\n",
       "C(Aa, Sum)[S.-1]:C(Cc, Sum)[S.-1]                      2.5625\n",
       "C(Bb, Sum)[S.-1]:C(Cc, Sum)[S.-1]                     -0.0625\n",
       "C(Aa, Sum)[S.-1]:C(Bb, Sum)[S.-1]:C(Cc, Sum)[S.-1]    -0.4375\n",
       "dtype: float64"
      ]
     },
     "execution_count": 4,
     "metadata": {},
     "output_type": "execute_result"
    }
   ],
   "source": [
    "fit = ols(\"Yy ~ C(Aa, Sum)*C(Bb, Sum)*C(Cc, Sum)\", data=df).fit()\n",
    "fit.params"
   ]
  },
  {
   "cell_type": "markdown",
   "id": "86a30ae6",
   "metadata": {},
   "source": [
    "Haupteﬀekt von A auf Stufe „tief” ist also 2.9375  \n",
    "Haupteﬀekt von A auf Stufe „hoch” ist −2.9375  "
   ]
  },
  {
   "cell_type": "markdown",
   "id": "8037e79a-88ed-4537-a833-bad0e08ceed6",
   "metadata": {},
   "source": [
    "## Beispiel: Reaktionsanalyse"
   ]
  },
  {
   "cell_type": "code",
   "execution_count": 5,
   "id": "f6e67fc2-9525-444c-936f-48446f00d636",
   "metadata": {},
   "outputs": [
    {
     "data": {
      "text/plain": [
       "Intercept    3.00\n",
       "x1           0.25\n",
       "x2           0.40\n",
       "dtype: float64"
      ]
     },
     "execution_count": 5,
     "metadata": {},
     "output_type": "execute_result"
    }
   ],
   "source": [
    "import numpy as np\n",
    "import pandas as pd\n",
    "from statsmodels.formula.api import ols\n",
    "from patsy.contrasts import Treatment, Sum\n",
    "from statsmodels.stats.anova import anova_lm\n",
    "reakt = pd.DataFrame({\"x1\": np.array([120,160,120,160,140,140]),\n",
    "                      \"x2\": np.array([50,50,70,70,60,60]),\n",
    "                      \"y\": np.array([52,62,60,70,63,65])})\n",
    "fit = ols(\"y~x1+x2\",data=reakt).fit()\n",
    "fit.params"
   ]
  },
  {
   "cell_type": "markdown",
   "id": "1fdd3387-769d-4266-b7bf-1072df749fa5",
   "metadata": {},
   "source": [
    "Mit kodierten Variablen:"
   ]
  },
  {
   "cell_type": "code",
   "execution_count": 6,
   "id": "040b9d4a-dada-448d-8676-06f84eec81dc",
   "metadata": {},
   "outputs": [
    {
     "data": {
      "text/plain": [
       "Intercept    62.0\n",
       "x1            5.0\n",
       "x2            4.0\n",
       "dtype: float64"
      ]
     },
     "execution_count": 6,
     "metadata": {},
     "output_type": "execute_result"
    }
   ],
   "source": [
    "reakt = pd.DataFrame({\"x1\": np.array([-1,1,-1,1,0,0]),\n",
    "                      \"x2\": np.array([-1,-1,1,1,0,0]),\n",
    "                      \"y\": np.array([52,62,60,70,63,65])})\n",
    "fit = ols(\"y~x1+x2\",data=reakt).fit()\n",
    "fit.params"
   ]
  },
  {
   "cell_type": "code",
   "execution_count": 7,
   "id": "8120720d-47c9-421e-ba3c-f2580bb99bec",
   "metadata": {},
   "outputs": [
    {
     "data": {
      "text/plain": [
       "Intercept        -277.587423\n",
       "Zeit                3.229716\n",
       "Temp                2.024201\n",
       "I(Temp * Temp)     -0.005960\n",
       "I(Zeit * Zeit)     -0.026390\n",
       "I(Zeit * Temp)      0.006250\n",
       "dtype: float64"
      ]
     },
     "execution_count": 7,
     "metadata": {},
     "output_type": "execute_result"
    }
   ],
   "source": [
    "reakt = pd.DataFrame({\"Zeit\": np.array([80,80,100,100,90,90,76,104,90]),\n",
    "                      \"Temp\": np.array([195,235,195,235,187,243,215,215,215]),\n",
    "                      \"y\": np.array([78,76,72,75,74,76,77,72,80])})\n",
    "fit = ols(\"y~Zeit+Temp+I(Temp*Temp)+I(Zeit*Zeit)+I(Zeit*Temp)\",data=reakt).fit()\n",
    "fit.params"
   ]
  },
  {
   "cell_type": "code",
   "execution_count": 8,
   "id": "4bca7104",
   "metadata": {},
   "outputs": [],
   "source": [
    "# Bsp Mäuse\n",
    "\n",
    "anti = pd.DataFrame({\n",
    "    'Anzahl': np.tile([-1,1],8),\n",
    "    'VolPrs': np.tile(np.repeat([-1,1],[2,2]),4),\n",
    "    'Zeit': np.tile(np.repeat([-1,1],[4,4]),2),\n",
    "    'RadDos': np.repeat([-1,1],[8,8]),\n",
    "    'Entw': [-1,1,1,-1, 1,-1,-1,1, -1,1,1,-1, 1,-1,-1,1], \n",
    "    'Inj2': [-1,-1,1,1, 1,1,-1,-1, 1,1,-1,-1, -1,-1,1,1] \n",
    "}, dtype='category')\n",
    "\n",
    "anti['Yy'] = np.array([70,150,34,32,137.5,56,123,225,50,2.7,1.2,12,90,2.1,4,15])"
   ]
  },
  {
   "cell_type": "code",
   "execution_count": 9,
   "id": "6e128d59",
   "metadata": {},
   "outputs": [
    {
     "name": "stdout",
     "output_type": "stream",
     "text": [
      "                  df        sum_sq       mean_sq          F    PR(>F)\n",
      "C(Zeit, Sum)     1.0   5651.280625   5651.280625   3.102899  0.105885\n",
      "C(RadDos, Sum)   1.0  26446.890625  26446.890625  14.520961  0.002890\n",
      "C(Entw, Sum)     1.0   5863.730625   5863.730625   3.219547  0.100263\n",
      "C(Inj2, Sum)     1.0   7314.525625   7314.525625   4.016122  0.070317\n",
      "Residual        11.0  20034.196875   1821.290625        NaN       NaN\n"
     ]
    }
   ],
   "source": [
    "fit = ols('Yy~C(Zeit,Sum)+C(RadDos,Sum)+C(Entw,Sum)+C(Inj2,Sum)', data=anti).fit() \n",
    "print(anova_lm(fit))"
   ]
  },
  {
   "cell_type": "markdown",
   "id": "0912de2c",
   "metadata": {},
   "source": [
    "# Bsp Süssgetränke"
   ]
  },
  {
   "cell_type": "code",
   "execution_count": 4,
   "id": "e6758b61",
   "metadata": {},
   "outputs": [],
   "source": [
    "# gegeben\n",
    "\n",
    "import numpy as np\n",
    "import pandas as pd\n",
    "from statsmodels.formula.api import ols\n",
    "from patsy.contrasts import Treatment, Sum \n",
    "from statsmodels.stats.anova import anova_lm\n",
    "\n",
    "df = pd.DataFrame({'Aa': np.tile(np.tile([-1, 1], 8),2), \n",
    "'Bb': np.tile(np.repeat([-1,1], [2,2]),8),\n",
    "'Cc': np.tile(np.repeat([-1,1], [4,4]),4), \n",
    "'Dd': np.tile(np.repeat([-1,1], [8,8]),2)},\n",
    "dtype='category')\n",
    "\n",
    "df['Yy']=np.array([159,168,158,166,175,179,173,179,164,187,163,185,168,197,170,194,163,\n",
    "175,163,168,178,183,168,182,159,189,159,191, 174, 199,174,198])\n",
    "\n",
    "# print(df)"
   ]
  },
  {
   "cell_type": "markdown",
   "id": "d43abba3",
   "metadata": {},
   "source": [
    "### Fragestellung 1) Gibt es Variablen, die nicht relevant für die Gesamtpunktzahl ist (ohne Interaktion)?"
   ]
  },
  {
   "cell_type": "code",
   "execution_count": 5,
   "id": "26d22553",
   "metadata": {},
   "outputs": [
    {
     "data": {
      "text/html": [
       "<div>\n",
       "<style scoped>\n",
       "    .dataframe tbody tr th:only-of-type {\n",
       "        vertical-align: middle;\n",
       "    }\n",
       "\n",
       "    .dataframe tbody tr th {\n",
       "        vertical-align: top;\n",
       "    }\n",
       "\n",
       "    .dataframe thead th {\n",
       "        text-align: right;\n",
       "    }\n",
       "</style>\n",
       "<table border=\"1\" class=\"dataframe\">\n",
       "  <thead>\n",
       "    <tr style=\"text-align: right;\">\n",
       "      <th></th>\n",
       "      <th>df</th>\n",
       "      <th>sum_sq</th>\n",
       "      <th>mean_sq</th>\n",
       "      <th>F</th>\n",
       "      <th>PR(&gt;F)</th>\n",
       "    </tr>\n",
       "  </thead>\n",
       "  <tbody>\n",
       "    <tr>\n",
       "      <th>C(Aa, Sum)</th>\n",
       "      <td>1.0</td>\n",
       "      <td>2312.000</td>\n",
       "      <td>2312.000000</td>\n",
       "      <td>71.290792</td>\n",
       "      <td>4.687651e-09</td>\n",
       "    </tr>\n",
       "    <tr>\n",
       "      <th>C(Bb, Sum)</th>\n",
       "      <td>1.0</td>\n",
       "      <td>21.125</td>\n",
       "      <td>21.125000</td>\n",
       "      <td>0.651392</td>\n",
       "      <td>4.266685e-01</td>\n",
       "    </tr>\n",
       "    <tr>\n",
       "      <th>C(Cc, Sum)</th>\n",
       "      <td>1.0</td>\n",
       "      <td>946.125</td>\n",
       "      <td>946.125000</td>\n",
       "      <td>29.173876</td>\n",
       "      <td>1.038119e-05</td>\n",
       "    </tr>\n",
       "    <tr>\n",
       "      <th>C(Dd, Sum)</th>\n",
       "      <td>1.0</td>\n",
       "      <td>561.125</td>\n",
       "      <td>561.125000</td>\n",
       "      <td>17.302355</td>\n",
       "      <td>2.897778e-04</td>\n",
       "    </tr>\n",
       "    <tr>\n",
       "      <th>Residual</th>\n",
       "      <td>27.0</td>\n",
       "      <td>875.625</td>\n",
       "      <td>32.430556</td>\n",
       "      <td>NaN</td>\n",
       "      <td>NaN</td>\n",
       "    </tr>\n",
       "  </tbody>\n",
       "</table>\n",
       "</div>"
      ],
      "text/plain": [
       "              df    sum_sq      mean_sq          F        PR(>F)\n",
       "C(Aa, Sum)   1.0  2312.000  2312.000000  71.290792  4.687651e-09\n",
       "C(Bb, Sum)   1.0    21.125    21.125000   0.651392  4.266685e-01\n",
       "C(Cc, Sum)   1.0   946.125   946.125000  29.173876  1.038119e-05\n",
       "C(Dd, Sum)   1.0   561.125   561.125000  17.302355  2.897778e-04\n",
       "Residual    27.0   875.625    32.430556        NaN           NaN"
      ]
     },
     "execution_count": 5,
     "metadata": {},
     "output_type": "execute_result"
    }
   ],
   "source": [
    "fit = ols(\"Yy ~ C(Aa, Sum)+C(Bb, Sum)+C(Cc, Sum)+C(Dd, Sum)\", data=df).fit()\n",
    "anova_lm(fit)"
   ]
  },
  {
   "cell_type": "markdown",
   "id": "62ec52f4",
   "metadata": {},
   "source": [
    "Wir werten nur die Variabeln aus, dazu verwenden wir +  \n",
    "Die Auswertung zeigt, dass Aa, Cc und Dd hoch signifikant sind. Bb scheint keinen signifikanten Einfluss zu haben. "
   ]
  },
  {
   "cell_type": "markdown",
   "id": "091bc241",
   "metadata": {},
   "source": [
    "### Fragestellung 2) b) Gibt es statistisch signiﬁkante Interaktion? Können Sie diese begründen?"
   ]
  },
  {
   "cell_type": "code",
   "execution_count": 6,
   "id": "165fe5d6",
   "metadata": {},
   "outputs": [
    {
     "data": {
      "text/html": [
       "<div>\n",
       "<style scoped>\n",
       "    .dataframe tbody tr th:only-of-type {\n",
       "        vertical-align: middle;\n",
       "    }\n",
       "\n",
       "    .dataframe tbody tr th {\n",
       "        vertical-align: top;\n",
       "    }\n",
       "\n",
       "    .dataframe thead th {\n",
       "        text-align: right;\n",
       "    }\n",
       "</style>\n",
       "<table border=\"1\" class=\"dataframe\">\n",
       "  <thead>\n",
       "    <tr style=\"text-align: right;\">\n",
       "      <th></th>\n",
       "      <th>df</th>\n",
       "      <th>sum_sq</th>\n",
       "      <th>mean_sq</th>\n",
       "      <th>F</th>\n",
       "      <th>PR(&gt;F)</th>\n",
       "    </tr>\n",
       "  </thead>\n",
       "  <tbody>\n",
       "    <tr>\n",
       "      <th>C(Aa, Sum)</th>\n",
       "      <td>1.0</td>\n",
       "      <td>2.312000e+03</td>\n",
       "      <td>2.312000e+03</td>\n",
       "      <td>2.417778e+02</td>\n",
       "      <td>4.450669e-11</td>\n",
       "    </tr>\n",
       "    <tr>\n",
       "      <th>C(Bb, Sum)</th>\n",
       "      <td>1.0</td>\n",
       "      <td>2.112500e+01</td>\n",
       "      <td>2.112500e+01</td>\n",
       "      <td>2.209150e+00</td>\n",
       "      <td>1.566329e-01</td>\n",
       "    </tr>\n",
       "    <tr>\n",
       "      <th>C(Cc, Sum)</th>\n",
       "      <td>1.0</td>\n",
       "      <td>9.461250e+02</td>\n",
       "      <td>9.461250e+02</td>\n",
       "      <td>9.894118e+01</td>\n",
       "      <td>2.957845e-08</td>\n",
       "    </tr>\n",
       "    <tr>\n",
       "      <th>C(Dd, Sum)</th>\n",
       "      <td>1.0</td>\n",
       "      <td>5.611250e+02</td>\n",
       "      <td>5.611250e+02</td>\n",
       "      <td>5.867974e+01</td>\n",
       "      <td>9.692188e-07</td>\n",
       "    </tr>\n",
       "    <tr>\n",
       "      <th>C(Aa, Sum):C(Bb, Sum)</th>\n",
       "      <td>1.0</td>\n",
       "      <td>1.250000e-01</td>\n",
       "      <td>1.250000e-01</td>\n",
       "      <td>1.307190e-02</td>\n",
       "      <td>9.103968e-01</td>\n",
       "    </tr>\n",
       "    <tr>\n",
       "      <th>C(Aa, Sum):C(Cc, Sum)</th>\n",
       "      <td>1.0</td>\n",
       "      <td>3.125000e+00</td>\n",
       "      <td>3.125000e+00</td>\n",
       "      <td>3.267974e-01</td>\n",
       "      <td>5.754947e-01</td>\n",
       "    </tr>\n",
       "    <tr>\n",
       "      <th>C(Bb, Sum):C(Cc, Sum)</th>\n",
       "      <td>1.0</td>\n",
       "      <td>5.000000e-01</td>\n",
       "      <td>5.000000e-01</td>\n",
       "      <td>5.228758e-02</td>\n",
       "      <td>8.220265e-01</td>\n",
       "    </tr>\n",
       "    <tr>\n",
       "      <th>C(Aa, Sum):C(Dd, Sum)</th>\n",
       "      <td>1.0</td>\n",
       "      <td>6.661250e+02</td>\n",
       "      <td>6.661250e+02</td>\n",
       "      <td>6.966013e+01</td>\n",
       "      <td>3.186635e-07</td>\n",
       "    </tr>\n",
       "    <tr>\n",
       "      <th>C(Bb, Sum):C(Dd, Sum)</th>\n",
       "      <td>1.0</td>\n",
       "      <td>1.250000e+01</td>\n",
       "      <td>1.250000e+01</td>\n",
       "      <td>1.307190e+00</td>\n",
       "      <td>2.697232e-01</td>\n",
       "    </tr>\n",
       "    <tr>\n",
       "      <th>C(Cc, Sum):C(Dd, Sum)</th>\n",
       "      <td>1.0</td>\n",
       "      <td>1.250000e+01</td>\n",
       "      <td>1.250000e+01</td>\n",
       "      <td>1.307190e+00</td>\n",
       "      <td>2.697232e-01</td>\n",
       "    </tr>\n",
       "    <tr>\n",
       "      <th>C(Aa, Sum):C(Bb, Sum):C(Cc, Sum)</th>\n",
       "      <td>1.0</td>\n",
       "      <td>4.500000e+00</td>\n",
       "      <td>4.500000e+00</td>\n",
       "      <td>4.705882e-01</td>\n",
       "      <td>5.025369e-01</td>\n",
       "    </tr>\n",
       "    <tr>\n",
       "      <th>C(Aa, Sum):C(Bb, Sum):C(Dd, Sum)</th>\n",
       "      <td>1.0</td>\n",
       "      <td>2.000000e+00</td>\n",
       "      <td>2.000000e+00</td>\n",
       "      <td>2.091503e-01</td>\n",
       "      <td>6.535827e-01</td>\n",
       "    </tr>\n",
       "    <tr>\n",
       "      <th>C(Aa, Sum):C(Cc, Sum):C(Dd, Sum)</th>\n",
       "      <td>1.0</td>\n",
       "      <td>1.817536e-27</td>\n",
       "      <td>1.817536e-27</td>\n",
       "      <td>1.900691e-28</td>\n",
       "      <td>1.000000e+00</td>\n",
       "    </tr>\n",
       "    <tr>\n",
       "      <th>C(Bb, Sum):C(Cc, Sum):C(Dd, Sum)</th>\n",
       "      <td>1.0</td>\n",
       "      <td>1.250000e-01</td>\n",
       "      <td>1.250000e-01</td>\n",
       "      <td>1.307190e-02</td>\n",
       "      <td>9.103968e-01</td>\n",
       "    </tr>\n",
       "    <tr>\n",
       "      <th>C(Aa, Sum):C(Bb, Sum):C(Cc, Sum):C(Dd, Sum)</th>\n",
       "      <td>1.0</td>\n",
       "      <td>2.112500e+01</td>\n",
       "      <td>2.112500e+01</td>\n",
       "      <td>2.209150e+00</td>\n",
       "      <td>1.566329e-01</td>\n",
       "    </tr>\n",
       "    <tr>\n",
       "      <th>Residual</th>\n",
       "      <td>16.0</td>\n",
       "      <td>1.530000e+02</td>\n",
       "      <td>9.562500e+00</td>\n",
       "      <td>NaN</td>\n",
       "      <td>NaN</td>\n",
       "    </tr>\n",
       "  </tbody>\n",
       "</table>\n",
       "</div>"
      ],
      "text/plain": [
       "                                               df        sum_sq       mean_sq  \\\n",
       "C(Aa, Sum)                                    1.0  2.312000e+03  2.312000e+03   \n",
       "C(Bb, Sum)                                    1.0  2.112500e+01  2.112500e+01   \n",
       "C(Cc, Sum)                                    1.0  9.461250e+02  9.461250e+02   \n",
       "C(Dd, Sum)                                    1.0  5.611250e+02  5.611250e+02   \n",
       "C(Aa, Sum):C(Bb, Sum)                         1.0  1.250000e-01  1.250000e-01   \n",
       "C(Aa, Sum):C(Cc, Sum)                         1.0  3.125000e+00  3.125000e+00   \n",
       "C(Bb, Sum):C(Cc, Sum)                         1.0  5.000000e-01  5.000000e-01   \n",
       "C(Aa, Sum):C(Dd, Sum)                         1.0  6.661250e+02  6.661250e+02   \n",
       "C(Bb, Sum):C(Dd, Sum)                         1.0  1.250000e+01  1.250000e+01   \n",
       "C(Cc, Sum):C(Dd, Sum)                         1.0  1.250000e+01  1.250000e+01   \n",
       "C(Aa, Sum):C(Bb, Sum):C(Cc, Sum)              1.0  4.500000e+00  4.500000e+00   \n",
       "C(Aa, Sum):C(Bb, Sum):C(Dd, Sum)              1.0  2.000000e+00  2.000000e+00   \n",
       "C(Aa, Sum):C(Cc, Sum):C(Dd, Sum)              1.0  1.817536e-27  1.817536e-27   \n",
       "C(Bb, Sum):C(Cc, Sum):C(Dd, Sum)              1.0  1.250000e-01  1.250000e-01   \n",
       "C(Aa, Sum):C(Bb, Sum):C(Cc, Sum):C(Dd, Sum)   1.0  2.112500e+01  2.112500e+01   \n",
       "Residual                                     16.0  1.530000e+02  9.562500e+00   \n",
       "\n",
       "                                                        F        PR(>F)  \n",
       "C(Aa, Sum)                                   2.417778e+02  4.450669e-11  \n",
       "C(Bb, Sum)                                   2.209150e+00  1.566329e-01  \n",
       "C(Cc, Sum)                                   9.894118e+01  2.957845e-08  \n",
       "C(Dd, Sum)                                   5.867974e+01  9.692188e-07  \n",
       "C(Aa, Sum):C(Bb, Sum)                        1.307190e-02  9.103968e-01  \n",
       "C(Aa, Sum):C(Cc, Sum)                        3.267974e-01  5.754947e-01  \n",
       "C(Bb, Sum):C(Cc, Sum)                        5.228758e-02  8.220265e-01  \n",
       "C(Aa, Sum):C(Dd, Sum)                        6.966013e+01  3.186635e-07  \n",
       "C(Bb, Sum):C(Dd, Sum)                        1.307190e+00  2.697232e-01  \n",
       "C(Cc, Sum):C(Dd, Sum)                        1.307190e+00  2.697232e-01  \n",
       "C(Aa, Sum):C(Bb, Sum):C(Cc, Sum)             4.705882e-01  5.025369e-01  \n",
       "C(Aa, Sum):C(Bb, Sum):C(Dd, Sum)             2.091503e-01  6.535827e-01  \n",
       "C(Aa, Sum):C(Cc, Sum):C(Dd, Sum)             1.900691e-28  1.000000e+00  \n",
       "C(Bb, Sum):C(Cc, Sum):C(Dd, Sum)             1.307190e-02  9.103968e-01  \n",
       "C(Aa, Sum):C(Bb, Sum):C(Cc, Sum):C(Dd, Sum)  2.209150e+00  1.566329e-01  \n",
       "Residual                                              NaN           NaN  "
      ]
     },
     "execution_count": 6,
     "metadata": {},
     "output_type": "execute_result"
    }
   ],
   "source": [
    "fit = ols('Yy ~ C(Aa, Sum)*C(Bb, Sum)*C(Cc, Sum)*C(Dd, Sum)', data=df).fit()\n",
    "anova_lm(fit)"
   ]
  },
  {
   "cell_type": "markdown",
   "id": "b9ee2303",
   "metadata": {},
   "source": [
    "Wir werten nun die Interaktion aus, somit verwenden wir das * statt +.   \n",
    "Die Variablen A (Art des Süssungsmittel) und C (Kohlensäuregehalt) zeigen eine hochsigniﬁkante Interaktion. Es scheint, dass eine Kombination von Süssungsmittel und Kohlensäuregehalt einen sehr grossen positiven Einﬂuss auf den Geschmack hat und eine andere einen sehr grossen negativen. "
   ]
  },
  {
   "cell_type": "markdown",
   "id": "54edf49b",
   "metadata": {},
   "source": []
  }
 ],
 "metadata": {
  "kernelspec": {
   "display_name": "stoc",
   "language": "python",
   "name": "python3"
  },
  "language_info": {
   "codemirror_mode": {
    "name": "ipython",
    "version": 3
   },
   "file_extension": ".py",
   "mimetype": "text/x-python",
   "name": "python",
   "nbconvert_exporter": "python",
   "pygments_lexer": "ipython3",
   "version": "3.12.0"
  }
 },
 "nbformat": 4,
 "nbformat_minor": 5
}
