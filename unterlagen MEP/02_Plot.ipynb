{
 "cells": [
  {
   "cell_type": "code",
   "execution_count": 1,
   "metadata": {},
   "outputs": [],
   "source": [
    "import numpy as np\n",
    "import matplotlib.pyplot as plt\n",
    "from scipy.stats import beta, binom"
   ]
  },
  {
   "cell_type": "code",
   "execution_count": null,
   "metadata": {},
   "outputs": [],
   "source": [
    "# Likelihood\n",
    "N = 10\n",
    "z = 3\n",
    "\n",
    "x = np.linspace(0, 1, 1000)\n",
    "\n",
    "# Likelihood-Funktion\n",
    "likelihood = binom.pmf(z, N, x)\n",
    "plt.figure(figsize=(10, 6))\n",
    "plt.fill_between(x, likelihood, alpha=0.5, label=f'Likelihood: Binom({z}, {N})')\n",
    "\n",
    "plt.xlabel('θ')\n",
    "plt.ylabel('P(D|θ')\n",
    "plt.title('Likelihood')\n",
    "plt.legend()\n",
    "plt.grid(True)\n",
    "plt.show()\n"
   ]
  },
  {
   "cell_type": "code",
   "execution_count": null,
   "metadata": {},
   "outputs": [],
   "source": [
    "# Prior\n",
    "a = 4\n",
    "b = 4\n",
    "\n",
    "x = np.linspace(0, 1, 1000)\n",
    "prior = beta.pdf(x, a, b)\n",
    "\n",
    "plt.figure(figsize=(10, 6))\n",
    "plt.fill_between(x, prior, alpha=0.5, label=f'Prior: Beta({a}, {b})')\n",
    "\n",
    "plt.xlabel('θ')\n",
    "plt.ylabel('Beta(θ|a,b)')\n",
    "plt.title('Prior')\n",
    "plt.legend()\n",
    "plt.grid(True)\n",
    "plt.show()\n"
   ]
  },
  {
   "cell_type": "code",
   "execution_count": null,
   "metadata": {},
   "outputs": [],
   "source": [
    "# Posterior\n",
    "a = 10\n",
    "b = 6\n",
    "\n",
    "x = np.linspace(0, 1, 1000)\n",
    "posterior = beta.pdf(x, a, b)\n",
    "hdi_low, hdi_high = beta.interval(0.95, a, b)\n",
    "\n",
    "plt.figure(figsize=(10, 6))\n",
    "plt.fill_between(x, posterior, alpha=0.5, label=f'Posterior: Beta({a}, {b})')\n",
    "\n",
    "# HDI Bereich markieren\n",
    "plt.axvline(hdi_low, color='red', linestyle='--', label=f'95% HDI: {hdi_low:.3f}')\n",
    "plt.axvline(hdi_high, color='red', linestyle='--', label=f'95% HDI: {hdi_high:.3f}')\n",
    "\n",
    "plt.xlabel('θ')\n",
    "plt.ylabel('Beta(θ|a,b)')\n",
    "plt.title('Posterior')\n",
    "plt.legend()\n",
    "plt.grid(True)\n",
    "plt.show()"
   ]
  },
  {
   "cell_type": "code",
   "execution_count": null,
   "metadata": {},
   "outputs": [],
   "source": [
    "# Combined: \n",
    "import numpy as np\n",
    "import matplotlib.pyplot as plt\n",
    "from scipy.stats import beta, binom\n",
    "\n",
    "# Eingabewerte für die Prior-Verteilung\n",
    "a_prior = 2\n",
    "b_prior = 2\n",
    "\n",
    "# Daten für die Likelihood-Funktion\n",
    "n_trials = 10\n",
    "n_successes = 7\n",
    "\n",
    "# Eingabewerte für die Posterior-Verteilung\n",
    "a_post = a_prior + n_successes\n",
    "b_post = b_prior + (n_trials - n_successes)\n",
    "\n",
    "# x-Werte für die Verteilungen\n",
    "x = np.linspace(0, 1, 1000)\n",
    "\n",
    "# Prior-Verteilung\n",
    "prior = beta.pdf(x, a_prior, b_prior)\n",
    "\n",
    "# Likelihood-Funktion\n",
    "likelihood = binom.pmf(n_successes, n_trials, x)\n",
    "\n",
    "# Posterior-Verteilung\n",
    "posterior = beta.pdf(x, a_post, b_post)\n",
    "\n",
    "# Berechnung des 95% HDI für die Posterior-Verteilung\n",
    "hdi_low, hdi_high = beta.interval(0.95, a_post, b_post)\n",
    "\n",
    "# Plotten der Verteilungen\n",
    "plt.figure(figsize=(10, 6))\n",
    "\n",
    "plt.fill_between(x, prior, alpha=0.5, label=f'Prior: Beta({a_prior}, {b_prior})')\n",
    "plt.fill_between(x, likelihood, alpha=0.5, label=f'Likelihood: Binom({n_trials}, {n_successes})')\n",
    "plt.fill_between(x, posterior, alpha=0.5, label=f'Posterior: Beta({a_post}, {b_post})')\n",
    "\n",
    "# HDI Bereich markieren\n",
    "plt.axvline(hdi_low, color='red', linestyle='--', label=f'95% HDI: {hdi_low:.3f}')\n",
    "plt.axvline(hdi_high, color='red', linestyle='--', label=f'95% HDI: {hdi_high:.3f}')\n",
    "\n",
    "plt.xlabel('x')\n",
    "plt.ylabel('Density')\n",
    "plt.title('Prior, Likelihood, and Posterior Distributions with 95% HDI')\n",
    "plt.legend()\n",
    "plt.grid(True)\n",
    "plt.show()"
   ]
  },
  {
   "cell_type": "code",
   "execution_count": null,
   "metadata": {},
   "outputs": [],
   "source": []
  }
 ],
 "metadata": {
  "kernelspec": {
   "display_name": "stoc",
   "language": "python",
   "name": "python3"
  },
  "language_info": {
   "codemirror_mode": {
    "name": "ipython",
    "version": 3
   },
   "file_extension": ".py",
   "mimetype": "text/x-python",
   "name": "python",
   "nbconvert_exporter": "python",
   "pygments_lexer": "ipython3",
   "version": "3.12.0"
  }
 },
 "nbformat": 4,
 "nbformat_minor": 2
}
