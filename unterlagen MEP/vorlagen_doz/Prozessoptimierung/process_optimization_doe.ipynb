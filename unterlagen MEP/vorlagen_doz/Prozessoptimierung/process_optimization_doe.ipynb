{
 "cells": [
  {
   "cell_type": "markdown",
   "id": "27def3bf-f1c1-4f63-8aad-28ed943628f7",
   "metadata": {},
   "source": [
    "# Prozessoptimierung\n",
    "\n",
    "## Beispiel: Jitter von CD's und Disc's"
   ]
  },
  {
   "cell_type": "code",
   "execution_count": 1,
   "id": "a7b397ca-c79f-4f48-bfd0-1e5adfc4c01f",
   "metadata": {},
   "outputs": [
    {
     "name": "stdout",
     "output_type": "stream",
     "text": [
      "   Aa Bb Cc  Yy\n",
      "0  -1 -1 -1  34\n",
      "1   1 -1 -1  26\n",
      "2  -1  1 -1  33\n",
      "3   1  1 -1  21\n",
      "4  -1 -1  1  24\n",
      "5   1 -1  1  23\n",
      "6  -1  1  1  19\n",
      "7   1  1  1  18\n",
      "8  -1 -1 -1  40\n",
      "9   1 -1 -1  29\n",
      "10 -1  1 -1  35\n",
      "11  1  1 -1  22\n",
      "12 -1 -1  1  23\n",
      "13  1 -1  1  22\n",
      "14 -1  1  1  18\n",
      "15  1  1  1  18\n"
     ]
    }
   ],
   "source": [
    "import numpy as np\n",
    "import pandas as pd\n",
    "from statsmodels.formula.api import ols\n",
    "from patsy.contrasts import Treatment, Sum\n",
    "from statsmodels.stats.anova import anova_lm\n",
    "df = pd.DataFrame({\"Aa\": np.tile(np.tile([-1, 1], 4),2),\n",
    "\"Bb\": np.tile(np.repeat([-1,1], [2,2]),4),\n",
    "\"Cc\": np.tile(np.repeat([-1,1], [4,4]),2)},\n",
    "dtype=\"category\")\n",
    "df[\"Yy\"] = np.array([34,26,33,21,24,23,19,18,40,29,35,22,23,22,18,18])\n",
    "print(df)"
   ]
  },
  {
   "cell_type": "code",
   "execution_count": 2,
   "id": "dd5e6edc-6b5f-4248-907b-a525d8b49591",
   "metadata": {},
   "outputs": [
    {
     "data": {
      "text/plain": [
       "Intercept                                             25.3125\n",
       "C(Aa, Sum)[S.-1]                                       2.9375\n",
       "C(Bb, Sum)[S.-1]                                       2.3125\n",
       "C(Cc, Sum)[S.-1]                                       4.6875\n",
       "C(Aa, Sum)[S.-1]:C(Bb, Sum)[S.-1]                     -0.3125\n",
       "C(Aa, Sum)[S.-1]:C(Cc, Sum)[S.-1]                      2.5625\n",
       "C(Bb, Sum)[S.-1]:C(Cc, Sum)[S.-1]                     -0.0625\n",
       "C(Aa, Sum)[S.-1]:C(Bb, Sum)[S.-1]:C(Cc, Sum)[S.-1]    -0.4375\n",
       "dtype: float64"
      ]
     },
     "execution_count": 2,
     "metadata": {},
     "output_type": "execute_result"
    }
   ],
   "source": [
    "fit = ols(\"Yy ~ C(Aa, Sum)*C(Bb, Sum)*C(Cc, Sum)\", data=df).fit()\n",
    "fit.params"
   ]
  },
  {
   "cell_type": "code",
   "execution_count": 3,
   "id": "cd35a7a5-5d43-4d3d-9805-b5868f6fbfd1",
   "metadata": {},
   "outputs": [
    {
     "data": {
      "text/html": [
       "<div>\n",
       "<style scoped>\n",
       "    .dataframe tbody tr th:only-of-type {\n",
       "        vertical-align: middle;\n",
       "    }\n",
       "\n",
       "    .dataframe tbody tr th {\n",
       "        vertical-align: top;\n",
       "    }\n",
       "\n",
       "    .dataframe thead th {\n",
       "        text-align: right;\n",
       "    }\n",
       "</style>\n",
       "<table border=\"1\" class=\"dataframe\">\n",
       "  <thead>\n",
       "    <tr style=\"text-align: right;\">\n",
       "      <th></th>\n",
       "      <th>df</th>\n",
       "      <th>sum_sq</th>\n",
       "      <th>mean_sq</th>\n",
       "      <th>F</th>\n",
       "      <th>PR(&gt;F)</th>\n",
       "    </tr>\n",
       "  </thead>\n",
       "  <tbody>\n",
       "    <tr>\n",
       "      <th>C(Aa, Sum)</th>\n",
       "      <td>1.0</td>\n",
       "      <td>138.0625</td>\n",
       "      <td>138.0625</td>\n",
       "      <td>41.679245</td>\n",
       "      <td>0.000197</td>\n",
       "    </tr>\n",
       "    <tr>\n",
       "      <th>C(Bb, Sum)</th>\n",
       "      <td>1.0</td>\n",
       "      <td>85.5625</td>\n",
       "      <td>85.5625</td>\n",
       "      <td>25.830189</td>\n",
       "      <td>0.000950</td>\n",
       "    </tr>\n",
       "    <tr>\n",
       "      <th>C(Cc, Sum)</th>\n",
       "      <td>1.0</td>\n",
       "      <td>351.5625</td>\n",
       "      <td>351.5625</td>\n",
       "      <td>106.132075</td>\n",
       "      <td>0.000007</td>\n",
       "    </tr>\n",
       "    <tr>\n",
       "      <th>C(Aa, Sum):C(Bb, Sum)</th>\n",
       "      <td>1.0</td>\n",
       "      <td>1.5625</td>\n",
       "      <td>1.5625</td>\n",
       "      <td>0.471698</td>\n",
       "      <td>0.511620</td>\n",
       "    </tr>\n",
       "    <tr>\n",
       "      <th>C(Aa, Sum):C(Cc, Sum)</th>\n",
       "      <td>1.0</td>\n",
       "      <td>105.0625</td>\n",
       "      <td>105.0625</td>\n",
       "      <td>31.716981</td>\n",
       "      <td>0.000492</td>\n",
       "    </tr>\n",
       "    <tr>\n",
       "      <th>C(Bb, Sum):C(Cc, Sum)</th>\n",
       "      <td>1.0</td>\n",
       "      <td>0.0625</td>\n",
       "      <td>0.0625</td>\n",
       "      <td>0.018868</td>\n",
       "      <td>0.894140</td>\n",
       "    </tr>\n",
       "    <tr>\n",
       "      <th>C(Aa, Sum):C(Bb, Sum):C(Cc, Sum)</th>\n",
       "      <td>1.0</td>\n",
       "      <td>3.0625</td>\n",
       "      <td>3.0625</td>\n",
       "      <td>0.924528</td>\n",
       "      <td>0.364446</td>\n",
       "    </tr>\n",
       "    <tr>\n",
       "      <th>Residual</th>\n",
       "      <td>8.0</td>\n",
       "      <td>26.5000</td>\n",
       "      <td>3.3125</td>\n",
       "      <td>NaN</td>\n",
       "      <td>NaN</td>\n",
       "    </tr>\n",
       "  </tbody>\n",
       "</table>\n",
       "</div>"
      ],
      "text/plain": [
       "                                   df    sum_sq   mean_sq           F  \\\n",
       "C(Aa, Sum)                        1.0  138.0625  138.0625   41.679245   \n",
       "C(Bb, Sum)                        1.0   85.5625   85.5625   25.830189   \n",
       "C(Cc, Sum)                        1.0  351.5625  351.5625  106.132075   \n",
       "C(Aa, Sum):C(Bb, Sum)             1.0    1.5625    1.5625    0.471698   \n",
       "C(Aa, Sum):C(Cc, Sum)             1.0  105.0625  105.0625   31.716981   \n",
       "C(Bb, Sum):C(Cc, Sum)             1.0    0.0625    0.0625    0.018868   \n",
       "C(Aa, Sum):C(Bb, Sum):C(Cc, Sum)  1.0    3.0625    3.0625    0.924528   \n",
       "Residual                          8.0   26.5000    3.3125         NaN   \n",
       "\n",
       "                                    PR(>F)  \n",
       "C(Aa, Sum)                        0.000197  \n",
       "C(Bb, Sum)                        0.000950  \n",
       "C(Cc, Sum)                        0.000007  \n",
       "C(Aa, Sum):C(Bb, Sum)             0.511620  \n",
       "C(Aa, Sum):C(Cc, Sum)             0.000492  \n",
       "C(Bb, Sum):C(Cc, Sum)             0.894140  \n",
       "C(Aa, Sum):C(Bb, Sum):C(Cc, Sum)  0.364446  \n",
       "Residual                               NaN  "
      ]
     },
     "execution_count": 3,
     "metadata": {},
     "output_type": "execute_result"
    }
   ],
   "source": [
    "df[\"Yy\"] = np.array([34,26,33,21,24,23,19,18,40,29,35,22,23,22,18,18])\n",
    "fit = ols(\"Yy ~ C(Aa, Sum)*C(Bb, Sum)*C(Cc, Sum)\", data=df).fit()\n",
    "anova_lm(fit)"
   ]
  },
  {
   "cell_type": "code",
   "execution_count": 4,
   "id": "c2b9da26-5389-4905-8680-87ffb925402c",
   "metadata": {},
   "outputs": [
    {
     "data": {
      "text/plain": [
       "Intercept                                             25.3125\n",
       "C(Aa, Sum)[S.-1]                                       2.9375\n",
       "C(Bb, Sum)[S.-1]                                       2.3125\n",
       "C(Cc, Sum)[S.-1]                                       4.6875\n",
       "C(Aa, Sum)[S.-1]:C(Bb, Sum)[S.-1]                     -0.3125\n",
       "C(Aa, Sum)[S.-1]:C(Cc, Sum)[S.-1]                      2.5625\n",
       "C(Bb, Sum)[S.-1]:C(Cc, Sum)[S.-1]                     -0.0625\n",
       "C(Aa, Sum)[S.-1]:C(Bb, Sum)[S.-1]:C(Cc, Sum)[S.-1]    -0.4375\n",
       "dtype: float64"
      ]
     },
     "execution_count": 4,
     "metadata": {},
     "output_type": "execute_result"
    }
   ],
   "source": [
    "fit = ols(\"Yy ~ C(Aa, Sum)*C(Bb, Sum)*C(Cc, Sum)\", data=df).fit()\n",
    "fit.params"
   ]
  },
  {
   "cell_type": "markdown",
   "id": "8037e79a-88ed-4537-a833-bad0e08ceed6",
   "metadata": {},
   "source": [
    "## Beispiel: Reaktionsanalyse"
   ]
  },
  {
   "cell_type": "code",
   "execution_count": 5,
   "id": "f6e67fc2-9525-444c-936f-48446f00d636",
   "metadata": {},
   "outputs": [
    {
     "data": {
      "text/plain": [
       "Intercept    3.00\n",
       "x1           0.25\n",
       "x2           0.40\n",
       "dtype: float64"
      ]
     },
     "execution_count": 5,
     "metadata": {},
     "output_type": "execute_result"
    }
   ],
   "source": [
    "import numpy as np\n",
    "import pandas as pd\n",
    "from statsmodels.formula.api import ols\n",
    "from patsy.contrasts import Treatment, Sum\n",
    "from statsmodels.stats.anova import anova_lm\n",
    "reakt = pd.DataFrame(\n",
    "{\"x1\": np.array([120,160,120,160,140,140]),\n",
    "\"x2\": np.array([50,50,70,70,60,60]),\n",
    "\"y\": np.array([52,62,60,70,63,65])\n",
    "}\n",
    ")\n",
    "fit = ols(\"y~x1+x2\",data=reakt).fit()\n",
    "fit.params"
   ]
  },
  {
   "cell_type": "markdown",
   "id": "1fdd3387-769d-4266-b7bf-1072df749fa5",
   "metadata": {},
   "source": [
    "Mit kodierten Variablen:"
   ]
  },
  {
   "cell_type": "code",
   "execution_count": 6,
   "id": "040b9d4a-dada-448d-8676-06f84eec81dc",
   "metadata": {},
   "outputs": [
    {
     "data": {
      "text/plain": [
       "Intercept    62.0\n",
       "x1            5.0\n",
       "x2            4.0\n",
       "dtype: float64"
      ]
     },
     "execution_count": 6,
     "metadata": {},
     "output_type": "execute_result"
    }
   ],
   "source": [
    "reakt = pd.DataFrame(\n",
    "{\"x1\": np.array([-1,1,-1,1,0,0]),\n",
    "\"x2\": np.array([-1,-1,1,1,0,0]),\n",
    "\"y\": np.array([52,62,60,70,63,65])\n",
    "}\n",
    ")\n",
    "fit = ols(\"y~x1+x2\",data=reakt).fit()\n",
    "fit.params"
   ]
  },
  {
   "cell_type": "code",
   "execution_count": 7,
   "id": "8120720d-47c9-421e-ba3c-f2580bb99bec",
   "metadata": {},
   "outputs": [
    {
     "data": {
      "text/plain": [
       "Intercept        -277.587423\n",
       "Zeit                3.229716\n",
       "Temp                2.024201\n",
       "I(Temp * Temp)     -0.005960\n",
       "I(Zeit * Zeit)     -0.026390\n",
       "I(Zeit * Temp)      0.006250\n",
       "dtype: float64"
      ]
     },
     "execution_count": 7,
     "metadata": {},
     "output_type": "execute_result"
    }
   ],
   "source": [
    "reakt = pd.DataFrame(\n",
    "{\"Zeit\": np.array([80,80,100,100,90,90,76,104,90]),\n",
    "\"Temp\": np.array([195,235,195,235,187,243,215,215,215]),\n",
    "\"y\": np.array([78,76,72,75,74,76,77,72,80])\n",
    "}\n",
    ")\n",
    "fit = ols(\"y~Zeit+Temp+I(Temp*Temp)+I(Zeit*Zeit)+I(Zeit*Temp)\",data=reakt).fit()\n",
    "fit.params"
   ]
  }
 ],
 "metadata": {
  "kernelspec": {
   "display_name": "Python 3 (ipykernel)",
   "language": "python",
   "name": "python3"
  },
  "language_info": {
   "codemirror_mode": {
    "name": "ipython",
    "version": 3
   },
   "file_extension": ".py",
   "mimetype": "text/x-python",
   "name": "python",
   "nbconvert_exporter": "python",
   "pygments_lexer": "ipython3",
   "version": "3.9.12"
  }
 },
 "nbformat": 4,
 "nbformat_minor": 5
}
