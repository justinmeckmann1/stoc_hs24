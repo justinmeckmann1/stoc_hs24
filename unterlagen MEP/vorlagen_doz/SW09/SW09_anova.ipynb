{
 "cells": [
  {
   "cell_type": "markdown",
   "metadata": {},
   "source": [
    "# Varianz-Analyse"
   ]
  },
  {
   "cell_type": "markdown",
   "metadata": {
    "tags": []
   },
   "source": [
    "## Beispiel: Reissfestigkeit von Papier\n",
    "\n",
    "### Paarweise t-Tests"
   ]
  },
  {
   "cell_type": "code",
   "execution_count": null,
   "metadata": {},
   "outputs": [],
   "source": [
    "from pandas import DataFrame\n",
    "import scipy.stats as st\n",
    "import numpy as np\n",
    "\n",
    "rf = DataFrame({\n",
    "    \"HC\": np.repeat([\"05%\", \"10%\", \"15%\", \"20%\"], [6, 6, 6, 6]),\n",
    "    \"Strength\":[7, 8, 15, 11, 9, 10, 12, 17, 13, 18, 19, 15, 14, 18, 19, 17, 16, 18, 19, 25, 22, 23, 18, 20]\n",
    "})\n",
    "print(rf)\n",
    "per5 = rf.loc[rf[\"HC\"]==\"05%\", \"Strength\"]\n",
    "per10 = rf.loc[rf[\"HC\"]==\"10%\", \"Strength\"]\n",
    "per15 = rf.loc[rf[\"HC\"]==\"15%\", \"Strength\"]\n",
    "per20 = rf.loc[rf[\"HC\"]==\"20%\", \"Strength\"]"
   ]
  },
  {
   "cell_type": "code",
   "execution_count": null,
   "metadata": {},
   "outputs": [],
   "source": [
    "st.ttest_ind(per10,per20)\n",
    "print(st.ttest_ind(per10,per20))"
   ]
  },
  {
   "cell_type": "markdown",
   "metadata": {},
   "source": [
    "### Stripcharts"
   ]
  },
  {
   "cell_type": "code",
   "execution_count": null,
   "metadata": {},
   "outputs": [],
   "source": [
    "%matplotlib inline\n",
    "from pandas import DataFrame\n",
    "import pandas as pd\n",
    "import numpy as np\n",
    "import scipy.stats as st\n",
    "from statsmodels.formula.api import ols\n",
    "from statsmodels.stats.anova import anova_lm\n",
    "from statsmodels.stats.outliers_influence import summary_table\n",
    "import matplotlib.pyplot as plt\n",
    "from scipy import stats\n",
    "\n",
    "rf.plot(kind=\"scatter\", x=\"HC\", y=\"Strength\")\n",
    "\n",
    "plt.xlabel(\"Hartholzkonzentration\")\n",
    "plt.ylabel(\"Reissfestigkeit\")\n",
    "\n",
    "plt.show()"
   ]
  },
  {
   "cell_type": "markdown",
   "metadata": {},
   "source": [
    "### Boxplots"
   ]
  },
  {
   "cell_type": "code",
   "execution_count": null,
   "metadata": {},
   "outputs": [],
   "source": [
    "rf.boxplot(column=\"Strength\",by=\"HC\",grid=False)\n",
    "\n",
    "plt.xlabel(\"Hartholzkonzentration\")\n",
    "plt.ylabel(\"Reissfestigkeit\")\n",
    "\n",
    "plt.show()"
   ]
  },
  {
   "cell_type": "markdown",
   "metadata": {},
   "source": [
    "## Koeffizienten des Gruppenmittelmodells"
   ]
  },
  {
   "cell_type": "code",
   "execution_count": null,
   "metadata": {},
   "outputs": [],
   "source": [
    "fit = ols(\"Strength~HC\",data=rf).fit()\n",
    "fit.summary()"
   ]
  },
  {
   "cell_type": "code",
   "execution_count": null,
   "metadata": {},
   "outputs": [],
   "source": [
    "print(fit.params)"
   ]
  },
  {
   "cell_type": "markdown",
   "metadata": {},
   "source": [
    "## Vertrauensintervalle"
   ]
  },
  {
   "cell_type": "code",
   "execution_count": null,
   "metadata": {},
   "outputs": [],
   "source": [
    "fit_pred = fit.get_prediction()\n",
    "print(fit_pred.conf_int())"
   ]
  },
  {
   "cell_type": "markdown",
   "metadata": {},
   "source": [
    "## Beispiel: Meat"
   ]
  },
  {
   "cell_type": "markdown",
   "metadata": {},
   "source": [
    "### Stripcharts"
   ]
  },
  {
   "cell_type": "code",
   "execution_count": null,
   "metadata": {},
   "outputs": [],
   "source": [
    "%matplotlib inline\n",
    "from pandas import DataFrame\n",
    "import pandas as pd\n",
    "import numpy as np\n",
    "import scipy.stats as st\n",
    "from statsmodels.formula.api import ols\n",
    "from statsmodels.stats.anova import anova_lm\n",
    "from statsmodels.stats.outliers_influence import summary_table\n",
    "import matplotlib.pyplot as plt\n",
    "from scipy import stats\n",
    "\n",
    "meat = DataFrame({\n",
    "    \"Treatment\": np.repeat([\"Kommerziell\",\"Vakuum\",\"Gemischt\",\"CO2\"], [3, 3, 3, 3]),\n",
    "    \"steak_id\":[7.66, 6.98, 7.80, 5.26, 5.44, 5.80, 7.41, 7.33, 7.04, 3.51, 2.91, 3.66]\n",
    "})\n",
    "print(meat)"
   ]
  },
  {
   "cell_type": "code",
   "execution_count": null,
   "metadata": {},
   "outputs": [],
   "source": [
    "meat.plot(kind=\"scatter\", x=\"Treatment\", y=\"steak_id\")\n",
    "\n",
    "plt.xlabel(\"Verpackungsmethode\")\n",
    "plt.ylabel(\"Logarithmus Bakterienzahl\")\n",
    "\n",
    "plt.show()"
   ]
  },
  {
   "cell_type": "markdown",
   "metadata": {},
   "source": [
    "## Boxplots"
   ]
  },
  {
   "cell_type": "code",
   "execution_count": null,
   "metadata": {},
   "outputs": [],
   "source": [
    "meat.boxplot(column=\"steak_id\",by=\"Treatment\",grid=False)\n",
    "\n",
    "plt.xlabel(\"Verpackungsmethode\")\n",
    "plt.ylabel(\"Logarithmus Bakterienzahl\")\n",
    "\n",
    "plt.show()"
   ]
  },
  {
   "cell_type": "markdown",
   "metadata": {},
   "source": [
    "## Paarweise t-Tests"
   ]
  },
  {
   "cell_type": "code",
   "execution_count": null,
   "metadata": {},
   "outputs": [],
   "source": [
    "kommerziell = meat.loc[meat[\"Treatment\"]==\"Kommerziell\", \"steak_id\"]\n",
    "print(kommerziell)\n",
    "vakuum = meat.loc[meat[\"Treatment\"]==\"Vakuum\", \"steak_id\"]\n",
    "print(vakuum)\n",
    "print(st.ttest_ind(kommerziell, vakuum))"
   ]
  },
  {
   "cell_type": "markdown",
   "metadata": {},
   "source": [
    "## Gruppenmittelmodell : Summary"
   ]
  },
  {
   "cell_type": "code",
   "execution_count": null,
   "metadata": {},
   "outputs": [],
   "source": [
    "fit = ols(\"steak_id~Treatment\",data=meat).fit()\n",
    "fit.summary()"
   ]
  },
  {
   "cell_type": "markdown",
   "metadata": {},
   "source": [
    "## Gruppenmittelmodell : Parameterwerte"
   ]
  },
  {
   "cell_type": "code",
   "execution_count": null,
   "metadata": {},
   "outputs": [],
   "source": [
    "print(fit.params)"
   ]
  },
  {
   "cell_type": "markdown",
   "metadata": {},
   "source": [
    "Die Parametrisierung wurde so gewählt, dass $\\mu=\\mu_1=3.36$, d.h. \n",
    "$\\tau_1=0$.\n",
    "Die behandlungsspezifischen Abweichungen sind $\\tau_2=3.90$, \n",
    "$\\tau_3=4.12$ und $\\tau_4=2.14$. D.h. $\\mu_2=\\mu +\\tau_2 = 3.36+3.90$.\n"
   ]
  },
  {
   "cell_type": "markdown",
   "metadata": {},
   "source": [
    "## Vertrauensintervalle für Gruppenmittelwerte"
   ]
  },
  {
   "cell_type": "code",
   "execution_count": null,
   "metadata": {},
   "outputs": [],
   "source": [
    "fit_pred = fit.get_prediction()\n",
    "print(fit_pred.conf_int())"
   ]
  },
  {
   "cell_type": "markdown",
   "metadata": {},
   "source": [
    "Python gibt hier direkt die Vertrauensintervalle der Gruppenmittelwerte $\\mu_i$ an und nicht die Vertrauensintervalle der behandlungsspezifischen Abweichungen."
   ]
  },
  {
   "cell_type": "markdown",
   "metadata": {},
   "source": [
    "# Anova Tabelle"
   ]
  },
  {
   "cell_type": "code",
   "execution_count": null,
   "metadata": {},
   "outputs": [],
   "source": [
    "fit = ols(\"steak_id~Treatment\",data=meat).fit()\n",
    "anova_lm(fit)\n",
    "print(anova_lm(fit))"
   ]
  },
  {
   "cell_type": "markdown",
   "metadata": {},
   "source": [
    "Der $P$-Wert von  $1\\cdot 10^{-6}$ besagt, dass ein Effekt von unterschiedlichen \n",
    "Verpackungsmethoden signifikant auf dem 5% Niveau nachgewiesen \n",
    "werden kann. Die Gruppenmittelwerte unterscheiden sich also signifikant. "
   ]
  }
 ],
 "metadata": {
  "anaconda-cloud": {},
  "kernelspec": {
   "display_name": "Python 3 (ipykernel)",
   "language": "python",
   "name": "python3"
  },
  "language_info": {
   "codemirror_mode": {
    "name": "ipython",
    "version": 3
   },
   "file_extension": ".py",
   "mimetype": "text/x-python",
   "name": "python",
   "nbconvert_exporter": "python",
   "pygments_lexer": "ipython3",
   "version": "3.11.7"
  }
 },
 "nbformat": 4,
 "nbformat_minor": 4
}
