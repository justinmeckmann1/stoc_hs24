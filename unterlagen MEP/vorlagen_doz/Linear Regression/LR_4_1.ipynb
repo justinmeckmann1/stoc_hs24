{
 "cells": [
  {
   "cell_type": "markdown",
   "id": "e9182563-8464-4293-851e-f604a8b735f5",
   "metadata": {},
   "source": [
    "# Beispiel 4.1\n",
    "\n",
    "Obwohl `pymc` eine intuitive Syntax für beliebige Modelle bietet, \n",
    "kann diese für bestimmte Anwendungen dennoch unübersichtlich werden. `Bambi` fokussiert sich auf Regressionsmodelle und bietet eine eingängige Syntax, welche sich an der Statistiksoftware `R` orientiert. "
   ]
  },
  {
   "cell_type": "code",
   "execution_count": 30,
   "id": "9b297a0e-f8a2-4d90-9e54-c0aca8c9f5e0",
   "metadata": {
    "tags": []
   },
   "outputs": [],
   "source": [
    "import arviz as az\n",
    "import matplotlib.pyplot as plt\n",
    "import numpy as np\n",
    "import pandas as pd\n",
    "import pymc as pm\n",
    "import xarray as xr\n",
    "from scipy.interpolate import PchipInterpolator\n",
    "from scipy.stats import linregress"
   ]
  },
  {
   "cell_type": "code",
   "execution_count": 31,
   "id": "3f34cf56-8b10-4508-b280-da0637859962",
   "metadata": {
    "tags": []
   },
   "outputs": [
    {
     "name": "stdout",
     "output_type": "stream",
     "text": [
      "      TV  Radio  Zeitung  Verkauf\n",
      "0  230.1   37.8     69.2     22.1\n",
      "1   44.5   39.3     45.1     10.4\n",
      "2   17.2   45.9     69.3      9.3\n",
      "3  151.5   41.3     58.5     18.5\n",
      "4  180.8   10.8     58.4     12.9\n"
     ]
    }
   ],
   "source": [
    "import pandas as pd\n",
    "\n",
    "werbung = pd.read_csv(\"./Daten/Werbung.csv\").drop([\"Unnamed: 0\"], axis=1)\n",
    "\n",
    "werbung.head()\n",
    "print(werbung.head())"
   ]
  },
  {
   "cell_type": "code",
   "execution_count": 32,
   "id": "7c6d3aba-232f-4c8b-b4fb-7551b2e726ba",
   "metadata": {
    "tags": []
   },
   "outputs": [
    {
     "name": "stderr",
     "output_type": "stream",
     "text": [
      "Auto-assigning NUTS sampler...\n",
      "Initializing NUTS using jitter+adapt_diag...\n",
      "Multiprocess sampling (4 chains in 4 jobs)\n",
      "NUTS: [sigma, Intercept, TV]\n"
     ]
    },
    {
     "data": {
      "text/html": [
       "<pre style=\"white-space:pre;overflow-x:auto;line-height:normal;font-family:Menlo,'DejaVu Sans Mono',consolas,'Courier New',monospace\">/opt/conda/lib/python3.10/site-packages/rich/live.py:231: UserWarning: install \"ipywidgets\" for Jupyter support\n",
       "  warnings.warn('install \"ipywidgets\" for Jupyter support')\n",
       "</pre>\n"
      ],
      "text/plain": [
       "/opt/conda/lib/python3.10/site-packages/rich/live.py:231: UserWarning: install \"ipywidgets\" for Jupyter support\n",
       "  warnings.warn('install \"ipywidgets\" for Jupyter support')\n"
      ]
     },
     "metadata": {},
     "output_type": "display_data"
    },
    {
     "data": {
      "text/html": [
       "<pre style=\"white-space:pre;overflow-x:auto;line-height:normal;font-family:Menlo,'DejaVu Sans Mono',consolas,'Courier New',monospace\"></pre>\n"
      ],
      "text/plain": []
     },
     "metadata": {},
     "output_type": "display_data"
    },
    {
     "name": "stderr",
     "output_type": "stream",
     "text": [
      "Sampling 4 chains for 1_000 tune and 1_000 draw iterations (4_000 + 4_000 draws total) took 53 seconds.\n"
     ]
    },
    {
     "data": {
      "text/plain": [
       "       Formula: Verkauf ~ TV\n",
       "        Family: gaussian\n",
       "          Link: mu = identity\n",
       "  Observations: 200\n",
       "        Priors: \n",
       "    target = mu\n",
       "        Common-level effects\n",
       "            Intercept ~ Normal(mu: 14.0225, sigma: 25.8525)\n",
       "            TV ~ Normal(mu: 0.0, sigma: 0.1519)\n",
       "        \n",
       "        Auxiliary parameters\n",
       "            sigma ~ HalfStudentT(nu: 4.0, sigma: 5.2044)\n",
       "------\n",
       "* To see a plot of the priors call the .plot_priors() method.\n",
       "* To see a summary or plot of the posterior pass the object returned by .fit() to az.summary() or az.plot_trace()"
      ]
     },
     "execution_count": 32,
     "metadata": {},
     "output_type": "execute_result"
    }
   ],
   "source": [
    "import bambi as bmb\n",
    "model_t = bmb.Model(\"Verkauf ~ TV\", werbung)\n",
    "idata_t = model_t.fit(random_seed=123)\n",
    "model_t"
   ]
  },
  {
   "cell_type": "markdown",
   "id": "8aa849f8-900f-42df-9787-b11ad0138187",
   "metadata": {},
   "source": [
    "- Auf der linken Seite des Tilde Symbols ($\\sim$) steht die Zielvariable, auf der rechten Seite die Prädiktorvariable.\n",
    "- Standardmässig geht `Bambi` davon aus, dass die Likelihood-Funktion eine Normalverteilung ist. Dies kann mit Hilfe des Arguments `family` geändert werden. \n",
    "- Die Syntax erlaubt es nicht, Prior-Verteilungen zu spezifizieren, sondern bloss wie die Zielvariable mit der Prädiktorvariable zusammenhängt."
   ]
  },
  {
   "cell_type": "markdown",
   "id": "84e373bd-cde6-4b5f-bc37-b24bd3e0b8aa",
   "metadata": {},
   "source": [
    "Das Modell kann graphisch visualisiert werden, siehe folgende  Abbildung, und zwar mit Hilfe des folgenden Codes:"
   ]
  },
  {
   "cell_type": "code",
   "execution_count": 22,
   "id": "73f1ceee-38de-4e47-bfff-d98c96e6ad0a",
   "metadata": {
    "tags": []
   },
   "outputs": [
    {
     "data": {
      "image/svg+xml": [
       "<?xml version=\"1.0\" encoding=\"UTF-8\" standalone=\"no\"?>\n",
       "<!DOCTYPE svg PUBLIC \"-//W3C//DTD SVG 1.1//EN\"\n",
       " \"http://www.w3.org/Graphics/SVG/1.1/DTD/svg11.dtd\">\n",
       "<!-- Generated by graphviz version 2.43.0 (0)\n",
       " -->\n",
       "<!-- Title: %3 Pages: 1 -->\n",
       "<svg width=\"355pt\" height=\"344pt\"\n",
       " viewBox=\"0.00 0.00 355.40 343.86\" xmlns=\"http://www.w3.org/2000/svg\" xmlns:xlink=\"http://www.w3.org/1999/xlink\">\n",
       "<g id=\"graph0\" class=\"graph\" transform=\"scale(1 1) rotate(0) translate(4 339.86)\">\n",
       "<title>%3</title>\n",
       "<polygon fill=\"white\" stroke=\"transparent\" points=\"-4,4 -4,-339.86 351.4,-339.86 351.4,4 -4,4\"/>\n",
       "<g id=\"clust1\" class=\"cluster\">\n",
       "<title>cluster__obs__ (200)</title>\n",
       "<path fill=\"none\" stroke=\"black\" d=\"M59.5,-8C59.5,-8 165.5,-8 165.5,-8 171.5,-8 177.5,-14 177.5,-20 177.5,-20 177.5,-209.93 177.5,-209.93 177.5,-215.93 171.5,-221.93 165.5,-221.93 165.5,-221.93 59.5,-221.93 59.5,-221.93 53.5,-221.93 47.5,-215.93 47.5,-209.93 47.5,-209.93 47.5,-20 47.5,-20 47.5,-14 53.5,-8 59.5,-8\"/>\n",
       "<text text-anchor=\"middle\" x=\"122.5\" y=\"-15.8\" font-family=\"Times,serif\" font-size=\"14.00\">__obs__ (200)</text>\n",
       "</g>\n",
       "<!-- TV -->\n",
       "<g id=\"node1\" class=\"node\">\n",
       "<title>TV</title>\n",
       "<ellipse fill=\"none\" stroke=\"black\" cx=\"49.5\" cy=\"-298.38\" rx=\"49.49\" ry=\"37.45\"/>\n",
       "<text text-anchor=\"middle\" x=\"49.5\" y=\"-309.68\" font-family=\"Times,serif\" font-size=\"14.00\">TV</text>\n",
       "<text text-anchor=\"middle\" x=\"49.5\" y=\"-294.68\" font-family=\"Times,serif\" font-size=\"14.00\">~</text>\n",
       "<text text-anchor=\"middle\" x=\"49.5\" y=\"-279.68\" font-family=\"Times,serif\" font-size=\"14.00\">Normal</text>\n",
       "</g>\n",
       "<!-- mu -->\n",
       "<g id=\"node5\" class=\"node\">\n",
       "<title>mu</title>\n",
       "<polygon fill=\"none\" stroke=\"black\" points=\"169.5,-213.93 55.5,-213.93 55.5,-160.93 169.5,-160.93 169.5,-213.93\"/>\n",
       "<text text-anchor=\"middle\" x=\"112.5\" y=\"-198.73\" font-family=\"Times,serif\" font-size=\"14.00\">mu</text>\n",
       "<text text-anchor=\"middle\" x=\"112.5\" y=\"-183.73\" font-family=\"Times,serif\" font-size=\"14.00\">~</text>\n",
       "<text text-anchor=\"middle\" x=\"112.5\" y=\"-168.73\" font-family=\"Times,serif\" font-size=\"14.00\">Deterministic</text>\n",
       "</g>\n",
       "<!-- TV&#45;&gt;mu -->\n",
       "<g id=\"edge1\" class=\"edge\">\n",
       "<title>TV&#45;&gt;mu</title>\n",
       "<path fill=\"none\" stroke=\"black\" d=\"M68.91,-263.8C76.43,-250.8 85.04,-235.92 92.6,-222.84\"/>\n",
       "<polygon fill=\"black\" stroke=\"black\" points=\"95.67,-224.52 97.65,-214.11 89.61,-221.02 95.67,-224.52\"/>\n",
       "</g>\n",
       "<!-- sigma -->\n",
       "<g id=\"node2\" class=\"node\">\n",
       "<title>sigma</title>\n",
       "<ellipse fill=\"none\" stroke=\"black\" cx=\"267.5\" cy=\"-187.43\" rx=\"79.81\" ry=\"37.45\"/>\n",
       "<text text-anchor=\"middle\" x=\"267.5\" y=\"-198.73\" font-family=\"Times,serif\" font-size=\"14.00\">sigma</text>\n",
       "<text text-anchor=\"middle\" x=\"267.5\" y=\"-183.73\" font-family=\"Times,serif\" font-size=\"14.00\">~</text>\n",
       "<text text-anchor=\"middle\" x=\"267.5\" y=\"-168.73\" font-family=\"Times,serif\" font-size=\"14.00\">HalfStudentT</text>\n",
       "</g>\n",
       "<!-- Verkauf -->\n",
       "<g id=\"node4\" class=\"node\">\n",
       "<title>Verkauf</title>\n",
       "<ellipse fill=\"lightgrey\" stroke=\"black\" cx=\"115.5\" cy=\"-76.48\" rx=\"50.41\" ry=\"37.45\"/>\n",
       "<text text-anchor=\"middle\" x=\"115.5\" y=\"-87.78\" font-family=\"Times,serif\" font-size=\"14.00\">Verkauf</text>\n",
       "<text text-anchor=\"middle\" x=\"115.5\" y=\"-72.78\" font-family=\"Times,serif\" font-size=\"14.00\">~</text>\n",
       "<text text-anchor=\"middle\" x=\"115.5\" y=\"-57.78\" font-family=\"Times,serif\" font-size=\"14.00\">Normal</text>\n",
       "</g>\n",
       "<!-- sigma&#45;&gt;Verkauf -->\n",
       "<g id=\"edge3\" class=\"edge\">\n",
       "<title>sigma&#45;&gt;Verkauf</title>\n",
       "<path fill=\"none\" stroke=\"black\" d=\"M224.35,-155.5C203.98,-140.9 179.72,-123.51 159.28,-108.86\"/>\n",
       "<polygon fill=\"black\" stroke=\"black\" points=\"161.23,-105.95 151.06,-102.97 157.15,-111.64 161.23,-105.95\"/>\n",
       "</g>\n",
       "<!-- Intercept -->\n",
       "<g id=\"node3\" class=\"node\">\n",
       "<title>Intercept</title>\n",
       "<ellipse fill=\"none\" stroke=\"black\" cx=\"175.5\" cy=\"-298.38\" rx=\"58.88\" ry=\"37.45\"/>\n",
       "<text text-anchor=\"middle\" x=\"175.5\" y=\"-309.68\" font-family=\"Times,serif\" font-size=\"14.00\">Intercept</text>\n",
       "<text text-anchor=\"middle\" x=\"175.5\" y=\"-294.68\" font-family=\"Times,serif\" font-size=\"14.00\">~</text>\n",
       "<text text-anchor=\"middle\" x=\"175.5\" y=\"-279.68\" font-family=\"Times,serif\" font-size=\"14.00\">Normal</text>\n",
       "</g>\n",
       "<!-- Intercept&#45;&gt;mu -->\n",
       "<g id=\"edge2\" class=\"edge\">\n",
       "<title>Intercept&#45;&gt;mu</title>\n",
       "<path fill=\"none\" stroke=\"black\" d=\"M155.56,-262.91C148.2,-250.17 139.85,-235.73 132.48,-222.98\"/>\n",
       "<polygon fill=\"black\" stroke=\"black\" points=\"135.34,-220.95 127.31,-214.04 129.28,-224.45 135.34,-220.95\"/>\n",
       "</g>\n",
       "<!-- mu&#45;&gt;Verkauf -->\n",
       "<g id=\"edge4\" class=\"edge\">\n",
       "<title>mu&#45;&gt;Verkauf</title>\n",
       "<path fill=\"none\" stroke=\"black\" d=\"M113.2,-160.89C113.5,-149.98 113.86,-136.89 114.21,-124.35\"/>\n",
       "<polygon fill=\"black\" stroke=\"black\" points=\"117.72,-124.09 114.49,-114 110.72,-123.9 117.72,-124.09\"/>\n",
       "</g>\n",
       "</g>\n",
       "</svg>\n"
      ],
      "text/plain": [
       "<graphviz.graphs.Digraph at 0x7f62f723ce80>"
      ]
     },
     "execution_count": 22,
     "metadata": {},
     "output_type": "execute_result"
    }
   ],
   "source": [
    "model_t.graph(name=\"./bambi_linear_werbung_dag\")"
   ]
  },
  {
   "cell_type": "markdown",
   "id": "1506195c-7c4a-4882-a0d1-c5b1c60c908f",
   "metadata": {},
   "source": [
    "Mit `az.summary()` erhalten wir alle relevanten Information aus dem gefitteten Modell. "
   ]
  },
  {
   "cell_type": "code",
   "execution_count": 33,
   "id": "4f8cdfc9-ecfd-4a60-823e-7c03d97158d8",
   "metadata": {
    "tags": []
   },
   "outputs": [
    {
     "data": {
      "text/html": [
       "<div>\n",
       "<style scoped>\n",
       "    .dataframe tbody tr th:only-of-type {\n",
       "        vertical-align: middle;\n",
       "    }\n",
       "\n",
       "    .dataframe tbody tr th {\n",
       "        vertical-align: top;\n",
       "    }\n",
       "\n",
       "    .dataframe thead th {\n",
       "        text-align: right;\n",
       "    }\n",
       "</style>\n",
       "<table border=\"1\" class=\"dataframe\">\n",
       "  <thead>\n",
       "    <tr style=\"text-align: right;\">\n",
       "      <th></th>\n",
       "      <th>mean</th>\n",
       "      <th>sd</th>\n",
       "      <th>hdi_3%</th>\n",
       "      <th>hdi_97%</th>\n",
       "      <th>mcse_mean</th>\n",
       "      <th>mcse_sd</th>\n",
       "      <th>ess_bulk</th>\n",
       "      <th>ess_tail</th>\n",
       "      <th>r_hat</th>\n",
       "    </tr>\n",
       "  </thead>\n",
       "  <tbody>\n",
       "    <tr>\n",
       "      <th>Intercept</th>\n",
       "      <td>7.033</td>\n",
       "      <td>0.469</td>\n",
       "      <td>6.176</td>\n",
       "      <td>7.944</td>\n",
       "      <td>0.006</td>\n",
       "      <td>0.004</td>\n",
       "      <td>5886.0</td>\n",
       "      <td>3153.0</td>\n",
       "      <td>1.0</td>\n",
       "    </tr>\n",
       "    <tr>\n",
       "      <th>TV</th>\n",
       "      <td>0.048</td>\n",
       "      <td>0.003</td>\n",
       "      <td>0.043</td>\n",
       "      <td>0.053</td>\n",
       "      <td>0.000</td>\n",
       "      <td>0.000</td>\n",
       "      <td>6668.0</td>\n",
       "      <td>3114.0</td>\n",
       "      <td>1.0</td>\n",
       "    </tr>\n",
       "    <tr>\n",
       "      <th>sigma</th>\n",
       "      <td>3.277</td>\n",
       "      <td>0.164</td>\n",
       "      <td>2.968</td>\n",
       "      <td>3.580</td>\n",
       "      <td>0.002</td>\n",
       "      <td>0.001</td>\n",
       "      <td>6184.0</td>\n",
       "      <td>3096.0</td>\n",
       "      <td>1.0</td>\n",
       "    </tr>\n",
       "  </tbody>\n",
       "</table>\n",
       "</div>"
      ],
      "text/plain": [
       "            mean     sd  hdi_3%  hdi_97%  mcse_mean  mcse_sd  ess_bulk  \\\n",
       "Intercept  7.033  0.469   6.176    7.944      0.006    0.004    5886.0   \n",
       "TV         0.048  0.003   0.043    0.053      0.000    0.000    6668.0   \n",
       "sigma      3.277  0.164   2.968    3.580      0.002    0.001    6184.0   \n",
       "\n",
       "           ess_tail  r_hat  \n",
       "Intercept    3153.0    1.0  \n",
       "TV           3114.0    1.0  \n",
       "sigma        3096.0    1.0  "
      ]
     },
     "execution_count": 33,
     "metadata": {},
     "output_type": "execute_result"
    }
   ],
   "source": [
    "az.summary(idata_t)"
   ]
  },
  {
   "cell_type": "markdown",
   "id": "13e01f90-7cc4-43dc-9624-ad47107c46ca",
   "metadata": {},
   "source": [
    "Die standardmässigen Prior-Verteilungen können überschrieben werden, indem ein dictionary dem `priors` Argument im `bmb.Model` übergeben wird:"
   ]
  },
  {
   "cell_type": "code",
   "execution_count": 7,
   "id": "9d280833-eab4-471b-939a-c49125549179",
   "metadata": {
    "tags": []
   },
   "outputs": [
    {
     "data": {
      "text/plain": [
       "       Formula: Verkauf ~ TV\n",
       "        Family: gaussian\n",
       "          Link: mu = identity\n",
       "  Observations: 200\n",
       "        Priors: \n",
       "    target = mu\n",
       "        Common-level effects\n",
       "            Intercept ~ Normal(mu: 14.0225, sigma: 13.011)\n",
       "            TV ~ HalfNormal(sigma: 3.0)\n",
       "        \n",
       "        Auxiliary parameters\n",
       "            sigma ~ Gamma(mu: 1.0, sigma: 2.0)"
      ]
     },
     "execution_count": 7,
     "metadata": {},
     "output_type": "execute_result"
    }
   ],
   "source": [
    "priors = {\"TV\": bmb.Prior(\"HalfNormal\", sigma=3),\n",
    "          \"sigma\": bmb.Prior(\"Gamma\",  mu=1, sigma=2),\n",
    "          }\n",
    "a_model_wcp = bmb.Model(\"Verkauf ~ TV\", werbung, priors=priors)\n",
    "a_model_wcp"
   ]
  },
  {
   "cell_type": "markdown",
   "id": "a49be992-942d-4807-b4bf-e43dfb512b6b",
   "metadata": {},
   "source": [
    "Möchte man den $y$-Achsenabschnitt vom Modell entfernen, so kann dies wie folgt erreicht werden:"
   ]
  },
  {
   "cell_type": "code",
   "execution_count": 9,
   "id": "03f5b01e-7215-4c8d-ae61-a48b177522f5",
   "metadata": {
    "tags": []
   },
   "outputs": [
    {
     "data": {
      "text/plain": [
       "       Formula: Verkauf ~ 0 + TV\n",
       "        Family: gaussian\n",
       "          Link: mu = identity\n",
       "  Observations: 200\n",
       "        Priors: \n",
       "    target = mu\n",
       "        Common-level effects\n",
       "            TV ~ Normal(mu: 0.0, sigma: 0.1519)\n",
       "        \n",
       "        Auxiliary parameters\n",
       "            sigma ~ HalfStudentT(nu: 4.0, sigma: 5.2044)"
      ]
     },
     "execution_count": 9,
     "metadata": {},
     "output_type": "execute_result"
    }
   ],
   "source": [
    "no_intercept_model = bmb.Model(\"Verkauf ~ 0 + TV\", werbung)\n",
    "no_intercept_model"
   ]
  },
  {
   "cell_type": "markdown",
   "id": "e3a369a9-6bc9-4747-9a0e-b21be2b488d8",
   "metadata": {},
   "source": [
    "Nun wollen wir die Unsicherheiten für den Erwartungswert der verkauften Produkteinheiten `Verkauf` und für die Vorhersage der der verkauften Produkteinheiten `Verkauf` darstellen. \n",
    "\n",
    "`Bambi` hat ein Submodul `interpret`, dessen Funktion `plot_predictions` den Posterior Mean mit dem 94\\% HDI und die Posterior Predictive Verteilung aufzeichnet."
   ]
  },
  {
   "cell_type": "code",
   "execution_count": 13,
   "id": "e02b1014-840c-4171-94b7-12fb39e5dcf6",
   "metadata": {
    "tags": []
   },
   "outputs": [
    {
     "name": "stderr",
     "output_type": "stream",
     "text": [
      "/opt/conda/lib/python3.10/site-packages/arviz/rcparams.py:368: FutureWarning: stats.hdi_prob is deprecated since 0.18.0, use stats.ci_prob instead\n",
      "  warnings.warn(\n",
      "Default computed for conditional variable: TV\n",
      "/opt/conda/lib/python3.10/site-packages/arviz/rcparams.py:368: FutureWarning: stats.hdi_prob is deprecated since 0.18.0, use stats.ci_prob instead\n",
      "  warnings.warn(\n",
      "Default computed for conditional variable: TV\n"
     ]
    },
    {
     "data": {
      "image/png": "[encoded data removed]",
      "text/plain": [
       "<Figure size 1200x400 with 2 Axes>"
      ]
     },
     "metadata": {},
     "output_type": "display_data"
    }
   ],
   "source": [
    "_, axes = plt.subplots(1, 2, sharey=True, figsize=(12, 4)) \n",
    "bmb.interpret.plot_predictions(model_t, idata_t, \"TV\", ax=axes[0])\n",
    "bmb.interpret.plot_predictions(model_t, idata_t, \"TV\", pps=True, ax=axes[1])\n",
    "axes[0].plot(werbung.TV, werbung.Verkauf, \"C2.\", zorder=-3)\n",
    "axes[1].plot(werbung.TV, werbung.Verkauf, \"C2.\", zorder=-3)\n",
    "axes[0].set_title(\"mean\")\n",
    "axes[1].set_title(\"predictions\");\n",
    "plt.savefig(\"./bambi_linear_werbung_mean_pss.png\")"
   ]
  },
  {
   "cell_type": "markdown",
   "id": "8949a07d-86d8-42cc-b014-a7188c96744d",
   "metadata": {},
   "source": [
    "Die Unsicherheit für die vorhergesagten Verkäufe von Produkteinheiten ist viel grösser als die Unsicherheit für den Mittelwert. Dies ist der Fall, da die Posterior Predictive Verteilung sowohl die Unsicherheit in den Modellparametern wie die Unsicherheit in den Daten berücksichtigt, während die Posterior Verteilung für den Mittelwert bloss die Unsicherheit für die $y$-Achsenabschnitt- und Steigungsparametern berücksichtigt."
   ]
  }
 ],
 "metadata": {
  "kernelspec": {
   "display_name": "Python 3 (ipykernel)",
   "language": "python",
   "name": "python3"
  },
  "language_info": {
   "codemirror_mode": {
    "name": "ipython",
    "version": 3
   },
   "file_extension": ".py",
   "mimetype": "text/x-python",
   "name": "python",
   "nbconvert_exporter": "python",
   "pygments_lexer": "ipython3",
   "version": "3.10.11"
  }
 },
 "nbformat": 4,
 "nbformat_minor": 5
}
