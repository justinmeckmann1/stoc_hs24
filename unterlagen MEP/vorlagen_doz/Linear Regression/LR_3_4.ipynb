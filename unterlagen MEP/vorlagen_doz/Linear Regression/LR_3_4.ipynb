{
 "cells": [
  {
   "cell_type": "markdown",
   "id": "9d148a11-1011-4569-b7ec-6e0504e9c4b9",
   "metadata": {},
   "source": [
    "# Beispiel 3.4"
   ]
  },
  {
   "cell_type": "code",
   "execution_count": 2,
   "id": "9bb1b649-f875-4d02-9790-6e40e7e3b2e1",
   "metadata": {
    "tags": []
   },
   "outputs": [
    {
     "name": "stderr",
     "output_type": "stream",
     "text": [
      "WARNING (pytensor.tensor.blas): Using NumPy C-API based implementation for BLAS functions.\n"
     ]
    }
   ],
   "source": [
    "import arviz as az\n",
    "import matplotlib.pyplot as plt\n",
    "import numpy as np\n",
    "import pandas as pd\n",
    "import pymc as pm\n",
    "import xarray as xr\n",
    "from scipy.interpolate import PchipInterpolator\n",
    "from scipy.stats import linregress"
   ]
  },
  {
   "cell_type": "code",
   "execution_count": 3,
   "id": "095e0fa1-8435-4f17-a5f1-2a29b9814f9e",
   "metadata": {
    "tags": []
   },
   "outputs": [
    {
     "name": "stdout",
     "output_type": "stream",
     "text": [
      "      TV  Radio  Zeitung  Verkauf\n",
      "0  230.1   37.8     69.2     22.1\n",
      "1   44.5   39.3     45.1     10.4\n",
      "2   17.2   45.9     69.3      9.3\n",
      "3  151.5   41.3     58.5     18.5\n",
      "4  180.8   10.8     58.4     12.9\n"
     ]
    }
   ],
   "source": [
    "import pandas as pd\n",
    "\n",
    "werbung = pd.read_csv(\"./Daten/Werbung.csv\").drop([\"Unnamed: 0\"], axis=1)\n",
    "\n",
    "werbung.head()\n",
    "print(werbung.head())"
   ]
  },
  {
   "cell_type": "code",
   "execution_count": 4,
   "id": "1643bd8e-cb22-4fa0-b75d-f3ba8b2bd708",
   "metadata": {
    "tags": []
   },
   "outputs": [
    {
     "name": "stderr",
     "output_type": "stream",
     "text": [
      "Auto-assigning NUTS sampler...\n",
      "Initializing NUTS using jitter+adapt_diag...\n",
      "Multiprocess sampling (4 chains in 4 jobs)\n",
      "NUTS: [beta_0, beta_1, sigma]\n"
     ]
    },
    {
     "data": {
      "text/html": [
       "<pre style=\"white-space:pre;overflow-x:auto;line-height:normal;font-family:Menlo,'DejaVu Sans Mono',consolas,'Courier New',monospace\">/opt/conda/lib/python3.10/site-packages/rich/live.py:231: UserWarning: install \"ipywidgets\" for Jupyter support\n",
       "  warnings.warn('install \"ipywidgets\" for Jupyter support')\n",
       "</pre>\n"
      ],
      "text/plain": [
       "/opt/conda/lib/python3.10/site-packages/rich/live.py:231: UserWarning: install \"ipywidgets\" for Jupyter support\n",
       "  warnings.warn('install \"ipywidgets\" for Jupyter support')\n"
      ]
     },
     "metadata": {},
     "output_type": "display_data"
    },
    {
     "data": {
      "text/html": [
       "<pre style=\"white-space:pre;overflow-x:auto;line-height:normal;font-family:Menlo,'DejaVu Sans Mono',consolas,'Courier New',monospace\"></pre>\n"
      ],
      "text/plain": []
     },
     "metadata": {},
     "output_type": "display_data"
    },
    {
     "name": "stderr",
     "output_type": "stream",
     "text": [
      "Sampling 4 chains for 1_000 tune and 1_000 draw iterations (4_000 + 4_000 draws total) took 7 seconds.\n"
     ]
    }
   ],
   "source": [
    "with pm.Model() as model_lb:\n",
    "    beta_0 = pm.Normal(\"beta_0\", mu=0, sigma=100)\n",
    "    beta_1 = pm.Normal(\"beta_1\", mu=0, sigma=10)\n",
    "    sigma = pm.HalfCauchy(\"sigma\", 10)\n",
    "    mu = pm.Deterministic(\"mu\", beta_0 + beta_1 * werbung.TV)\n",
    "    y_pred = pm.Normal(\"y_pred\", mu=mu, sigma=sigma, observed=werbung.Verkauf)\n",
    "    idata_lb = pm.sample(random_seed=123)"
   ]
  },
  {
   "cell_type": "markdown",
   "id": "4f6b8b3c-329c-4a30-b4fc-6d9f4aa7e424",
   "metadata": {},
   "source": [
    "- Es handelt sich um ein Modell für normalverteilte Daten, allerdings wird der Erwartungswert als eine lineare Funktion des TV-Werbebudgets modelliert. Der Achsenabschnitt ist $\\beta_0$ und die Steigung ist $\\beta_1$. Die Standardabweichung für das Rauschen ist $\\sigma$ und der Erwartungswert ist $\\mu$\n",
    "\n",
    "- $\\mu$ wird als `Deterministic` Variable definiert. Es handelt sich hier nicht um eine Zufallsvariable, sondern um eine deterministische Variable, welche aus dem Achsenabschnitt, der Steigung und dem TV-Werbebudget bestimmt wird. Wir definieren die Variable als `Deterministic`, da wir später in `InferenceData` darauf zurückgreifen möchten. Wir hätten auch einfach \n",
    "\n",
    "`mu = beta_0 + beta_1 * werbung.TV` oder \n",
    "` mu= pm.Normal(`y_pred`, mu=beta_0 + beta_1 * werbung.TV)` schreiben können. Das Modell wäre dasselbe gewesen, allerdings wird $\\mu$ in diesem Fall nicht in `InferenceData` gespeichert \n",
    "\n",
    "- $\\mu$ ist ein Vektor mit derselben Länge wie `werbung.TV`"
   ]
  },
  {
   "cell_type": "markdown",
   "id": "0884c27b-644a-4dd7-84cd-7e9ded03ca8d",
   "metadata": {},
   "source": [
    "Das Bayessche lineare Regressionsmodell für den Datensatz `Werbung`  ist in der folgenden Abbildung dargestellt:"
   ]
  },
  {
   "cell_type": "code",
   "execution_count": 5,
   "id": "d162896e-2012-4436-b0be-b37b9e75f0b2",
   "metadata": {
    "tags": []
   },
   "outputs": [
    {
     "data": {
      "image/svg+xml": [
       "<?xml version=\"1.0\" encoding=\"UTF-8\" standalone=\"no\"?>\n",
       "<!DOCTYPE svg PUBLIC \"-//W3C//DTD SVG 1.1//EN\"\n",
       " \"http://www.w3.org/Graphics/SVG/1.1/DTD/svg11.dtd\">\n",
       "<!-- Generated by graphviz version 2.43.0 (0)\n",
       " -->\n",
       "<!-- Title: %3 Pages: 1 -->\n",
       "<svg width=\"331pt\" height=\"344pt\"\n",
       " viewBox=\"0.00 0.00 330.50 343.86\" xmlns=\"http://www.w3.org/2000/svg\" xmlns:xlink=\"http://www.w3.org/1999/xlink\">\n",
       "<g id=\"graph0\" class=\"graph\" transform=\"scale(1 1) rotate(0) translate(4 339.86)\">\n",
       "<title>%3</title>\n",
       "<polygon fill=\"white\" stroke=\"transparent\" points=\"-4,4 -4,-339.86 326.5,-339.86 326.5,4 -4,4\"/>\n",
       "<g id=\"clust1\" class=\"cluster\">\n",
       "<title>cluster200</title>\n",
       "<path fill=\"none\" stroke=\"black\" d=\"M162,-8C162,-8 268,-8 268,-8 274,-8 280,-14 280,-20 280,-20 280,-209.93 280,-209.93 280,-215.93 274,-221.93 268,-221.93 268,-221.93 162,-221.93 162,-221.93 156,-221.93 150,-215.93 150,-209.93 150,-209.93 150,-20 150,-20 150,-14 156,-8 162,-8\"/>\n",
       "<text text-anchor=\"middle\" x=\"258\" y=\"-15.8\" font-family=\"Times,serif\" font-size=\"14.00\">200</text>\n",
       "</g>\n",
       "<!-- sigma -->\n",
       "<g id=\"node1\" class=\"node\">\n",
       "<title>sigma</title>\n",
       "<ellipse fill=\"none\" stroke=\"black\" cx=\"70\" cy=\"-187.43\" rx=\"70.01\" ry=\"37.45\"/>\n",
       "<text text-anchor=\"middle\" x=\"70\" y=\"-198.73\" font-family=\"Times,serif\" font-size=\"14.00\">sigma</text>\n",
       "<text text-anchor=\"middle\" x=\"70\" y=\"-183.73\" font-family=\"Times,serif\" font-size=\"14.00\">~</text>\n",
       "<text text-anchor=\"middle\" x=\"70\" y=\"-168.73\" font-family=\"Times,serif\" font-size=\"14.00\">HalfCauchy</text>\n",
       "</g>\n",
       "<!-- y_pred -->\n",
       "<g id=\"node4\" class=\"node\">\n",
       "<title>y_pred</title>\n",
       "<ellipse fill=\"lightgrey\" stroke=\"black\" cx=\"211\" cy=\"-76.48\" rx=\"49.49\" ry=\"37.45\"/>\n",
       "<text text-anchor=\"middle\" x=\"211\" y=\"-87.78\" font-family=\"Times,serif\" font-size=\"14.00\">y_pred</text>\n",
       "<text text-anchor=\"middle\" x=\"211\" y=\"-72.78\" font-family=\"Times,serif\" font-size=\"14.00\">~</text>\n",
       "<text text-anchor=\"middle\" x=\"211\" y=\"-57.78\" font-family=\"Times,serif\" font-size=\"14.00\">Normal</text>\n",
       "</g>\n",
       "<!-- sigma&#45;&gt;y_pred -->\n",
       "<g id=\"edge3\" class=\"edge\">\n",
       "<title>sigma&#45;&gt;y_pred</title>\n",
       "<path fill=\"none\" stroke=\"black\" d=\"M109.28,-156.08C127.74,-141.82 149.77,-124.79 168.6,-110.24\"/>\n",
       "<polygon fill=\"black\" stroke=\"black\" points=\"170.96,-112.84 176.73,-103.96 166.68,-107.3 170.96,-112.84\"/>\n",
       "</g>\n",
       "<!-- beta_0 -->\n",
       "<g id=\"node2\" class=\"node\">\n",
       "<title>beta_0</title>\n",
       "<ellipse fill=\"none\" stroke=\"black\" cx=\"156\" cy=\"-298.38\" rx=\"49.49\" ry=\"37.45\"/>\n",
       "<text text-anchor=\"middle\" x=\"156\" y=\"-309.68\" font-family=\"Times,serif\" font-size=\"14.00\">beta_0</text>\n",
       "<text text-anchor=\"middle\" x=\"156\" y=\"-294.68\" font-family=\"Times,serif\" font-size=\"14.00\">~</text>\n",
       "<text text-anchor=\"middle\" x=\"156\" y=\"-279.68\" font-family=\"Times,serif\" font-size=\"14.00\">Normal</text>\n",
       "</g>\n",
       "<!-- mu -->\n",
       "<g id=\"node5\" class=\"node\">\n",
       "<title>mu</title>\n",
       "<polygon fill=\"none\" stroke=\"black\" points=\"272,-213.93 158,-213.93 158,-160.93 272,-160.93 272,-213.93\"/>\n",
       "<text text-anchor=\"middle\" x=\"215\" y=\"-198.73\" font-family=\"Times,serif\" font-size=\"14.00\">mu</text>\n",
       "<text text-anchor=\"middle\" x=\"215\" y=\"-183.73\" font-family=\"Times,serif\" font-size=\"14.00\">~</text>\n",
       "<text text-anchor=\"middle\" x=\"215\" y=\"-168.73\" font-family=\"Times,serif\" font-size=\"14.00\">Deterministic</text>\n",
       "</g>\n",
       "<!-- beta_0&#45;&gt;mu -->\n",
       "<g id=\"edge1\" class=\"edge\">\n",
       "<title>beta_0&#45;&gt;mu</title>\n",
       "<path fill=\"none\" stroke=\"black\" d=\"M174.35,-263.51C181.32,-250.64 189.26,-235.97 196.26,-223.04\"/>\n",
       "<polygon fill=\"black\" stroke=\"black\" points=\"199.49,-224.43 201.17,-213.97 193.33,-221.1 199.49,-224.43\"/>\n",
       "</g>\n",
       "<!-- beta_1 -->\n",
       "<g id=\"node3\" class=\"node\">\n",
       "<title>beta_1</title>\n",
       "<ellipse fill=\"none\" stroke=\"black\" cx=\"273\" cy=\"-298.38\" rx=\"49.49\" ry=\"37.45\"/>\n",
       "<text text-anchor=\"middle\" x=\"273\" y=\"-309.68\" font-family=\"Times,serif\" font-size=\"14.00\">beta_1</text>\n",
       "<text text-anchor=\"middle\" x=\"273\" y=\"-294.68\" font-family=\"Times,serif\" font-size=\"14.00\">~</text>\n",
       "<text text-anchor=\"middle\" x=\"273\" y=\"-279.68\" font-family=\"Times,serif\" font-size=\"14.00\">Normal</text>\n",
       "</g>\n",
       "<!-- beta_1&#45;&gt;mu -->\n",
       "<g id=\"edge2\" class=\"edge\">\n",
       "<title>beta_1&#45;&gt;mu</title>\n",
       "<path fill=\"none\" stroke=\"black\" d=\"M254.81,-263.21C248.02,-250.45 240.31,-235.96 233.49,-223.16\"/>\n",
       "<polygon fill=\"black\" stroke=\"black\" points=\"236.5,-221.36 228.71,-214.18 230.32,-224.65 236.5,-221.36\"/>\n",
       "</g>\n",
       "<!-- mu&#45;&gt;y_pred -->\n",
       "<g id=\"edge4\" class=\"edge\">\n",
       "<title>mu&#45;&gt;y_pred</title>\n",
       "<path fill=\"none\" stroke=\"black\" d=\"M214.07,-160.89C213.67,-149.98 213.18,-136.89 212.72,-124.35\"/>\n",
       "<polygon fill=\"black\" stroke=\"black\" points=\"216.21,-123.87 212.34,-114 209.21,-124.12 216.21,-123.87\"/>\n",
       "</g>\n",
       "</g>\n",
       "</svg>\n"
      ],
      "text/plain": [
       "<graphviz.graphs.Digraph at 0x7f7c1ebe3430>"
      ]
     },
     "execution_count": 5,
     "metadata": {},
     "output_type": "execute_result"
    }
   ],
   "source": [
    "pm.model_to_graphviz(model_lb)\n",
    "# Die Graphik kann gespeichert werden:\n",
    "# gv = pm.model_to_graphviz(model_lb)\n",
    "# gv.format = 'png'\n",
    "# gv.render(filename='model_graph')"
   ]
  },
  {
   "cell_type": "markdown",
   "id": "89a65be2-f285-4881-8352-08861162e909",
   "metadata": {},
   "source": [
    "Mit dem folgenden Code können wir das Resultat unseres simulierten Bayesschen Regressionsmodells visualisieren:"
   ]
  },
  {
   "cell_type": "code",
   "execution_count": 6,
   "id": "cd6f5f29-49eb-49a4-a88f-4952bef8fbc4",
   "metadata": {
    "tags": []
   },
   "outputs": [
    {
     "data": {
      "image/png": "[encoded data removed]",
      "text/plain": [
       "<Figure size 1200x300 with 3 Axes>"
      ]
     },
     "metadata": {},
     "output_type": "display_data"
    }
   ],
   "source": [
    "gv = az.plot_posterior(idata_lb, var_names=[\"~mu\"], figsize=(12, 3))\n",
    "fig = gv.ravel()[0].figure\n",
    "# Die Graphik kann gespeichert werden \n",
    "# fig = gv.ravel()[0].figure\n",
    "# fig.savefig(fname='posterior_mean_graph')"
   ]
  },
  {
   "cell_type": "markdown",
   "id": "08301477-189c-4fa1-a5e9-45012fb16768",
   "metadata": {},
   "source": [
    "- Damit wir nicht für jeden Wert von `werbung.TV` einen Graphen generieren, spezifizieren wir mittels des Arguments `var_names=[\"~ mu\"]`, dass wir die Variable $\\mu$ ausschliessen (negieren). Alternativ könnten wir auch die Variablen, für welche wir einen Posterior Plot erstellen möchten, als Liste angeben: `var_names=[\"beta_0\", \"beta_1\", \"sigma\"]`"
   ]
  },
  {
   "cell_type": "markdown",
   "id": "0635361b-e8eb-47bc-9e25-e2ce9c777d47",
   "metadata": {},
   "source": [
    "Der obigen Abbildung entnehmen wir die Mittelwerte der Posterior-Verteilungen, und zwar für $\\beta_0$ den Mittelwert 7, für $\\beta_1$ den Mittelwert $0.048$ und für $\\sigma$ den Mittelwert $3.3$. \n",
    "\n",
    "Die Posterior-Verteilungen informieren uns aber auch über die Unsicherheit bezüglich dieser Schätzungen. So ist das 94\\% HDI für $\\beta_0$ gegeben durch $[6.1, 7.9]$. Ohne Werbung liegt der Verkauf also zwischen $ 6100 $ und $ 7900 $ Einheiten.\n",
    "\n",
    "Das 94\\% HDI für $\\beta_1$ ist $[0.043, 0.053]$. Für zusätzliche 1000CHF Ausgaben für das TV-Werbebudget würden wir im Schnitt zwischen 43 und 53 zusätzliche Einheiten des Produktes verkaufen. \n",
    "\n",
    "Wir müssen allerdings noch berücksichtigen, dass dies nur die Unsicherheit des Erwartungswertes der verkauften Produkt-Einheiten ist. Zusätzlich haben wir ja noch die Unsicherheit aufgrund von $\\sigma$. Wir erwarten bei einem TV-Werbebudget von 120000 CHF den Verkauf von 12760 Einheiten des Produktes. Selbst wenn wir die Unsicherheit von $\\mu$ vernachlässigen, wären wir aufgrund von $\\sigma$ aber nicht überrascht, falls es dann nur $12760-3300=9460$ oder sogar $12760+3300=16060$ Einheiten sind."
   ]
  }
 ],
 "metadata": {
  "kernelspec": {
   "display_name": "Python 3 (ipykernel)",
   "language": "python",
   "name": "python3"
  },
  "language_info": {
   "codemirror_mode": {
    "name": "ipython",
    "version": 3
   },
   "file_extension": ".py",
   "mimetype": "text/x-python",
   "name": "python",
   "nbconvert_exporter": "python",
   "pygments_lexer": "ipython3",
   "version": "3.10.11"
  }
 },
 "nbformat": 4,
 "nbformat_minor": 5
}
