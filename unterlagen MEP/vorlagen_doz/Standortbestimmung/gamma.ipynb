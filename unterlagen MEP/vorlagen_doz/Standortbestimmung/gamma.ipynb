{
 "cells": [
  {
   "cell_type": "markdown",
   "id": "9e321594-6146-43c2-a028-84c931d7ed2d",
   "metadata": {},
   "source": [
    "Die Grundlagen der Allgemeinen Relativitätstheorie (ART) hatte Albert Einstein am 25. November 1915 der Preussischen Akademie der Wissenschaften vorgetragen.\n",
    "\n",
    "Eine Vorhersage der ART besagt, dass Lichtstrahlen von Sternen, die sich hinter der Sonne befinden und gerade am Sonnenrand vorbei auf die Erde treffen, eine Winkelablenkung aufgrund der Raumkrümmung erfahren. Aus dieser Winkelablenkung lässt sich dann der Raumkrümmungsparameter $ \\gamma $ bestimmen. In der Newton’schen Physik, wo der Raum nicht gekrümmt ist, hat $ \\gamma $  den Wert 0. In der ART hat $ \\gamma $ den Wert 1. Im Jahre 1975 wurde an 9 Tagen im National Radio Astronomy Observatory (NRAO) in Green Bank aus der Lichtablenkung der Wert von $ \\gamma $ ermittelt. Die Werte dieser Messungen finden Sie in der Datei `gamma.txt` auf Ilias und Renkulab."
   ]
  },
  {
   "cell_type": "code",
   "execution_count": 2,
   "id": "95648413-6df5-4711-bcd0-b9b6d621966c",
   "metadata": {},
   "outputs": [
    {
     "data": {
      "text/html": [
       "<div>\n",
       "<style scoped>\n",
       "    .dataframe tbody tr th:only-of-type {\n",
       "        vertical-align: middle;\n",
       "    }\n",
       "\n",
       "    .dataframe tbody tr th {\n",
       "        vertical-align: top;\n",
       "    }\n",
       "\n",
       "    .dataframe thead th {\n",
       "        text-align: right;\n",
       "    }\n",
       "</style>\n",
       "<table border=\"1\" class=\"dataframe\">\n",
       "  <thead>\n",
       "    <tr style=\"text-align: right;\">\n",
       "      <th></th>\n",
       "      <th>Day</th>\n",
       "      <th>gamma</th>\n",
       "    </tr>\n",
       "  </thead>\n",
       "  <tbody>\n",
       "    <tr>\n",
       "      <th>0</th>\n",
       "      <td>April 5</td>\n",
       "      <td>1.000</td>\n",
       "    </tr>\n",
       "    <tr>\n",
       "      <th>1</th>\n",
       "      <td>April 6</td>\n",
       "      <td>0.960</td>\n",
       "    </tr>\n",
       "    <tr>\n",
       "      <th>2</th>\n",
       "      <td>April 7</td>\n",
       "      <td>1.020</td>\n",
       "    </tr>\n",
       "    <tr>\n",
       "      <th>3</th>\n",
       "      <td>April 8</td>\n",
       "      <td>1.000</td>\n",
       "    </tr>\n",
       "    <tr>\n",
       "      <th>4</th>\n",
       "      <td>April 9</td>\n",
       "      <td>1.002</td>\n",
       "    </tr>\n",
       "  </tbody>\n",
       "</table>\n",
       "</div>"
      ],
      "text/plain": [
       "       Day  gamma\n",
       "0  April 5  1.000\n",
       "1  April 6  0.960\n",
       "2  April 7  1.020\n",
       "3  April 8  1.000\n",
       "4  April 9  1.002"
      ]
     },
     "execution_count": 2,
     "metadata": {},
     "output_type": "execute_result"
    }
   ],
   "source": [
    "from pandas import Series, DataFrame\n",
    "import pandas as pd\n",
    "import scipy.stats as st\n",
    "import numpy as np\n",
    "from scipy.stats import t\n",
    "gamma = pd.read_csv(\"./gamma.txt\", delim_whitespace=True)\n",
    "gamma.head()"
   ]
  },
  {
   "cell_type": "markdown",
   "id": "c875582d-7959-4330-91a6-ea98636164ba",
   "metadata": {},
   "source": [
    "## Schokolade vs. Nobelpreisdichte"
   ]
  },
  {
   "cell_type": "code",
   "execution_count": 3,
   "id": "a84c90d5-3e64-48e6-9a60-021718d40c64",
   "metadata": {},
   "outputs": [
    {
     "data": {
      "text/html": [
       "<div>\n",
       "<style scoped>\n",
       "    .dataframe tbody tr th:only-of-type {\n",
       "        vertical-align: middle;\n",
       "    }\n",
       "\n",
       "    .dataframe tbody tr th {\n",
       "        vertical-align: top;\n",
       "    }\n",
       "\n",
       "    .dataframe thead th {\n",
       "        text-align: right;\n",
       "    }\n",
       "</style>\n",
       "<table border=\"1\" class=\"dataframe\">\n",
       "  <thead>\n",
       "    <tr style=\"text-align: right;\">\n",
       "      <th></th>\n",
       "      <th>Country</th>\n",
       "      <th>Nobel Laureates per 10 Million</th>\n",
       "      <th>Chocolate consumption (kg) per capita</th>\n",
       "    </tr>\n",
       "  </thead>\n",
       "  <tbody>\n",
       "    <tr>\n",
       "      <th>0</th>\n",
       "      <td>Sweden</td>\n",
       "      <td>30.677</td>\n",
       "      <td>4.4</td>\n",
       "    </tr>\n",
       "    <tr>\n",
       "      <th>1</th>\n",
       "      <td>Switzerland</td>\n",
       "      <td>30.125</td>\n",
       "      <td>10.2</td>\n",
       "    </tr>\n",
       "    <tr>\n",
       "      <th>2</th>\n",
       "      <td>Norway</td>\n",
       "      <td>24.947</td>\n",
       "      <td>9.2</td>\n",
       "    </tr>\n",
       "    <tr>\n",
       "      <th>3</th>\n",
       "      <td>Denmark</td>\n",
       "      <td>24.695</td>\n",
       "      <td>7.9</td>\n",
       "    </tr>\n",
       "    <tr>\n",
       "      <th>4</th>\n",
       "      <td>Austria</td>\n",
       "      <td>24.577</td>\n",
       "      <td>8.5</td>\n",
       "    </tr>\n",
       "  </tbody>\n",
       "</table>\n",
       "</div>"
      ],
      "text/plain": [
       "       Country  Nobel Laureates per 10 Million  \\\n",
       "0       Sweden                          30.677   \n",
       "1  Switzerland                          30.125   \n",
       "2       Norway                          24.947   \n",
       "3      Denmark                          24.695   \n",
       "4      Austria                          24.577   \n",
       "\n",
       "   Chocolate consumption (kg) per capita  \n",
       "0                                    4.4  \n",
       "1                                   10.2  \n",
       "2                                    9.2  \n",
       "3                                    7.9  \n",
       "4                                    8.5  "
      ]
     },
     "execution_count": 3,
     "metadata": {},
     "output_type": "execute_result"
    }
   ],
   "source": [
    "schoko_nobel = pd.read_csv(\"./Schokolade_Nobelpreis.txt\", delim_whitespace=True)\n",
    "schoko_nobel.head()"
   ]
  },
  {
   "cell_type": "markdown",
   "id": "d9bc693a-8018-4ffd-8975-c65a4c437d6b",
   "metadata": {},
   "source": [
    "## Prozessoptimierung Tumbler"
   ]
  },
  {
   "cell_type": "code",
   "execution_count": 16,
   "id": "6fdea374-a77b-47e0-99f8-a0491a66c34f",
   "metadata": {},
   "outputs": [],
   "source": [
    "import numpy as np\n",
    "import pandas as pd\n",
    "from statsmodels.formula.api import ols\n",
    "from patsy.contrasts import Treatment, Sum\n",
    "from statsmodels.stats.anova import anova_lm\n",
    "df = pd.DataFrame({\"Aa\": np.tile(np.tile([-1, 1], 4),2),\n",
    "\"Bb\": np.tile(np.repeat([-1,1], [2,2]),4),\n",
    "\"Cc\": np.tile(np.repeat([-1,1], [4,4]),2)},\n",
    "dtype=\"category\")\n",
    "df[\"Yy\"] = np.array([34,26,33,21,24,23,19,18,40,29,35,22,23,22,18,18])"
   ]
  }
 ],
 "metadata": {
  "kernelspec": {
   "display_name": "Python 3 (ipykernel)",
   "language": "python",
   "name": "python3"
  },
  "language_info": {
   "codemirror_mode": {
    "name": "ipython",
    "version": 3
   },
   "file_extension": ".py",
   "mimetype": "text/x-python",
   "name": "python",
   "nbconvert_exporter": "python",
   "pygments_lexer": "ipython3",
   "version": "3.9.6"
  }
 },
 "nbformat": 4,
 "nbformat_minor": 5
}
