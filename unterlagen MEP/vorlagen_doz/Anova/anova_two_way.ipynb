{
 "cells": [
  {
   "cell_type": "markdown",
   "id": "3853e4d8-fff5-4f1f-b5ca-500883f14529",
   "metadata": {},
   "source": [
    "# Beispiel Randomisiertes vollständiges Block-Design: Vaskuläre Röhrchen"
   ]
  },
  {
   "cell_type": "code",
   "execution_count": 1,
   "id": "b08f775c-c14c-4592-8ada-143968aaa0f0",
   "metadata": {},
   "outputs": [
    {
     "data": {
      "image/png": "[encoded data removed]",
      "text/plain": [
       "<Figure size 432x288 with 1 Axes>"
      ]
     },
     "metadata": {
      "needs_background": "light"
     },
     "output_type": "display_data"
    }
   ],
   "source": [
    "from pandas import DataFrame\n",
    "import pandas as pd\n",
    "import numpy as np\n",
    "import seaborn as sns\n",
    "import scipy.stats as st\n",
    "from statsmodels.formula.api import ols\n",
    "from statsmodels.stats.anova import anova_lm\n",
    "from statsmodels.graphics.factorplots import interaction_plot\n",
    "import matplotlib.pyplot as plt\n",
    "\n",
    "Daten = DataFrame({\n",
    "\"Batch\": np.tile([\"1\", \"2\", \"3\", \"4\", \"5\", \"6\"], 4),\n",
    "\"Methode\": np.repeat([\"8500\", \"8700\", \"8900\", \"9100\"], 6),\n",
    "\"Y\": np.array([90.3, 89.2, 98.2, 93.9, 87.4, 97.9, 92.5, \n",
    "89.5, 90.6, 94.7, 87, 95.8, 85.5,\n",
    " 90.8, 89.6, 86.2, 88, 93.4, 82.5, 89.5, 85.6, 87.4, \n",
    "78.9, 90.7])\n",
    "})\n",
    "\n",
    "interaction_plot(x=Daten[\"Batch\"], trace=Daten[\"Methode\"], response=Daten[\"Y\"])\n",
    "plt.ylabel(\"Daten Y\")\n",
    "plt.show()"
   ]
  },
  {
   "cell_type": "code",
   "execution_count": 2,
   "id": "019dd7ab-fb14-4a3f-ad06-93672195b95e",
   "metadata": {},
   "outputs": [
    {
     "name": "stdout",
     "output_type": "stream",
     "text": [
      "Intercept                  89.795833\n",
      "C(Methode, Sum)[S.8500]     3.020833\n",
      "C(Methode, Sum)[S.8700]     1.887500\n",
      "C(Methode, Sum)[S.8900]    -0.879167\n",
      "C(Batch, Sum)[S.1]         -2.095833\n",
      "C(Batch, Sum)[S.2]         -0.045833\n",
      "C(Batch, Sum)[S.3]          1.204167\n",
      "C(Batch, Sum)[S.4]          0.754167\n",
      "C(Batch, Sum)[S.5]         -4.470833\n",
      "dtype: float64\n"
     ]
    }
   ],
   "source": [
    "from pandas import DataFrame\n",
    "import pandas as pd\n",
    "import numpy as np\n",
    "import seaborn as sns\n",
    "import scipy.stats as st\n",
    "\n",
    "from statsmodels.formula.api import ols\n",
    "from statsmodels.stats.anova import anova_lm\n",
    "from statsmodels.graphics.factorplots import interaction_plot\n",
    "from statsmodels.stats.outliers_influence import summary_table\n",
    "import matplotlib.pyplot as plt\n",
    "\n",
    "from patsy.contrasts import Sum\n",
    "\n",
    "Daten = DataFrame({\n",
    "\"Batch\": np.tile([\"1\", \"2\", \"3\", \"4\", \"5\", \"6\"], 4),\n",
    "\"Methode\": np.repeat([\"8500\", \"8700\", \"8900\", \"9100\"],6),\n",
    "\"Y\": np.array([90.3, 89.2, 98.2, 93.9, 87.4, 97.9, 92.5, 89.5, 90.6, 94.7, 87, 95.8, 85.5,\n",
    " 90.8, 89.6, 86.2, 88, 93.4, 82.5, 89.5, 85.6, 87.4, 78.9, 90.7])\n",
    "})\n",
    "\n",
    "fit = ols(\"Y ~ C(Methode, Sum)+C(Batch,Sum)\", data=Daten).fit()\n",
    "\n",
    "fit.params\n",
    "print(fit.params)"
   ]
  },
  {
   "cell_type": "code",
   "execution_count": 3,
   "id": "f8e27feb-b475-4806-8043-44b6a5486e1a",
   "metadata": {},
   "outputs": [
    {
     "name": "stdout",
     "output_type": "stream",
     "text": [
      "                   df      sum_sq    mean_sq         F    PR(>F)\n",
      "C(Methode, Sum)   3.0  178.171250  59.390417  8.107077  0.001916\n",
      "C(Batch, Sum)     5.0  192.252083  38.450417  5.248666  0.005532\n",
      "Residual         15.0  109.886250   7.325750       NaN       NaN\n"
     ]
    },
    {
     "data": {
      "text/html": [
       "<div>\n",
       "<style scoped>\n",
       "    .dataframe tbody tr th:only-of-type {\n",
       "        vertical-align: middle;\n",
       "    }\n",
       "\n",
       "    .dataframe tbody tr th {\n",
       "        vertical-align: top;\n",
       "    }\n",
       "\n",
       "    .dataframe thead th {\n",
       "        text-align: right;\n",
       "    }\n",
       "</style>\n",
       "<table border=\"1\" class=\"dataframe\">\n",
       "  <thead>\n",
       "    <tr style=\"text-align: right;\">\n",
       "      <th></th>\n",
       "      <th>df</th>\n",
       "      <th>sum_sq</th>\n",
       "      <th>mean_sq</th>\n",
       "      <th>F</th>\n",
       "      <th>PR(&gt;F)</th>\n",
       "    </tr>\n",
       "  </thead>\n",
       "  <tbody>\n",
       "    <tr>\n",
       "      <th>C(Methode, Sum)</th>\n",
       "      <td>3.0</td>\n",
       "      <td>178.171250</td>\n",
       "      <td>59.390417</td>\n",
       "      <td>8.107077</td>\n",
       "      <td>0.001916</td>\n",
       "    </tr>\n",
       "    <tr>\n",
       "      <th>C(Batch, Sum)</th>\n",
       "      <td>5.0</td>\n",
       "      <td>192.252083</td>\n",
       "      <td>38.450417</td>\n",
       "      <td>5.248666</td>\n",
       "      <td>0.005532</td>\n",
       "    </tr>\n",
       "    <tr>\n",
       "      <th>Residual</th>\n",
       "      <td>15.0</td>\n",
       "      <td>109.886250</td>\n",
       "      <td>7.325750</td>\n",
       "      <td>NaN</td>\n",
       "      <td>NaN</td>\n",
       "    </tr>\n",
       "  </tbody>\n",
       "</table>\n",
       "</div>"
      ],
      "text/plain": [
       "                   df      sum_sq    mean_sq         F    PR(>F)\n",
       "C(Methode, Sum)   3.0  178.171250  59.390417  8.107077  0.001916\n",
       "C(Batch, Sum)     5.0  192.252083  38.450417  5.248666  0.005532\n",
       "Residual         15.0  109.886250   7.325750       NaN       NaN"
      ]
     },
     "execution_count": 3,
     "metadata": {},
     "output_type": "execute_result"
    }
   ],
   "source": [
    "from pandas import DataFrame\n",
    "import pandas as pd\n",
    "import numpy as np\n",
    "import seaborn as sns\n",
    "import scipy.stats as st\n",
    "\n",
    "from statsmodels.formula.api import ols\n",
    "from statsmodels.stats.anova import anova_lm\n",
    "from statsmodels.graphics.factorplots import interaction_plot\n",
    "from statsmodels.stats.outliers_influence import summary_table\n",
    "import matplotlib.pyplot as plt\n",
    "\n",
    "from patsy.contrasts import Sum\n",
    "import warnings\n",
    "warnings.filterwarnings(\"ignore\")\n",
    "Daten = DataFrame({\n",
    "\"Batch\": np.tile([\"1\", \"2\", \"3\", \"4\", \"5\", \"6\"], 4),\n",
    "\"Methode\": np.repeat([\"8500\", \"8700\", \"8900\", \"9100\"],6),\n",
    "\"Y\": np.array([90.3, 89.2, 98.2, 93.9, 87.4, 97.9, 92.5, 89.5, 90.6, 94.7, 87, 95.8, 85.5,\n",
    " 90.8, 89.6, 86.2, 88, 93.4, 82.5, 89.5, 85.6, 87.4, 78.9, 90.7])\n",
    "})\n",
    "\n",
    "fit = ols(\"Y ~ C(Methode, Sum)+C(Batch, Sum)\", data=Daten).fit()\n",
    "\n",
    "print(anova_lm(fit))\n",
    "anova_lm(fit)"
   ]
  },
  {
   "cell_type": "markdown",
   "id": "e64452e2-024e-4123-b337-37341c969f3f",
   "metadata": {},
   "source": [
    "# Beispiel Faktorielles Experiment mit 2 Faktoren: Haftungsfestigkeit von Farben"
   ]
  },
  {
   "cell_type": "code",
   "execution_count": 4,
   "id": "03a731b4-7a8d-401b-88df-1553c3ed4eca",
   "metadata": {},
   "outputs": [
    {
     "data": {
      "image/png": "[encoded data removed]",
      "text/plain": [
       "<Figure size 432x288 with 1 Axes>"
      ]
     },
     "metadata": {
      "needs_background": "light"
     },
     "output_type": "display_data"
    }
   ],
   "source": [
    "from pandas import DataFrame\n",
    "import pandas as pd\n",
    "import numpy as np\n",
    "import seaborn as sns\n",
    "import scipy.stats as st\n",
    "\n",
    "from statsmodels.formula.api import ols\n",
    "from statsmodels.stats.anova import anova_lm\n",
    "from statsmodels.graphics.factorplots import interaction_plot\n",
    "from statsmodels.stats.outliers_influence import summary_table\n",
    "import matplotlib.pyplot as plt\n",
    "\n",
    "Farbe = DataFrame({\n",
    "\"Grund\": np.repeat([\"A\", \"B\", \"C\"], 6),\n",
    "\"Methode\": np.tile(np.repeat([\"Eintauchen\", \"Besprühen\"], 3), 3),\n",
    "\"Y\": np.array([4, 4.5, 4.3, 5.4, 4.9, 5.6, 5.6, 4.9, 5.4, 5.8, 6.1, 6.3, 3.8, 3.7, 4, 5.5, 5, 5])\n",
    "})\n",
    "\n",
    "interaction_plot(x=Farbe[\"Grund\"], trace=Farbe[\"Methode\"], response=Farbe[\"Y\"])\n",
    "\n",
    "plt.xlabel(\"Grundierungstypen\")\n",
    "plt.ylabel(\"Mittelwerte Haltungsfestigkeit\")\n",
    "\n",
    "plt.show()"
   ]
  },
  {
   "cell_type": "code",
   "execution_count": 5,
   "id": "b7a45644-eb48-4eb2-b1a8-31aa0ee2bd65",
   "metadata": {},
   "outputs": [
    {
     "name": "stdout",
     "output_type": "stream",
     "text": [
      "                 df    sum_sq   mean_sq          F    PR(>F)\n",
      "Grund           2.0  4.581111  2.290556  27.858108  0.000031\n",
      "Methode         1.0  4.908889  4.908889  59.702703  0.000005\n",
      "Grund:Methode   2.0  0.241111  0.120556   1.466216  0.269342\n",
      "Residual       12.0  0.986667  0.082222        NaN       NaN\n"
     ]
    }
   ],
   "source": [
    "fit = ols(\"Y~Grund*Methode\",data=Farbe).fit()\n",
    "\n",
    "anova_lm(fit)\n",
    "print(anova_lm(fit))"
   ]
  },
  {
   "cell_type": "markdown",
   "id": "3ad34426-e3fc-46cb-bb5a-5efd058c0829",
   "metadata": {},
   "source": [
    "# Beispiel Faktorielles Experiment mit 2 Faktoren und (scheinbarer) Interaktion: Elritzen"
   ]
  },
  {
   "cell_type": "code",
   "execution_count": 6,
   "id": "33fda122-9629-4d47-a283-f824894876f5",
   "metadata": {},
   "outputs": [
    {
     "data": {
      "image/png": "[encoded data removed]",
      "text/plain": [
       "<Figure size 432x288 with 1 Axes>"
      ]
     },
     "metadata": {
      "needs_background": "light"
     },
     "output_type": "display_data"
    }
   ],
   "source": [
    "El = DataFrame({\n",
    "\"Konz\": np.repeat([\"A\", \"B\", \"C\",\"D\"], 6),\n",
    "\"Temp\": np.tile(np.repeat([\"15C\", \"25C\"],3),4),\n",
    "\"Y\": np.array([82, 46, 16, 20, 13, 7, 20, 14, 17, 6, 7, 5, 8, 6, 5, 4, 3, 5, 10, 7, 5, 6, 4, 5])\n",
    "})\n",
    "\n",
    "interaction_plot(x=El[\"Konz\"], trace=El[\"Temp\"], response=El[\"Y\"],\n",
    "legendtitle=\"Methode\")\n",
    "\n",
    "plt.xlabel(\"Cyanid-Konzentration\")\n",
    "plt.ylabel(\"Mediane Experimente\")\n",
    "\n",
    "plt.show()"
   ]
  },
  {
   "cell_type": "code",
   "execution_count": 7,
   "id": "db037e83-fcf2-4f15-a90c-8f143495852c",
   "metadata": {},
   "outputs": [
    {
     "name": "stdout",
     "output_type": "stream",
     "text": [
      "                             df       sum_sq     mean_sq         F    PR(>F)\n",
      "C(Konz, Sum)                3.0  2531.125000  843.708333  5.843867  0.006803\n",
      "C(Temp, Sum)                1.0   950.041667  950.041667  6.580375  0.020754\n",
      "C(Konz, Sum):C(Temp, Sum)   3.0  1050.458333  350.152778  2.425301  0.103439\n",
      "Residual                   16.0  2310.000000  144.375000       NaN       NaN\n"
     ]
    }
   ],
   "source": [
    "fit = ols(\"Y~C(Konz,Sum)*C(Temp,Sum)\",data=El).fit()\n",
    "\n",
    "anova_lm(fit)\n",
    "print(anova_lm(fit))"
   ]
  },
  {
   "cell_type": "markdown",
   "id": "5e578718-7ac2-46dc-8bc7-d957a974e356",
   "metadata": {},
   "source": [
    "# Beispiel Faktorielles Experiment mit 2 Faktoren und Interaktion: Schnecken"
   ]
  },
  {
   "cell_type": "code",
   "execution_count": 8,
   "id": "da8a5599-6029-4b06-b218-b4de05adb85c",
   "metadata": {},
   "outputs": [
    {
     "name": "stdout",
     "output_type": "stream",
     "text": [
      "                  df     sum_sq    mean_sq           F        PR(>F)\n",
      "season           1.0  17.130756  17.130756  119.373466  1.364839e-07\n",
      "density          2.0   4.001011   2.000506   13.940266  7.422016e-04\n",
      "season:density   2.0   1.689144   0.844572    5.885293  1.655191e-02\n",
      "Residual        12.0   1.722067   0.143506         NaN           NaN\n"
     ]
    }
   ],
   "source": [
    "from pandas import DataFrame\n",
    "import pandas as pd\n",
    "import numpy as np\n",
    "import seaborn as sns\n",
    "import scipy.stats as st\n",
    "\n",
    "from statsmodels.formula.api import ols\n",
    "from statsmodels.stats.anova import anova_lm\n",
    "from statsmodels.graphics.factorplots import interaction_plot\n",
    "from statsmodels.stats.outliers_influence import summary_table\n",
    "import matplotlib.pyplot as plt\n",
    "import warnings\n",
    "warnings.filterwarnings(\"ignore\")\n",
    "snails = DataFrame({\n",
    "\"season\": np.repeat([\"spring\", \"summer\"], 9),\n",
    "\"density\": np.tile(np.repeat([\"6\", \"12\",\"24\"],3),2),\n",
    "\"Y\": np.array([1.17, 0.50, 1.67, 1.50, 0.83, 1.00, 0.67, 0.67, 0.75,\n",
    "       4.00, 3.83, 3.83, 3.33, 2.58, 2.75, 2.54, 1.83, 1.63])\n",
    "})\n",
    "\n",
    "fit = ols(\"Y~season*density\",data=snails).fit()\n",
    "\n",
    "anova_lm(fit)\n",
    "print(anova_lm(fit))"
   ]
  },
  {
   "cell_type": "code",
   "execution_count": 9,
   "id": "67961a66-6af5-403f-92c1-d32db529894f",
   "metadata": {},
   "outputs": [
    {
     "data": {
      "image/png": "[encoded data removed]",
      "text/plain": [
       "<Figure size 432x288 with 1 Axes>"
      ]
     },
     "metadata": {
      "needs_background": "light"
     },
     "output_type": "display_data"
    }
   ],
   "source": [
    "interaction_plot(x=snails[\"density\"], trace=snails[\"season\"],\n",
    "response=snails[\"Y\"])\n",
    "\n",
    "plt.show()"
   ]
  },
  {
   "cell_type": "code",
   "execution_count": 10,
   "id": "fb00b072-8e93-4912-a43c-fd36b8ad6ba7",
   "metadata": {},
   "outputs": [
    {
     "name": "stdout",
     "output_type": "stream",
     "text": [
      "           df    sum_sq   mean_sq         F    PR(>F)\n",
      "density   2.0  0.344467  0.172233  1.103903  0.390636\n",
      "Residual  6.0  0.936133  0.156022       NaN       NaN\n"
     ]
    }
   ],
   "source": [
    "snails_spring = snails[snails[\"season\"]==\"spring\"]\n",
    "\n",
    "fit_spring = ols(\"Y~density\",data=snails_spring).fit()\n",
    "\n",
    "anova_lm(fit_spring)\n",
    "print(anova_lm(fit_spring))"
   ]
  },
  {
   "cell_type": "code",
   "execution_count": 11,
   "id": "f9dd0781-5252-45ad-bd9f-0b42ac5f450a",
   "metadata": {},
   "outputs": [
    {
     "name": "stdout",
     "output_type": "stream",
     "text": [
      "           df    sum_sq   mean_sq          F    PR(>F)\n",
      "density   2.0  5.345689  2.672844  20.405123  0.002106\n",
      "Residual  6.0  0.785933  0.130989        NaN       NaN\n"
     ]
    }
   ],
   "source": [
    "snails_summer = snails[snails[\"season\"]==\"summer\"]\n",
    "\n",
    "fit_summer = ols(\"Y~density\",data=snails_summer).fit()\n",
    "\n",
    "anova_lm(fit_summer)\n",
    "print(anova_lm(fit_summer))"
   ]
  }
 ],
 "metadata": {
  "kernelspec": {
   "display_name": "Python 3 (ipykernel)",
   "language": "python",
   "name": "python3"
  },
  "language_info": {
   "codemirror_mode": {
    "name": "ipython",
    "version": 3
   },
   "file_extension": ".py",
   "mimetype": "text/x-python",
   "name": "python",
   "nbconvert_exporter": "python",
   "pygments_lexer": "ipython3",
   "version": "3.9.12"
  }
 },
 "nbformat": 4,
 "nbformat_minor": 5
}
