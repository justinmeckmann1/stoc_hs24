{
 "cells": [
  {
   "cell_type": "markdown",
   "id": "e56b75a1",
   "metadata": {},
   "source": [
    "# Type I Error\n",
    "\n",
    "We assume that the null hypothesis is true. "
   ]
  },
  {
   "cell_type": "code",
   "execution_count": 63,
   "id": "163d7840",
   "metadata": {},
   "outputs": [],
   "source": [
    "import scipy.stats as st\n",
    "import numpy as np\n",
    "np.set_printoptions(precision=3,suppress=True)"
   ]
  },
  {
   "cell_type": "code",
   "execution_count": 76,
   "id": "232d44ca",
   "metadata": {},
   "outputs": [
    {
     "name": "stdout",
     "output_type": "stream",
     "text": [
      "Random numbers as vector \n",
      "\n",
      " [-0.148  0.456 -0.492  2.299 -2.13   0.171  1.103  1.768 -0.945 -0.793\n",
      " -1.538  1.086 -0.121  0.934 -1.58   0.421 -0.325  0.766 -1.511  1.234\n",
      " -0.35   1.519 -1.048  0.226  0.739 -0.475  0.986 -0.497 -1.058 -1.837\n",
      "  0.927  0.07   0.44   1.153  0.718 -0.857 -0.785  1.     0.304  2.072\n",
      " -0.389 -0.284 -0.884  0.267  0.635 -0.942 -0.601 -0.108 -2.47   0.445] \n",
      "\n",
      "Random numbers as matrix \n",
      "\n",
      " [[-0.148  0.456 -0.492  2.299 -2.13   0.171  1.103  1.768 -0.945 -0.793]\n",
      " [-1.538  1.086 -0.121  0.934 -1.58   0.421 -0.325  0.766 -1.511  1.234]\n",
      " [-0.35   1.519 -1.048  0.226  0.739 -0.475  0.986 -0.497 -1.058 -1.837]\n",
      " [ 0.927  0.07   0.44   1.153  0.718 -0.857 -0.785  1.     0.304  2.072]\n",
      " [-0.389 -0.284 -0.884  0.267  0.635 -0.942 -0.601 -0.108 -2.47   0.445]] \n",
      "\n",
      "p-values of columns \n",
      "\n",
      " [0.487 0.158 0.192 0.061 0.635 0.285 0.86  0.22  0.065 0.764] \n",
      "\n",
      "Number of p-values less than α (null hypotesis H_0 is wrongly rejected) \n",
      "\n",
      " 0\n"
     ]
    }
   ],
   "source": [
    "# Significance level\n",
    "alpha = 0.05\n",
    "\n",
    "# Number of rows and columns of matrix A\n",
    "r = 5\n",
    "c = 10\n",
    "\n",
    "# Produces r*c normally random numbers with μ = 0 and σ = 1\n",
    "A = st.norm.rvs(size=r*c)\n",
    "print(\"Random numbers as vector\",\"\\n\\n\", A,\"\\n\")\n",
    "\n",
    "# Reshape A into a (r x c)-matrix\n",
    "A = A.reshape((r,c))\n",
    "print(\"Random numbers as matrix\",\"\\n\\n\", A,\"\\n\")\n",
    "\n",
    "# Takes t-test of all columns with with popmean=0, i.e. null hypothesis is true because data μ = 0\n",
    "b = st.ttest_1samp(a=A, popmean=0).pvalue\n",
    "print(\"p-values of columns\",\"\\n\\n\", b,\"\\n\")\n",
    "\n",
    "# Number of p-values less than α\n",
    "print(\"Number of p-values less than α (null hypotesis H_0 is wrongly rejected)\",\"\\n\\n\", np.sum(b < alpha))"
   ]
  },
  {
   "cell_type": "code",
   "execution_count": 78,
   "id": "34e1f26f",
   "metadata": {},
   "outputs": [
    {
     "name": "stdout",
     "output_type": "stream",
     "text": [
      "105 91 97 95 102 100 117 102 74 103 109 113 91 84 96 97 102 101 122 104 101 106 118 106 96 108 112 100 84 112 95 84 100 120 95 118 113 100 102 109 103 96 108 90 101 89 106 105 106 120 109 96 102 95 84 103 115 110 88 81 109 104 121 106 111 84 101 101 93 92 88 99 118 127 78 112 119 110 96 106 93 117 113 99 103 97 103 85 102 103 92 102 95 117 122 100 102 85 105 120 "
     ]
    }
   ],
   "source": [
    "# Significance level\n",
    "alpha = 0.01\n",
    "\n",
    "# Number of rows and columns of matrix A\n",
    "r = 100\n",
    "c = 10000\n",
    "\n",
    "for i in range(100):\n",
    "    A = st.norm.rvs(size=r*c)\n",
    "    A = A.reshape((r,c))\n",
    "    b = st.ttest_1samp(a=A, popmean=0).pvalue\n",
    "    print(np.sum(b < alpha), end=\" \")"
   ]
  }
 ],
 "metadata": {
  "kernelspec": {
   "display_name": "Python 3 (ipykernel)",
   "language": "python",
   "name": "python3"
  },
  "language_info": {
   "codemirror_mode": {
    "name": "ipython",
    "version": 3
   },
   "file_extension": ".py",
   "mimetype": "text/x-python",
   "name": "python",
   "nbconvert_exporter": "python",
   "pygments_lexer": "ipython3",
   "version": "3.11.6"
  }
 },
 "nbformat": 4,
 "nbformat_minor": 5
}
