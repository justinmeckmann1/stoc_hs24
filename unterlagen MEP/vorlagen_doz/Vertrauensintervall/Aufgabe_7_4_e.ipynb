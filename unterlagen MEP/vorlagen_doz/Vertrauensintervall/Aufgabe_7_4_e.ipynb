{
 "cells": [
  {
   "cell_type": "markdown",
   "metadata": {},
   "source": [
    "# Aufgabe 7.4e)\n",
    "\n",
    "Diese Aufgabe ist nicht ganz einfach und man muss den Text sehr genau lesen: \n",
    "\n",
    "_Betrachten Sie einen einseitigen $t$-Test von $H_0 : \\mu = 0$ gegen $H_A : \\mu > 0$ zum Niveau 0.05._\n",
    "\n",
    "Wir zeichnen eine $t$-Verteilung mit $\\mu=0$ und $\\sigma=1$ und Freiheitsgrad (degree of freedom) 4 (Annahmen, die nichts zur Sache tun) und mit dem Verwerfungsbereich (Test nach oben). "
   ]
  },
  {
   "cell_type": "code",
   "execution_count": 73,
   "metadata": {},
   "outputs": [
    {
     "data": {
      "image/png": "[encoded data removed]",
      "text/plain": [
       "<Figure size 576x144 with 1 Axes>"
      ]
     },
     "metadata": {
      "needs_background": "light"
     },
     "output_type": "display_data"
    }
   ],
   "source": [
    "%matplotlib inline \n",
    "import numpy as np\n",
    "import pandas as pd\n",
    "import matplotlib.pyplot as plt\n",
    "from scipy.stats import t\n",
    "plt.rcParams[\"figure.figsize\"] = (8,2)\n",
    "\n",
    "#LaTeX\n",
    "from matplotlib import rc\n",
    "rc('text', usetex=True)\n",
    "\n",
    "# Bereich der x-Achse\n",
    "aw = -6\n",
    "ew = 6\n",
    "\n",
    "# Berechnung der Funktionswerte\n",
    "mean = 0\n",
    "sd = 1\n",
    "x = np.linspace(start=aw, stop=ew, num=1000)\n",
    "y = t.pdf(x, loc=mean, scale=sd, df=4)\n",
    "plt.plot(x,y)\n",
    "\n",
    "#Bestimmung der Quantile\n",
    "q_95 = t.ppf(q=0.95, loc=mean , scale=sd, df = 4)\n",
    "plt.text(0, -0.07, r\"$0$\", horizontalalignment=\"center\", fontsize=10,verticalalignment=\"bottom\")\n",
    "\n",
    "plt.plot([aw, ew], [0, 0], color= \"black\", linewidth=0.5)\n",
    "plt.plot([0, 0], [0, t.pdf(0, loc=mean, scale=sd, df=4)], color= \"black\", linewidth=0.5)\n",
    "# Plot des Verwerfungsbereiches\n",
    "plt.plot([q_95, ew], [0, 0], color=\"red\", linewidth=2)\n",
    "\n",
    "plt.plot([q_95-.05, q_95-.05], [-0.01, 0.01], color=\"black\")\n",
    "plt.text(q_95, -0.07, r\"$q_{0.95}$\", horizontalalignment=\"center\", fontsize=10,verticalalignment=\"bottom\")\n",
    "plt.plot([0, 0], [-.03,0], color=\"none\")\n",
    "plt.axis(\"off\")\n",
    "plt.savefig(\"t_test_1.eps\", bbox_inches = 'tight')"
   ]
  },
  {
   "cell_type": "markdown",
   "metadata": {},
   "source": [
    "_Obwohl die beobachteten $n$ Datenpunkte einen empirischen Mittelwert grösser Null haben, ergeben die Berechnungen, dass die Nullhypothese nicht verworfen wird._\n",
    "\n",
    "Was heisst das? \n",
    "- Zunächst ist $\\overline{x}_n>0$, er liegt rechts von 0 auf der $x$-Achse\n",
    "- $H_0$ wird nicht verworfen, dass heisst $\\overline{x}_n$ liegt nicht im Verwerfungsbereich\n",
    "- $\\overline{x}_n$ liegt also irgendwo zwischen dem 0 und dem Verwerfungsbereich"
   ]
  },
  {
   "cell_type": "code",
   "execution_count": 77,
   "metadata": {},
   "outputs": [
    {
     "data": {
      "image/png": "[encoded data removed]",
      "text/plain": [
       "<Figure size 576x144 with 1 Axes>"
      ]
     },
     "metadata": {
      "needs_background": "light"
     },
     "output_type": "display_data"
    }
   ],
   "source": [
    "plt.plot(x,y)\n",
    "plt.plot([aw, ew], [0, 0], color= \"black\", linewidth=0.5)\n",
    "plt.plot([0, 0], [0, t.pdf(0, loc=mean, scale=sd, df=4)], color= \"black\", linewidth=0.5)\n",
    "# Plot des Verwerfungsbereiches\n",
    "plt.plot([q_95, ew], [0, 0], color=\"red\", linewidth=2)\n",
    "plt.plot([0, 0], [-.03,0], color=\"none\")\n",
    "plt.plot([1.2, 1.2], [-0.01, 0.01], color=\"black\")\n",
    "plt.text(1.2, -0.07, r\"$\\overline{x}_n$\", horizontalalignment=\"center\", fontsize=10,verticalalignment=\"bottom\")\n",
    "plt.text(0, -0.07, r\"$0$\", horizontalalignment=\"center\", fontsize=10,verticalalignment=\"bottom\")\n",
    "plt.plot([q_95-.05, q_95-.05], [-0.01, 0.01], color=\"black\")\n",
    "plt.text(q_95, -0.07, r\"$q_{0.95}$\", horizontalalignment=\"center\", fontsize=10,verticalalignment=\"bottom\")\n",
    "plt.axis(\"off\")\n",
    "plt.savefig(\"t_test_2.eps\", bbox_inches = 'tight')"
   ]
  },
  {
   "cell_type": "markdown",
   "metadata": {},
   "source": [
    "Dies ist die Ausgangsituation. Nun zu den eigentlichen Fragen:\n",
    "\n",
    "_Man verwirft $H_0$ für kein Niveau $\\alpha < 0.05$_\n",
    "\n",
    "Was heisst das? Unser Signifikanzniveau ist $\\alpha=0.05$. Nun wählen wir ein Signifkanzniveau $\\alpha^*$, dass kleiner ist als $0.05$, zum Beispiel $\\alpha^*=0.01$. Der Verwerfungsbereich wird kleiner wandert nach rechts. Das heisst $\\overline{x}_n$ liegt immer noch nicht im Verwerfungsbereich (siehe Graphik unten). \n",
    "\n",
    "Also wird für alle $\\alpha<0.05$ die Nullhypothese nicht verworfen, da $\\overline{x}_n$ nie im Verwerfungsbereich liegen kann. Also ist die Aussage richtig."
   ]
  },
  {
   "cell_type": "code",
   "execution_count": 78,
   "metadata": {},
   "outputs": [
    {
     "data": {
      "image/png": "[encoded data removed]",
      "text/plain": [
       "<Figure size 576x144 with 1 Axes>"
      ]
     },
     "metadata": {
      "needs_background": "light"
     },
     "output_type": "display_data"
    }
   ],
   "source": [
    "plt.plot(x,y)\n",
    "plt.plot([aw, ew], [0, 0], color= \"black\", linewidth=0.5)\n",
    "plt.plot([0, 0], [0, t.pdf(0, loc=mean, scale=sd, df=4)], color= \"black\", linewidth=0.5)\n",
    "# Plot des Verwerfungsbereiches\n",
    "plt.plot([q_95, ew], [0, 0], color=\"red\", linewidth=2)\n",
    "plt.plot([0, 0], [-.03,0], color=\"none\")\n",
    "plt.plot([1.2, 1.2], [-0.01, 0.01], color=\"black\")\n",
    "plt.text(1.2, -0.07, r\"$\\overline{x}_n$\", horizontalalignment=\"center\", fontsize=10,verticalalignment=\"bottom\")\n",
    "plt.plot([q_95-.05, q_95-.05], [-0.01, 0.01], color=\"black\")\n",
    "plt.text(q_95, -0.07, r\"$q_{0.95}$\", horizontalalignment=\"center\", fontsize=10,verticalalignment=\"bottom\")\n",
    "plt.text(0, -0.07, r\"$0$\", horizontalalignment=\"center\", fontsize=10,verticalalignment=\"bottom\")\n",
    "q_99 = t.ppf(q=0.99, loc=mean , scale=sd, df = 4)\n",
    "plt.plot([q_99, ew], [0.02, 0.02], color=\"red\", linewidth=2)\n",
    "\n",
    "plt.plot([q_99-.05, q_99-.05], [-0.01, 0.03], color=\"black\")\n",
    "plt.text(q_99, -0.07, r\"$q_{0.99}$\", horizontalalignment=\"center\", fontsize=10,verticalalignment=\"bottom\")\n",
    "plt.plot([0, 0], [-.03,0], color=\"none\")\n",
    "plt.axis(\"off\")\n",
    "plt.savefig(\"t_test_3.eps\", bbox_inches = 'tight')"
   ]
  },
  {
   "cell_type": "markdown",
   "metadata": {},
   "source": [
    "_Es gibt ein Niveau $\\alpha < 1$, bei dem man $H_0$ verwirft._\n",
    "\n",
    "Dies ist die umgekehrte Fragestellung von vorher: $\\alpha=0.05$ und jetzt _vergrössern_ wir $\\alpha$, dann beginnt der Verwerfungsbereich nach links zu wandern und ab irgendeinem $\\alpha$ liegt $\\overline{x}_n$ im Verwerfungsbereich und die Nullhypothese wird verworfen. Also ist die Aussage richtig. "
   ]
  },
  {
   "cell_type": "markdown",
   "metadata": {},
   "source": [
    "_Der $p$-Wert ist strikt kleiner als 0.5_\n",
    "\n",
    "Nun was ist der $p$p-Wert? Das ist die Wahrscheinlichkeit einen bestimmten Wert (hier $\\overline{x}_n$) oder einen extremeren zu beobachten in Richtung der Alternativhypothese. Wahrscheinlichkeiten können wir bei stetigen Verteilungen als Flächen darstellen und dies ist die Fläche unter der Kurve rechts von $\\overline{x}_n$ (siehe Graphik unten).\n",
    "\n",
    "Nun ist die Gesamtfläche unter der Kurve ist 1. Die Fläche rechts von 0 ist 0.5 und dann muss die rote Fläche ($p$-Wert) kleiner als 0.05 sein. Also ist die Aussage richtig."
   ]
  },
  {
   "cell_type": "code",
   "execution_count": 81,
   "metadata": {},
   "outputs": [
    {
     "data": {
      "image/png": "[encoded data removed]",
      "text/plain": [
       "<Figure size 576x144 with 1 Axes>"
      ]
     },
     "metadata": {
      "needs_background": "light"
     },
     "output_type": "display_data"
    }
   ],
   "source": [
    "plt.plot(x,y)\n",
    "plt.plot([aw, ew], [0, 0], color= \"black\", linewidth=0.5)\n",
    "plt.plot([0, 0], [0, t.pdf(0, loc=mean, scale=sd, df=4)], color= \"black\", linewidth=0.5)\n",
    "plt.plot([1.2, 1.2], [-0.03, 0.01], color=\"none\")\n",
    "plt.plot([1.2, 1.2], [-0.01, 0], color=\"black\")\n",
    "plt.text(1.2, -0.07, r\"$\\overline{x}_n$\", horizontalalignment=\"center\", fontsize=10,verticalalignment=\"bottom\")\n",
    "plt.text(0, -0.07, r\"$0$\", horizontalalignment=\"center\", fontsize=10,verticalalignment=\"bottom\")\n",
    "x_s = np.linspace(1.2, ew, num=100)\n",
    "y_s = t.pdf(x_s, loc=mean, scale=sd, df=4)\n",
    "plt.fill_between(x_s, y_s, color=\"red\")\n",
    "plt.plot([0, 0], [-.03,0], color=\"none\")\n",
    "plt.axis(\"off\")\n",
    "plt.savefig(\"t_test_4.eps\", bbox_inches = 'tight')"
   ]
  },
  {
   "cell_type": "markdown",
   "metadata": {},
   "source": [
    "_Führt man statt eines einseitigen einen zweiseitigen Test zum Niveau 0.05 durch, verwirft man $H_0$ nicht._\n",
    "\n",
    "Ähmliche Frage wie weiter oben: Wechseln wir von einseitig zu zweiseitig, so verkleinert sich der Verwerfungsbereich auf der rechten Seite. Da $\\overline{x}_n$ beim einseitigen Test schon nicht im Verwerfungsbereich liegt, dann kann er es beim zweiseitigen sowieso nicht. Also ist die Aussage richtig."
   ]
  },
  {
   "cell_type": "code",
   "execution_count": 87,
   "metadata": {},
   "outputs": [
    {
     "data": {
      "image/png": "[encoded data removed]",
      "text/plain": [
       "<Figure size 576x144 with 1 Axes>"
      ]
     },
     "metadata": {
      "needs_background": "light"
     },
     "output_type": "display_data"
    }
   ],
   "source": [
    "plt.plot(x,y)\n",
    "plt.plot([aw, ew], [0, 0], color= \"black\", linewidth=0.5)\n",
    "plt.plot([0, 0], [0, t.pdf(0, loc=mean, scale=sd, df=4)], color= \"black\", linewidth=0.5)\n",
    "# Plot des Verwerfungsbereiches\n",
    "plt.plot([q_95, ew], [0, 0], color=\"red\", linewidth=2)\n",
    "\n",
    "plt.plot([1.3, 1.3], [-0.01, 0.01], color=\"black\")\n",
    "plt.text(1.3, -0.07, r\"$\\overline{x}_n$\", horizontalalignment=\"center\", fontsize=10,verticalalignment=\"bottom\")\n",
    "plt.plot([q_95, q_95], [-0.01, 0.01], color=\"black\")\n",
    "plt.text(q_95, -0.07, r\"$q_{0.95}$\", horizontalalignment=\"center\", fontsize=10,verticalalignment=\"bottom\")\n",
    "\n",
    "q_025, q_975 = t.ppf(q=[0.025, 0.975], loc=mean , scale=sd, df = 4)\n",
    "\n",
    "plt.plot([aw, q_025], [0.02, 0.02], color=\"red\", linewidth=2)\n",
    "plt.plot([q_975, ew], [0.02, 0.02], color=\"red\", linewidth=2)\n",
    "\n",
    "plt.plot([q_975-.05, q_975-.05], [-0.01, 0.04], color=\"black\")\n",
    "plt.text(q_975+.2, -0.07, r\"$q_{0.975}$\", horizontalalignment=\"center\", fontsize=10,verticalalignment=\"bottom\")\n",
    "\n",
    "plt.plot([q_025+.05, q_025+0.05], [-0.01, 0.04], color=\"black\")\n",
    "plt.text(0, -0.07, r\"$0$\", horizontalalignment=\"center\", fontsize=10,verticalalignment=\"bottom\")\n",
    "plt.plot([0, 0], [-.03,0], color=\"none\")\n",
    "plt.axis(\"off\")\n",
    "plt.text(q_025, -0.07, r\"$q_{0.025}$\", horizontalalignment=\"center\", fontsize=10,verticalalignment=\"bottom\")\n",
    "plt.savefig(\"t_test_5.eps\", bbox_inches = 'tight')"
   ]
  },
  {
   "cell_type": "markdown",
   "metadata": {},
   "source": [
    "_Wenn man die Daten immer öfter kopiert (d. h., man betrachtet jeden Datenpunkt $k$-Mal, so dass man insgesamt $k\\cdot n$ Datenpunkte erhält), verwirft man $H_0$ für ein grosses $k$ beim\n",
    "Niveau $0.05$._\n",
    "\n",
    "Wenn wir die Datenpunkte beispielsweise vervierfachen ($k=4$), dann bleibt der Durchschnitt und die Standardabweichung nimmt aber ab mit $\\sqrt{k}=2$. Das heisst $\\overline{x}_n=\\overline{x}_{nk}$, aber die Anzahl Beobachtungen nimmt zu. Das heisst die Kurve wird schmaler und der Verwerfungsbereich wächst gegen links und für ein genügend grosse $k$ liegt dann $\\overline{x}_n$ im Verwerfungsbereich und die Nullhypothese wird verworfen. Also stimmt die Aussage."
   ]
  },
  {
   "cell_type": "code",
   "execution_count": 105,
   "metadata": {},
   "outputs": [
    {
     "data": {
      "image/png": "[encoded data removed]",
      "text/plain": [
       "<Figure size 576x288 with 1 Axes>"
      ]
     },
     "metadata": {
      "needs_background": "light"
     },
     "output_type": "display_data"
    }
   ],
   "source": [
    "plt.figure(figsize=(8,4))\n",
    "plt.plot(x,y)\n",
    "\n",
    "y_2 = t.pdf(x, loc=mean, scale=sd/2, df=16)\n",
    "plt.plot(x,y_2)\n",
    "plt.plot([aw, ew], [0, 0], color= \"black\", linewidth=0.5)\n",
    "plt.plot([0, 0], [0, t.pdf(0, loc=mean, scale=sd, df=4)], color= \"black\", linewidth=0.5)\n",
    "# Plot des Verwerfungsbereiches\n",
    "plt.plot([q_95, ew], [0, 0], color=\"red\", linewidth=2)\n",
    "\n",
    "plt.plot([1.2, 1.2], [-0.01, 0.03], color=\"black\")\n",
    "plt.text(1.2+.05, -0.12, r\"$\\overline{x}_n=\\overline{x}_{4n}$\", horizontalalignment=\"center\", fontsize=10,verticalalignment=\"bottom\")\n",
    "plt.plot([q_95-.05, q_95-.05], [-0.01, 0.03], color=\"black\")\n",
    "plt.text(q_95+.1, -0.07, r\"$q_{0.95}$\", horizontalalignment=\"center\", fontsize=10,verticalalignment=\"bottom\")\n",
    "\n",
    "q_95_4 = t.ppf(q=0.92, loc=mean , scale=sd/2, df = 16)\n",
    "plt.plot([q_95_4, ew], [0.02, 0.02], color=\"red\", linewidth=2)\n",
    "plt.text(0, -0.07, r\"$0$\", horizontalalignment=\"center\", fontsize=10,verticalalignment=\"bottom\")\n",
    "plt.plot([q_95_4-.05, q_95_4-.05], [-0.01, 0.03], color=\"black\")\n",
    "plt.text(q_95_4-.1, -0.07, r\"$q^*_{0.95}$\", horizontalalignment=\"center\", fontsize=10,verticalalignment=\"bottom\")\n",
    "plt.plot([0, 0], [-.03,0], color=\"none\")\n",
    "plt.axis(\"off\")\n",
    "plt.savefig(\"t_test_6.eps\", bbox_inches = 'tight')"
   ]
  }
 ],
 "metadata": {
  "kernelspec": {
   "display_name": "Python 3 (ipykernel)",
   "language": "python",
   "name": "python3"
  },
  "language_info": {
   "codemirror_mode": {
    "name": "ipython",
    "version": 3
   },
   "file_extension": ".py",
   "mimetype": "text/x-python",
   "name": "python",
   "nbconvert_exporter": "python",
   "pygments_lexer": "ipython3",
   "version": "3.9.12"
  }
 },
 "nbformat": 4,
 "nbformat_minor": 4
}
