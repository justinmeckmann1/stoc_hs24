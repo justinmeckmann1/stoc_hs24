{
 "cells": [
  {
   "cell_type": "code",
   "execution_count": 1,
   "id": "voluntary-senate",
   "metadata": {},
   "outputs": [
    {
     "name": "stderr",
     "output_type": "stream",
     "text": [
      "Matplotlib is building the font cache; this may take a moment.\n"
     ]
    }
   ],
   "source": [
    "import numpy as np\n",
    "import matplotlib.pyplot as plt"
   ]
  },
  {
   "cell_type": "code",
   "execution_count": 2,
   "id": "outstanding-circular",
   "metadata": {},
   "outputs": [
    {
     "name": "stdout",
     "output_type": "stream",
     "text": [
      "[42 43 42 30 30 42 43 37 43 37]\n",
      "Durchschnitt: 38.9\n"
     ]
    }
   ],
   "source": [
    "x = np.array([30, 37, 36, 43, 42, 43, 43, 46, 41, 42])\n",
    "n = x.size \n",
    "\n",
    "nboot = 1\n",
    "\n",
    "tmpdata = np.random.choice(x, n*nboot, replace=True)\n",
    "\n",
    "tmpdata\n",
    "print(tmpdata)\n",
    "print(\"Durchschnitt:\", tmpdata.mean())"
   ]
  },
  {
   "cell_type": "code",
   "execution_count": 11,
   "id": "nasty-pollution",
   "metadata": {},
   "outputs": [
    {
     "name": "stdout",
     "output_type": "stream",
     "text": [
      "[[42 43 36 46 37 43 36 43 36 37 46 42 43 43 42 46 41 30 43 41]\n",
      " [30 46 43 37 37 43 37 46 41 46 36 43 43 43 46 36 36 43 43 42]\n",
      " [30 36 43 36 30 37 43 46 46 46 43 42 43 42 37 43 37 43 37 37]\n",
      " [36 42 42 36 37 43 30 43 46 41 43 37 42 36 43 46 43 37 43 36]\n",
      " [30 43 42 46 43 43 42 42 43 43 46 46 41 37 30 42 41 30 37 41]\n",
      " [43 43 43 43 43 43 42 43 43 36 30 36 30 43 36 37 43 36 42 30]\n",
      " [43 43 36 41 43 30 42 36 46 41 36 42 43 43 42 41 42 36 43 37]\n",
      " [41 30 37 36 36 36 43 43 37 37 30 41 30 37 30 46 41 41 43 36]\n",
      " [41 42 46 41 41 30 41 37 43 42 42 41 43 30 30 43 42 37 37 43]\n",
      " [42 37 36 41 46 36 36 37 41 42 43 42 36 43 41 42 43 43 43 42]]\n"
     ]
    }
   ],
   "source": [
    "xbar = x.mean()\n",
    "\n",
    "nboot = 20\n",
    "tmpdata = np.random.choice(x, n*nboot, replace=True)\n",
    "\n",
    "bootstrapsample = np.reshape(tmpdata, (n, nboot))\n",
    "\n",
    "bootstrapsample\n",
    "print(bootstrapsample)"
   ]
  },
  {
   "cell_type": "code",
   "execution_count": 12,
   "id": "functional-investor",
   "metadata": {},
   "outputs": [
    {
     "name": "stdout",
     "output_type": "stream",
     "text": [
      "[37.9 39.7 39.8 39.9 40.  40.1 40.3 40.6 40.6 41.  41.1 41.2 41.2 41.4\n",
      " 41.4 41.7 41.8 41.9 41.9 42.3]\n"
     ]
    }
   ],
   "source": [
    "xbar = x.mean()\n",
    "\n",
    "nboot = 20\n",
    "tmpdata = np.random.choice(x, n*nboot, replace=True)\n",
    "\n",
    "bootstrapsample = np.reshape(tmpdata, (n, nboot))\n",
    "\n",
    "xbarstar = bootstrapsample.mean(axis=0)\n",
    "\n",
    "np.sort(xbarstar)\n",
    "print(np.sort(xbarstar))"
   ]
  },
  {
   "cell_type": "code",
   "execution_count": 13,
   "id": "automated-token",
   "metadata": {},
   "outputs": [
    {
     "name": "stdout",
     "output_type": "stream",
     "text": [
      "Vertrauensintervall:  [37.8375 43.2825]\n"
     ]
    }
   ],
   "source": [
    "tmpdata = np.random.choice(x, n*nboot, replace=True)\n",
    "bootstrapsample = np.reshape(tmpdata, (n, nboot))\n",
    "xbarstar = bootstrapsample.mean(axis=0)\n",
    "d = np.percentile(xbarstar, q=[2.5, 97.5])\n",
    "print('Vertrauensintervall: ',d)"
   ]
  },
  {
   "cell_type": "code",
   "execution_count": 14,
   "id": "4cd33ea8",
   "metadata": {},
   "outputs": [
    {
     "name": "stdout",
     "output_type": "stream",
     "text": [
      "Vertrauensintervall:  [38.48214058 40.65360283]\n"
     ]
    }
   ],
   "source": [
    "\n",
    "x = np.random.normal(loc=40, scale=5, size=100)\n",
    "n = x.size\n",
    "xbar = x.mean()\n",
    "nboot = 2000\n",
    "tmpdata = np.random.choice(x, n*nboot, replace=True)\n",
    "bootstrapsample = np.reshape(tmpdata, (n, nboot))\n",
    "xbarstar = bootstrapsample.mean(axis=0)\n",
    "deltastar = xbarstar - xbar\n",
    "d = np.percentile(deltastar, q=[2.5, 97.5])\n",
    "ci = xbar - [d[1], d[0]]\n",
    "print(\"Vertrauensintervall: \",ci)\n"
   ]
  },
  {
   "cell_type": "code",
   "execution_count": 19,
   "id": "innovative-scout",
   "metadata": {},
   "outputs": [
    {
     "name": "stdout",
     "output_type": "stream",
     "text": [
      "943\n"
     ]
    }
   ],
   "source": [
    "x = np.random.normal(loc=40, scale=5, size=100000)\n",
    "\n",
    "sample = np.reshape(x,(1000,100))\n",
    "\n",
    "nboot = 1000\n",
    "n = 100\n",
    "k=0\n",
    "for i in range(0,1000):\n",
    "    y = sample[i]\n",
    "    xbar = y.mean()\n",
    "    tmpdata = np.random.choice(y, n*nboot, replace=True)\n",
    "    bootstrapsample = np.reshape(tmpdata, (n, nboot))\n",
    "    xbarstar = bootstrapsample.mean(axis=0)\n",
    "    deltastar = xbarstar - xbar\n",
    "    d = np.percentile(deltastar, q=[2.5, 97.5])\n",
    "    if xbar-d[1]<= 40 <= xbar-d[0]:\n",
    "        k=k+1\n",
    "    \n",
    "print(k)"
   ]
  },
  {
   "cell_type": "code",
   "execution_count": 26,
   "id": "conservative-afghanistan",
   "metadata": {},
   "outputs": [
    {
     "data": {
      "image/png": "[encoded data removed]",
      "text/plain": [
       "<Figure size 432x288 with 1 Axes>"
      ]
     },
     "metadata": {
      "needs_background": "light"
     },
     "output_type": "display_data"
    }
   ],
   "source": [
    "x = np.random.normal(loc=40, scale=5,size=10000)\n",
    "\n",
    "sample = np.reshape(x,(100,100))\n",
    "\n",
    "sample.shape\n",
    "nboot = 10000\n",
    "n = 100\n",
    "k=0\n",
    "for i in range(0,100):\n",
    "    y = sample[i]\n",
    "    xbar = y.mean()\n",
    "    tmpdata = np.random.choice(y, n*nboot, replace=True)\n",
    "    bootstrapsample = np.reshape(tmpdata, (n, nboot))\n",
    "    xbarstar = bootstrapsample.mean(axis=0)\n",
    "    deltastar = xbarstar - xbar\n",
    "    d = np.percentile(deltastar, q=[2.5, 97.5])\n",
    "    plt.plot([i,i],[xbar-d[1],xbar-d[0]],alpha=.5)\n",
    "    if (xbar-d[1]<= 40 <= xbar-d[0])==False:\n",
    "        plt.plot([i,i],[xbar-d[1],xbar-d[0]],c=\"black\",linewidth=2)\n",
    "plt.plot([-5,105],[40,40])\n",
    "plt.show()"
   ]
  }
 ],
 "metadata": {
  "hide_input": false,
  "kernelspec": {
   "display_name": "Python 3 (ipykernel)",
   "language": "python",
   "name": "python3"
  },
  "language_info": {
   "codemirror_mode": {
    "name": "ipython",
    "version": 3
   },
   "file_extension": ".py",
   "mimetype": "text/x-python",
   "name": "python",
   "nbconvert_exporter": "python",
   "pygments_lexer": "ipython3",
   "version": "3.9.12"
  },
  "varInspector": {
   "cols": {
    "lenName": 16,
    "lenType": 16,
    "lenVar": 40
   },
   "kernels_config": {
    "python": {
     "delete_cmd_postfix": "",
     "delete_cmd_prefix": "del ",
     "library": "var_list.py",
     "varRefreshCmd": "print(var_dic_list())"
    },
    "r": {
     "delete_cmd_postfix": ") ",
     "delete_cmd_prefix": "rm(",
     "library": "var_list.r",
     "varRefreshCmd": "cat(var_dic_list()) "
    }
   },
   "types_to_exclude": [
    "module",
    "function",
    "builtin_function_or_method",
    "instance",
    "_Feature"
   ],
   "window_display": false
  }
 },
 "nbformat": 4,
 "nbformat_minor": 5
}
