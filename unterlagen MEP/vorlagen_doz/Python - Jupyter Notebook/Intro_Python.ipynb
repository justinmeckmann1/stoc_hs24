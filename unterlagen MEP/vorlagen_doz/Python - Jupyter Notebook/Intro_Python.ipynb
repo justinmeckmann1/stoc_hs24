{
 "cells": [
  {
   "cell_type": "code",
   "execution_count": 4,
   "id": "1795a927-9d2c-42f3-8ca6-805daeeaf1d0",
   "metadata": {
    "tags": []
   },
   "outputs": [
    {
     "data": {
      "text/plain": [
       "8"
      ]
     },
     "execution_count": 4,
     "metadata": {},
     "output_type": "execute_result"
    }
   ],
   "source": [
    "1+7"
   ]
  },
  {
   "cell_type": "code",
   "execution_count": 5,
   "id": "3dea2484-bbbf-4ad0-8dc4-fe834c7fc368",
   "metadata": {
    "tags": []
   },
   "outputs": [
    {
     "data": {
      "text/plain": [
       "8"
      ]
     },
     "execution_count": 5,
     "metadata": {},
     "output_type": "execute_result"
    }
   ],
   "source": [
    "2*4"
   ]
  },
  {
   "cell_type": "code",
   "execution_count": 6,
   "id": "9cddea8c-93c5-487e-8e46-17d08b7cdaa1",
   "metadata": {
    "tags": []
   },
   "outputs": [
    {
     "name": "stdout",
     "output_type": "stream",
     "text": [
      "2\n"
     ]
    },
    {
     "data": {
      "text/plain": [
       "'\\nA first example \\nwith a longer comment\\n'"
      ]
     },
     "execution_count": 6,
     "metadata": {},
     "output_type": "execute_result"
    }
   ],
   "source": [
    "# A first example\n",
    "print(1+1)\n",
    "\n",
    "\"\"\"\n",
    "A first example \n",
    "with a longer comment\n",
    "\"\"\""
   ]
  },
  {
   "cell_type": "code",
   "execution_count": 7,
   "id": "e4402450-786f-4fc2-8858-02313cf9d3a9",
   "metadata": {
    "tags": []
   },
   "outputs": [
    {
     "data": {
      "text/plain": [
       "7"
      ]
     },
     "execution_count": 7,
     "metadata": {},
     "output_type": "execute_result"
    }
   ],
   "source": [
    "# Empty spaces\n",
    "3 + 4"
   ]
  },
  {
   "cell_type": "code",
   "execution_count": 8,
   "id": "19c70b48-f96f-4702-b3ed-8ee7bcd2c64b",
   "metadata": {
    "tags": []
   },
   "outputs": [
    {
     "data": {
      "text/plain": [
       "4"
      ]
     },
     "execution_count": 8,
     "metadata": {},
     "output_type": "execute_result"
    }
   ],
   "source": [
    "# Assignments\n",
    "a = 3\n",
    "bb = 4\n",
    "\n",
    "a\n",
    "\n",
    "bb"
   ]
  },
  {
   "cell_type": "code",
   "execution_count": 9,
   "id": "f296b39c-089e-434e-8610-fed85c633f23",
   "metadata": {
    "tags": []
   },
   "outputs": [],
   "source": [
    "a, bb = 3, 4"
   ]
  },
  {
   "cell_type": "code",
   "execution_count": 10,
   "id": "d8ec3688-0967-4d5b-99e7-909d2858b710",
   "metadata": {
    "tags": []
   },
   "outputs": [
    {
     "data": {
      "text/plain": [
       "8.100000000000001"
      ]
     },
     "execution_count": 10,
     "metadata": {},
     "output_type": "execute_result"
    }
   ],
   "source": [
    "2.7 * a"
   ]
  },
  {
   "cell_type": "code",
   "execution_count": 11,
   "id": "f5c5208f-d64b-4d05-84da-479a9e99fcd1",
   "metadata": {
    "tags": []
   },
   "outputs": [
    {
     "data": {
      "text/plain": [
       "9"
      ]
     },
     "execution_count": 11,
     "metadata": {},
     "output_type": "execute_result"
    }
   ],
   "source": [
    "# The exponation operator is ** in Python instead of ^ as in most other programming languages \n",
    "a**2"
   ]
  },
  {
   "cell_type": "code",
   "execution_count": 12,
   "id": "cbbde87c-e361-4896-b128-91217ebf78b5",
   "metadata": {
    "tags": []
   },
   "outputs": [
    {
     "data": {
      "text/plain": [
       "0.75"
      ]
     },
     "execution_count": 12,
     "metadata": {},
     "output_type": "execute_result"
    }
   ],
   "source": [
    "a/bb"
   ]
  },
  {
   "cell_type": "code",
   "execution_count": 13,
   "id": "79cf70f4-335c-4d58-ab74-0e923404fef1",
   "metadata": {
    "tags": []
   },
   "outputs": [
    {
     "ename": "NameError",
     "evalue": "name 'A' is not defined",
     "output_type": "error",
     "traceback": [
      "\u001b[0;31m---------------------------------------------------------------------------\u001b[0m",
      "\u001b[0;31mNameError\u001b[0m                                 Traceback (most recent call last)",
      "Cell \u001b[0;32mIn[13], line 2\u001b[0m\n\u001b[1;32m      1\u001b[0m \u001b[38;5;66;03m# Case sensitive\u001b[39;00m\n\u001b[0;32m----> 2\u001b[0m \u001b[43mA\u001b[49m\n",
      "\u001b[0;31mNameError\u001b[0m: name 'A' is not defined"
     ]
    }
   ],
   "source": [
    "# Case sensitive\n",
    "A"
   ]
  },
  {
   "cell_type": "code",
   "execution_count": 14,
   "id": "3a3ce7ca-9f2c-4451-8a52-46659cf06407",
   "metadata": {
    "tags": []
   },
   "outputs": [
    {
     "ename": "SyntaxError",
     "evalue": "invalid decimal literal (1838723517.py, line 1)",
     "output_type": "error",
     "traceback": [
      "\u001b[0;36m  Cell \u001b[0;32mIn[14], line 1\u001b[0;36m\u001b[0m\n\u001b[0;31m    3a\u001b[0m\n\u001b[0m    ^\u001b[0m\n\u001b[0;31mSyntaxError\u001b[0m\u001b[0;31m:\u001b[0m invalid decimal literal\n"
     ]
    }
   ],
   "source": [
    "3a"
   ]
  },
  {
   "cell_type": "code",
   "execution_count": 15,
   "id": "e0afc60f-d655-4e01-b00f-146c937cfca9",
   "metadata": {
    "tags": []
   },
   "outputs": [
    {
     "name": "stdout",
     "output_type": "stream",
     "text": [
      "[1, 2, 3, 4, 5]\n"
     ]
    },
    {
     "data": {
      "text/plain": [
       "[2, 'sad', 5.3, 'YES', 'beautiful', 'sad']"
      ]
     },
     "execution_count": 15,
     "metadata": {},
     "output_type": "execute_result"
    }
   ],
   "source": [
    "# Simple lists\n",
    "\n",
    "z_1 = [3, 4, 4.5, -2, 7]\n",
    "\n",
    "z_1\n",
    "\n",
    "z_2 = [1, 2, 3, 4, 5]\n",
    "\n",
    "print(z_2)\n",
    "\n",
    "\n",
    "\n",
    "mixed = [2, 'sad', 5.3, 'YES', \"beautiful\", \"sad\"]\n",
    "\n",
    "mixed"
   ]
  },
  {
   "cell_type": "code",
   "execution_count": 16,
   "id": "a318bf29-d749-4c9e-b8db-bbc2680ac89d",
   "metadata": {
    "tags": []
   },
   "outputs": [
    {
     "data": {
      "text/plain": [
       "1.4142135623730951"
      ]
     },
     "execution_count": 16,
     "metadata": {},
     "output_type": "execute_result"
    }
   ],
   "source": [
    "# module numpy\n",
    "\n",
    "\n",
    "import numpy\n",
    "\n",
    "numpy.sqrt(2)\n",
    "\n",
    "\n",
    "import numpy as np\n",
    "\n",
    "np.sqrt(2)\n",
    "\n",
    "\n",
    "\n",
    "from numpy import sqrt\n",
    "\n",
    "sqrt(2)"
   ]
  },
  {
   "cell_type": "code",
   "execution_count": 17,
   "id": "f0f5c21d-bcd3-474b-9ee2-08e5c4853dce",
   "metadata": {
    "tags": []
   },
   "outputs": [
    {
     "data": {
      "text/plain": [
       "array([ 2,  1,  4,  5, -8])"
      ]
     },
     "execution_count": 17,
     "metadata": {},
     "output_type": "execute_result"
    }
   ],
   "source": [
    "# Vectors\n",
    "\n",
    "import numpy as np\n",
    "\n",
    "x = np.array([2, 1, 4, 5, -8])\n",
    "\n",
    "x"
   ]
  },
  {
   "cell_type": "code",
   "execution_count": 18,
   "id": "b88aba7d-6f91-437a-bf1d-29fdbd97626f",
   "metadata": {
    "tags": []
   },
   "outputs": [
    {
     "data": {
      "text/plain": [
       "5"
      ]
     },
     "execution_count": 18,
     "metadata": {},
     "output_type": "execute_result"
    }
   ],
   "source": [
    "x[3]"
   ]
  },
  {
   "cell_type": "code",
   "execution_count": 19,
   "id": "c787b094-e381-4404-afbf-d1f7dc8077a5",
   "metadata": {
    "tags": []
   },
   "outputs": [
    {
     "data": {
      "text/plain": [
       "array([ 4,  1, 16, 25, 64])"
      ]
     },
     "execution_count": 19,
     "metadata": {},
     "output_type": "execute_result"
    }
   ],
   "source": [
    "x*x"
   ]
  },
  {
   "cell_type": "code",
   "execution_count": 20,
   "id": "b56f5bf8-b302-4a15-be63-532bba985b9c",
   "metadata": {
    "tags": []
   },
   "outputs": [
    {
     "data": {
      "text/plain": [
       "array([1.  , 1.25, 1.5 , 1.75, 2.  ])"
      ]
     },
     "execution_count": 20,
     "metadata": {},
     "output_type": "execute_result"
    }
   ],
   "source": [
    "x = np.linspace(start=1, stop=2 ,num=5)\n",
    "\n",
    "x"
   ]
  },
  {
   "cell_type": "code",
   "execution_count": 21,
   "id": "a490b4f4-6165-4c50-a9c8-3a88565ad232",
   "metadata": {
    "tags": []
   },
   "outputs": [
    {
     "data": {
      "text/plain": [
       "array([1. , 1.6, 2.2, 2.8, 3.4, 4. , 4.6, 5.2, 5.8, 6.4])"
      ]
     },
     "execution_count": 21,
     "metadata": {},
     "output_type": "execute_result"
    }
   ],
   "source": [
    "y = np.arange(start=1, stop=7, step=.6)\n",
    "\n",
    "y\n"
   ]
  },
  {
   "cell_type": "code",
   "execution_count": 22,
   "id": "6f1e89a1-dde4-40b2-b0db-bb794619cc76",
   "metadata": {
    "tags": []
   },
   "outputs": [
    {
     "data": {
      "text/plain": [
       "array([2, 3, 4, 5, 6, 7, 8])"
      ]
     },
     "execution_count": 22,
     "metadata": {},
     "output_type": "execute_result"
    }
   ],
   "source": [
    "z = np.arange(start=2, stop=9)\n",
    "\n",
    "z"
   ]
  },
  {
   "cell_type": "code",
   "execution_count": 23,
   "id": "3cdd26e5-e423-43ee-831d-fae828a3e266",
   "metadata": {
    "tags": []
   },
   "outputs": [
    {
     "data": {
      "text/plain": [
       "array([0, 1, 2, 3, 4, 5, 6, 7, 8])"
      ]
     },
     "execution_count": 23,
     "metadata": {},
     "output_type": "execute_result"
    }
   ],
   "source": [
    "w = np.arange(9)\n",
    "\n",
    "w"
   ]
  }
 ],
 "metadata": {
  "kernelspec": {
   "display_name": "Python 3 (ipykernel)",
   "language": "python",
   "name": "python3"
  },
  "language_info": {
   "codemirror_mode": {
    "name": "ipython",
    "version": 3
   },
   "file_extension": ".py",
   "mimetype": "text/x-python",
   "name": "python",
   "nbconvert_exporter": "python",
   "pygments_lexer": "ipython3",
   "version": "3.10.11"
  }
 },
 "nbformat": 4,
 "nbformat_minor": 5
}
