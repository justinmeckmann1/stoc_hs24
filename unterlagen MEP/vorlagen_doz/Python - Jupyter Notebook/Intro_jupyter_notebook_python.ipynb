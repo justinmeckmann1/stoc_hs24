{
 "cells": [
  {
   "cell_type": "markdown",
   "metadata": {},
   "source": [
    "# 10 minutes to a Jupyter Notebook\n",
    "\n",
    "## Introduction\n",
    "\n",
    "This notebook gives a very short introduction to jupyter notebooks. All details are omitted. For further information see [jupyter notebook documentation](https://buildmedia.readthedocs.org/media/pdf/jupyter-notebook/latest/jupyter-notebook.pdf)\n",
    "\n",
    "## What is a jupyter notebook?\n",
    "\n",
    "A jupyter notebook is a document which allows to embed and run programming code such as python and R (among others) within the document.\n",
    "\n",
    "## Cells\n",
    "\n",
    "Jupyter notebooks consist of two different kind of cells:\n",
    "1. Markdown cells (as this one)\n",
    "2. Code cells\n",
    "\n",
    "### Running cells \n",
    "\n",
    "Press Ctrl+Enter\n",
    "### Code example in Python"
   ]
  },
  {
   "cell_type": "code",
   "execution_count": 1,
   "metadata": {
    "tags": []
   },
   "outputs": [
    {
     "name": "stdout",
     "output_type": "stream",
     "text": [
      "Hello World\n"
     ]
    }
   ],
   "source": [
    "print(\"Hello World\")"
   ]
  },
  {
   "cell_type": "markdown",
   "metadata": {},
   "source": [
    "## Structure of a document\n",
    "\n",
    "### Headings\n",
    "\n",
    "Start a line with a # and the text behind it will be _marked_ as heading. Headings come in 4 different sizes: #, ##, ###, ####\n",
    "\n",
    "## Lists\n",
    "### Itemized list\n",
    "Start each line with a - (dash) and an itemized list will be generated.\n",
    "\n",
    "#### Example\n",
    "\n",
    "- First line\n",
    "- And whatsoever\n",
    "\n",
    "### Enumerated list\n",
    "\n",
    "Start the line with 1. and so on and enumerated list will be generated. \n",
    "\n",
    "#### Example\n",
    "\n",
    "1. Monday\n",
    "2. Whatsoever\n",
    "\n",
    "## Formulae\n",
    "For formulae, $\\LaTeX$ is used. Commands for $\\LaTeX$ must be within \\\\$ \\\\$ for inline formulae or between \\\\$\\\\$ \\\\$\\\\$ for indented formulae. All commands begin with a backslash \\\n",
    "\n",
    "#### Example\n",
    "\n",
    "The sum of the angles $\\alpha$, $\\beta$ and $\\gamma$ of a (plane) triangle is $\\pi$. Or\n",
    "$$\n",
    "\\alpha+\\beta+\\gamma=\\pi\n",
    "$$\n",
    "\n",
    "### Often used commands\n",
    "\n",
    "- $\\verb+\\frac{a}{b}+$ for $\\frac{a}{b}$\n",
    "- $\\verb+a^{b}+$ for $a^b$\n",
    "- $\\verb+a_{1}+$ for $a_{1}$\n",
    "- $\\verb+A\\cap B+$ for $A\\cap B$\n",
    "- $\\verb+A\\cup B+$ for $A\\cup B$\n",
    "- $\\verb+\\int_{a}^{b}+$ for $\\int_{a}^{b}$\n",
    "\n",
    "## Formating text\n",
    "\n",
    "$\\LaTeX$ can be used for formating text. Again, the following comands must be put between \\\\$ \\\\$\n",
    "\n",
    "### Often used commands \n",
    "\n",
    "- $\\verb+\\textit{italics}+$ for $\\textit{italics}$\n",
    "- $\\verb+\\textbf{bold}+$ for $\\textbf{bold}$\n",
    "- $\\verb+\\underline{abc}+$ for $\\underline{abc}$"
   ]
  }
 ],
 "metadata": {
  "kernelspec": {
   "display_name": "Python 3 (ipykernel)",
   "language": "python",
   "name": "python3"
  },
  "language_info": {
   "codemirror_mode": {
    "name": "ipython",
    "version": 3
   },
   "file_extension": ".py",
   "mimetype": "text/x-python",
   "name": "python",
   "nbconvert_exporter": "python",
   "pygments_lexer": "ipython3",
   "version": "3.10.11"
  }
 },
 "nbformat": 4,
 "nbformat_minor": 4
}
