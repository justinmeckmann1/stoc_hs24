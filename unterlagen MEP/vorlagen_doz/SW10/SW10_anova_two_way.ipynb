{
 "cells": [
  {
   "cell_type": "markdown",
   "id": "3853e4d8-fff5-4f1f-b5ca-500883f14529",
   "metadata": {},
   "source": [
    "# Beispiel Randomisiertes vollständiges Block-Design: Vaskuläre Röhrchen"
   ]
  },
  {
   "cell_type": "code",
   "execution_count": null,
   "id": "b08f775c-c14c-4592-8ada-143968aaa0f0",
   "metadata": {},
   "outputs": [],
   "source": [
    "from pandas import DataFrame\n",
    "import pandas as pd\n",
    "import numpy as np\n",
    "import scipy.stats as st\n",
    "from statsmodels.formula.api import ols\n",
    "from statsmodels.stats.anova import anova_lm\n",
    "from statsmodels.graphics.factorplots import interaction_plot\n",
    "import matplotlib.pyplot as plt\n",
    "\n",
    "Daten = DataFrame({\n",
    "\"Batch\": np.tile([\"1\", \"2\", \"3\", \"4\", \"5\", \"6\"], 4),\n",
    "\"Methode\": np.repeat([\"8500\", \"8700\", \"8900\", \"9100\"], 6),\n",
    "\"Y\": np.array([90.3, 89.2, 98.2, 93.9, 87.4, 97.9, 92.5, \n",
    "89.5, 90.6, 94.7, 87, 95.8, 85.5,\n",
    " 90.8, 89.6, 86.2, 88, 93.4, 82.5, 89.5, 85.6, 87.4, \n",
    "78.9, 90.7])\n",
    "})\n",
    "\n",
    "interaction_plot(x=Daten[\"Batch\"], trace=Daten[\"Methode\"], response=Daten[\"Y\"])\n",
    "plt.ylabel(\"Daten Y\")\n",
    "plt.show()"
   ]
  },
  {
   "cell_type": "code",
   "execution_count": null,
   "id": "019dd7ab-fb14-4a3f-ad06-93672195b95e",
   "metadata": {},
   "outputs": [],
   "source": [
    "from pandas import DataFrame\n",
    "import pandas as pd\n",
    "import numpy as np\n",
    "import scipy.stats as st\n",
    "\n",
    "from statsmodels.formula.api import ols\n",
    "from statsmodels.stats.anova import anova_lm\n",
    "from statsmodels.graphics.factorplots import interaction_plot\n",
    "from statsmodels.stats.outliers_influence import summary_table\n",
    "import matplotlib.pyplot as plt\n",
    "\n",
    "from patsy.contrasts import Sum\n",
    "\n",
    "Daten = DataFrame({\n",
    "\"Batch\": np.tile([\"1\", \"2\", \"3\", \"4\", \"5\", \"6\"], 4),\n",
    "\"Methode\": np.repeat([\"8500\", \"8700\", \"8900\", \"9100\"],6),\n",
    "\"Y\": np.array([90.3, 89.2, 98.2, 93.9, 87.4, 97.9, 92.5, 89.5, 90.6, 94.7, 87, 95.8, 85.5,\n",
    " 90.8, 89.6, 86.2, 88, 93.4, 82.5, 89.5, 85.6, 87.4, 78.9, 90.7])\n",
    "})\n",
    "\n",
    "fit = ols(\"Y ~ C(Methode, Sum)+C(Batch,Sum)\", data=Daten).fit()\n",
    "\n",
    "fit.params\n",
    "print(fit.params)"
   ]
  },
  {
   "cell_type": "code",
   "execution_count": null,
   "id": "f8e27feb-b475-4806-8043-44b6a5486e1a",
   "metadata": {},
   "outputs": [],
   "source": [
    "from pandas import DataFrame\n",
    "import pandas as pd\n",
    "import numpy as np\n",
    "import scipy.stats as st\n",
    "\n",
    "from statsmodels.formula.api import ols\n",
    "from statsmodels.stats.anova import anova_lm\n",
    "from statsmodels.graphics.factorplots import interaction_plot\n",
    "from statsmodels.stats.outliers_influence import summary_table\n",
    "import matplotlib.pyplot as plt\n",
    "\n",
    "from patsy.contrasts import Sum\n",
    "import warnings\n",
    "warnings.filterwarnings(\"ignore\")\n",
    "Daten = DataFrame({\n",
    "\"Batch\": np.tile([\"1\", \"2\", \"3\", \"4\", \"5\", \"6\"], 4),\n",
    "\"Methode\": np.repeat([\"8500\", \"8700\", \"8900\", \"9100\"],6),\n",
    "\"Y\": np.array([90.3, 89.2, 98.2, 93.9, 87.4, 97.9, 92.5, 89.5, 90.6, 94.7, 87, 95.8, 85.5,\n",
    " 90.8, 89.6, 86.2, 88, 93.4, 82.5, 89.5, 85.6, 87.4, 78.9, 90.7])\n",
    "})\n",
    "\n",
    "fit = ols(\"Y ~ C(Methode, Sum)+C(Batch, Sum)\", data=Daten).fit()\n",
    "\n",
    "print(anova_lm(fit))\n",
    "anova_lm(fit)"
   ]
  },
  {
   "cell_type": "markdown",
   "id": "e64452e2-024e-4123-b337-37341c969f3f",
   "metadata": {},
   "source": [
    "# Beispiel Faktorielles Experiment mit 2 Faktoren: Haftungsfestigkeit von Farben"
   ]
  },
  {
   "cell_type": "code",
   "execution_count": null,
   "id": "03a731b4-7a8d-401b-88df-1553c3ed4eca",
   "metadata": {},
   "outputs": [],
   "source": [
    "from pandas import DataFrame\n",
    "import pandas as pd\n",
    "import numpy as np\n",
    "import scipy.stats as st\n",
    "\n",
    "from statsmodels.formula.api import ols\n",
    "from statsmodels.stats.anova import anova_lm\n",
    "from statsmodels.graphics.factorplots import interaction_plot\n",
    "from statsmodels.stats.outliers_influence import summary_table\n",
    "import matplotlib.pyplot as plt\n",
    "\n",
    "Farbe = DataFrame({\n",
    "\"Grund\": np.repeat([\"A\", \"B\", \"C\"], 6),\n",
    "\"Methode\": np.tile(np.repeat([\"Eintauchen\", \"Besprühen\"], 3), 3),\n",
    "\"Y\": np.array([4, 4.5, 4.3, 5.4, 4.9, 5.6, 5.6, 4.9, 5.4, 5.8, 6.1, 6.3, 3.8, 3.7, 4, 5.5, 5, 5])\n",
    "})\n",
    "\n",
    "interaction_plot(x=Farbe[\"Grund\"], trace=Farbe[\"Methode\"], response=Farbe[\"Y\"])\n",
    "\n",
    "plt.xlabel(\"Grundierungstypen\")\n",
    "plt.ylabel(\"Mittelwerte Haltungsfestigkeit\")\n",
    "\n",
    "plt.show()"
   ]
  },
  {
   "cell_type": "code",
   "execution_count": null,
   "id": "b7a45644-eb48-4eb2-b1a8-31aa0ee2bd65",
   "metadata": {},
   "outputs": [],
   "source": [
    "fit = ols(\"Y~Grund*Methode\",data=Farbe).fit()\n",
    "\n",
    "anova_lm(fit)\n",
    "print(anova_lm(fit))"
   ]
  },
  {
   "cell_type": "markdown",
   "id": "3ad34426-e3fc-46cb-bb5a-5efd058c0829",
   "metadata": {},
   "source": [
    "# Beispiel Faktorielles Experiment mit 2 Faktoren und (scheinbarer) Interaktion: Elritzen"
   ]
  },
  {
   "cell_type": "code",
   "execution_count": null,
   "id": "33fda122-9629-4d47-a283-f824894876f5",
   "metadata": {},
   "outputs": [],
   "source": [
    "El = DataFrame({\n",
    "\"Konz\": np.repeat([\"A\", \"B\", \"C\",\"D\"], 6),\n",
    "\"Temp\": np.tile(np.repeat([\"15C\", \"25C\"],3),4),\n",
    "\"Y\": np.array([82, 46, 16, 20, 13, 7, 20, 14, 17, 6, 7, 5, 8, 6, 5, 4, 3, 5, 10, 7, 5, 6, 4, 5])\n",
    "})\n",
    "\n",
    "interaction_plot(x=El[\"Konz\"], trace=El[\"Temp\"], response=El[\"Y\"],\n",
    "legendtitle=\"Methode\")\n",
    "\n",
    "plt.xlabel(\"Cyanid-Konzentration\")\n",
    "plt.ylabel(\"Mediane Experimente\")\n",
    "\n",
    "plt.show()"
   ]
  },
  {
   "cell_type": "code",
   "execution_count": null,
   "id": "db037e83-fcf2-4f15-a90c-8f143495852c",
   "metadata": {},
   "outputs": [],
   "source": [
    "fit = ols(\"Y~C(Konz,Sum)*C(Temp,Sum)\",data=El).fit()\n",
    "\n",
    "anova_lm(fit)\n",
    "print(anova_lm(fit))"
   ]
  },
  {
   "cell_type": "markdown",
   "id": "5e578718-7ac2-46dc-8bc7-d957a974e356",
   "metadata": {},
   "source": [
    "# Beispiel Faktorielles Experiment mit 2 Faktoren und Interaktion: Schnecken"
   ]
  },
  {
   "cell_type": "code",
   "execution_count": null,
   "id": "da8a5599-6029-4b06-b218-b4de05adb85c",
   "metadata": {},
   "outputs": [],
   "source": [
    "from pandas import DataFrame\n",
    "import pandas as pd\n",
    "import numpy as np\n",
    "import scipy.stats as st\n",
    "\n",
    "from statsmodels.formula.api import ols\n",
    "from statsmodels.stats.anova import anova_lm\n",
    "from statsmodels.graphics.factorplots import interaction_plot\n",
    "from statsmodels.stats.outliers_influence import summary_table\n",
    "import matplotlib.pyplot as plt\n",
    "import warnings\n",
    "warnings.filterwarnings(\"ignore\")\n",
    "snails = DataFrame({\n",
    "\"season\": np.repeat([\"spring\", \"summer\"], 9),\n",
    "\"density\": np.tile(np.repeat([\"6\", \"12\",\"24\"],3),2),\n",
    "\"Y\": np.array([1.17, 0.50, 1.67, 1.50, 0.83, 1.00, 0.67, 0.67, 0.75,\n",
    "       4.00, 3.83, 3.83, 3.33, 2.58, 2.75, 2.54, 1.83, 1.63])\n",
    "})\n",
    "\n",
    "fit = ols(\"Y~season*density\",data=snails).fit()\n",
    "\n",
    "anova_lm(fit)\n",
    "print(anova_lm(fit))"
   ]
  },
  {
   "cell_type": "code",
   "execution_count": null,
   "id": "67961a66-6af5-403f-92c1-d32db529894f",
   "metadata": {},
   "outputs": [],
   "source": [
    "interaction_plot(x=snails[\"density\"], trace=snails[\"season\"],\n",
    "response=snails[\"Y\"])\n",
    "\n",
    "plt.show()"
   ]
  },
  {
   "cell_type": "code",
   "execution_count": null,
   "id": "fb00b072-8e93-4912-a43c-fd36b8ad6ba7",
   "metadata": {},
   "outputs": [],
   "source": [
    "snails_spring = snails[snails[\"season\"]==\"spring\"]\n",
    "\n",
    "fit_spring = ols(\"Y~density\",data=snails_spring).fit()\n",
    "\n",
    "anova_lm(fit_spring)\n",
    "print(anova_lm(fit_spring))"
   ]
  },
  {
   "cell_type": "code",
   "execution_count": null,
   "id": "f9dd0781-5252-45ad-bd9f-0b42ac5f450a",
   "metadata": {},
   "outputs": [],
   "source": [
    "snails_summer = snails[snails[\"season\"]==\"summer\"]\n",
    "\n",
    "fit_summer = ols(\"Y~density\",data=snails_summer).fit()\n",
    "\n",
    "anova_lm(fit_summer)\n",
    "print(anova_lm(fit_summer))"
   ]
  }
 ],
 "metadata": {
  "kernelspec": {
   "display_name": "Python 3 (ipykernel)",
   "language": "python",
   "name": "python3"
  },
  "language_info": {
   "codemirror_mode": {
    "name": "ipython",
    "version": 3
   },
   "file_extension": ".py",
   "mimetype": "text/x-python",
   "name": "python",
   "nbconvert_exporter": "python",
   "pygments_lexer": "ipython3",
   "version": "3.11.7"
  }
 },
 "nbformat": 4,
 "nbformat_minor": 5
}
