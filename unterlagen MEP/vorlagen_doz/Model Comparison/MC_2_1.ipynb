{
 "cells": [
  {
   "cell_type": "markdown",
   "metadata": {
    "tags": []
   },
   "source": [
    "# Bayes-Faktor für Münzwurf"
   ]
  },
  {
   "cell_type": "markdown",
   "metadata": {},
   "source": [
    "Wir haben eine Münze, von der wir wissen, dass sie nicht fair ist, aber nicht, ob sie zu viele $ K $ oder zu viele $ Z $ zeigt.  Wir versuchen es einmal mit den beiden Prior-Verteilungen $ \\text{Beta}(\\theta | a=4, b=8) $ und $ \\text{Beta}(\\theta | a=8, b=4) $.\n",
    "\n",
    "Die Münze wird 30 mal geworfen und wir erhalten 9 $ K $. Somit passt die erste Prior-Verteilung sicher besser zu den Daten. \n",
    "\n",
    "Wir wollen nun überprüfen, ob dies mit dem Bayes-Faktor auch zum Ausdruck kommt.  "
   ]
  },
  {
   "cell_type": "code",
   "execution_count": 13,
   "metadata": {
    "tags": []
   },
   "outputs": [],
   "source": [
    "%matplotlib inline\n",
    "import pymc as pm\n",
    "import matplotlib.pyplot as plt\n",
    "import scipy.stats as st\n",
    "import arviz as az\n",
    "import metropolis_commands as mc\n",
    "import numpy as np\n",
    "import warnings\n",
    "warnings.filterwarnings(\"ignore\")\n",
    "plt.rcParams['figure.figsize'] = [10, 3]"
   ]
  },
  {
   "cell_type": "code",
   "execution_count": 14,
   "metadata": {
    "tags": []
   },
   "outputs": [
    {
     "name": "stderr",
     "output_type": "stream",
     "text": [
      "Initializing SMC sampler...\n",
      "Sampling 2 chains in 2 jobs\n"
     ]
    },
    {
     "data": {
      "text/html": [
       "<pre style=\"white-space:pre;overflow-x:auto;line-height:normal;font-family:Menlo,'DejaVu Sans Mono',consolas,'Courier New',monospace\"></pre>\n"
      ],
      "text/plain": []
     },
     "metadata": {},
     "output_type": "display_data"
    },
    {
     "name": "stderr",
     "output_type": "stream",
     "text": [
      "We recommend running at least 4 chains for robust computation of convergence diagnostics\n",
      "Initializing SMC sampler...\n",
      "Sampling 2 chains in 2 jobs\n"
     ]
    },
    {
     "data": {
      "text/html": [
       "<pre style=\"white-space:pre;overflow-x:auto;line-height:normal;font-family:Menlo,'DejaVu Sans Mono',consolas,'Courier New',monospace\"></pre>\n"
      ],
      "text/plain": []
     },
     "metadata": {},
     "output_type": "display_data"
    },
    {
     "name": "stderr",
     "output_type": "stream",
     "text": [
      "We recommend running at least 4 chains for robust computation of convergence diagnostics\n"
     ]
    }
   ],
   "source": [
    "trials = 30\n",
    "head = 9 \n",
    "\n",
    "data = np.zeros(trials)\n",
    "data[np.arange(head)]  = 1\n",
    "y_d = data\n",
    "\n",
    "alpha_1 = 4\n",
    "beta_1 = 8\n",
    "\n",
    "alpha_2 = 8\n",
    "beta_2 = 4\n",
    "\n",
    "with pm.Model() as model_BF_0:\n",
    "   θ = pm.Beta('θ', alpha_1, beta_1)\n",
    "   y = pm.Bernoulli('y', θ, observed=y_d)\n",
    "   trace_smc_0 = pm.sample_smc(chains=2)\n",
    "\n",
    "with pm.Model() as model_BF_1:\n",
    "   θ = pm.Beta('θ', alpha_2, beta_2)\n",
    "   y = pm.Bernoulli('y', θ, observed=y_d)\n",
    "   trace_smc_1 = pm.sample_smc(chains=2)"
   ]
  },
  {
   "cell_type": "code",
   "execution_count": 12,
   "metadata": {
    "tags": []
   },
   "outputs": [
    {
     "name": "stdout",
     "output_type": "stream",
     "text": [
      "11.16\n"
     ]
    }
   ],
   "source": [
    "BF_smc = np.exp(trace_smc_0.sample_stats[\"log_marginal_likelihood\"].mean() - trace_smc_1.sample_stats[\"log_marginal_likelihood\"].mean())\n",
    "print(np.round(BF_smc.item(),2))"
   ]
  },
  {
   "cell_type": "markdown",
   "metadata": {},
   "source": [
    "Der Bayes-Faktor ist etwa 11 (es wurden 2 Simulationen (chains)  erzeugt). Der BF is somit grösser als 3, woraus wir schliessen, dass die erste Prior-Verteilung besser zu den Daten passt, was hier keine \\\"Uberraschung ist. \n",
    "\n",
    "\n",
    "- Wir verwenden `pm.sample_smc()` anstatt `pm.sample()`.\n",
    "- Per default werden 8 Simulationen durchgeführt. Mit der Option `chains=...` kann dies geändert werden.\n",
    "- `pymc` kennt nur die log-Marginal-Verteilung, da diese bessere numerische Eigenschaften hat.\n"
   ]
  },
  {
   "cell_type": "code",
   "execution_count": 15,
   "metadata": {
    "tags": []
   },
   "outputs": [
    {
     "name": "stderr",
     "output_type": "stream",
     "text": [
      "Initializing SMC sampler...\n",
      "Sampling 2 chains in 2 jobs\n"
     ]
    },
    {
     "data": {
      "text/html": [
       "<pre style=\"white-space:pre;overflow-x:auto;line-height:normal;font-family:Menlo,'DejaVu Sans Mono',consolas,'Courier New',monospace\"></pre>\n"
      ],
      "text/plain": []
     },
     "metadata": {},
     "output_type": "display_data"
    },
    {
     "name": "stderr",
     "output_type": "stream",
     "text": [
      "We recommend running at least 4 chains for robust computation of convergence diagnostics\n",
      "Initializing SMC sampler...\n",
      "Sampling 2 chains in 2 jobs\n"
     ]
    },
    {
     "data": {
      "text/html": [
       "<pre style=\"white-space:pre;overflow-x:auto;line-height:normal;font-family:Menlo,'DejaVu Sans Mono',consolas,'Courier New',monospace\"></pre>\n"
      ],
      "text/plain": []
     },
     "metadata": {},
     "output_type": "display_data"
    },
    {
     "name": "stderr",
     "output_type": "stream",
     "text": [
      "We recommend running at least 4 chains for robust computation of convergence diagnostics\n"
     ]
    }
   ],
   "source": [
    "trials = 30\n",
    "head = 14 \n",
    "\n",
    "data = np.zeros(trials)\n",
    "data[np.arange(head)]  = 1\n",
    "y_d = data\n",
    "\n",
    "with pm.Model() as model_BF_0:\n",
    "   θ = pm.Beta('θ', 10, 10)\n",
    "   y = pm.Bernoulli('y', θ, observed=y_d)\n",
    "   trace_BF_0 = pm.sample_smc(chains=2)\n",
    "\n",
    "with pm.Model() as model_BF_1:\n",
    "   θ = pm.Beta('θ', 200, 200)\n",
    "   y = pm.Bernoulli('y', θ, observed=y_d)\n",
    "   trace_BF_1 = pm.sample_smc(chains=2)"
   ]
  },
  {
   "cell_type": "code",
   "execution_count": 16,
   "metadata": {
    "tags": []
   },
   "outputs": [
    {
     "name": "stdout",
     "output_type": "stream",
     "text": [
      "11.21\n"
     ]
    }
   ],
   "source": [
    "BF_smc = np.exp(trace_smc_0.sample_stats[\"log_marginal_likelihood\"].mean() - trace_smc_1.sample_stats[\"log_marginal_likelihood\"].mean())\n",
    "print(np.round(BF_smc.item(),2))"
   ]
  }
 ],
 "metadata": {
  "kernelspec": {
   "display_name": "Python 3 (ipykernel)",
   "language": "python",
   "name": "python3"
  },
  "language_info": {
   "codemirror_mode": {
    "name": "ipython",
    "version": 3
   },
   "file_extension": ".py",
   "mimetype": "text/x-python",
   "name": "python",
   "nbconvert_exporter": "python",
   "pygments_lexer": "ipython3",
   "version": "3.10.11"
  }
 },
 "nbformat": 4,
 "nbformat_minor": 4
}
