{
 "cells": [
  {
   "cell_type": "markdown",
   "id": "8f9740d2-9e9b-41f9-b79a-8c8261e9394c",
   "metadata": {},
   "source": [
    "## Beispiel 10.1.2\n",
    "Wir betrachten zwei Datensätze, bei welchen zwei Methoden zur Bestimmung der latenten Schmelzwärme von Eis verglichen werden. Wiederholte Messungen der freigesetzten Wärme beim Übergang von Eis bei $-0.7^\\circ$ C zu Wasser bei $0^\\circ$ C ergaben mit Methode A die folgenden Werte in cal/g:"
   ]
  },
  {
   "cell_type": "code",
   "execution_count": null,
   "id": "076eb7a4-fa23-47f9-8281-2f51d99482cc",
   "metadata": {},
   "outputs": [],
   "source": [
    "from pandas import Series, DataFrame\n",
    "\n",
    "methodeA = Series([79.98, 80.04, 80.02, 80.04, 80.03, 80.03, 80.04,79.97, 80.05, 80.03, 80.02, 80.00, 80.02])\n",
    "\n",
    "print(methodeA.mean())\n",
    "print(methodeA.std())"
   ]
  },
  {
   "cell_type": "markdown",
   "id": "7ee362d4-2b8d-4c73-8d70-bb6ff5e7b3d5",
   "metadata": {},
   "source": [
    "## Beispiel 10.1.3\n",
    "Wir wollen neue Messreihen simulieren, die ähnlich aussehen wie die Werte in Methode A. Dazu machen wir die Annahme, dass die Messwerte in Methode A normalverteilt sind mit den wahren Parametern $\\mu = 80$ und $\\sigma^2 = 0.022$. Dann generieren wir mit `norm.rvs()` aus `scipy.stats` 6 Zufallszahlen, die dieser Verteilung folgen. Wir runden die Resultate mit `round()` von `numpy` auf zwei Nachkommastellen."
   ]
  },
  {
   "cell_type": "code",
   "execution_count": null,
   "id": "4ac20769-694a-4f35-bd54-50772dd32234",
   "metadata": {},
   "outputs": [],
   "source": [
    "import numpy as np\n",
    "from scipy.stats import norm\n",
    "\n",
    "methodeA_sim_array = norm.rvs(size=6, loc=80, scale=0.02)\n",
    "methodeA_sim_ger = np.round(methodeA_sim1_array, 2)\n",
    "methodeA_sim = Series(methodeA_sim1_ger)\n",
    "\n",
    "print(methodeA_sim)\n",
    "print(methodeA_sim.mean())\n",
    "print(methodeA_sim.std())"
   ]
  },
  {
   "cell_type": "markdown",
   "id": "9db1568c-fcae-4685-b0e9-5e996b49e29f",
   "metadata": {},
   "source": [
    "Führen wir dies fünfmal durch, so sehen die Resultate wie folgt aus:"
   ]
  },
  {
   "cell_type": "code",
   "execution_count": null,
   "id": "18d13c84-d486-41aa-8297-0e85b8ccd0e9",
   "metadata": {},
   "outputs": [],
   "source": [
    "for i in range(5):\n",
    "    methodeA_sim = Series(np.round(norm.rvs(size=6, loc=80, scale=0.02), 2))\n",
    "    print('Mittelwert:', np.round(methodeA_sim.mean(), 3))\n",
    "    print('Standardabw.:', np.round(methodeA_sim.std(), 3))\n",
    "    print()"
   ]
  },
  {
   "cell_type": "markdown",
   "id": "cd6be1d2-a605-4570-8e7a-5e57107dcebf",
   "metadata": {},
   "source": [
    "## Beispiel 10.1.8\n",
    "Wir nehmen an, dass wir 6 Werte $X_1,\\ldots,X_6$ haben, die derselben Verteilung $\\mathcal{N}(\\mu,0.02^2)$ folgen. Wir nehmen zusäzlich an, dass die Zufallsvariablen unabhängig sind. Sie sind also i.i.d. Angenommen, der Mittelwert der Messwerte ist\n",
    "$$ \\overline{X}_6=\\frac{1}{6}(X_1+\\cdots+X_6)=79.98$$\n",
    "Unter der Annahme, dass der Erwartungswert $\\mu=80$ ist, ist die Wahrscheinlichkeit, eine *extremere Abweichung* nach unten zu erhalten,"
   ]
  },
  {
   "cell_type": "code",
   "execution_count": null,
   "id": "655851a5-0262-4f8b-961a-83f181e2d382",
   "metadata": {},
   "outputs": [],
   "source": [
    "norm.cdf(x=79.98, loc=80, scale=0.02/np.sqrt(6))"
   ]
  },
  {
   "cell_type": "markdown",
   "id": "a2931a39-bed6-49bc-a7bd-7e1de59935a8",
   "metadata": {},
   "source": [
    "## Verwerfungsbereich\n",
    "Wir betrachten den zweiseitigen Hypothesentest\n",
    "$$H_0: \\mu=80$$\n",
    "$$H_A: \\mu\\ne 80$$\n",
    "Den Verwerfungsbereich auf dem $5\\%$-Signifkanzniveau erhalten wir durch die beiden Quantile"
   ]
  },
  {
   "cell_type": "code",
   "execution_count": null,
   "id": "5b8c50eb-21b3-40d9-97ef-a63e5d652de2",
   "metadata": {},
   "outputs": [],
   "source": [
    "q_025 = norm.ppf(q=0.025, loc=80, scale=0.02/np.sqrt(6))\n",
    "q_975 = norm.ppf(q=0.975, loc=80, scale=0.02/np.sqrt(6))\n",
    "\n",
    "print('Verwerfungsbereich: (-infinity,',np.round(q_025,3),']U[',np.round(q_975,3),',infinity)')"
   ]
  },
  {
   "cell_type": "markdown",
   "id": "d0a2e8f3-c2a5-4b35-90ac-8f5d5d5b511d",
   "metadata": {},
   "source": [
    "Da der Mittelwert $\\overline{X}_6=79.98$ im Verwerfungsbereich liegt, also **verwerfen** wir die Nullhypothese"
   ]
  },
  {
   "cell_type": "markdown",
   "id": "f46d2b7c-7f45-4b66-94cc-d5932441e1b9",
   "metadata": {},
   "source": [
    "Wir können beide Quantile auch durch einen Funktionsaufruf berechnen (Vektorisierung):"
   ]
  },
  {
   "cell_type": "code",
   "execution_count": null,
   "id": "654a75a2-56cb-49dd-a8f3-e13cc154e5b3",
   "metadata": {},
   "outputs": [],
   "source": [
    "q_025,q_975 = norm.ppf(q=[0.025,0.975], loc=80, scale=0.02/np.sqrt(6))\n",
    "\n",
    "print('Verwerfungsbereich: (-infinity,',np.round(q_025,3),']U[',np.round(q_975,3),',infinity)')"
   ]
  },
  {
   "cell_type": "markdown",
   "id": "858cacd5-a86e-4e0f-bc27-905d5e5290d2",
   "metadata": {},
   "source": [
    "Wir können der Verwerfungsbereich auch mit dem Befehl `interval` berechnen:"
   ]
  },
  {
   "cell_type": "code",
   "execution_count": null,
   "id": "0bf13286-4064-4bdd-a58c-5e732bc07914",
   "metadata": {},
   "outputs": [],
   "source": [
    "norm.interval(confidence=0.95, loc=80, scale=0.02/np.sqrt(6))"
   ]
  },
  {
   "cell_type": "markdown",
   "id": "e6d226f1-49e6-4a5a-b21b-c86bc000ad16",
   "metadata": {},
   "source": [
    "## Beispiel 10.1.15\n",
    "Wir haben eine Stichprobe $x_1,\\ldots,x_{20}$ vom Umfang 20 einer normalverteilten Zufallsvariablen $X\\sim\\mathcal{N}(5,\\sigma_X^2)$. Wir kennen die Standardabweichung $\\sigma_X$ nicht, also schätzen wir sie aus der Stichprobe:"
   ]
  },
  {
   "cell_type": "code",
   "execution_count": null,
   "id": "386adc20-fcea-4900-bbb1-b49bd7141737",
   "metadata": {},
   "outputs": [],
   "source": [
    "x = Series([5.9, 3.4, 6.6, 6.3, 4.2, 2.0, 6.0, 4.8, 4.2, 2.1, 8.7, 4.4, 5.1, 2.7, 8.5, 5.8, 4.9, 5.3, 5.5, 7.9])\n",
    "sigma_x = x.std()\n",
    "\n",
    "print(sigma_x)"
   ]
  },
  {
   "cell_type": "markdown",
   "id": "48a6cf7c-d4cf-4054-b0fe-fa521b28a346",
   "metadata": {},
   "source": [
    "Der Mittelwert $\\overline{x}_{20}$  unserer Stichprobe ist"
   ]
  },
  {
   "cell_type": "code",
   "execution_count": null,
   "id": "b8645c0e-4c71-4af6-a81f-b948a14c8e39",
   "metadata": {},
   "outputs": [],
   "source": [
    "mean_x = x.mean()\n",
    "\n",
    "print(mean_x)"
   ]
  },
  {
   "cell_type": "markdown",
   "id": "210e4dab-da37-4d1d-8904-23dca11ab80a",
   "metadata": {},
   "source": [
    "Die Wahrscheinlichkeit, dass der Mittelwert einer Stichprobe vom Umfang 20 kleiner ist als **unserer** Mittelwert $\\overline{x}_{20}=5.215$, ist"
   ]
  },
  {
   "cell_type": "code",
   "execution_count": null,
   "id": "4bee74f5-b467-4b11-85fb-f32b53dba46b",
   "metadata": {},
   "outputs": [],
   "source": [
    "from scipy.stats import t\n",
    "n = x.size\n",
    "print(t.cdf(x=mean_x, df=n-1, loc=5, scale=sigma_x/np.sqrt(n)))"
   ]
  },
  {
   "cell_type": "markdown",
   "id": "eee30095-0613-4378-b0a4-1c55075a5f0e",
   "metadata": {},
   "source": [
    "Alternativ kann man $\\overline{x}_{20}$ standardisieren und mit der Standard $t$-Verteilung (`loc=0` und `scale=1`) arbeiten:"
   ]
  },
  {
   "cell_type": "code",
   "execution_count": null,
   "id": "2ad5d4c0-5243-4904-adca-9efb93447a7f",
   "metadata": {},
   "outputs": [],
   "source": [
    "t_x = (mean_x-5 ) / (sigma_x/np.sqrt(n))\n",
    "\n",
    "print(t_x)\n",
    "print(t.cdf(x=t_x, df=x.size-1))"
   ]
  },
  {
   "cell_type": "markdown",
   "id": "542615c7-ea05-49a4-ab22-c6be4b555446",
   "metadata": {},
   "source": [
    "Den Verwerfungsbereich für die standardisierte Teststatistik\n",
    "$$ T = \\frac{\\overline{X}_n-\\mu_0}{\\hat{\\sigma}_X/\\sqrt{n}} $$\n",
    "können wir mit dem $0.975$-Quantil der $t$-Verteilung berechnen:"
   ]
  },
  {
   "cell_type": "code",
   "execution_count": null,
   "id": "5caf9d79-f047-4051-a91b-9e09585f1683",
   "metadata": {},
   "outputs": [],
   "source": [
    "q_975 = t.ppf(q=0.975, df=12)\n",
    "\n",
    "print('Verwerfungsbereich: (-infinity,',-np.round(q_975,3),']U[',np.round(q_975,3),',infinity)')"
   ]
  },
  {
   "cell_type": "markdown",
   "id": "247d2d57-5c1f-4d2c-b4d0-f7174de075f2",
   "metadata": {},
   "source": [
    "Unser standardisierter Wert ist \n",
    "$$ t = \\frac{\\sqrt{6}(5.215-5)}{1.88}=0.51 $$\n",
    "Er liegt also **nicht** im Verwerfungsbereich, daher wird die Nullhypothese $\\mu=5$ **nicht** verworfen.\n",
    "\n",
    "Wir können den Verwerfungsbereich aber auch direkt für $\\overline{X}_n$ mit Python berechnen:"
   ]
  },
  {
   "cell_type": "code",
   "execution_count": null,
   "id": "9b965069-be05-4b56-b5fe-a879755c3671",
   "metadata": {},
   "outputs": [],
   "source": [
    "t.interval(confidence=0.95, df=n-1, loc=5, scale=sigma_x/np.sqrt(n))"
   ]
  },
  {
   "cell_type": "markdown",
   "id": "babb4b90-095e-4a48-a5ca-9fd11afd23f4",
   "metadata": {},
   "source": [
    "Beachten Sie, dass der erste Werte die **obere** Grenze des unteren Intervalls und der zweite Wert die **untere** Grenze des oberen Intervalls des Verwerfungsbereichs ist. Unser Mittelwert $\\overline{x}_{20}=5.215$ liegt also **nicht** im Verwerfungsbereich, daher wird die Nullhypothese $\\mu=5$ **nicht** verworfen."
   ]
  },
  {
   "cell_type": "markdown",
   "id": "5204e2e4-6da7-401e-8531-6c8d8053bd7d",
   "metadata": {},
   "source": [
    "Oder wir berechnen den $p$-Wert (für den zweiseitigen Test) mit der kumulativen Verteilungsfunktion"
   ]
  },
  {
   "cell_type": "code",
   "execution_count": null,
   "id": "490adc2a-1ec9-426b-8206-d5a4c8807086",
   "metadata": {},
   "outputs": [],
   "source": [
    "p = 2*t.cdf(x=-t_x,df=n-1)\n",
    "\n",
    "print(p)"
   ]
  },
  {
   "cell_type": "markdown",
   "id": "d953a2c8-b16d-4546-af52-81cd5f9e672e",
   "metadata": {},
   "source": [
    "Wir können den $t$-Test auch direkt mit dem Befehl `ttest_1samp()` von `scipy.stats` durchführen:"
   ]
  },
  {
   "cell_type": "code",
   "execution_count": null,
   "id": "b14c15de-c84e-49cc-85e8-a587c8032825",
   "metadata": {},
   "outputs": [],
   "source": [
    "import scipy.stats as st\n",
    "\n",
    "st.ttest_1samp(a=x, popmean=5)"
   ]
  }
 ],
 "metadata": {
  "kernelspec": {
   "display_name": "Python 3 (ipykernel)",
   "language": "python",
   "name": "python3"
  },
  "language_info": {
   "codemirror_mode": {
    "name": "ipython",
    "version": 3
   },
   "file_extension": ".py",
   "mimetype": "text/x-python",
   "name": "python",
   "nbconvert_exporter": "python",
   "pygments_lexer": "ipython3",
   "version": "3.11.7"
  }
 },
 "nbformat": 4,
 "nbformat_minor": 5
}
