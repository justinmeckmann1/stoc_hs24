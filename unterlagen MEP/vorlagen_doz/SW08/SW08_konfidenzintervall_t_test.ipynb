{
 "cells": [
  {
   "cell_type": "markdown",
   "id": "8bfd9df0-98c6-4a0f-ad9e-d0cc872312d2",
   "metadata": {},
   "source": [
    "# Konstruktion Vertrauensintervall beim t-Test\n",
    "\n",
    "Das *Vertrauensinterall (Konfidenzintervall)* bei einem Hypothesentest beinhaltet alle Werte der Teststatistik, bei denen die Nullhypothese **nicht** verworfen wird. Das sind also alle Werte des Parameters in der Nullhyothese, die als verträglich mit den gegebenen Daten angesehen werden. Mit anderen Worten ist es das Intervall, in dem der  Wert des wahren Parameters mit hoher Wahrscheinlichkeit liegt. Der Wert dieser Wahrscheinlichkeit ist dabei $1-\\alpha$, wobei $\\alpha$ das Signifikanzniveau ist.\n",
    "\n",
    "Bei einem $t$-Test geht man von $n$ unabhängigen Messwerten aus, die alle der gleichen Verteilung folgen:\n",
    "$$ X_1,\\ldots,X_n \\sim \\mathcal{N}(\\mu,\\sigma^2) $$\n",
    "Hierbei ist $\\mu$ der unbekannte Erwartungswert und $\\sigma$ die unbekannte Standardabweichung. Die Standardabweichung wird aus den Daten geschätzt:\n",
    "$$ \\hat{\\sigma}^2 = \\frac{1}{n-1}\\sum_{i=1}^n (X_i-\\overline{X}_{n})^2 \\qquad \\text{und}\\qquad \\hat{\\sigma}=\\sqrt{\\hat{\\sigma}^2}$$\n",
    "Das zweiseitige $(1-\\alpha)$-Vertrauensintervall kann man wie folgt berechnen:\n",
    "$$ I=\\left[\\overline{X}_n - t_{\\rm krit}\\cdot \\frac{\\hat{\\sigma}}{\\sqrt{n}}, \\overline{X}_n + t_{\\rm krit}\\cdot \\frac{\\hat{\\sigma}}{\\sqrt{n}}\\right]$$\n",
    "Hierbei ist $t_{\\rm krit}$ der *kritische $t$-Wert*, welcher beim zweiseitigen Test das $(1-\\frac{\\alpha}{2})$-Quantil der $t$-Verteilung mit $n-1$ Freiheitsgraden ist."
   ]
  },
  {
   "cell_type": "markdown",
   "id": "35eea096-c4de-457b-a73e-6a4880a4ba48",
   "metadata": {},
   "source": [
    "## Beispiel: Schmelzwärme\n",
    "\n",
    "Wir betrachten als Beispiel die Messreihe der Schmelzwärme mit Methode A. Wir schätzen $\\mu$ und $\\sigma$ aus den Daten."
   ]
  },
  {
   "cell_type": "code",
   "execution_count": null,
   "id": "da067d25-b627-429f-ac6f-ebb120c3b93b",
   "metadata": {},
   "outputs": [],
   "source": [
    "import numpy as np\n",
    "from pandas import Series\n",
    "from scipy.stats import t\n",
    "\n",
    "x = Series([79.98, 80.04, 80.02, 80.04, 80.03, 80.03, 80.04,\n",
    "            79.97, 80.05,80.03, 80.02, 80.00, 80.02])\n",
    "n = x.size\n",
    "alpha=0.05\n",
    "x_bar = x.mean()\n",
    "sigma_hat = x.std()\n",
    "print(\"n: \", n)\n",
    "print(\"x_bar: \", np.round(x_bar,4))\n",
    "print(\"sigma_hat: \",np.round(sigma_hat,4))"
   ]
  },
  {
   "cell_type": "markdown",
   "id": "4d62eb64-0428-4065-977f-bdcac1a494c3",
   "metadata": {},
   "source": [
    "Wir berechnen den kritischen $t$-Wert und das Konfidenzintervall mit obigen Formeln."
   ]
  },
  {
   "cell_type": "code",
   "execution_count": null,
   "id": "6482d887-cd47-476e-983d-89982654ad1a",
   "metadata": {},
   "outputs": [],
   "source": [
    "# Vertrauensintervall (Konfidenzintervall)\n",
    "t_crit = t.ppf(q=1-alpha/2, df=n-1)\n",
    "print(\"Kritischer t-Wert: \", np.round(t_crit,4))\n",
    "I = x_bar+np.array([-1,1])*t_crit*sigma_hat/np.sqrt(n)\n",
    "print(\"Konfidenzintervall: \", np.round(I,4))"
   ]
  },
  {
   "cell_type": "markdown",
   "id": "88a5eaca-2c60-40c0-a05d-8fc068bfcbd0",
   "metadata": {},
   "source": [
    "Alternativ kann man das Konfidenzintervall auch bequem mit einem Befehl berechnen:"
   ]
  },
  {
   "cell_type": "code",
   "execution_count": null,
   "id": "bb770364-215d-45d4-ad3b-94e86b205322",
   "metadata": {},
   "outputs": [],
   "source": [
    "I = t.interval(confidence=1-alpha, df=n-1, loc=x_bar, scale=sigma_hat/np.sqrt(n))\n",
    "print(np.round(I,4))"
   ]
  }
 ],
 "metadata": {
  "kernelspec": {
   "display_name": "Python 3 (ipykernel)",
   "language": "python",
   "name": "python3"
  },
  "language_info": {
   "codemirror_mode": {
    "name": "ipython",
    "version": 3
   },
   "file_extension": ".py",
   "mimetype": "text/x-python",
   "name": "python",
   "nbconvert_exporter": "python",
   "pygments_lexer": "ipython3",
   "version": "3.11.7"
  }
 },
 "nbformat": 4,
 "nbformat_minor": 5
}
