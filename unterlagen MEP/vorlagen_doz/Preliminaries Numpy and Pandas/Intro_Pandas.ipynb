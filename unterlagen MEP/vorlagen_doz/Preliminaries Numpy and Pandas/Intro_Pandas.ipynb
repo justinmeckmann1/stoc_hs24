{
 "cells": [
  {
   "cell_type": "markdown",
   "id": "7a98a37e-925d-4f82-b8bd-981d072bcf83",
   "metadata": {},
   "source": [
    "# Introduction to Pandas"
   ]
  },
  {
   "cell_type": "code",
   "execution_count": 47,
   "id": "1d93208d-1383-4181-96bd-3e3f14de3392",
   "metadata": {},
   "outputs": [],
   "source": [
    "import numpy as np\n",
    "import pandas as pd\n",
    "from pandas import Series, DataFrame\n",
    "import matplotlib.pyplot as plt"
   ]
  },
  {
   "cell_type": "code",
   "execution_count": 2,
   "id": "c8d44406-95ad-4175-bc17-daa4e4a8b4f7",
   "metadata": {},
   "outputs": [
    {
     "data": {
      "text/plain": [
       "0     1\n",
       "1     5\n",
       "2     9\n",
       "3    15\n",
       "4    20\n",
       "5    25\n",
       "6    25\n",
       "dtype: int64"
      ]
     },
     "execution_count": 2,
     "metadata": {},
     "output_type": "execute_result"
    }
   ],
   "source": [
    "temp_luz = Series([1, 5, 9, 15, 20, 25, 25])\n",
    "\n",
    "temp_luz"
   ]
  },
  {
   "cell_type": "code",
   "execution_count": 3,
   "id": "a68cda0d-4378-4de7-9ae1-aa7ec8748814",
   "metadata": {},
   "outputs": [
    {
     "data": {
      "text/plain": [
       "9"
      ]
     },
     "execution_count": 3,
     "metadata": {},
     "output_type": "execute_result"
    }
   ],
   "source": [
    "temp_luz[2]"
   ]
  },
  {
   "cell_type": "code",
   "execution_count": 10,
   "id": "259190ea-1fb6-4946-9892-bb590523a782",
   "metadata": {},
   "outputs": [
    {
     "data": {
      "text/plain": [
       "Jan     1\n",
       "Feb     5\n",
       "Mar     9\n",
       "Apr    15\n",
       "May    20\n",
       "Jun    25\n",
       "Jul    25\n",
       "dtype: int64"
      ]
     },
     "execution_count": 10,
     "metadata": {},
     "output_type": "execute_result"
    }
   ],
   "source": [
    "temp_luz = Series([1, 5, 9, 15, 20, 25, 25],index=(\"Jan\", \"Feb\", \"Mar\", \"Apr\", \"May\", \"Jun\", \"Jul\"))\n",
    "\n",
    "temp_luz"
   ]
  },
  {
   "cell_type": "code",
   "execution_count": null,
   "id": "ed5848fc-9ba0-4f93-ac7d-9ba81582fbbf",
   "metadata": {},
   "outputs": [],
   "source": [
    "temp_luz[\"Mar\"]"
   ]
  },
  {
   "cell_type": "code",
   "execution_count": 11,
   "id": "d47847cf-efe6-4126-8382-2a68f35e92a7",
   "metadata": {},
   "outputs": [
    {
     "data": {
      "text/plain": [
       "Index(['Jan', 'Feb', 'Mar', 'Apr', 'May', 'Jun', 'Jul'], dtype='object')"
      ]
     },
     "execution_count": 11,
     "metadata": {},
     "output_type": "execute_result"
    }
   ],
   "source": [
    "# First statistical applications\n",
    "\n",
    "temp_luz.index"
   ]
  },
  {
   "cell_type": "code",
   "execution_count": 12,
   "id": "cca266f6-b4ee-4054-bcd2-9ba6930474cd",
   "metadata": {},
   "outputs": [
    {
     "data": {
      "text/plain": [
       "7"
      ]
     },
     "execution_count": 12,
     "metadata": {},
     "output_type": "execute_result"
    }
   ],
   "source": [
    "temp_luz.size"
   ]
  },
  {
   "cell_type": "code",
   "execution_count": 13,
   "id": "badb4d73-6bb8-484d-a5b7-9f06cabceb53",
   "metadata": {},
   "outputs": [
    {
     "data": {
      "text/plain": [
       "1"
      ]
     },
     "execution_count": 13,
     "metadata": {},
     "output_type": "execute_result"
    }
   ],
   "source": [
    "temp_luz.min()"
   ]
  },
  {
   "cell_type": "code",
   "execution_count": 14,
   "id": "a6bd5f05-0b82-48b5-aa93-c7a7a167518e",
   "metadata": {},
   "outputs": [
    {
     "data": {
      "text/plain": [
       "14.285714285714286"
      ]
     },
     "execution_count": 14,
     "metadata": {},
     "output_type": "execute_result"
    }
   ],
   "source": [
    "temp_luz.mean()"
   ]
  },
  {
   "cell_type": "code",
   "execution_count": 15,
   "id": "a8948e0f-23e3-4d45-9f94-55a9a1d5ebf2",
   "metadata": {},
   "outputs": [
    {
     "data": {
      "text/plain": [
       "100"
      ]
     },
     "execution_count": 15,
     "metadata": {},
     "output_type": "execute_result"
    }
   ],
   "source": [
    "temp_luz.sum()"
   ]
  },
  {
   "cell_type": "code",
   "execution_count": 16,
   "id": "faa0a1b0-eabf-4861-a52e-ac1699d81dbf",
   "metadata": {},
   "outputs": [
    {
     "data": {
      "text/plain": [
       "25"
      ]
     },
     "execution_count": 16,
     "metadata": {},
     "output_type": "execute_result"
    }
   ],
   "source": [
    "temp_luz[\"Jun\"]"
   ]
  },
  {
   "cell_type": "code",
   "execution_count": 17,
   "id": "cfce8292-be42-43df-8877-3c983e18545e",
   "metadata": {},
   "outputs": [
    {
     "data": {
      "text/plain": [
       "Jan     1\n",
       "Feb     5\n",
       "Mar     9\n",
       "Apr    15\n",
       "May    20\n",
       "dtype: int64"
      ]
     },
     "execution_count": 17,
     "metadata": {},
     "output_type": "execute_result"
    }
   ],
   "source": [
    "temp_luz[\"Jan\":\"May\"]"
   ]
  },
  {
   "cell_type": "code",
   "execution_count": 18,
   "id": "0e19be4f-99cc-4ed5-8ef5-8e6025005c05",
   "metadata": {},
   "outputs": [
    {
     "data": {
      "text/plain": [
       "Jan     1\n",
       "May    20\n",
       "dtype: int64"
      ]
     },
     "execution_count": 18,
     "metadata": {},
     "output_type": "execute_result"
    }
   ],
   "source": [
    "temp_luz[[\"Jan\",\"May\"]]"
   ]
  },
  {
   "cell_type": "code",
   "execution_count": 21,
   "id": "35a90a0d-484a-40df-b41c-da66c5d084e5",
   "metadata": {},
   "outputs": [
    {
     "data": {
      "text/plain": [
       "0    5.0\n",
       "1    2.0\n",
       "2    NaN\n",
       "3    4.0\n",
       "dtype: float64"
      ]
     },
     "execution_count": 21,
     "metadata": {},
     "output_type": "execute_result"
    }
   ],
   "source": [
    "# commands with options\n",
    "z_3 = Series([5, 2, np.nan, 4])\n",
    "z_3"
   ]
  },
  {
   "cell_type": "code",
   "execution_count": 22,
   "id": "dad4c70e-d473-4e70-967f-4f211500b42f",
   "metadata": {},
   "outputs": [
    {
     "data": {
      "text/plain": [
       "2.0"
      ]
     },
     "execution_count": 22,
     "metadata": {},
     "output_type": "execute_result"
    }
   ],
   "source": [
    "z_3.min()"
   ]
  },
  {
   "cell_type": "code",
   "execution_count": 24,
   "id": "86149d0d-b3d4-49c8-8fb7-0df228fd7f6c",
   "metadata": {},
   "outputs": [
    {
     "data": {
      "text/plain": [
       "nan"
      ]
     },
     "execution_count": 24,
     "metadata": {},
     "output_type": "execute_result"
    }
   ],
   "source": [
    "z_3.min(skipna=False)"
   ]
  },
  {
   "cell_type": "code",
   "execution_count": 32,
   "id": "3d45374e-ce4c-413d-aec9-d74fae841939",
   "metadata": {},
   "outputs": [
    {
     "data": {
      "text/html": [
       "<div>\n",
       "<style scoped>\n",
       "    .dataframe tbody tr th:only-of-type {\n",
       "        vertical-align: middle;\n",
       "    }\n",
       "\n",
       "    .dataframe tbody tr th {\n",
       "        vertical-align: top;\n",
       "    }\n",
       "\n",
       "    .dataframe thead th {\n",
       "        text-align: right;\n",
       "    }\n",
       "</style>\n",
       "<table border=\"1\" class=\"dataframe\">\n",
       "  <thead>\n",
       "    <tr style=\"text-align: right;\">\n",
       "      <th></th>\n",
       "      <th>Luzern</th>\n",
       "      <th>Basel</th>\n",
       "      <th>Chur</th>\n",
       "      <th>Zurich</th>\n",
       "    </tr>\n",
       "  </thead>\n",
       "  <tbody>\n",
       "    <tr>\n",
       "      <th>Jan</th>\n",
       "      <td>2</td>\n",
       "      <td>5</td>\n",
       "      <td>-3</td>\n",
       "      <td>4</td>\n",
       "    </tr>\n",
       "    <tr>\n",
       "      <th>Feb</th>\n",
       "      <td>5</td>\n",
       "      <td>6</td>\n",
       "      <td>1</td>\n",
       "      <td>0</td>\n",
       "    </tr>\n",
       "    <tr>\n",
       "      <th>Mar</th>\n",
       "      <td>10</td>\n",
       "      <td>11</td>\n",
       "      <td>13</td>\n",
       "      <td>8</td>\n",
       "    </tr>\n",
       "    <tr>\n",
       "      <th>Apr</th>\n",
       "      <td>16</td>\n",
       "      <td>12</td>\n",
       "      <td>14</td>\n",
       "      <td>17</td>\n",
       "    </tr>\n",
       "    <tr>\n",
       "      <th>May</th>\n",
       "      <td>21</td>\n",
       "      <td>23</td>\n",
       "      <td>21</td>\n",
       "      <td>20</td>\n",
       "    </tr>\n",
       "    <tr>\n",
       "      <th>Jun</th>\n",
       "      <td>25</td>\n",
       "      <td>21</td>\n",
       "      <td>23</td>\n",
       "      <td>27</td>\n",
       "    </tr>\n",
       "  </tbody>\n",
       "</table>\n",
       "</div>"
      ],
      "text/plain": [
       "     Luzern  Basel  Chur  Zurich\n",
       "Jan       2      5    -3       4\n",
       "Feb       5      6     1       0\n",
       "Mar      10     11    13       8\n",
       "Apr      16     12    14      17\n",
       "May      21     23    21      20\n",
       "Jun      25     21    23      27"
      ]
     },
     "execution_count": 32,
     "metadata": {},
     "output_type": "execute_result"
    }
   ],
   "source": [
    "# datasets (two-dimensional)\n",
    "\n",
    "temp = pd.read_csv(\"./Daten/weather.csv\")\n",
    "\n",
    "temp"
   ]
  },
  {
   "cell_type": "code",
   "execution_count": 33,
   "id": "a30f5518-7544-41b9-816e-4272649b7c9e",
   "metadata": {},
   "outputs": [
    {
     "data": {
      "text/html": [
       "<div>\n",
       "<style scoped>\n",
       "    .dataframe tbody tr th:only-of-type {\n",
       "        vertical-align: middle;\n",
       "    }\n",
       "\n",
       "    .dataframe tbody tr th {\n",
       "        vertical-align: top;\n",
       "    }\n",
       "\n",
       "    .dataframe thead th {\n",
       "        text-align: right;\n",
       "    }\n",
       "</style>\n",
       "<table border=\"1\" class=\"dataframe\">\n",
       "  <thead>\n",
       "    <tr style=\"text-align: right;\">\n",
       "      <th></th>\n",
       "      <th>Luzern</th>\n",
       "      <th>Basel</th>\n",
       "      <th>Chur</th>\n",
       "      <th>Zurich</th>\n",
       "    </tr>\n",
       "  </thead>\n",
       "  <tbody>\n",
       "    <tr>\n",
       "      <th>Jan</th>\n",
       "      <td>2</td>\n",
       "      <td>5</td>\n",
       "      <td>-3</td>\n",
       "      <td>4</td>\n",
       "    </tr>\n",
       "    <tr>\n",
       "      <th>Feb</th>\n",
       "      <td>5</td>\n",
       "      <td>6</td>\n",
       "      <td>1</td>\n",
       "      <td>0</td>\n",
       "    </tr>\n",
       "    <tr>\n",
       "      <th>Mar</th>\n",
       "      <td>10</td>\n",
       "      <td>11</td>\n",
       "      <td>13</td>\n",
       "      <td>8</td>\n",
       "    </tr>\n",
       "    <tr>\n",
       "      <th>Apr</th>\n",
       "      <td>16</td>\n",
       "      <td>12</td>\n",
       "      <td>14</td>\n",
       "      <td>17</td>\n",
       "    </tr>\n",
       "    <tr>\n",
       "      <th>May</th>\n",
       "      <td>21</td>\n",
       "      <td>23</td>\n",
       "      <td>21</td>\n",
       "      <td>20</td>\n",
       "    </tr>\n",
       "  </tbody>\n",
       "</table>\n",
       "</div>"
      ],
      "text/plain": [
       "     Luzern  Basel  Chur  Zurich\n",
       "Jan       2      5    -3       4\n",
       "Feb       5      6     1       0\n",
       "Mar      10     11    13       8\n",
       "Apr      16     12    14      17\n",
       "May      21     23    21      20"
      ]
     },
     "execution_count": 33,
     "metadata": {},
     "output_type": "execute_result"
    }
   ],
   "source": [
    "temp.head()"
   ]
  },
  {
   "cell_type": "code",
   "execution_count": 34,
   "id": "b0467811-9c15-4c22-8bb3-c64b1f1f7b62",
   "metadata": {},
   "outputs": [
    {
     "data": {
      "text/html": [
       "<div>\n",
       "<style scoped>\n",
       "    .dataframe tbody tr th:only-of-type {\n",
       "        vertical-align: middle;\n",
       "    }\n",
       "\n",
       "    .dataframe tbody tr th {\n",
       "        vertical-align: top;\n",
       "    }\n",
       "\n",
       "    .dataframe thead th {\n",
       "        text-align: right;\n",
       "    }\n",
       "</style>\n",
       "<table border=\"1\" class=\"dataframe\">\n",
       "  <thead>\n",
       "    <tr style=\"text-align: right;\">\n",
       "      <th></th>\n",
       "      <th>Luzern,\"Basel\",\"Chur\",\"Zurich\"</th>\n",
       "    </tr>\n",
       "  </thead>\n",
       "  <tbody>\n",
       "    <tr>\n",
       "      <th>0</th>\n",
       "      <td>Jan,2,5,-3,4</td>\n",
       "    </tr>\n",
       "    <tr>\n",
       "      <th>1</th>\n",
       "      <td>Feb,5,6,1,0</td>\n",
       "    </tr>\n",
       "    <tr>\n",
       "      <th>2</th>\n",
       "      <td>Mar,10,11,13,8</td>\n",
       "    </tr>\n",
       "    <tr>\n",
       "      <th>3</th>\n",
       "      <td>Apr,16,12,14,17</td>\n",
       "    </tr>\n",
       "    <tr>\n",
       "      <th>4</th>\n",
       "      <td>May,21,23,21,20</td>\n",
       "    </tr>\n",
       "    <tr>\n",
       "      <th>5</th>\n",
       "      <td>Jun,25,21,23,27</td>\n",
       "    </tr>\n",
       "  </tbody>\n",
       "</table>\n",
       "</div>"
      ],
      "text/plain": [
       "  Luzern,\"Basel\",\"Chur\",\"Zurich\"\n",
       "0                   Jan,2,5,-3,4\n",
       "1                    Feb,5,6,1,0\n",
       "2                 Mar,10,11,13,8\n",
       "3                Apr,16,12,14,17\n",
       "4                May,21,23,21,20\n",
       "5                Jun,25,21,23,27"
      ]
     },
     "execution_count": 34,
     "metadata": {},
     "output_type": "execute_result"
    }
   ],
   "source": [
    "temp = pd.read_csv(\"./Daten/weather.csv\", sep=\";\")\n",
    "\n",
    "temp"
   ]
  },
  {
   "cell_type": "code",
   "execution_count": 36,
   "id": "f9e1224c-db9e-4e19-b079-221b5bf26cbb",
   "metadata": {},
   "outputs": [
    {
     "data": {
      "text/plain": [
       "Index(['Luzern', 'Basel', 'Chur', 'Zurich'], dtype='object')"
      ]
     },
     "execution_count": 36,
     "metadata": {},
     "output_type": "execute_result"
    }
   ],
   "source": [
    "# slicing\n",
    "temp = pd.read_csv(\"./Daten/weather.csv\")\n",
    "temp.columns"
   ]
  },
  {
   "cell_type": "code",
   "execution_count": 38,
   "id": "f991ac3b-b0e7-4750-a54d-bde10f3bcbed",
   "metadata": {},
   "outputs": [
    {
     "data": {
      "text/plain": [
       "Luzern    13.166667\n",
       "Basel     13.000000\n",
       "Chur      11.500000\n",
       "Zurich    12.666667\n",
       "dtype: float64"
      ]
     },
     "execution_count": 38,
     "metadata": {},
     "output_type": "execute_result"
    }
   ],
   "source": [
    "temp.mean()"
   ]
  },
  {
   "cell_type": "code",
   "execution_count": 39,
   "id": "107bf5af-979c-4398-a939-d95cc34903bd",
   "metadata": {},
   "outputs": [
    {
     "data": {
      "text/plain": [
       "Jan     2.00\n",
       "Feb     3.00\n",
       "Mar    10.50\n",
       "Apr    14.75\n",
       "May    21.25\n",
       "Jun    24.00\n",
       "dtype: float64"
      ]
     },
     "execution_count": 39,
     "metadata": {},
     "output_type": "execute_result"
    }
   ],
   "source": [
    "temp.mean(axis=1)"
   ]
  },
  {
   "cell_type": "code",
   "execution_count": 40,
   "id": "1a1c0607-2dbf-4438-8717-aa3c4c13f453",
   "metadata": {},
   "outputs": [
    {
     "data": {
      "text/plain": [
       "Jan    -3\n",
       "Feb     0\n",
       "Mar     8\n",
       "Apr    12\n",
       "May    20\n",
       "Jun    21\n",
       "dtype: int64"
      ]
     },
     "execution_count": 40,
     "metadata": {},
     "output_type": "execute_result"
    }
   ],
   "source": [
    "temp.min(axis=1)"
   ]
  },
  {
   "cell_type": "code",
   "execution_count": 41,
   "id": "33353bcf-1aa6-4394-94de-db319a015443",
   "metadata": {},
   "outputs": [
    {
     "data": {
      "text/plain": [
       "Jan     2\n",
       "Feb     5\n",
       "Mar    10\n",
       "Apr    16\n",
       "May    21\n",
       "Jun    25\n",
       "Name: Luzern, dtype: int64"
      ]
     },
     "execution_count": 41,
     "metadata": {},
     "output_type": "execute_result"
    }
   ],
   "source": [
    "temp[\"Luzern\"]"
   ]
  },
  {
   "cell_type": "code",
   "execution_count": 42,
   "id": "12d3fb47-cd01-4d0b-9347-b743764cd74b",
   "metadata": {},
   "outputs": [
    {
     "data": {
      "text/plain": [
       "Jan     2\n",
       "Feb     5\n",
       "Mar    10\n",
       "Apr    16\n",
       "May    21\n",
       "Jun    25\n",
       "Name: Luzern, dtype: int64"
      ]
     },
     "execution_count": 42,
     "metadata": {},
     "output_type": "execute_result"
    }
   ],
   "source": [
    "temp.loc[:, \"Luzern\"]"
   ]
  },
  {
   "cell_type": "code",
   "execution_count": 43,
   "id": "73964c51-e443-4a48-b836-ac65cb7226ae",
   "metadata": {},
   "outputs": [
    {
     "data": {
      "text/html": [
       "<div>\n",
       "<style scoped>\n",
       "    .dataframe tbody tr th:only-of-type {\n",
       "        vertical-align: middle;\n",
       "    }\n",
       "\n",
       "    .dataframe tbody tr th {\n",
       "        vertical-align: top;\n",
       "    }\n",
       "\n",
       "    .dataframe thead th {\n",
       "        text-align: right;\n",
       "    }\n",
       "</style>\n",
       "<table border=\"1\" class=\"dataframe\">\n",
       "  <thead>\n",
       "    <tr style=\"text-align: right;\">\n",
       "      <th></th>\n",
       "      <th>Luzern</th>\n",
       "      <th>Basel</th>\n",
       "      <th>Chur</th>\n",
       "      <th>Zurich</th>\n",
       "    </tr>\n",
       "  </thead>\n",
       "  <tbody>\n",
       "    <tr>\n",
       "      <th>Apr</th>\n",
       "      <td>16</td>\n",
       "      <td>12</td>\n",
       "      <td>14</td>\n",
       "      <td>17</td>\n",
       "    </tr>\n",
       "    <tr>\n",
       "      <th>May</th>\n",
       "      <td>21</td>\n",
       "      <td>23</td>\n",
       "      <td>21</td>\n",
       "      <td>20</td>\n",
       "    </tr>\n",
       "    <tr>\n",
       "      <th>Jun</th>\n",
       "      <td>25</td>\n",
       "      <td>21</td>\n",
       "      <td>23</td>\n",
       "      <td>27</td>\n",
       "    </tr>\n",
       "  </tbody>\n",
       "</table>\n",
       "</div>"
      ],
      "text/plain": [
       "     Luzern  Basel  Chur  Zurich\n",
       "Apr      16     12    14      17\n",
       "May      21     23    21      20\n",
       "Jun      25     21    23      27"
      ]
     },
     "execution_count": 43,
     "metadata": {},
     "output_type": "execute_result"
    }
   ],
   "source": [
    "temp.loc[\"Apr\":\"Jun\", :]"
   ]
  },
  {
   "cell_type": "code",
   "execution_count": 44,
   "id": "b589676b-60e2-4cb5-bb5b-7a9337c51beb",
   "metadata": {},
   "outputs": [
    {
     "data": {
      "text/plain": [
       "Apr    16\n",
       "May    21\n",
       "Jun    25\n",
       "Name: Luzern, dtype: int64"
      ]
     },
     "execution_count": 44,
     "metadata": {},
     "output_type": "execute_result"
    }
   ],
   "source": [
    "temp.loc[\"Apr\":\"Jun\", \"Luzern\"]"
   ]
  },
  {
   "cell_type": "code",
   "execution_count": 45,
   "id": "310c98ea-e395-42e3-a60e-0780030dba55",
   "metadata": {},
   "outputs": [
    {
     "data": {
      "text/plain": [
       "20"
      ]
     },
     "execution_count": 45,
     "metadata": {},
     "output_type": "execute_result"
    }
   ],
   "source": [
    "temp.loc[\"May\", \"Zurich\"]"
   ]
  },
  {
   "cell_type": "code",
   "execution_count": 46,
   "id": "90f2c71f-37ef-4f07-922b-e22c3c27aae3",
   "metadata": {},
   "outputs": [
    {
     "data": {
      "text/html": [
       "<div>\n",
       "<style scoped>\n",
       "    .dataframe tbody tr th:only-of-type {\n",
       "        vertical-align: middle;\n",
       "    }\n",
       "\n",
       "    .dataframe tbody tr th {\n",
       "        vertical-align: top;\n",
       "    }\n",
       "\n",
       "    .dataframe thead th {\n",
       "        text-align: right;\n",
       "    }\n",
       "</style>\n",
       "<table border=\"1\" class=\"dataframe\">\n",
       "  <thead>\n",
       "    <tr style=\"text-align: right;\">\n",
       "      <th></th>\n",
       "      <th>Basel</th>\n",
       "      <th>Zurich</th>\n",
       "    </tr>\n",
       "  </thead>\n",
       "  <tbody>\n",
       "    <tr>\n",
       "      <th>Apr</th>\n",
       "      <td>12</td>\n",
       "      <td>17</td>\n",
       "    </tr>\n",
       "    <tr>\n",
       "      <th>Jun</th>\n",
       "      <td>21</td>\n",
       "      <td>27</td>\n",
       "    </tr>\n",
       "  </tbody>\n",
       "</table>\n",
       "</div>"
      ],
      "text/plain": [
       "     Basel  Zurich\n",
       "Apr     12      17\n",
       "Jun     21      27"
      ]
     },
     "execution_count": 46,
     "metadata": {},
     "output_type": "execute_result"
    }
   ],
   "source": [
    "temp.loc[[\"Apr\", \"Jun\"], [\"Basel\", \"Zurich\"]]\n"
   ]
  },
  {
   "cell_type": "code",
   "execution_count": 49,
   "id": "43470a0d-ba07-4579-9407-a3b3d0747bde",
   "metadata": {},
   "outputs": [
    {
     "data": {
      "image/png": "[encoded data removed]",
      "text/plain": [
       "<Figure size 432x288 with 1 Axes>"
      ]
     },
     "metadata": {
      "needs_background": "light"
     },
     "output_type": "display_data"
    }
   ],
   "source": [
    "# Operationens with datasets\n",
    "\n",
    "temp.plot();"
   ]
  },
  {
   "cell_type": "code",
   "execution_count": 50,
   "id": "6de1baf2-0830-4352-9f8f-12f7425aeab0",
   "metadata": {},
   "outputs": [
    {
     "data": {
      "text/plain": [
       "<AxesSubplot:>"
      ]
     },
     "execution_count": 50,
     "metadata": {},
     "output_type": "execute_result"
    },
    {
     "data": {
      "image/png": "[encoded data removed]",
      "text/plain": [
       "<Figure size 432x288 with 1 Axes>"
      ]
     },
     "metadata": {
      "needs_background": "light"
     },
     "output_type": "display_data"
    }
   ],
   "source": [
    "temp.plot(kind=\"box\")"
   ]
  }
 ],
 "metadata": {
  "kernelspec": {
   "display_name": "Python 3 (ipykernel)",
   "language": "python",
   "name": "python3"
  },
  "language_info": {
   "codemirror_mode": {
    "name": "ipython",
    "version": 3
   },
   "file_extension": ".py",
   "mimetype": "text/x-python",
   "name": "python",
   "nbconvert_exporter": "python",
   "pygments_lexer": "ipython3",
   "version": "3.10.11"
  }
 },
 "nbformat": 4,
 "nbformat_minor": 5
}
