{
 "cells": [
  {
   "cell_type": "code",
   "execution_count": 1,
   "metadata": {
    "tags": []
   },
   "outputs": [],
   "source": [
    "%matplotlib inline\n",
    "import matplotlib.pyplot as plt\n",
    "import numpy as np\n",
    "\n",
    "# Nur zur besseren Darstellung\n",
    "plt.rcParams.update({\n",
    "    \"text.usetex\": True,\n",
    "    \"font.family\": \"sans-serif\",\n",
    "    \"font.sans-serif\": [\"Helvetica\"]})\n",
    "## for Palatino and other serif fonts use:\n",
    "plt.rcParams.update({\n",
    "    \"text.usetex\": True,\n",
    "    \"font.family\": \"serif\",\n",
    "    \"font.serif\": [\"Palatino\"],\n",
    "    \"font.size\": 8\n",
    "})"
   ]
  },
  {
   "cell_type": "markdown",
   "metadata": {},
   "source": [
    "# Einleitung: Prior-Posterior\n",
    "\n",
    "\n",
    "Bei einer Münze sei die Wahrscheinlichkeit, Kopf $ K $ zu werfen, $ \\theta $. Die Wahrscheinlichkeit, Zahl $ Z $ zu werfen, ist dann $ 1-\\theta $. \n",
    "\n",
    "Nun betrachten wir einen neuen Einfränkler, der gerade von der Nationalbank in Umlauf gebracht wurde. Die Frage ist nun, wie gross ist $ \\theta $? Weil die Münze von der seriösen Nationalbank kommt, neu ist und symmetrisch aussieht, d\\\"urfen wir annehmen, dass die Münze _fair_ ist, also $ \\theta=0.5 $. \n",
    "\n",
    "Nun ist eine _reale_ Münze nie fair in dem Sinne, dass $ \\theta $ _exakt_ $ 0.5 $ ist. Es gilt vielleicht \n",
    "\n",
    "$$\n",
    "0.48<\\theta <0.52\n",
    "$$\n",
    "\n",
    "aber nie $ \\theta=0.500000000\\ldots $. Man beachte, dass es unendlich viele Werte für $ \\theta $ gibt, die zwischen $ 0 $ und $ 1 $ liegen. \n",
    "\n",
    "Wir möchten eine Aussage aufgrund von Daten machen, wie gross $ \\theta $ tatsächlich ist. Dazu werfen wir die Münze vorläufig einmal und erhalten $ K $, was wir mit $ y=1 $ bezeichnen (wir werden dies später verallgemeinern). Das heisst, wir haben Daten über die Münze gesammelt und wollen wissen, was wir über $ \\theta $ aussagen können. Wir suchen also die bedingte Wahrscheinlichkeit \n",
    "\n",
    "$$\n",
    "P(\\theta|y=1)\n",
    "$$\n",
    "\n",
    "und können die Formel von Bayes anwenden:\n",
    "\n",
    "$$\n",
    "P(\\theta|y=1)=\\frac{P(y=1|\\theta)\\cdot P(\\theta)}{P(y=1)}\n",
    "$$\n",
    "\n",
    "Nun haben wir auf der rechten Seite drei Grössen, die unbekannt sind:\n",
    "\n",
    "$$\n",
    "P(y=1|\\theta),\\qquad P(\\theta) \\quad \\text{und}\\quad P(y=1)\n",
    "$$\n",
    "\n",
    "Obwohl $ \\theta $ unendlich viele Werte annehmen kann, wollen wir $ \\theta $ vorübergehend diskretisieren. Wir nehmen an, dass $ \\theta $ nur die Werte von $ 0,0.1,0.2,\\ldots,0.9,1 $ annehmen kann. Dann gilt für die Likelihood-Funktion $ P(y=1 | \\theta) $, dass sie abhängig von $ \\theta $ ist:\n",
    "\n",
    "$$\n",
    "P(y=1|\\theta)\n",
    "=\\theta\n",
    "$$\n",
    "\n",
    "das heisst, wenn die Wahrscheinlichkeit, $ K $ zu werfen, $ \\theta $ beträgt (erstes $ \\theta $), so erscheint mit einer Wahrscheinlichkeit von $ \\theta $ (zweites $ \\theta $) auch $ K $. \n",
    "\n",
    "Ist zum Beispiel $ \\theta=0.8 $, so ist\n",
    "\n",
    "$$\n",
    "P(y=1|0.8)\n",
    "=0.8\n",
    "$$\n",
    "\n",
    "\n",
    "die Wahrscheinlichkeit, bei einer Wurfwahrscheinlichkeit von $ 0.8 $ Kopf zu werfen, natürlich auch $ 0.8 $ ist.\n",
    "\n",
    "Da wir mehrere $ \\theta $'s haben, haben wir auch mehrere $ P(y=1 | \\theta) $'s"
   ]
  },
  {
   "cell_type": "code",
   "execution_count": 2,
   "metadata": {
    "tags": []
   },
   "outputs": [
    {
     "name": "stdout",
     "output_type": "stream",
     "text": [
      "[0.  0.1 0.2 0.3 0.4 0.5 0.6 0.7 0.8 0.9 1. ]\n",
      "[0.  0.1 0.2 0.3 0.4 0.5 0.6 0.7 0.8 0.9 1. ]\n"
     ]
    }
   ],
   "source": [
    "theta = np.arange(11)/10\n",
    "print(theta)\n",
    "likeli = np.linspace(0,1,num=11)\n",
    "print(likeli)"
   ]
  },
  {
   "cell_type": "code",
   "execution_count": 3,
   "metadata": {
    "tags": []
   },
   "outputs": [
    {
     "data": {
      "text/plain": [
       "Text(0, 0.5, '$P(y=1\\\\mid\\\\theta )$')"
      ]
     },
     "execution_count": 3,
     "metadata": {},
     "output_type": "execute_result"
    },
    {
     "data": {
      "image/png": "[encoded data removed]",
      "text/plain": [
       "<Figure size 640x480 with 1 Axes>"
      ]
     },
     "metadata": {},
     "output_type": "display_data"
    }
   ],
   "source": [
    "plt.bar(theta,likeli, width=.01)\n",
    "plt.title(\"Likelihood\")\n",
    "plt.xlabel(r\"$\\theta$\")\n",
    "plt.ylabel(r\"$P(y=1\\mid\\theta )$\")"
   ]
  },
  {
   "cell_type": "markdown",
   "metadata": {},
   "source": [
    "Nun kommen wir zur Prior-Verteilung $ P(\\theta) $, und hier gibt es sehr viele Möglichkeiten. Diese müssen wir allerdings vorher festlegen. Denken wir uns die Münze als eher fair, wissen es aber nicht genau, können wir eine Wahrscheinlichkeitsverteilung wie folgt w\\\"ahlen.\n",
    "\n",
    "Die Prior-Werte für die $ \\theta $'s sind"
   ]
  },
  {
   "cell_type": "code",
   "execution_count": 4,
   "metadata": {
    "tags": []
   },
   "outputs": [
    {
     "name": "stdout",
     "output_type": "stream",
     "text": [
      "[0.  0.1 0.2 0.3 0.4 0.5 0.6 0.7 0.8 0.9 1. ]\n",
      "[0 1 2 3 4 5 4 3 2 1 0]\n",
      "[0.   0.04 0.08 0.12 0.16 0.2  0.16 0.12 0.08 0.04 0.  ]\n"
     ]
    }
   ],
   "source": [
    "theta = np.arange(11)/10\n",
    "y = np.array([0,1,2,3,4,5,4,3,2,1,0])\n",
    "prior = y / np.sum(y)\n",
    "print(theta)\n",
    "print(y)\n",
    "print(prior)"
   ]
  },
  {
   "cell_type": "code",
   "execution_count": 5,
   "metadata": {
    "tags": []
   },
   "outputs": [
    {
     "data": {
      "text/plain": [
       "Text(0, 0.5, '$P(\\\\theta)$')"
      ]
     },
     "execution_count": 5,
     "metadata": {},
     "output_type": "execute_result"
    },
    {
     "data": {
      "image/png": "[encoded data removed]",
      "text/plain": [
       "<Figure size 640x480 with 1 Axes>"
      ]
     },
     "metadata": {},
     "output_type": "display_data"
    }
   ],
   "source": [
    "plt.bar(theta,prior, width=.01)\n",
    "plt.title(\"Prior\")\n",
    "plt.xlabel(r\"$\\theta$\")\n",
    "plt.ylabel(r\"$P(\\theta)$\")"
   ]
  },
  {
   "cell_type": "markdown",
   "metadata": {},
   "source": [
    "Nun können wir die Posterior-Wahrscheinlichkeiten für alle $ \\theta $'s, also die Posterior-Verteilung, berechnen. So ist zum Beispiel\n",
    "\n",
    "$$\n",
    "P(0.8 | y=1)\n",
    "=\\frac{P(y=1 | 0.8)\\cdot P(0.8)}{P(y=1)}\n",
    "=\\frac{0.8\\cdot 0.8}{0.5}\n",
    "=0.128\n",
    "$$"
   ]
  },
  {
   "cell_type": "markdown",
   "metadata": {},
   "source": [
    "Nun updaten wir unsere Wahrscheinlichkeiten mit der Formel von Bayes für alle $\\theta$s, mit der Beobachtung, dass Kopf geworfen wurde ($y=1$):"
   ]
  },
  {
   "cell_type": "code",
   "execution_count": 6,
   "metadata": {
    "tags": []
   },
   "outputs": [
    {
     "name": "stdout",
     "output_type": "stream",
     "text": [
      "Zähler [0.    0.004 0.016 0.036 0.064 0.1   0.096 0.084 0.064 0.036 0.   ]\n",
      "Nenner 0.5\n",
      "Posterior [0.    0.008 0.032 0.072 0.128 0.2   0.192 0.168 0.128 0.072 0.   ]\n"
     ]
    }
   ],
   "source": [
    "posterior = (likeli*prior) / np.sum(likeli*prior)\n",
    "\n",
    "print(\"Zähler\", likeli*prior)\n",
    "print(\"Nenner\", np.sum(likeli*prior))\n",
    "print(\"Posterior\", posterior)"
   ]
  },
  {
   "cell_type": "code",
   "execution_count": 7,
   "metadata": {
    "tags": []
   },
   "outputs": [
    {
     "data": {
      "text/plain": [
       "Text(0, 0.5, '$P(\\\\theta\\\\mid y=1)$')"
      ]
     },
     "execution_count": 7,
     "metadata": {},
     "output_type": "execute_result"
    },
    {
     "data": {
      "image/png": "[encoded data removed]",
      "text/plain": [
       "<Figure size 640x480 with 1 Axes>"
      ]
     },
     "metadata": {},
     "output_type": "display_data"
    }
   ],
   "source": [
    "plt.bar(theta,posterior, width=.01)\n",
    "plt.title(\"Posterior\")\n",
    "plt.xlabel(r\"$\\theta$\")\n",
    "plt.ylabel(r\"$P(\\theta\\mid y=1)$\")"
   ]
  },
  {
   "cell_type": "markdown",
   "metadata": {},
   "source": [
    "Wir sehen, dass die Prior-Verteilung durch eine leicht andere Gewichtung in die Posterior-Verteilung einfliesst. Die $ \\theta $'s über $ 0.5 $ werden stärker gewichtet als die unter $ 0.5 $. \n",
    "\n",
    "Hätten wir Zahl ($ Z $) geworfen, so hätten wir eine höhere Gewichtung für Wurfwahrscheinlichkeiten unter $ 0.5 $."
   ]
  },
  {
   "cell_type": "markdown",
   "metadata": {},
   "source": [
    "## Verschiedene Priors\n",
    "\n",
    "Wir betrachten als erstes eine uniform verteilte Prior-Verteilung."
   ]
  },
  {
   "cell_type": "code",
   "execution_count": 8,
   "metadata": {
    "tags": []
   },
   "outputs": [
    {
     "name": "stdout",
     "output_type": "stream",
     "text": [
      "[0.  0.1 0.2 0.3 0.4 0.5 0.6 0.7 0.8 0.9 1. ]\n",
      "[0 1 1 1 1 1 1 1 1 1 0]\n",
      "[0.         0.11111111 0.11111111 0.11111111 0.11111111 0.11111111\n",
      " 0.11111111 0.11111111 0.11111111 0.11111111 0.        ]\n"
     ]
    },
    {
     "data": {
      "text/plain": [
       "Text(0, 0.5, '$P(\\\\theta)$')"
      ]
     },
     "execution_count": 8,
     "metadata": {},
     "output_type": "execute_result"
    },
    {
     "data": {
      "image/png": "[encoded data removed]",
      "text/plain": [
       "<Figure size 640x480 with 1 Axes>"
      ]
     },
     "metadata": {},
     "output_type": "display_data"
    }
   ],
   "source": [
    "theta = np.arange(11)/10\n",
    "y = np.array([0,1,1,1,1,1,1,1,1,1,0])\n",
    "prior = y / np.sum(y)\n",
    "print(theta)\n",
    "print(y)\n",
    "print(prior)\n",
    "plt.bar(theta,prior, width=.01)\n",
    "plt.title(\"Prior\")\n",
    "plt.xlabel(r\"$\\theta$\")\n",
    "plt.ylabel(r\"$P(\\theta)$\")"
   ]
  },
  {
   "cell_type": "code",
   "execution_count": 9,
   "metadata": {
    "tags": []
   },
   "outputs": [
    {
     "name": "stdout",
     "output_type": "stream",
     "text": [
      "[0.  0.1 0.2 0.3 0.4 0.5 0.6 0.7 0.8 0.9 1. ]\n",
      "[ 0.    1.    1.2   2.    5.   15.    5.    2.25  1.2   1.    0.  ]\n",
      "[0.         0.02971768 0.03566122 0.05943536 0.14858841 0.44576523\n",
      " 0.14858841 0.06686478 0.03566122 0.02971768 0.        ]\n"
     ]
    },
    {
     "data": {
      "text/plain": [
       "Text(0, 0.5, '$P(\\\\theta)$')"
      ]
     },
     "execution_count": 9,
     "metadata": {},
     "output_type": "execute_result"
    },
    {
     "data": {
      "image/png": "[encoded data removed]",
      "text/plain": [
       "<Figure size 640x480 with 1 Axes>"
      ]
     },
     "metadata": {},
     "output_type": "display_data"
    }
   ],
   "source": [
    "theta = np.arange(11)/10\n",
    "y = np.array([0,1,1.2,2,5,15,5,2.25,1.2,1,0])\n",
    "prior = y / np.sum(y)\n",
    "print(theta)\n",
    "print(y)\n",
    "print(prior)\n",
    "plt.bar(theta,prior, width=.01)\n",
    "plt.title(\"Prior\")\n",
    "plt.xlabel(r\"$\\theta$\")\n",
    "plt.ylabel(r\"$P(\\theta)$\")"
   ]
  }
 ],
 "metadata": {
  "kernelspec": {
   "display_name": "Python 3 (ipykernel)",
   "language": "python",
   "name": "python3"
  },
  "language_info": {
   "codemirror_mode": {
    "name": "ipython",
    "version": 3
   },
   "file_extension": ".py",
   "mimetype": "text/x-python",
   "name": "python",
   "nbconvert_exporter": "python",
   "pygments_lexer": "ipython3",
   "version": "3.10.11"
  }
 },
 "nbformat": 4,
 "nbformat_minor": 4
}
