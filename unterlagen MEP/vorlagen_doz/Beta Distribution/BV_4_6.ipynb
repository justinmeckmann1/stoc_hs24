{
 "cells": [
  {
   "cell_type": "markdown",
   "metadata": {},
   "source": [
    "# Bestimmung 95%-HDI für die Betaverteilung\n",
    "\n",
    "Die folgende Prozedur definiert, das HDI für die Beta-Verteilung:"
   ]
  },
  {
   "cell_type": "code",
   "execution_count": 3,
   "metadata": {
    "tags": []
   },
   "outputs": [],
   "source": [
    "from scipy.stats import beta\n",
    "import numpy as np\n",
    "\n",
    "def hdi(a,b, prob = 0.95):\n",
    "    k = 0\n",
    "    x = np.linspace(0,1,1000)\n",
    "    y = beta.pdf(x,a,b)\n",
    "    while True:\n",
    "       k = k+0.0001\n",
    "       if np.sum(y[y > k])/np.size(x) < prob:\n",
    "        break\n",
    "    return x[np.argwhere(y > k)][0] ,x[np.argwhere(y > k)][np.argwhere(y > k).size-1]      "
   ]
  },
  {
   "cell_type": "markdown",
   "metadata": {},
   "source": [
    "In `hdi(...)` müssen nur noch die Parameter $a$ und $b$ eingegeben werden. Wenn die Prozentzahl noch geändert soll, fügen Sie ein zusätzliches `prob=...` ein. prob=0.5 würde dann bedeuten, dass 50% der glaubwürdigsten Parameter im HDI enthalten sind. "
   ]
  },
  {
   "cell_type": "code",
   "execution_count": 2,
   "metadata": {
    "tags": []
   },
   "outputs": [
    {
     "data": {
      "text/plain": [
       "(array([0.14614615]), array([0.85385385]))"
      ]
     },
     "execution_count": 2,
     "metadata": {},
     "output_type": "execute_result"
    }
   ],
   "source": [
    "hdi(a=3, b=3)  "
   ]
  }
 ],
 "metadata": {
  "kernelspec": {
   "display_name": "Python 3 (ipykernel)",
   "language": "python",
   "name": "python3"
  },
  "language_info": {
   "codemirror_mode": {
    "name": "ipython",
    "version": 3
   },
   "file_extension": ".py",
   "mimetype": "text/x-python",
   "name": "python",
   "nbconvert_exporter": "python",
   "pygments_lexer": "ipython3",
   "version": "3.10.11"
  }
 },
 "nbformat": 4,
 "nbformat_minor": 4
}
