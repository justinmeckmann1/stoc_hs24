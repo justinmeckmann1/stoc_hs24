{
 "cells": [
  {
   "cell_type": "code",
   "execution_count": 2,
   "id": "3f088381-e68e-4e9b-980f-f95293263cc9",
   "metadata": {},
   "outputs": [],
   "source": [
    "from scipy.stats import binom\n",
    "import numpy as np\n",
    "from scipy.stats import beta\n",
    "import scipy.stats as st\n",
    "\n",
    "def binom_interval(success, total, confint=0.95, alternative=\"two.sided\"):\n",
    "    if alternative==\"less\":\n",
    "        quantile = (1 - confint)\n",
    "        lower = 0\n",
    "        upper = beta.ppf(1 - quantile, success + 1, total - success)\n",
    "        return (lower, upper)\n",
    "    elif alternative==\"greater\":\n",
    "        quantile = (1 - confint)\n",
    "        lower = beta.ppf(quantile, success, total - success + 1)\n",
    "        upper = 1\n",
    "        return (lower, upper)\n",
    "    else:\n",
    "        quantile = (1 - confint) / 2.\n",
    "        lower = beta.ppf(quantile, success, total - success + 1)\n",
    "        upper = beta.ppf(1 - quantile, success + 1, total - success)\n",
    "        return (lower, upper)"
   ]
  },
  {
   "cell_type": "code",
   "execution_count": 4,
   "id": "f79698be-29b1-43c5-86ee-cb725b324b26",
   "metadata": {},
   "outputs": [
    {
     "data": {
      "text/plain": [
       "0.5987369392383787"
      ]
     },
     "execution_count": 4,
     "metadata": {},
     "output_type": "execute_result"
    }
   ],
   "source": [
    "st.binom.pmf(k=0, n=10, p=0.05)"
   ]
  },
  {
   "cell_type": "code",
   "execution_count": 3,
   "id": "23658707-7e86-4f5b-a1fe-bb4c6ae97593",
   "metadata": {},
   "outputs": [
    {
     "data": {
      "text/plain": [
       "0.0861383558993164"
      ]
     },
     "execution_count": 3,
     "metadata": {},
     "output_type": "execute_result"
    }
   ],
   "source": [
    "1 - st.binom.cdf(k=1, n=10, p=0.05)"
   ]
  },
  {
   "cell_type": "code",
   "execution_count": null,
   "id": "d936627c-f2d9-4e4a-bb3f-08e79a257224",
   "metadata": {},
   "outputs": [],
   "source": []
  }
 ],
 "metadata": {
  "kernelspec": {
   "display_name": "Python 3 (ipykernel)",
   "language": "python",
   "name": "python3"
  },
  "language_info": {
   "codemirror_mode": {
    "name": "ipython",
    "version": 3
   },
   "file_extension": ".py",
   "mimetype": "text/x-python",
   "name": "python",
   "nbconvert_exporter": "python",
   "pygments_lexer": "ipython3",
   "version": "3.9.12"
  }
 },
 "nbformat": 4,
 "nbformat_minor": 5
}
