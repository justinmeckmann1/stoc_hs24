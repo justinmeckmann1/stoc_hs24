{
 "cells": [
  {
   "cell_type": "code",
   "execution_count": 1,
   "metadata": {},
   "outputs": [
    {
     "data": {
      "text/plain": [
       "20.0"
      ]
     },
     "execution_count": 1,
     "metadata": {},
     "output_type": "execute_result"
    }
   ],
   "source": [
    "import numpy as np\n",
    "from scipy.stats import binom, beta\n",
    "\n",
    "def binom_interval(success, total, confint=0.95, alternative=\"two.sided\"):\n",
    "    if alternative==\"less\":\n",
    "      quantile = (1 - confint)\n",
    "      lower = 0\n",
    "      upper = beta.ppf(1 - quantile, success + 1, total - success)\n",
    "      return (lower, upper)\n",
    "    elif alternative==\"greater\":\n",
    "      quantile = (1 - confint)\n",
    "      lower = beta.ppf(quantile, success, total - success + 1)\n",
    "      upper = 1\n",
    "      return (lower, upper)\n",
    "    else:\n",
    "      quantile = (1 - confint) / 2.\n",
    "      lower = beta.ppf(quantile, success, total - success + 1)\n",
    "      upper = beta.ppf(1 - quantile, success + 1, total - success)\n",
    "      return (lower, upper)\n",
    "    \n",
    "    \n",
    "    \n",
    "\n",
    "p = 0.3 \n",
    "x = binom.rvs(size=20, n=50, p=p)\n",
    "truth = np.ones(20)\n",
    "for i in range(20):\n",
    "   test = binom_interval(x[i], 50)\n",
    "   truth[i] = (p >= test[0] and p<=test[1])\n",
    "\n",
    "np.sum(truth)"
   ]
  },
  {
   "cell_type": "code",
   "execution_count": 46,
   "metadata": {},
   "outputs": [
    {
     "data": {
      "text/plain": [
       "(0.2640783950945368, 0.5482059715208196)"
      ]
     },
     "execution_count": 46,
     "metadata": {},
     "output_type": "execute_result"
    }
   ],
   "source": [
    "x = binom.rvs(n=50,p=p)\n",
    "binom_interval(x,50)"
   ]
  },
  {
   "cell_type": "code",
   "execution_count": 10,
   "metadata": {},
   "outputs": [
    {
     "data": {
      "image/png": "[encoded data removed]",
      "text/plain": [
       "<Figure size 432x288 with 1 Axes>"
      ]
     },
     "metadata": {
      "needs_background": "light"
     },
     "output_type": "display_data"
    }
   ],
   "source": [
    "import matplotlib.pyplot as plt\n",
    "size = 100\n",
    "p = 0.3 \n",
    "x = binom.rvs(size=size, n=100, p=p)\n",
    "\n",
    "for i in range(size):\n",
    "   test = binom_interval(x[i], 100)\n",
    "   plt.plot([i,i],[test[0], test[1]])\n",
    "   if (test[0]<= p <= test[1])==False:\n",
    "        plt.plot([i,i],[test[0], test[1]], c=\"black\",linewidth=3)\n",
    "        \n",
    "plt.plot([0,size],[.3,.3]);"
   ]
  }
 ],
 "metadata": {
  "kernelspec": {
   "display_name": "Python 3 (ipykernel)",
   "language": "python",
   "name": "python3"
  },
  "language_info": {
   "codemirror_mode": {
    "name": "ipython",
    "version": 3
   },
   "file_extension": ".py",
   "mimetype": "text/x-python",
   "name": "python",
   "nbconvert_exporter": "python",
   "pygments_lexer": "ipython3",
   "version": "3.9.12"
  }
 },
 "nbformat": 4,
 "nbformat_minor": 4
}
