{
 "cells": [
  {
   "cell_type": "markdown",
   "metadata": {},
   "source": [
    "# Vertrauensintervall Binomialverteilung\n",
    "\n",
    "## Zweiseitig\n",
    "\n",
    "Wir beginnen mit einer Binomialverteilung mit $n=50$ und $\\pi=0.5$. Eingezeichnet ist noch auf beiden Seiten rot der Verwerfungsbereich auf Signifikanzniveau 5%. Das heisst, hier ist die Nullhypothese $\\pi_0=0.5$."
   ]
  },
  {
   "cell_type": "code",
   "execution_count": 1,
   "metadata": {},
   "outputs": [],
   "source": [
    "%matplotlib inline\n",
    "\n",
    "from scipy.stats import binom \n",
    "import matplotlib.pyplot as plt\n",
    "plt.rcParams[\"figure.figsize\"] = (15,5)\n",
    "import numpy as np\n",
    "n = 50\n",
    "p_0 = 0.5"
   ]
  },
  {
   "cell_type": "markdown",
   "metadata": {},
   "source": [
    "Wir machen nun Beobachtungen, die orange eingezeichnet sind. So wird für $k=20$ die Nullhypothese nicht verworfen, für $k=32$ aber schon."
   ]
  },
  {
   "cell_type": "code",
   "execution_count": 4,
   "metadata": {},
   "outputs": [
    {
     "data": {
      "image/png": "[encoded data removed]",
      "text/plain": [
       "<Figure size 1080x360 with 1 Axes>"
      ]
     },
     "metadata": {
      "needs_background": "light"
     },
     "output_type": "display_data"
    }
   ],
   "source": [
    "k = 20\n",
    "x = np.arange(n+1)\n",
    "y = binom.pmf(k=x,n=n,p=p_0)\n",
    "\n",
    "plt.bar([k,k],[0,.13], color=\"orange\", width=.5)\n",
    "plt.bar(x,y, width=.5)\n",
    "\n",
    "x_u = np.arange(binom.ppf(q=0.025, n=n, p=p_0)+1)\n",
    "y_u = binom.pmf(k=x_u, n=n, p=p_0)\n",
    "plt.bar(x_u, y_u, color= \"red\", width=.5)\n",
    "\n",
    "x_o = np.arange(binom.ppf(q=0.975, n=n, p=p_0), n+1)\n",
    "y_o = binom.pmf(k=x_o, n=n, p=p_0)\n",
    "plt.bar(x_o, y_o, color= \"red\", width=.5);"
   ]
  },
  {
   "cell_type": "markdown",
   "metadata": {},
   "source": [
    "Im folgenden werden wir das $\\pi_0$ ändern, aber die Beobachtung $k$ konstant lassen. Ziel ist es diejenigen $\\pi_0$ zu finden, für die Nullhypothese _nicht_ verworfen wird.\n",
    "\n",
    "Um dies zu vereinfachen, definieren wir den Plot oben als Funktion vom $\\pi$"
   ]
  },
  {
   "cell_type": "code",
   "execution_count": 5,
   "metadata": {},
   "outputs": [],
   "source": [
    "def conf_int(p,k):\n",
    "  x = np.arange(n+1)\n",
    "  y = binom.pmf(k=x,n=n,p=p)\n",
    "  plt.bar([k,k],[0,.12], color=\"orange\", width=.5)\n",
    "  plt.bar(x,y, width=.5)\n",
    "\n",
    "  x_u = np.arange(binom.ppf(q=0.025, n=n, p=p)+1)\n",
    "  y_u = binom.pmf(k=x_u, n=n, p=p)\n",
    "  plt.bar(x_u, y_u, color= \"red\", width=.5)\n",
    "\n",
    "  x_o = np.arange(binom.ppf(q=0.975, n=n, p=p), n+1)\n",
    "  y_o = binom.pmf(k=x_o, n=n, p=p)\n",
    "  plt.bar(x_o, y_o, color= \"red\", width=.5)\n",
    "  if (binom.ppf(q=0.025, n=n, p=p)>=k) or (binom.ppf(q=0.975, n=n, p=p) <=k):\n",
    "      plt.text(0,.1,\"p=\"+str(np.round(p,2)),fontsize=18, color=\"red\")\n",
    "  else:\n",
    "      plt.text(0,.1,\"p=\"+str(np.round(p,2)),fontsize=18, color=\"green\")"
   ]
  },
  {
   "cell_type": "markdown",
   "metadata": {},
   "source": [
    "Nehmen wir nun an, die Beobachtung $k=22$ ist gegeben (orange) und suchen die $\\pi_0$ für die die Nullhypothese nicht verworfen wird.\n",
    "\n",
    "Wir beginnen mit $\\pi=0.5$"
   ]
  },
  {
   "cell_type": "code",
   "execution_count": 41,
   "metadata": {},
   "outputs": [],
   "source": [
    "p = .5\n",
    "k = 7"
   ]
  },
  {
   "cell_type": "code",
   "execution_count": 85,
   "metadata": {},
   "outputs": [
    {
     "data": {
      "image/png": "[encoded data removed]",
      "text/plain": [
       "<Figure size 1080x360 with 1 Axes>"
      ]
     },
     "metadata": {
      "needs_background": "light"
     },
     "output_type": "display_data"
    }
   ],
   "source": [
    "conf_int(p,k);\n",
    "\n",
    "delta_p = -.01\n",
    "p = p + delta_p;"
   ]
  },
  {
   "cell_type": "markdown",
   "metadata": {},
   "source": [
    "Ist $\\pi_0 $ im Bereich $(0.32, 0.56)$, so wird für die Beobachtung die Nullhypothese $\\pi_0$ nicht verwerfen. "
   ]
  }
 ],
 "metadata": {
  "kernelspec": {
   "display_name": "Python 3 (ipykernel)",
   "language": "python",
   "name": "python3"
  },
  "language_info": {
   "codemirror_mode": {
    "name": "ipython",
    "version": 3
   },
   "file_extension": ".py",
   "mimetype": "text/x-python",
   "name": "python",
   "nbconvert_exporter": "python",
   "pygments_lexer": "ipython3",
   "version": "3.9.12"
  }
 },
 "nbformat": 4,
 "nbformat_minor": 4
}
