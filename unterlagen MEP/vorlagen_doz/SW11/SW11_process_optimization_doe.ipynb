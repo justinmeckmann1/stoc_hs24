{
 "cells": [
  {
   "cell_type": "markdown",
   "id": "27def3bf-f1c1-4f63-8aad-28ed943628f7",
   "metadata": {},
   "source": [
    "# Prozessoptimierung\n",
    "\n",
    "## Beispiel: Jitter von CD's und Disc's"
   ]
  },
  {
   "cell_type": "code",
   "execution_count": null,
   "id": "a7b397ca-c79f-4f48-bfd0-1e5adfc4c01f",
   "metadata": {},
   "outputs": [],
   "source": [
    "import numpy as np\n",
    "import pandas as pd\n",
    "from statsmodels.formula.api import ols\n",
    "from patsy.contrasts import Treatment, Sum\n",
    "from statsmodels.stats.anova import anova_lm\n",
    "df = pd.DataFrame({\"Aa\": np.tile(np.tile([-1, 1], 4),2),\n",
    "                   \"Bb\": np.tile(np.repeat([-1,1], [2,2]),4),\n",
    "                   \"Cc\": np.tile(np.repeat([-1,1], [4,4]),2)},\n",
    "                  dtype=\"category\")\n",
    "df[\"Yy\"] = np.array([34,26,33,21,24,23,19,18,40,29,35,22,23,22,18,18])\n",
    "print(df)"
   ]
  },
  {
   "cell_type": "code",
   "execution_count": null,
   "id": "dd5e6edc-6b5f-4248-907b-a525d8b49591",
   "metadata": {},
   "outputs": [],
   "source": [
    "fit = ols(\"Yy ~ C(Aa, Sum)*C(Bb, Sum)*C(Cc, Sum)\", data=df).fit()\n",
    "fit.params"
   ]
  },
  {
   "cell_type": "code",
   "execution_count": null,
   "id": "cd35a7a5-5d43-4d3d-9805-b5868f6fbfd1",
   "metadata": {},
   "outputs": [],
   "source": [
    "df[\"Yy\"] = np.array([34,26,33,21,24,23,19,18,40,29,35,22,23,22,18,18])\n",
    "fit = ols(\"Yy ~ C(Aa, Sum)*C(Bb, Sum)*C(Cc, Sum)\", data=df).fit()\n",
    "anova_lm(fit)"
   ]
  },
  {
   "cell_type": "code",
   "execution_count": null,
   "id": "c2b9da26-5389-4905-8680-87ffb925402c",
   "metadata": {},
   "outputs": [],
   "source": [
    "fit = ols(\"Yy ~ C(Aa, Sum)*C(Bb, Sum)*C(Cc, Sum)\", data=df).fit()\n",
    "fit.params"
   ]
  },
  {
   "cell_type": "markdown",
   "id": "8037e79a-88ed-4537-a833-bad0e08ceed6",
   "metadata": {},
   "source": [
    "## Beispiel: Reaktionsanalyse"
   ]
  },
  {
   "cell_type": "code",
   "execution_count": null,
   "id": "f6e67fc2-9525-444c-936f-48446f00d636",
   "metadata": {},
   "outputs": [],
   "source": [
    "import numpy as np\n",
    "import pandas as pd\n",
    "from statsmodels.formula.api import ols\n",
    "from patsy.contrasts import Treatment, Sum\n",
    "from statsmodels.stats.anova import anova_lm\n",
    "reakt = pd.DataFrame({\"x1\": np.array([120,160,120,160,140,140]),\n",
    "                      \"x2\": np.array([50,50,70,70,60,60]),\n",
    "                      \"y\": np.array([52,62,60,70,63,65])})\n",
    "fit = ols(\"y~x1+x2\",data=reakt).fit()\n",
    "fit.params"
   ]
  },
  {
   "cell_type": "markdown",
   "id": "1fdd3387-769d-4266-b7bf-1072df749fa5",
   "metadata": {},
   "source": [
    "Mit kodierten Variablen:"
   ]
  },
  {
   "cell_type": "code",
   "execution_count": null,
   "id": "040b9d4a-dada-448d-8676-06f84eec81dc",
   "metadata": {},
   "outputs": [],
   "source": [
    "reakt = pd.DataFrame({\"x1\": np.array([-1,1,-1,1,0,0]),\n",
    "                      \"x2\": np.array([-1,-1,1,1,0,0]),\n",
    "                      \"y\": np.array([52,62,60,70,63,65])})\n",
    "fit = ols(\"y~x1+x2\",data=reakt).fit()\n",
    "fit.params"
   ]
  },
  {
   "cell_type": "code",
   "execution_count": null,
   "id": "8120720d-47c9-421e-ba3c-f2580bb99bec",
   "metadata": {},
   "outputs": [],
   "source": [
    "reakt = pd.DataFrame({\"Zeit\": np.array([80,80,100,100,90,90,76,104,90]),\n",
    "                      \"Temp\": np.array([195,235,195,235,187,243,215,215,215]),\n",
    "                      \"y\": np.array([78,76,72,75,74,76,77,72,80])})\n",
    "fit = ols(\"y~Zeit+Temp+I(Temp*Temp)+I(Zeit*Zeit)+I(Zeit*Temp)\",data=reakt).fit()\n",
    "fit.params"
   ]
  }
 ],
 "metadata": {
  "kernelspec": {
   "display_name": "Python 3 (ipykernel)",
   "language": "python",
   "name": "python3"
  },
  "language_info": {
   "codemirror_mode": {
    "name": "ipython",
    "version": 3
   },
   "file_extension": ".py",
   "mimetype": "text/x-python",
   "name": "python",
   "nbconvert_exporter": "python",
   "pygments_lexer": "ipython3",
   "version": "3.11.7"
  }
 },
 "nbformat": 4,
 "nbformat_minor": 5
}
