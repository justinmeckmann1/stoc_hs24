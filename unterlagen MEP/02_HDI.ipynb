{
 "cells": [
  {
   "cell_type": "code",
   "execution_count": 2,
   "metadata": {},
   "outputs": [],
   "source": [
    "from scipy.stats import beta \n",
    "import numpy as np\n",
    "\n",
    "def hdi(a,b, prob = 0.95):\n",
    "    k = 0\n",
    "    x = np.linspace(0,1,1000)\n",
    "    y = beta.pdf(x,a,b)\n",
    "    while True:\n",
    "        k = k+0.001\n",
    "        if np.sum(y[y > k])/np.size(x) < prob:\n",
    "            break\n",
    "    return x[np.argwhere(y > k)][0] ,x[np.argwhere(y > k)][np.argwhere(y > k).size-1]"
   ]
  },
  {
   "cell_type": "code",
   "execution_count": 3,
   "metadata": {},
   "outputs": [
    {
     "name": "stdout",
     "output_type": "stream",
     "text": [
      "HDI = (0.483, 0.673) mit einer Breite von 0.189\n"
     ]
    }
   ],
   "source": [
    "# Example, werte a und b erhalten wir aus Posterior-Beta (Posterior-Dichtefunktion) \n",
    "# Prior: Beta(θ|a,b) --> Posterior: Beta(θ|z+a,N-z+b) --> HDI = neue a, b aus Posterior\n",
    "# a und b sind annahmen (a=b=1, da wir keine Informationen haben)\n",
    "a_prior = 1\n",
    "b_prior = 1\n",
    "\n",
    "# Posterior Betaverteilung\n",
    "\n",
    "N = 100 \n",
    "z = 58\n",
    "\n",
    "a = a_posterior = z + a_prior\n",
    "b = b_posterior = N - z + b_prior\n",
    "\n",
    "hdi_out = hdi(a,b)\n",
    "\n",
    "print(f'HDI = ({hdi_out[0][0]:.3f}, {hdi_out[1][0]:.3f}) mit einer Breite von {hdi_out[1][0]-hdi_out[0][0]:.3f}')"
   ]
  },
  {
   "cell_type": "code",
   "execution_count": 5,
   "metadata": {},
   "outputs": [
    {
     "name": "stdout",
     "output_type": "stream",
     "text": [
      "HDI = (0.158, 0.682) mit einer Breite von 0.524\n"
     ]
    }
   ],
   "source": [
    "# Mit k und w\n",
    "k = 2\n",
    "w = 0.3\n",
    "\n",
    "# Prior Betaverteilung\n",
    "a_prior = w*(k-2)+1\n",
    "b_prior = (1-w)*(k-2)+1\n",
    "\n",
    "# Posterior Betaverteilung\n",
    "# p(θ|4,10) --> z = 4, N = 10\n",
    "N = 10\n",
    "z = 4\n",
    "\n",
    "a = a_posterior = z + a_prior\n",
    "b = b_posterior = N - z + b_prior\n",
    "\n",
    "hdi_out = hdi(a,b)\n",
    "print(f'HDI = ({hdi_out[0][0]:.3f}, {hdi_out[1][0]:.3f}) mit einer Breite von {hdi_out[1][0]-hdi_out[0][0]:.3f}')"
   ]
  },
  {
   "cell_type": "code",
   "execution_count": null,
   "metadata": {},
   "outputs": [],
   "source": []
  }
 ],
 "metadata": {
  "kernelspec": {
   "display_name": "stoc",
   "language": "python",
   "name": "python3"
  },
  "language_info": {
   "codemirror_mode": {
    "name": "ipython",
    "version": 3
   },
   "file_extension": ".py",
   "mimetype": "text/x-python",
   "name": "python",
   "nbconvert_exporter": "python",
   "pygments_lexer": "ipython3",
   "version": "3.12.0"
  }
 },
 "nbformat": 4,
 "nbformat_minor": 2
}
