{
 "cells": [
  {
   "cell_type": "markdown",
   "metadata": {},
   "source": [
    "# Mitschrift SW09"
   ]
  },
  {
   "cell_type": "markdown",
   "metadata": {},
   "source": [
    "## Anova - One-Way\n"
   ]
  },
  {
   "cell_type": "markdown",
   "metadata": {
    "vscode": {
     "languageId": "plaintext"
    }
   },
   "source": [
    "P-Wert: \n",
    "- Ein wahrscheinlichkeit (Wert zwischen 0 und 1)\n",
    "- Wahrscheinlichkeit, unter der Annahme, dass die Nullhypothese stimmt. "
   ]
  },
  {
   "cell_type": "code",
   "execution_count": 1,
   "metadata": {},
   "outputs": [],
   "source": [
    "from pandas import DataFrame \n",
    "import scipy.stats as st \n",
    "import numpy as np\n",
    "import seaborn as sns\n",
    "import matplotlib.pyplot as plt\n"
   ]
  },
  {
   "cell_type": "code",
   "execution_count": 2,
   "metadata": {},
   "outputs": [
    {
     "name": "stdout",
     "output_type": "stream",
     "text": [
      "TtestResult(statistic=np.float64(-3.4979930040209894), pvalue=np.float64(0.005745740170742539), df=np.float64(10.0))\n"
     ]
    }
   ],
   "source": [
    "rf = DataFrame({\n",
    "    \"HC\": np.repeat([\"5%\", \"10%\", \"15%\", \"20%\"], [6, 6, 6, 6]), \n",
    "    \"Strength\":[7, 8, 15, 11, 9, 10, 12, 17, 13, 18, 19, 15, 14, 18, 19, 17, \n",
    "    16, 18, 19, 25, 22, 23, 18, 20]\n",
    "})\n",
    "\n",
    "per5 = rf.loc[rf[\"HC\"]==\"5%\", \"Strength\"] \n",
    "per10 = rf.loc[rf[\"HC\"]==\"10%\", \"Strength\"] \n",
    "per15 = rf.loc[rf[\"HC\"]==\"15%\", \"Strength\"] \n",
    "per20 = rf.loc[rf[\"HC\"]==\"20%\", \"Strength\"]\n",
    "\n",
    "print(st.ttest_ind(per10,per20))\n"
   ]
  },
  {
   "cell_type": "markdown",
   "metadata": {},
   "source": [
    "### Bsp Hartholz Einkaufstaschen\n",
    "\n",
    "4 Gruppen: 5%, 10%, 15%, 20%        \n",
    "i ∈ {1,2,3,4}\n",
    "\n",
    "| yᵢⱼ | 1 | 2 | 3 | 4 |\n",
    "|:------|:---------:|-------:|-------:|-------:| \n",
    "| 1    | ...        | ...     |...        | ...     |        \n",
    "| 2    | ...        | ...     |...        | ...     |      \n",
    "| 3    | ...        | ...     |...        | ...     |      \n",
    "| 4    | ...        | ...     |...        | ...     |      \n",
    "\n",
    "μ̂₁ Schätzung von μ₁     \n",
    "μ̂₂ Schätzung von μ₂     \n",
    "μ̂₃ Schätzung von μ₃         \n",
    "μ̂₄ Schätzung von μ₄             \n",
    "\n",
    "μ₁ = 11         Niveau 1, definiere $\\tau_1$ = μ₁ - μ     \n",
    "μ₂ = 16         Niveau 2, definiere $\\tau_2$ = μ₂ - μ     \n",
    "μ₃ = 17         Niveau 3, definiere $\\tau_3$ = μ₃ - μ     \n",
    "μ₄ = 21         Niveau 4, definiere $\\tau_4$ = μ₄ - μ         \n",
    "\n",
    "--> μᵢ = μ + Tᵢ\n",
    "\n",
    "\n",
    "Problem: μ ist beliebig wählbar. \n",
    "Je nach wahl von $mu$, hat man verschiedene Konventionen (vereinbarungen) --> verschiedene Parametrisierungen\n",
    "Zwei häufige parametrisierungen:         \n",
    "#\n",
    "$\\mu$ = $\\mu_1$ $\\tau_1$ = 0, nebenbedingung: $\\tau_2 = \\mu_2 - \\mu_1 = 5$ ... usw...  Gruppe 1 (Baseline)\n",
    "\n",
    "$\\mu = \\hat{\\mu_1} = 1/4 \\sum_{i=1}^4 \\mu_i = 16.125$ --> $\\sum \\tau_i = 0$ und $\\tau_i = \\mu_i - \\mu$\n",
    " "
   ]
  },
  {
   "cell_type": "markdown",
   "metadata": {},
   "source": [
    "# Anova 1"
   ]
  },
  {
   "cell_type": "code",
   "execution_count": 3,
   "metadata": {},
   "outputs": [
    {
     "data": {
      "text/html": [
       "<table class=\"simpletable\">\n",
       "<caption>OLS Regression Results</caption>\n",
       "<tr>\n",
       "  <th>Dep. Variable:</th>        <td>Strength</td>     <th>  R-squared:         </th> <td>   0.746</td>\n",
       "</tr>\n",
       "<tr>\n",
       "  <th>Model:</th>                   <td>OLS</td>       <th>  Adj. R-squared:    </th> <td>   0.708</td>\n",
       "</tr>\n",
       "<tr>\n",
       "  <th>Method:</th>             <td>Least Squares</td>  <th>  F-statistic:       </th> <td>   19.61</td>\n",
       "</tr>\n",
       "<tr>\n",
       "  <th>Date:</th>             <td>Thu, 14 Nov 2024</td> <th>  Prob (F-statistic):</th> <td>3.59e-06</td>\n",
       "</tr>\n",
       "<tr>\n",
       "  <th>Time:</th>                 <td>11:15:17</td>     <th>  Log-Likelihood:    </th> <td> -54.344</td>\n",
       "</tr>\n",
       "<tr>\n",
       "  <th>No. Observations:</th>      <td>    24</td>      <th>  AIC:               </th> <td>   116.7</td>\n",
       "</tr>\n",
       "<tr>\n",
       "  <th>Df Residuals:</th>          <td>    20</td>      <th>  BIC:               </th> <td>   121.4</td>\n",
       "</tr>\n",
       "<tr>\n",
       "  <th>Df Model:</th>              <td>     3</td>      <th>                     </th>     <td> </td>   \n",
       "</tr>\n",
       "<tr>\n",
       "  <th>Covariance Type:</th>      <td>nonrobust</td>    <th>                     </th>     <td> </td>   \n",
       "</tr>\n",
       "</table>\n",
       "<table class=\"simpletable\">\n",
       "<tr>\n",
       "      <td></td>         <th>coef</th>     <th>std err</th>      <th>t</th>      <th>P>|t|</th>  <th>[0.025</th>    <th>0.975]</th>  \n",
       "</tr>\n",
       "<tr>\n",
       "  <th>Intercept</th> <td>   10.0000</td> <td>    1.041</td> <td>    9.602</td> <td> 0.000</td> <td>    7.827</td> <td>   12.173</td>\n",
       "</tr>\n",
       "<tr>\n",
       "  <th>HC[T.15%]</th> <td>    7.0000</td> <td>    1.473</td> <td>    4.753</td> <td> 0.000</td> <td>    3.928</td> <td>   10.072</td>\n",
       "</tr>\n",
       "<tr>\n",
       "  <th>HC[T.20%]</th> <td>   11.1667</td> <td>    1.473</td> <td>    7.581</td> <td> 0.000</td> <td>    8.094</td> <td>   14.239</td>\n",
       "</tr>\n",
       "<tr>\n",
       "  <th>HC[T.5%]</th>  <td>    5.6667</td> <td>    1.473</td> <td>    3.847</td> <td> 0.001</td> <td>    2.594</td> <td>    8.739</td>\n",
       "</tr>\n",
       "</table>\n",
       "<table class=\"simpletable\">\n",
       "<tr>\n",
       "  <th>Omnibus:</th>       <td> 0.929</td> <th>  Durbin-Watson:     </th> <td>   2.181</td>\n",
       "</tr>\n",
       "<tr>\n",
       "  <th>Prob(Omnibus):</th> <td> 0.628</td> <th>  Jarque-Bera (JB):  </th> <td>   0.861</td>\n",
       "</tr>\n",
       "<tr>\n",
       "  <th>Skew:</th>          <td> 0.248</td> <th>  Prob(JB):          </th> <td>   0.650</td>\n",
       "</tr>\n",
       "<tr>\n",
       "  <th>Kurtosis:</th>      <td> 2.215</td> <th>  Cond. No.          </th> <td>    4.79</td>\n",
       "</tr>\n",
       "</table><br/><br/>Notes:<br/>[1] Standard Errors assume that the covariance matrix of the errors is correctly specified."
      ],
      "text/latex": [
       "\\begin{center}\n",
       "\\begin{tabular}{lclc}\n",
       "\\toprule\n",
       "\\textbf{Dep. Variable:}    &     Strength     & \\textbf{  R-squared:         } &     0.746   \\\\\n",
       "\\textbf{Model:}            &       OLS        & \\textbf{  Adj. R-squared:    } &     0.708   \\\\\n",
       "\\textbf{Method:}           &  Least Squares   & \\textbf{  F-statistic:       } &     19.61   \\\\\n",
       "\\textbf{Date:}             & Thu, 14 Nov 2024 & \\textbf{  Prob (F-statistic):} &  3.59e-06   \\\\\n",
       "\\textbf{Time:}             &     11:15:17     & \\textbf{  Log-Likelihood:    } &   -54.344   \\\\\n",
       "\\textbf{No. Observations:} &          24      & \\textbf{  AIC:               } &     116.7   \\\\\n",
       "\\textbf{Df Residuals:}     &          20      & \\textbf{  BIC:               } &     121.4   \\\\\n",
       "\\textbf{Df Model:}         &           3      & \\textbf{                     } &             \\\\\n",
       "\\textbf{Covariance Type:}  &    nonrobust     & \\textbf{                     } &             \\\\\n",
       "\\bottomrule\n",
       "\\end{tabular}\n",
       "\\begin{tabular}{lcccccc}\n",
       "                    & \\textbf{coef} & \\textbf{std err} & \\textbf{t} & \\textbf{P$> |$t$|$} & \\textbf{[0.025} & \\textbf{0.975]}  \\\\\n",
       "\\midrule\n",
       "\\textbf{Intercept}  &      10.0000  &        1.041     &     9.602  &         0.000        &        7.827    &       12.173     \\\\\n",
       "\\textbf{HC[T.15\\%]} &       7.0000  &        1.473     &     4.753  &         0.000        &        3.928    &       10.072     \\\\\n",
       "\\textbf{HC[T.20\\%]} &      11.1667  &        1.473     &     7.581  &         0.000        &        8.094    &       14.239     \\\\\n",
       "\\textbf{HC[T.5\\%]}  &       5.6667  &        1.473     &     3.847  &         0.001        &        2.594    &        8.739     \\\\\n",
       "\\bottomrule\n",
       "\\end{tabular}\n",
       "\\begin{tabular}{lclc}\n",
       "\\textbf{Omnibus:}       &  0.929 & \\textbf{  Durbin-Watson:     } &    2.181  \\\\\n",
       "\\textbf{Prob(Omnibus):} &  0.628 & \\textbf{  Jarque-Bera (JB):  } &    0.861  \\\\\n",
       "\\textbf{Skew:}          &  0.248 & \\textbf{  Prob(JB):          } &    0.650  \\\\\n",
       "\\textbf{Kurtosis:}      &  2.215 & \\textbf{  Cond. No.          } &     4.79  \\\\\n",
       "\\bottomrule\n",
       "\\end{tabular}\n",
       "%\\caption{OLS Regression Results}\n",
       "\\end{center}\n",
       "\n",
       "Notes: \\newline\n",
       " [1] Standard Errors assume that the covariance matrix of the errors is correctly specified."
      ],
      "text/plain": [
       "<class 'statsmodels.iolib.summary.Summary'>\n",
       "\"\"\"\n",
       "                            OLS Regression Results                            \n",
       "==============================================================================\n",
       "Dep. Variable:               Strength   R-squared:                       0.746\n",
       "Model:                            OLS   Adj. R-squared:                  0.708\n",
       "Method:                 Least Squares   F-statistic:                     19.61\n",
       "Date:                Thu, 14 Nov 2024   Prob (F-statistic):           3.59e-06\n",
       "Time:                        11:15:17   Log-Likelihood:                -54.344\n",
       "No. Observations:                  24   AIC:                             116.7\n",
       "Df Residuals:                      20   BIC:                             121.4\n",
       "Df Model:                           3                                         \n",
       "Covariance Type:            nonrobust                                         \n",
       "==============================================================================\n",
       "                 coef    std err          t      P>|t|      [0.025      0.975]\n",
       "------------------------------------------------------------------------------\n",
       "Intercept     10.0000      1.041      9.602      0.000       7.827      12.173\n",
       "HC[T.15%]      7.0000      1.473      4.753      0.000       3.928      10.072\n",
       "HC[T.20%]     11.1667      1.473      7.581      0.000       8.094      14.239\n",
       "HC[T.5%]       5.6667      1.473      3.847      0.001       2.594       8.739\n",
       "==============================================================================\n",
       "Omnibus:                        0.929   Durbin-Watson:                   2.181\n",
       "Prob(Omnibus):                  0.628   Jarque-Bera (JB):                0.861\n",
       "Skew:                           0.248   Prob(JB):                        0.650\n",
       "Kurtosis:                       2.215   Cond. No.                         4.79\n",
       "==============================================================================\n",
       "\n",
       "Notes:\n",
       "[1] Standard Errors assume that the covariance matrix of the errors is correctly specified.\n",
       "\"\"\""
      ]
     },
     "execution_count": 3,
     "metadata": {},
     "output_type": "execute_result"
    }
   ],
   "source": [
    "from pandas import DataFrame \n",
    "import pandas as pd\n",
    "import numpy as np\n",
    "import scipy.stats as st\n",
    "\n",
    "from statsmodels.formula.api import ols\n",
    "from statsmodels.stats.anova import anova_lm\n",
    "\n",
    "rf = DataFrame({\n",
    "    \"HC\": np.repeat([\"10%\",\"5%\",\"15%\",\"20%\"], [6, 6, 6, 6]),\n",
    "    \"Strength\":[7, 8, 15, 11, 9, 10, 12, 17, 13, 18, 19, 15, 14, 18, 19, 17, \n",
    "    16, 18, 19, 25, 22, 23, 18, 20]\n",
    "})\n",
    "\n",
    "fit = ols(\"Strength ~ HC\",data=rf).fit() \n",
    "fit.summary() # ANOVA-Tabelle\n",
    "\n",
    "# print(fit.params) \n",
    "# --> immer mit Intercept addieren\n",
    "\n"
   ]
  },
  {
   "cell_type": "code",
   "execution_count": 4,
   "metadata": {},
   "outputs": [
    {
     "data": {
      "text/plain": [
       "array([[ 7.8274691 , 12.1725309 ],\n",
       "       [ 7.8274691 , 12.1725309 ],\n",
       "       [ 7.8274691 , 12.1725309 ],\n",
       "       [ 7.8274691 , 12.1725309 ],\n",
       "       [ 7.8274691 , 12.1725309 ],\n",
       "       [ 7.8274691 , 12.1725309 ],\n",
       "       [13.49413576, 17.83919757],\n",
       "       [13.49413576, 17.83919757],\n",
       "       [13.49413576, 17.83919757],\n",
       "       [13.49413576, 17.83919757],\n",
       "       [13.49413576, 17.83919757],\n",
       "       [13.49413576, 17.83919757],\n",
       "       [14.8274691 , 19.1725309 ],\n",
       "       [14.8274691 , 19.1725309 ],\n",
       "       [14.8274691 , 19.1725309 ],\n",
       "       [14.8274691 , 19.1725309 ],\n",
       "       [14.8274691 , 19.1725309 ],\n",
       "       [14.8274691 , 19.1725309 ],\n",
       "       [18.99413576, 23.33919757],\n",
       "       [18.99413576, 23.33919757],\n",
       "       [18.99413576, 23.33919757],\n",
       "       [18.99413576, 23.33919757],\n",
       "       [18.99413576, 23.33919757],\n",
       "       [18.99413576, 23.33919757]])"
      ]
     },
     "execution_count": 4,
     "metadata": {},
     "output_type": "execute_result"
    }
   ],
   "source": [
    "fit_pred = fit.get_prediction() \n",
    "fit_pred.conf_int()"
   ]
  },
  {
   "cell_type": "code",
   "execution_count": 7,
   "metadata": {},
   "outputs": [
    {
     "data": {
      "image/png": "[encoded data removed]",
      "text/plain": [
       "<Figure size 640x480 with 1 Axes>"
      ]
     },
     "metadata": {},
     "output_type": "display_data"
    }
   ],
   "source": [
    "# Beispiel Fleischverpackung\n",
    "\n",
    "meat = DataFrame({\n",
    "    \"Treatment\": np.repeat([\"Kommerziell\",\"Vakuum\",\"Gemischt\",\"CO2\"], [3, 3, 3, 3]),\n",
    "    \"meat_id\":[7.66, 6.98, 7.80, 5.26, 5.44, 5.80, 7.41, 7.33, 7.04, 3.51, 2.91, 3.66]\n",
    "})\n",
    "\n",
    "sns.stripplot(x=\"Treatment\", y=\"meat_id\", data=meat) \n",
    "plt.xlabel(\"Verpackungsmethode\") \n",
    "plt.ylabel(\"Logarithmus Bakterienzahl\")\n",
    "\n",
    "plt.show()\n"
   ]
  },
  {
   "cell_type": "code",
   "execution_count": 14,
   "metadata": {},
   "outputs": [
    {
     "data": {
      "text/plain": [
       "Intercept                   3.36\n",
       "Treatment[T.Gemischt]       3.90\n",
       "Treatment[T.Kommerziell]    4.12\n",
       "Treatment[T.Vakuum]         2.14\n",
       "dtype: float64"
      ]
     },
     "execution_count": 14,
     "metadata": {},
     "output_type": "execute_result"
    }
   ],
   "source": [
    "fit = ols(\"meat_id ~ Treatment\",data=meat).fit()\n",
    "fit.params\n",
    "\n",
    "# intercept ist bereits der mittelweerrt für die CO2-Gruppe\n",
    "# Mittelwert für Gemischt = Intercept + Treatment[Gemischt]\n",
    "\n"
   ]
  },
  {
   "cell_type": "code",
   "execution_count": 15,
   "metadata": {},
   "outputs": [
    {
     "data": {
      "text/plain": [
       "array([7.02684427, 7.93315573])"
      ]
     },
     "execution_count": 15,
     "metadata": {},
     "output_type": "execute_result"
    }
   ],
   "source": [
    "fit_pred = fit.get_prediction()\n",
    "(fit_pred.conf_int())[0]"
   ]
  },
  {
   "cell_type": "markdown",
   "metadata": {},
   "source": [
    "# Anova Test:"
   ]
  },
  {
   "cell_type": "markdown",
   "metadata": {},
   "source": []
  }
 ],
 "metadata": {
  "kernelspec": {
   "display_name": "stoc",
   "language": "python",
   "name": "python3"
  },
  "language_info": {
   "codemirror_mode": {
    "name": "ipython",
    "version": 3
   },
   "file_extension": ".py",
   "mimetype": "text/x-python",
   "name": "python",
   "nbconvert_exporter": "python",
   "pygments_lexer": "ipython3",
   "version": "3.12.7"
  }
 },
 "nbformat": 4,
 "nbformat_minor": 2
}
