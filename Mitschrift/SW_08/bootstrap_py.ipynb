{
 "cells": [
  {
   "cell_type": "code",
   "execution_count": 115,
   "id": "voluntary-senate",
   "metadata": {},
   "outputs": [],
   "source": [
    "import numpy as np\n",
    "import matplotlib.pyplot as plt"
   ]
  },
  {
   "cell_type": "code",
   "execution_count": 23,
   "id": "outstanding-circular",
   "metadata": {},
   "outputs": [
    {
     "name": "stdout",
     "output_type": "stream",
     "text": [
      "[43 30 41 42 36 42 30 43 41 37]\n",
      "Durchschnitt: 38.5\n"
     ]
    }
   ],
   "source": [
    "x = np.array([30, 37, 36, 43, 42, 43, 43, 46, 41, 42])\n",
    "n = x.size \n",
    "\n",
    "nboot = 1\n",
    "\n",
    "tmpdata = np.random.choice(x, n*nboot, replace=True)\n",
    "\n",
    "tmpdata\n",
    "print(tmpdata)\n",
    "print(\"Durchschnitt:\", tmpdata.mean())"
   ]
  },
  {
   "cell_type": "code",
   "execution_count": 35,
   "id": "nasty-pollution",
   "metadata": {},
   "outputs": [
    {
     "name": "stdout",
     "output_type": "stream",
     "text": [
      "[[43 43 42 43 43 37 37 43 41 43 37 41 46 30 46 46 43 41 42 41]\n",
      " [43 37 46 43 43 42 42 41 46 37 30 46 37 37 30 43 30 46 42 46]\n",
      " [30 43 36 41 36 30 36 46 43 30 37 43 46 30 41 43 46 41 41 41]\n",
      " [42 43 43 30 30 43 46 42 42 41 43 43 43 37 41 46 30 43 30 30]\n",
      " [46 37 41 46 43 41 43 37 46 43 46 42 30 30 46 43 43 30 37 43]\n",
      " [43 30 43 36 43 43 43 43 36 30 43 46 43 36 43 43 37 42 30 43]\n",
      " [43 43 43 42 43 30 43 41 42 30 46 43 43 30 37 42 43 46 43 43]\n",
      " [43 43 42 42 30 41 37 43 43 30 30 30 42 43 43 43 42 42 43 46]\n",
      " [41 46 43 43 37 36 36 43 43 46 30 37 43 43 46 42 36 46 41 43]\n",
      " [43 36 43 42 36 43 43 42 43 42 43 30 42 43 37 41 30 42 46 36]]\n"
     ]
    }
   ],
   "source": [
    "xbar = x.mean()\n",
    "\n",
    "nboot = 20\n",
    "tmpdata = np.random.choice(x, n*nboot, replace=True)\n",
    "\n",
    "bootstrapsample = np.reshape(tmpdata, (n, nboot))\n",
    "\n",
    "bootstrapsample\n",
    "print(bootstrapsample)"
   ]
  },
  {
   "cell_type": "code",
   "execution_count": 48,
   "id": "functional-investor",
   "metadata": {},
   "outputs": [
    {
     "name": "stdout",
     "output_type": "stream",
     "text": [
      "[35.9 38.5 39.6 39.7 40.1 40.1 40.4 40.4 40.4 40.7 40.7 40.8 40.9 41.\n",
      " 41.4 41.6 41.8 42.2 42.7 42.7]\n"
     ]
    }
   ],
   "source": [
    "xbar = x.mean()\n",
    "\n",
    "nboot = 20\n",
    "tmpdata = np.random.choice(x, n*nboot, replace=True)\n",
    "\n",
    "bootstrapsample = np.reshape(tmpdata, (n, nboot))\n",
    "\n",
    "xbarstar = bootstrapsample.mean(axis=0)\n",
    "\n",
    "np.sort(xbarstar)\n",
    "print(np.sort(xbarstar))"
   ]
  },
  {
   "cell_type": "code",
   "execution_count": 104,
   "id": "automated-token",
   "metadata": {},
   "outputs": [
    {
     "name": "stdout",
     "output_type": "stream",
     "text": [
      "Vertrauensintervall:  [38.1 43.1]\n"
     ]
    }
   ],
   "source": [
    "tmpdata = np.random.choice(x, n*nboot, replace=True)\n",
    "bootstrapsample = np.reshape(tmpdata, (n, nboot))\n",
    "xbarstar = bootstrapsample.mean(axis=0)\n",
    "d = np.percentile(xbarstar, q=[2.5, 97.5])\n",
    "print('Vertrauensintervall: ',d)"
   ]
  },
  {
   "cell_type": "code",
   "execution_count": 114,
   "id": "innovative-scout",
   "metadata": {},
   "outputs": [
    {
     "name": "stdout",
     "output_type": "stream",
     "text": [
      "948\n"
     ]
    }
   ],
   "source": [
    "x = np.random.normal(loc=40, scale=5, size=100000)\n",
    "\n",
    "sample = np.reshape(x,(1000,100))\n",
    "\n",
    "nboot = 1000\n",
    "n = 100\n",
    "k=0\n",
    "for i in range(0,1000):\n",
    "    y = sample[i]\n",
    "    xbar = y.mean()\n",
    "    tmpdata = np.random.choice(y, n*nboot, replace=True)\n",
    "    bootstrapsample = np.reshape(tmpdata, (n, nboot))\n",
    "    xbarstar = bootstrapsample.mean(axis=0)\n",
    "    deltastar = xbarstar - xbar\n",
    "    d = np.percentile(deltastar, q=[2.5, 97.5])\n",
    "    if xbar-d[1]<= 40 <= xbar-d[0]:\n",
    "        k=k+1\n",
    "    \n",
    "print(k)"
   ]
  },
  {
   "cell_type": "code",
   "execution_count": 121,
   "id": "conservative-afghanistan",
   "metadata": {},
   "outputs": [
    {
     "data": {
      "image/png": "[encoded data removed]",
      "text/plain": [
       "<Figure size 432x288 with 1 Axes>"
      ]
     },
     "metadata": {
      "needs_background": "light"
     },
     "output_type": "display_data"
    }
   ],
   "source": [
    "x = np.random.normal(loc=40, scale=5,size=10000)\n",
    "\n",
    "sample = np.reshape(x,(100,100))\n",
    "\n",
    "sample.shape\n",
    "nboot = 10000\n",
    "n = 100\n",
    "k=0\n",
    "for i in range(0,100):\n",
    "    y = sample[i]\n",
    "    xbar = y.mean()\n",
    "    tmpdata = np.random.choice(y, n*nboot, replace=True)\n",
    "    bootstrapsample = np.reshape(tmpdata, (n, nboot))\n",
    "    xbarstar = bootstrapsample.mean(axis=0)\n",
    "    deltastar = xbarstar - xbar\n",
    "    d = np.percentile(deltastar, q=[2.5, 97.5])\n",
    "    plt.plot([i,i],[xbar-d[1],xbar-d[0]],alpha=.5)\n",
    "    if (xbar-d[1]<= 40 <= xbar-d[0])==False:\n",
    "        plt.plot([i,i],[xbar-d[1],xbar-d[0]],c=\"black\",linewidth=2)\n",
    "plt.plot([-5,105],[40,40])\n",
    "plt.show()"
   ]
  }
 ],
 "metadata": {
  "kernelspec": {
   "display_name": "Python 3",
   "language": "python",
   "name": "python3"
  },
  "language_info": {
   "codemirror_mode": {
    "name": "ipython",
    "version": 3
   },
   "file_extension": ".py",
   "mimetype": "text/x-python",
   "name": "python",
   "nbconvert_exporter": "python",
   "pygments_lexer": "ipython3",
   "version": "3.9.7"
  }
 },
 "nbformat": 4,
 "nbformat_minor": 5
}
