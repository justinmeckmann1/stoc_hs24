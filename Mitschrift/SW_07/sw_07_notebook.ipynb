{
 "cells": [
  {
   "cell_type": "code",
   "execution_count": 1,
   "metadata": {},
   "outputs": [],
   "source": [
    "from pandas import Series, DataFrame\n",
    "import pandas as pd\n",
    "import numpy as np\n",
    "from scipy.stats import norm"
   ]
  },
  {
   "cell_type": "code",
   "execution_count": 2,
   "metadata": {},
   "outputs": [
    {
     "name": "stdout",
     "output_type": "stream",
     "text": [
      "5.215000000000001\n",
      "1.8838021462764578\n",
      "2.866515719235352e-07\n"
     ]
    }
   ],
   "source": [
    "methodeA = Series([5.9, 3.4, 6.6, 6.3, 4.2, 2.0, 6.0, 4.8, 4.2, 2.1, 8.7, 4.4, 5.1, 2.7, 8.5, 5.8, 4.9, 5.3, 5.5, 7.9])\n",
    "\n",
    "print(methodeA.mean())\n",
    "print(methodeA.std())\n",
    "\n",
    "# np.random.seed(seed=42)\n",
    "\n",
    "# for i in range(5):\n",
    "#     methodeA_sim1 = Series(np.round(norm.rvs(size=6, loc=80, scale=0.02),2))\n",
    "#     print(methodeA_sim1)\n",
    "\n",
    "print(1-norm.cdf(x=5)) # Probability that X is greater than 5 --> equivalent to 1-norm.cdf(x=80+5*0.02, loc=80, scale=0.02) --> when defining loc an sacle seperately \n",
    "\n"
   ]
  },
  {
   "cell_type": "code",
   "execution_count": 6,
   "metadata": {},
   "outputs": [
    {
     "name": "stdout",
     "output_type": "stream",
     "text": [
      "499.3802049676954\n",
      "500.6197950323046\n"
     ]
    }
   ],
   "source": [
    "alpha = 0.05\n",
    "w1 = norm.ppf(q=alpha/2, loc = 500, scale = 1/np.sqrt(10))\n",
    "print(w1)\n",
    "\n",
    "w2 = norm.ppf(q=1-alpha/2, loc = 500, scale = 1/np.sqrt(10))\n",
    "print(w2)\n"
   ]
  },
  {
   "cell_type": "code",
   "execution_count": null,
   "metadata": {},
   "outputs": [],
   "source": []
  }
 ],
 "metadata": {
  "kernelspec": {
   "display_name": "STOC_HS24",
   "language": "python",
   "name": "python3"
  },
  "language_info": {
   "codemirror_mode": {
    "name": "ipython",
    "version": 3
   },
   "file_extension": ".py",
   "mimetype": "text/x-python",
   "name": "python",
   "nbconvert_exporter": "python",
   "pygments_lexer": "ipython3",
   "version": "3.12.5"
  }
 },
 "nbformat": 4,
 "nbformat_minor": 2
}
